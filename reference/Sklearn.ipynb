{
 "metadata": {
  "name": "",
  "signature": "sha256:d3a81c1b97aa446472fea31703d34012ea4deb4ac4f8fcf102d29319d949b464"
 },
 "nbformat": 3,
 "nbformat_minor": 0,
 "worksheets": [
  {
   "cells": [
    {
     "cell_type": "code",
     "collapsed": false,
     "input": [
      "from sklearn import datasets\n",
      "from sklearn.datasets import fetch_california_housing\n",
      "cal = fetch_california_housing()\n",
      "cal.keys()"
     ],
     "language": "python",
     "metadata": {},
     "outputs": [
      {
       "metadata": {},
       "output_type": "pyout",
       "prompt_number": 1,
       "text": [
        "['data', 'feature_names', 'DESCR', 'target']"
       ]
      }
     ],
     "prompt_number": 1
    },
    {
     "cell_type": "code",
     "collapsed": false,
     "input": [
      "column = cal.feature_names\n",
      "column"
     ],
     "language": "python",
     "metadata": {},
     "outputs": [
      {
       "metadata": {},
       "output_type": "pyout",
       "prompt_number": 2,
       "text": [
        "['MedInc',\n",
        " 'HouseAge',\n",
        " 'AveRooms',\n",
        " 'AveBedrms',\n",
        " 'Population',\n",
        " 'AveOccup',\n",
        " 'Latitude',\n",
        " 'Longitude']"
       ]
      }
     ],
     "prompt_number": 2
    },
    {
     "cell_type": "code",
     "collapsed": true,
     "input": [
      "print cal.DESCR"
     ],
     "language": "python",
     "metadata": {},
     "outputs": [
      {
       "output_type": "stream",
       "stream": "stdout",
       "text": [
        "California housing dataset.\n",
        "\n",
        "The original database is available from StatLib\n",
        "\n",
        "    http://lib.stat.cmu.edu/\n",
        "\n",
        "The data contains 20,640 observations on 9 variables.\n",
        "\n",
        "This dataset contains the average house value as target variable\n",
        "and the following input variables (features): average income,\n",
        "housing average age, average rooms, average bedrooms, population,\n",
        "average occupation, latitude, and longitude in that order.\n",
        "\n",
        "References\n",
        "----------\n",
        "\n",
        "Pace, R. Kelley and Ronald Barry, Sparse Spatial Autoregressions,\n",
        "Statistics and Probability Letters, 33 (1997) 291-297.\n",
        "\n",
        "\n"
       ]
      }
     ],
     "prompt_number": 3
    },
    {
     "cell_type": "code",
     "collapsed": false,
     "input": [
      "import pandas as pd\n",
      "X_df = pd.DataFrame(cal.data, columns = cal.feature_names) \n",
      "y_df = pd.DataFrame(cal.target).rename(columns = {0 : 'AveVal'})\n",
      "df = X_df.join(y_df)\n",
      "df.head()"
     ],
     "language": "python",
     "metadata": {},
     "outputs": [
      {
       "html": [
        "<div style=\"max-height:1000px;max-width:1500px;overflow:auto;\">\n",
        "<table border=\"1\" class=\"dataframe\">\n",
        "  <thead>\n",
        "    <tr style=\"text-align: right;\">\n",
        "      <th></th>\n",
        "      <th>MedInc</th>\n",
        "      <th>HouseAge</th>\n",
        "      <th>AveRooms</th>\n",
        "      <th>AveBedrms</th>\n",
        "      <th>Population</th>\n",
        "      <th>AveOccup</th>\n",
        "      <th>Latitude</th>\n",
        "      <th>Longitude</th>\n",
        "      <th>AveVal</th>\n",
        "    </tr>\n",
        "  </thead>\n",
        "  <tbody>\n",
        "    <tr>\n",
        "      <th>0</th>\n",
        "      <td> 8.3252</td>\n",
        "      <td> 41</td>\n",
        "      <td> 6.984127</td>\n",
        "      <td> 1.023810</td>\n",
        "      <td>  322</td>\n",
        "      <td> 2.555556</td>\n",
        "      <td> 37.88</td>\n",
        "      <td>-122.23</td>\n",
        "      <td> 4.526</td>\n",
        "    </tr>\n",
        "    <tr>\n",
        "      <th>1</th>\n",
        "      <td> 8.3014</td>\n",
        "      <td> 21</td>\n",
        "      <td> 6.238137</td>\n",
        "      <td> 0.971880</td>\n",
        "      <td> 2401</td>\n",
        "      <td> 2.109842</td>\n",
        "      <td> 37.86</td>\n",
        "      <td>-122.22</td>\n",
        "      <td> 3.585</td>\n",
        "    </tr>\n",
        "    <tr>\n",
        "      <th>2</th>\n",
        "      <td> 7.2574</td>\n",
        "      <td> 52</td>\n",
        "      <td> 8.288136</td>\n",
        "      <td> 1.073446</td>\n",
        "      <td>  496</td>\n",
        "      <td> 2.802260</td>\n",
        "      <td> 37.85</td>\n",
        "      <td>-122.24</td>\n",
        "      <td> 3.521</td>\n",
        "    </tr>\n",
        "    <tr>\n",
        "      <th>3</th>\n",
        "      <td> 5.6431</td>\n",
        "      <td> 52</td>\n",
        "      <td> 5.817352</td>\n",
        "      <td> 1.073059</td>\n",
        "      <td>  558</td>\n",
        "      <td> 2.547945</td>\n",
        "      <td> 37.85</td>\n",
        "      <td>-122.25</td>\n",
        "      <td> 3.413</td>\n",
        "    </tr>\n",
        "    <tr>\n",
        "      <th>4</th>\n",
        "      <td> 3.8462</td>\n",
        "      <td> 52</td>\n",
        "      <td> 6.281853</td>\n",
        "      <td> 1.081081</td>\n",
        "      <td>  565</td>\n",
        "      <td> 2.181467</td>\n",
        "      <td> 37.85</td>\n",
        "      <td>-122.25</td>\n",
        "      <td> 3.422</td>\n",
        "    </tr>\n",
        "  </tbody>\n",
        "</table>\n",
        "</div>"
       ],
       "metadata": {},
       "output_type": "pyout",
       "prompt_number": 4,
       "text": [
        "   MedInc  HouseAge  AveRooms  AveBedrms  Population  AveOccup  Latitude  \\\n",
        "0  8.3252        41  6.984127   1.023810         322  2.555556     37.88   \n",
        "1  8.3014        21  6.238137   0.971880        2401  2.109842     37.86   \n",
        "2  7.2574        52  8.288136   1.073446         496  2.802260     37.85   \n",
        "3  5.6431        52  5.817352   1.073059         558  2.547945     37.85   \n",
        "4  3.8462        52  6.281853   1.081081         565  2.181467     37.85   \n",
        "\n",
        "   Longitude  AveVal  \n",
        "0    -122.23   4.526  \n",
        "1    -122.22   3.585  \n",
        "2    -122.24   3.521  \n",
        "3    -122.25   3.413  \n",
        "4    -122.25   3.422  "
       ]
      }
     ],
     "prompt_number": 4
    },
    {
     "cell_type": "code",
     "collapsed": false,
     "input": [
      "df.AveVal.hist(bins = 100)"
     ],
     "language": "python",
     "metadata": {},
     "outputs": [
      {
       "metadata": {},
       "output_type": "pyout",
       "prompt_number": 5,
       "text": [
        "<matplotlib.axes._subplots.AxesSubplot at 0x10920cf50>"
       ]
      }
     ],
     "prompt_number": 5
    },
    {
     "cell_type": "code",
     "collapsed": false,
     "input": [
      "df.AveVal.describe()"
     ],
     "language": "python",
     "metadata": {},
     "outputs": [
      {
       "metadata": {},
       "output_type": "pyout",
       "prompt_number": 6,
       "text": [
        "count    20640.000000\n",
        "mean         2.068558\n",
        "std          1.153956\n",
        "min          0.149990\n",
        "25%          1.196000\n",
        "50%          1.797000\n",
        "75%          2.647250\n",
        "max          5.000010\n",
        "Name: AveVal, dtype: float64"
       ]
      }
     ],
     "prompt_number": 6
    },
    {
     "cell_type": "code",
     "collapsed": false,
     "input": [
      "df.AveVal[df.AveVal > 5].count()"
     ],
     "language": "python",
     "metadata": {},
     "outputs": [
      {
       "metadata": {},
       "output_type": "pyout",
       "prompt_number": 7,
       "text": [
        "965"
       ]
      }
     ],
     "prompt_number": 7
    },
    {
     "cell_type": "code",
     "collapsed": false,
     "input": [
      "df['over5'] = 0"
     ],
     "language": "python",
     "metadata": {},
     "outputs": [],
     "prompt_number": 8
    },
    {
     "cell_type": "code",
     "collapsed": false,
     "input": [
      "df.over5[df.AveVal > 5] = 1"
     ],
     "language": "python",
     "metadata": {},
     "outputs": [
      {
       "output_type": "stream",
       "stream": "stderr",
       "text": [
        "-c:1: SettingWithCopyWarning: \n",
        "A value is trying to be set on a copy of a slice from a DataFrame\n",
        "\n",
        "See the the caveats in the documentation: http://pandas.pydata.org/pandas-docs/stable/indexing.html#indexing-view-versus-copy\n"
       ]
      }
     ],
     "prompt_number": 9
    },
    {
     "cell_type": "code",
     "collapsed": false,
     "input": [
      "df.head()"
     ],
     "language": "python",
     "metadata": {},
     "outputs": [
      {
       "html": [
        "<div style=\"max-height:1000px;max-width:1500px;overflow:auto;\">\n",
        "<table border=\"1\" class=\"dataframe\">\n",
        "  <thead>\n",
        "    <tr style=\"text-align: right;\">\n",
        "      <th></th>\n",
        "      <th>MedInc</th>\n",
        "      <th>HouseAge</th>\n",
        "      <th>AveRooms</th>\n",
        "      <th>AveBedrms</th>\n",
        "      <th>Population</th>\n",
        "      <th>AveOccup</th>\n",
        "      <th>Latitude</th>\n",
        "      <th>Longitude</th>\n",
        "      <th>AveVal</th>\n",
        "      <th>over5</th>\n",
        "    </tr>\n",
        "  </thead>\n",
        "  <tbody>\n",
        "    <tr>\n",
        "      <th>0</th>\n",
        "      <td> 8.3252</td>\n",
        "      <td> 41</td>\n",
        "      <td> 6.984127</td>\n",
        "      <td> 1.023810</td>\n",
        "      <td>  322</td>\n",
        "      <td> 2.555556</td>\n",
        "      <td> 37.88</td>\n",
        "      <td>-122.23</td>\n",
        "      <td> 4.526</td>\n",
        "      <td> 0</td>\n",
        "    </tr>\n",
        "    <tr>\n",
        "      <th>1</th>\n",
        "      <td> 8.3014</td>\n",
        "      <td> 21</td>\n",
        "      <td> 6.238137</td>\n",
        "      <td> 0.971880</td>\n",
        "      <td> 2401</td>\n",
        "      <td> 2.109842</td>\n",
        "      <td> 37.86</td>\n",
        "      <td>-122.22</td>\n",
        "      <td> 3.585</td>\n",
        "      <td> 0</td>\n",
        "    </tr>\n",
        "    <tr>\n",
        "      <th>2</th>\n",
        "      <td> 7.2574</td>\n",
        "      <td> 52</td>\n",
        "      <td> 8.288136</td>\n",
        "      <td> 1.073446</td>\n",
        "      <td>  496</td>\n",
        "      <td> 2.802260</td>\n",
        "      <td> 37.85</td>\n",
        "      <td>-122.24</td>\n",
        "      <td> 3.521</td>\n",
        "      <td> 0</td>\n",
        "    </tr>\n",
        "    <tr>\n",
        "      <th>3</th>\n",
        "      <td> 5.6431</td>\n",
        "      <td> 52</td>\n",
        "      <td> 5.817352</td>\n",
        "      <td> 1.073059</td>\n",
        "      <td>  558</td>\n",
        "      <td> 2.547945</td>\n",
        "      <td> 37.85</td>\n",
        "      <td>-122.25</td>\n",
        "      <td> 3.413</td>\n",
        "      <td> 0</td>\n",
        "    </tr>\n",
        "    <tr>\n",
        "      <th>4</th>\n",
        "      <td> 3.8462</td>\n",
        "      <td> 52</td>\n",
        "      <td> 6.281853</td>\n",
        "      <td> 1.081081</td>\n",
        "      <td>  565</td>\n",
        "      <td> 2.181467</td>\n",
        "      <td> 37.85</td>\n",
        "      <td>-122.25</td>\n",
        "      <td> 3.422</td>\n",
        "      <td> 0</td>\n",
        "    </tr>\n",
        "  </tbody>\n",
        "</table>\n",
        "</div>"
       ],
       "metadata": {},
       "output_type": "pyout",
       "prompt_number": 10,
       "text": [
        "   MedInc  HouseAge  AveRooms  AveBedrms  Population  AveOccup  Latitude  \\\n",
        "0  8.3252        41  6.984127   1.023810         322  2.555556     37.88   \n",
        "1  8.3014        21  6.238137   0.971880        2401  2.109842     37.86   \n",
        "2  7.2574        52  8.288136   1.073446         496  2.802260     37.85   \n",
        "3  5.6431        52  5.817352   1.073059         558  2.547945     37.85   \n",
        "4  3.8462        52  6.281853   1.081081         565  2.181467     37.85   \n",
        "\n",
        "   Longitude  AveVal  over5  \n",
        "0    -122.23   4.526      0  \n",
        "1    -122.22   3.585      0  \n",
        "2    -122.24   3.521      0  \n",
        "3    -122.25   3.413      0  \n",
        "4    -122.25   3.422      0  "
       ]
      }
     ],
     "prompt_number": 10
    },
    {
     "cell_type": "code",
     "collapsed": false,
     "input": [
      "import matplotlib.pyplot as plt\n",
      "import numpy as np\n",
      "%matplotlib inline\n",
      "df.plot(kind='hexbin',\n",
      "                   x = 'Latitude',\n",
      "                   y ='Longitude',\n",
      "                   figsize = (12, 8),\n",
      "                   gridsize = (18, 8),\n",
      "                   C ='AveVal',\n",
      "                   cmap=plt.cm.RdPu,\n",
      "                   reduce_C_function=np.mean)"
     ],
     "language": "python",
     "metadata": {},
     "outputs": [
      {
       "metadata": {},
       "output_type": "pyout",
       "prompt_number": 11,
       "text": [
        "<matplotlib.axes._subplots.AxesSubplot at 0x10bec7550>"
       ]
      },
      {
       "metadata": {},
       "output_type": "display_data",
       "png": "[encoded data removed]",
       "text": [
        "<matplotlib.figure.Figure at 0x10be0ce50>"
       ]
      }
     ],
     "prompt_number": 11
    },
    {
     "cell_type": "heading",
     "level": 2,
     "metadata": {},
     "source": [
      "Feature Target"
     ]
    },
    {
     "cell_type": "code",
     "collapsed": false,
     "input": [
      "X = X_df.values\n",
      "y = y_df.values\n"
     ],
     "language": "python",
     "metadata": {},
     "outputs": [],
     "prompt_number": 12
    },
    {
     "cell_type": "heading",
     "level": 2,
     "metadata": {},
     "source": [
      "Scale"
     ]
    },
    {
     "cell_type": "code",
     "collapsed": false,
     "input": [
      "from sklearn import preprocessing\n",
      "\n",
      "X_scaled = preprocessing.scale(X)"
     ],
     "language": "python",
     "metadata": {},
     "outputs": [],
     "prompt_number": 13
    },
    {
     "cell_type": "code",
     "collapsed": false,
     "input": [
      "print X_scaled.shape\n",
      "print\n",
      "print X_scaled.mean(axis=0)\n",
      "print\n",
      "print X_scaled.std(axis=0)"
     ],
     "language": "python",
     "metadata": {},
     "outputs": [
      {
       "output_type": "stream",
       "stream": "stdout",
       "text": [
        "(20640, 8)\n",
        "\n",
        "[ -2.52201845e-14   5.87891062e-16   4.64091109e-15   5.51952567e-15\n",
        "  -7.50674689e-17  -7.36132597e-16  -8.06847375e-14  -1.42632487e-12]\n",
        "\n",
        "[ 1.  1.  1.  1.  1.  1.  1.  1.]\n"
       ]
      }
     ],
     "prompt_number": 14
    },
    {
     "cell_type": "heading",
     "level": 2,
     "metadata": {},
     "source": [
      "Scale for Train and Test"
     ]
    },
    {
     "cell_type": "code",
     "collapsed": false,
     "input": [
      "# The preprocessing module further provides a utility class StandardScaler that implements the Transformer API to compute \n",
      "# the mean and standard deviation on a training set so as to be able to later reapply the same transformation on the \n",
      "# testing set\n",
      "\n",
      "scaler = preprocessing.StandardScaler().fit([1,2,3,4,5,6])\n",
      "print scaler.transform([1,4,5])\n",
      "print scaler.transform([1,4,5,6])\n",
      "\n",
      "\n"
     ],
     "language": "python",
     "metadata": {},
     "outputs": [
      {
       "output_type": "stream",
       "stream": "stdout",
       "text": [
        "[-1.46385011  0.29277002  0.87831007]\n",
        "[-1.46385011  0.29277002  0.87831007  1.46385011]\n"
       ]
      },
      {
       "output_type": "stream",
       "stream": "stderr",
       "text": [
        "/Users/David/anaconda/lib/python2.7/site-packages/sklearn/utils/validation.py:332: UserWarning: StandardScaler assumes floating point values as input, got int64\n",
        "  \"got %s\" % (estimator, X.dtype))\n"
       ]
      }
     ],
     "prompt_number": 15
    },
    {
     "cell_type": "heading",
     "level": 2,
     "metadata": {},
     "source": [
      "Train Test Split"
     ]
    },
    {
     "cell_type": "code",
     "collapsed": false,
     "input": [
      "#Train_Test_Split\n",
      "from sklearn.cross_validation import train_test_split\n",
      "\n",
      "# dummies\n",
      "#X = pd.get_dummies(X)\n",
      "# normalize\n",
      "#X = preprocessing.scale(X)\n",
      "\n",
      "X_train, X_test, y_train, y_test = train_test_split(X, y, test_size=0.2)"
     ],
     "language": "python",
     "metadata": {},
     "outputs": [],
     "prompt_number": 16
    },
    {
     "cell_type": "heading",
     "level": 2,
     "metadata": {},
     "source": [
      "Linear Regression"
     ]
    },
    {
     "cell_type": "code",
     "collapsed": false,
     "input": [
      "%%time\n",
      "\n",
      "# Linear Regression\n",
      "from sklearn import linear_model\n",
      "\n",
      "clf = linear_model.LinearRegression()\n",
      "model = clf.fit(X_train, y_train, n_jobs = 10)\n",
      "print model.score(X_test, y_test)"
     ],
     "language": "python",
     "metadata": {},
     "outputs": [
      {
       "output_type": "stream",
       "stream": "stdout",
       "text": [
        "0.607439271193\n",
        "CPU times: user 34.1 ms, sys: 21.3 ms, total: 55.4 ms\n",
        "Wall time: 309 ms\n"
       ]
      }
     ],
     "prompt_number": 17
    },
    {
     "cell_type": "heading",
     "level": 2,
     "metadata": {},
     "source": [
      "Linear Regression Plot"
     ]
    },
    {
     "cell_type": "code",
     "collapsed": false,
     "input": [
      "import matplotlib.pyplot as plt\n",
      "%matplotlib inline\n",
      "# Predict y_test values\n",
      "y_pred = clf.predict(X_test)\n",
      "\n",
      "# Compare y_pred and y_test values\n",
      "fig, ax = plt.subplots(1, 1)\n",
      "\n",
      "ax.scatter(y_pred, y_test)\n",
      "ax.set_xlabel('Predicated')\n",
      "ax.set_ylabel('Actual')\n",
      "\n",
      "# Draw the ideal line\n",
      "ax.plot(y, y, 'r')"
     ],
     "language": "python",
     "metadata": {},
     "outputs": [
      {
       "metadata": {},
       "output_type": "pyout",
       "prompt_number": 18,
       "text": [
        "[<matplotlib.lines.Line2D at 0x10cfbb890>]"
       ]
      },
      {
       "metadata": {},
       "output_type": "display_data",
       "png": "[encoded data removed]",
       "text": [
        "<matplotlib.figure.Figure at 0x107325590>"
       ]
      }
     ],
     "prompt_number": 18
    },
    {
     "cell_type": "code",
     "collapsed": false,
     "input": [
      "from sklearn.pipeline import make_pipeline\n",
      "from sklearn.preprocessing import PolynomialFeatures\n",
      "from sklearn.linear_model import LinearRegression\n",
      "\n",
      "degree = 2\n",
      "est = make_pipeline(PolynomialFeatures(degree), LinearRegression())\n",
      "model = est.fit(X_train, y_train)\n",
      "model.score(X_test, y_test)"
     ],
     "language": "python",
     "metadata": {},
     "outputs": [
      {
       "metadata": {},
       "output_type": "pyout",
       "prompt_number": 19,
       "text": [
        "0.66630485567718667"
       ]
      }
     ],
     "prompt_number": 19
    },
    {
     "cell_type": "code",
     "collapsed": false,
     "input": [
      "# Predict y_test values\n",
      "y_pred = est.predict(X_test)\n",
      "\n",
      "fig, ax = plt.subplots(1,1)\n",
      "\n",
      "plt.scatter(y_pred, y_test)"
     ],
     "language": "python",
     "metadata": {},
     "outputs": [
      {
       "metadata": {},
       "output_type": "pyout",
       "prompt_number": 25,
       "text": [
        "<matplotlib.collections.PathCollection at 0x1093771d0>"
       ]
      },
      {
       "metadata": {},
       "output_type": "display_data",
       "png": "[encoded data removed]",
       "text": [
        "<matplotlib.figure.Figure at 0x109313c50>"
       ]
      }
     ],
     "prompt_number": 25
    },
    {
     "cell_type": "code",
     "collapsed": false,
     "input": [
      "%%time\n",
      "import numpy as np\n",
      "from sklearn.metrics import mean_squared_error\n",
      "\n",
      "d = 4\n",
      "\n",
      "train_error = np.empty(d)\n",
      "test_error = np.empty(d)\n",
      "for degree in range(d):\n",
      "    est = make_pipeline(PolynomialFeatures(degree), LinearRegression())\n",
      "    est.fit(X_train, y_train)\n",
      "    train_error[degree] = mean_squared_error(y_train, est.predict(X_train))\n",
      "    test_error[degree] = mean_squared_error(y_test, est.predict(X_test))\n",
      "\n",
      "plt.plot(np.arange(d), train_error, color='green', label='train')\n",
      "plt.plot(np.arange(d), test_error, color='red', label='test')\n",
      "plt.ylim((0.0, 1))\n",
      "plt.ylabel('log(mean squared error)')\n",
      "plt.xlabel('degree')\n",
      "plt.legend(loc='upper left')"
     ],
     "language": "python",
     "metadata": {},
     "outputs": [
      {
       "output_type": "stream",
       "stream": "stdout",
       "text": [
        "CPU times: user 1.96 s, sys: 231 ms, total: 2.19 s\n",
        "Wall time: 2.09 s\n"
       ]
      },
      {
       "metadata": {},
       "output_type": "display_data",
       "png": "[encoded data removed]",
       "text": [
        "<matplotlib.figure.Figure at 0x111958650>"
       ]
      }
     ],
     "prompt_number": 26
    },
    {
     "cell_type": "code",
     "collapsed": false,
     "input": [
      "from sklearn.linear_model import Ridge\n",
      "\n",
      "\n",
      "fig, ax_rows = plt.subplots(4, 2, figsize=(15, 20))\n",
      "\n",
      "def plot_approximation(est, ax, label=None):\n",
      "    \"\"\"Plot the approximation of ``est`` on axis ``ax``. \"\"\"\n",
      "    ax.scatter(X_train, y_train, s=100)\n",
      "\n",
      "def plot_coefficients(est, ax, label=None, yscale='log'):\n",
      "    coef = est.steps[-1][1].coef_.ravel()\n",
      "    if yscale == 'log':\n",
      "        ax.semilogy(np.abs(coef), marker='o', label=label)\n",
      "        ax.set_ylim((1e-1, 1e8))\n",
      "    else:\n",
      "        ax.plot(np.abs(coef), marker='o', label=label)\n",
      "    ax.set_ylabel('abs(coefficient)')\n",
      "    ax.set_xlabel('coefficients')\n",
      "    ax.set_xlim((1, 9))\n",
      "\n",
      "degree = 4\n",
      "alphas = [0.0, 1e-8, 1e-5, 1e-1]\n",
      "for alpha, ax_row in zip(alphas, ax_rows):\n",
      "    ax_left, ax_right = ax_row\n",
      "    est = make_pipeline(PolynomialFeatures(degree), Ridge(alpha=alpha))\n",
      "    est.fit(X_train, y_train)\n",
      "    plot_approximation(est, ax_left, label='alpha=%r' % alpha)\n",
      "    plot_coefficients(est, ax_right, label='Ridge(alpha=%r) coefficients' % alpha)\n",
      "\n",
      "plt.tight_layout()"
     ],
     "language": "python",
     "metadata": {},
     "outputs": [
      {
       "ename": "ValueError",
       "evalue": "x and y must be the same size",
       "output_type": "pyerr",
       "traceback": [
        "\u001b[0;31m---------------------------------------------------------------------------\u001b[0m\n\u001b[0;31mValueError\u001b[0m                                Traceback (most recent call last)",
        "\u001b[0;32m<ipython-input-27-a066af75f5db>\u001b[0m in \u001b[0;36m<module>\u001b[0;34m()\u001b[0m\n\u001b[1;32m     25\u001b[0m     \u001b[0mest\u001b[0m \u001b[0;34m=\u001b[0m \u001b[0mmake_pipeline\u001b[0m\u001b[0;34m(\u001b[0m\u001b[0mPolynomialFeatures\u001b[0m\u001b[0;34m(\u001b[0m\u001b[0mdegree\u001b[0m\u001b[0;34m)\u001b[0m\u001b[0;34m,\u001b[0m \u001b[0mRidge\u001b[0m\u001b[0;34m(\u001b[0m\u001b[0malpha\u001b[0m\u001b[0;34m=\u001b[0m\u001b[0malpha\u001b[0m\u001b[0;34m)\u001b[0m\u001b[0;34m)\u001b[0m\u001b[0;34m\u001b[0m\u001b[0m\n\u001b[1;32m     26\u001b[0m     \u001b[0mest\u001b[0m\u001b[0;34m.\u001b[0m\u001b[0mfit\u001b[0m\u001b[0;34m(\u001b[0m\u001b[0mX_train\u001b[0m\u001b[0;34m,\u001b[0m \u001b[0my_train\u001b[0m\u001b[0;34m)\u001b[0m\u001b[0;34m\u001b[0m\u001b[0m\n\u001b[0;32m---> 27\u001b[0;31m     \u001b[0mplot_approximation\u001b[0m\u001b[0;34m(\u001b[0m\u001b[0mest\u001b[0m\u001b[0;34m,\u001b[0m \u001b[0max_left\u001b[0m\u001b[0;34m,\u001b[0m \u001b[0mlabel\u001b[0m\u001b[0;34m=\u001b[0m\u001b[0;34m'alpha=%r'\u001b[0m \u001b[0;34m%\u001b[0m \u001b[0malpha\u001b[0m\u001b[0;34m)\u001b[0m\u001b[0;34m\u001b[0m\u001b[0m\n\u001b[0m\u001b[1;32m     28\u001b[0m     \u001b[0mplot_coefficients\u001b[0m\u001b[0;34m(\u001b[0m\u001b[0mest\u001b[0m\u001b[0;34m,\u001b[0m \u001b[0max_right\u001b[0m\u001b[0;34m,\u001b[0m \u001b[0mlabel\u001b[0m\u001b[0;34m=\u001b[0m\u001b[0;34m'Ridge(alpha=%r) coefficients'\u001b[0m \u001b[0;34m%\u001b[0m \u001b[0malpha\u001b[0m\u001b[0;34m)\u001b[0m\u001b[0;34m\u001b[0m\u001b[0m\n\u001b[1;32m     29\u001b[0m \u001b[0;34m\u001b[0m\u001b[0m\n",
        "\u001b[0;32m<ipython-input-27-a066af75f5db>\u001b[0m in \u001b[0;36mplot_approximation\u001b[0;34m(est, ax, label)\u001b[0m\n\u001b[1;32m      6\u001b[0m \u001b[0;32mdef\u001b[0m \u001b[0mplot_approximation\u001b[0m\u001b[0;34m(\u001b[0m\u001b[0mest\u001b[0m\u001b[0;34m,\u001b[0m \u001b[0max\u001b[0m\u001b[0;34m,\u001b[0m \u001b[0mlabel\u001b[0m\u001b[0;34m=\u001b[0m\u001b[0mNone\u001b[0m\u001b[0;34m)\u001b[0m\u001b[0;34m:\u001b[0m\u001b[0;34m\u001b[0m\u001b[0m\n\u001b[1;32m      7\u001b[0m     \u001b[0;34m\"\"\"Plot the approximation of ``est`` on axis ``ax``. \"\"\"\u001b[0m\u001b[0;34m\u001b[0m\u001b[0m\n\u001b[0;32m----> 8\u001b[0;31m     \u001b[0max\u001b[0m\u001b[0;34m.\u001b[0m\u001b[0mscatter\u001b[0m\u001b[0;34m(\u001b[0m\u001b[0mX_train\u001b[0m\u001b[0;34m,\u001b[0m \u001b[0my_train\u001b[0m\u001b[0;34m,\u001b[0m \u001b[0ms\u001b[0m\u001b[0;34m=\u001b[0m\u001b[0;36m100\u001b[0m\u001b[0;34m)\u001b[0m\u001b[0;34m\u001b[0m\u001b[0m\n\u001b[0m\u001b[1;32m      9\u001b[0m \u001b[0;34m\u001b[0m\u001b[0m\n\u001b[1;32m     10\u001b[0m \u001b[0;32mdef\u001b[0m \u001b[0mplot_coefficients\u001b[0m\u001b[0;34m(\u001b[0m\u001b[0mest\u001b[0m\u001b[0;34m,\u001b[0m \u001b[0max\u001b[0m\u001b[0;34m,\u001b[0m \u001b[0mlabel\u001b[0m\u001b[0;34m=\u001b[0m\u001b[0mNone\u001b[0m\u001b[0;34m,\u001b[0m \u001b[0myscale\u001b[0m\u001b[0;34m=\u001b[0m\u001b[0;34m'log'\u001b[0m\u001b[0;34m)\u001b[0m\u001b[0;34m:\u001b[0m\u001b[0;34m\u001b[0m\u001b[0m\n",
        "\u001b[0;32m/Users/David/anaconda/lib/python2.7/site-packages/matplotlib/axes/_axes.pyc\u001b[0m in \u001b[0;36mscatter\u001b[0;34m(self, x, y, s, c, marker, cmap, norm, vmin, vmax, alpha, linewidths, verts, **kwargs)\u001b[0m\n\u001b[1;32m   3575\u001b[0m         \u001b[0my\u001b[0m \u001b[0;34m=\u001b[0m \u001b[0mnp\u001b[0m\u001b[0;34m.\u001b[0m\u001b[0mma\u001b[0m\u001b[0;34m.\u001b[0m\u001b[0mravel\u001b[0m\u001b[0;34m(\u001b[0m\u001b[0my\u001b[0m\u001b[0;34m)\u001b[0m\u001b[0;34m\u001b[0m\u001b[0m\n\u001b[1;32m   3576\u001b[0m         \u001b[0;32mif\u001b[0m \u001b[0mx\u001b[0m\u001b[0;34m.\u001b[0m\u001b[0msize\u001b[0m \u001b[0;34m!=\u001b[0m \u001b[0my\u001b[0m\u001b[0;34m.\u001b[0m\u001b[0msize\u001b[0m\u001b[0;34m:\u001b[0m\u001b[0;34m\u001b[0m\u001b[0m\n\u001b[0;32m-> 3577\u001b[0;31m             \u001b[0;32mraise\u001b[0m \u001b[0mValueError\u001b[0m\u001b[0;34m(\u001b[0m\u001b[0;34m\"x and y must be the same size\"\u001b[0m\u001b[0;34m)\u001b[0m\u001b[0;34m\u001b[0m\u001b[0m\n\u001b[0m\u001b[1;32m   3578\u001b[0m \u001b[0;34m\u001b[0m\u001b[0m\n\u001b[1;32m   3579\u001b[0m         \u001b[0ms\u001b[0m \u001b[0;34m=\u001b[0m \u001b[0mnp\u001b[0m\u001b[0;34m.\u001b[0m\u001b[0mma\u001b[0m\u001b[0;34m.\u001b[0m\u001b[0mravel\u001b[0m\u001b[0;34m(\u001b[0m\u001b[0ms\u001b[0m\u001b[0;34m)\u001b[0m  \u001b[0;31m# This doesn't have to match x, y in size.\u001b[0m\u001b[0;34m\u001b[0m\u001b[0m\n",
        "\u001b[0;31mValueError\u001b[0m: x and y must be the same size"
       ]
      },
      {
       "metadata": {},
       "output_type": "display_data",
       "png": "[encoded data removed]",
       "text": [
        "<matplotlib.figure.Figure at 0x10932f350>"
       ]
      }
     ],
     "prompt_number": 27
    },
    {
     "cell_type": "code",
     "collapsed": false,
     "input": [
      "print X_train.shape\n",
      "print y_train.shape"
     ],
     "language": "python",
     "metadata": {},
     "outputs": []
    },
    {
     "cell_type": "code",
     "collapsed": false,
     "input": [
      "from sklearn.linear_model import Lasso\n",
      "\n",
      "fig, ax_rows = plt.subplots(2, 2, figsize=(15, 10))\n",
      "\n",
      "degree = 4\n",
      "alphas = [1e-3, 1e-2]\n",
      "for alpha, ax_row in zip(alphas, ax_rows):\n",
      "    ax_left, ax_right = ax_row\n",
      "    est = make_pipeline(PolynomialFeatures(degree), Lasso(alpha=alpha))\n",
      "    est.fit(X_train, y_train)\n",
      "    plot_approximation(est, ax_left, label='alpha=%r' % alpha)\n",
      "    plot_coefficients(est, ax_right, label='Lasso(alpha=%r) coefficients' % alpha, yscale=None)\n",
      "\n",
      "plt.tight_layout()"
     ],
     "language": "python",
     "metadata": {},
     "outputs": []
    },
    {
     "cell_type": "code",
     "collapsed": false,
     "input": [],
     "language": "python",
     "metadata": {},
     "outputs": []
    },
    {
     "cell_type": "code",
     "collapsed": false,
     "input": [],
     "language": "python",
     "metadata": {},
     "outputs": []
    },
    {
     "cell_type": "code",
     "collapsed": false,
     "input": [],
     "language": "python",
     "metadata": {},
     "outputs": [],
     "prompt_number": 137
    },
    {
     "cell_type": "code",
     "collapsed": false,
     "input": [],
     "language": "python",
     "metadata": {},
     "outputs": [],
     "prompt_number": 137
    },
    {
     "cell_type": "code",
     "collapsed": false,
     "input": [],
     "language": "python",
     "metadata": {},
     "outputs": [],
     "prompt_number": 137
    },
    {
     "cell_type": "code",
     "collapsed": false,
     "input": [],
     "language": "python",
     "metadata": {},
     "outputs": [],
     "prompt_number": 137
    },
    {
     "cell_type": "code",
     "collapsed": false,
     "input": [],
     "language": "python",
     "metadata": {},
     "outputs": [],
     "prompt_number": 137
    },
    {
     "cell_type": "code",
     "collapsed": false,
     "input": [],
     "language": "python",
     "metadata": {},
     "outputs": [],
     "prompt_number": 137
    },
    {
     "cell_type": "heading",
     "level": 1,
     "metadata": {},
     "source": [
      "Finding Values over 5 AveVal"
     ]
    },
    {
     "cell_type": "code",
     "collapsed": false,
     "input": [],
     "language": "python",
     "metadata": {},
     "outputs": [],
     "prompt_number": 137
    },
    {
     "cell_type": "heading",
     "level": 1,
     "metadata": {},
     "source": [
      "LogisticRegression"
     ]
    },
    {
     "cell_type": "code",
     "collapsed": false,
     "input": [
      "y = df.over5.values\n",
      "X_train, X_test, y_train, y_test = train_test_split(X, y, test_size=0.5)"
     ],
     "language": "python",
     "metadata": {},
     "outputs": [],
     "prompt_number": 17
    },
    {
     "cell_type": "code",
     "collapsed": false,
     "input": [
      "%%time\n",
      "\n",
      "from sklearn.linear_model import LogisticRegression\n",
      "from sklearn.metrics import confusion_matrix, classification_report\n",
      "\n",
      "\n",
      "clf = LogisticRegression(C = 10)\n",
      "clf.fit(X_train, y_train)\n",
      "y_pred = clf.predict(X_test)\n",
      "print clf.score(X_test, y_test)\n",
      "print confusion_matrix(y_test, y_pred)\n",
      "print classification_report(y_test, y_pred)"
     ],
     "language": "python",
     "metadata": {},
     "outputs": [
      {
       "output_type": "stream",
       "stream": "stdout",
       "text": [
        "0.968701550388\n",
        "[[9776   51]\n",
        " [ 272  221]]\n",
        "             precision    recall  f1-score   support\n",
        "\n",
        "          0       0.97      0.99      0.98      9827\n",
        "          1       0.81      0.45      0.58       493\n",
        "\n",
        "avg / total       0.97      0.97      0.96     10320\n",
        "\n",
        "CPU times: user 118 ms, sys: 14.2 ms, total: 132 ms\n",
        "Wall time: 144 ms\n"
       ]
      }
     ],
     "prompt_number": 18
    },
    {
     "cell_type": "code",
     "collapsed": false,
     "input": [
      "from sklearn import metrics\n",
      "\n",
      "def plot_confusion_matrix(y_pred, y):\n",
      "    plt.matshow(metrics.confusion_matrix(y, y_pred),\n",
      "               cmap=plt.cm.binary)\n",
      "    plt.colorbar()\n",
      "    plt.xlabel('true value')\n",
      "    plt.ylabel('predicted value')"
     ],
     "language": "python",
     "metadata": {},
     "outputs": [],
     "prompt_number": 29
    },
    {
     "cell_type": "code",
     "collapsed": false,
     "input": [
      "plot_confusion_matrix(y_pred, y_test)"
     ],
     "language": "python",
     "metadata": {},
     "outputs": [
      {
       "metadata": {},
       "output_type": "display_data",
       "png": "[encoded data removed]",
       "text": [
        "<matplotlib.figure.Figure at 0x10d98ed10>"
       ]
      }
     ],
     "prompt_number": 30
    },
    {
     "cell_type": "heading",
     "level": 1,
     "metadata": {},
     "source": [
      "LinearSVC"
     ]
    },
    {
     "cell_type": "code",
     "collapsed": false,
     "input": [
      "%%time\n",
      "import numpy as np\n",
      "from sklearn.svm import LinearSVC\n",
      "from sklearn.grid_search import GridSearchCV\n",
      "\n",
      "d = {}\n",
      "d['C'] = np.logspace(-3,3,1)\n",
      "d['C']\n",
      "\n",
      "gs = GridSearchCV(LinearSVC(), d)\n",
      "gs.fit(X_train, y_train)\n",
      "y_pred = gs.predict(X_test)\n",
      "\n",
      "print gs.score(X_train, y_train)\n",
      "print gs.best_params_,gs.best_score_\n",
      "print confusion_matrix(y_test, y_pred)\n",
      "print classification_report(y_test, y_pred)"
     ],
     "language": "python",
     "metadata": {},
     "outputs": [
      {
       "output_type": "stream",
       "stream": "stdout",
       "text": [
        "0.963662790698\n",
        "{'C': 0.001} 0.961821705426\n",
        "[[9833   18]\n",
        " [ 353  116]]\n",
        "             precision    recall  f1-score   support\n",
        "\n",
        "          0       0.97      1.00      0.98      9851\n",
        "          1       0.87      0.25      0.38       469\n",
        "\n",
        "avg / total       0.96      0.96      0.95     10320\n",
        "\n",
        "CPU times: user 2.03 s, sys: 5.97 ms, total: 2.03 s\n",
        "Wall time: 2.03 s\n"
       ]
      }
     ],
     "prompt_number": 140
    },
    {
     "cell_type": "heading",
     "level": 1,
     "metadata": {},
     "source": [
      "RandomForestClassifier"
     ]
    },
    {
     "cell_type": "code",
     "collapsed": false,
     "input": [
      "%%time\n",
      "\n",
      "from sklearn.ensemble import RandomForestClassifier as RF\n",
      "\n",
      "clf = RF(n_estimators= 100)\n",
      "clf.fit(X_train, y_train)\n",
      "y_pred = clf.predict(X_test)\n",
      "print clf.score(X_test, y_test)\n",
      "print confusion_matrix(y_test, y_pred)\n",
      "print classification_report(y_test, y_pred)"
     ],
     "language": "python",
     "metadata": {},
     "outputs": [
      {
       "output_type": "stream",
       "stream": "stdout",
       "text": [
        "0.972771317829\n",
        "[[9798   53]\n",
        " [ 228  241]]\n",
        "             precision    recall  f1-score   support\n",
        "\n",
        "          0       0.98      0.99      0.99      9851\n",
        "          1       0.82      0.51      0.63       469\n",
        "\n",
        "avg / total       0.97      0.97      0.97     10320\n",
        "\n",
        "CPU times: user 1.54 s, sys: 6.06 ms, total: 1.55 s\n",
        "Wall time: 1.55 s\n"
       ]
      }
     ],
     "prompt_number": 141
    },
    {
     "cell_type": "heading",
     "level": 1,
     "metadata": {},
     "source": [
      "KNeighborsClassifier"
     ]
    },
    {
     "cell_type": "code",
     "collapsed": false,
     "input": [
      "%%time\n",
      "from sklearn.neighbors import KNeighborsClassifier as KNN\n",
      "\n",
      "clf = KNN()\n",
      "clf.fit(X_train, y_train)\n",
      "y_pred = clf.predict(X_test)\n",
      "print clf.score(X_test, y_test)\n",
      "print confusion_matrix(y_test, y_pred)\n",
      "print classification_report(y_test, y_pred)"
     ],
     "language": "python",
     "metadata": {},
     "outputs": [
      {
       "output_type": "stream",
       "stream": "stdout",
       "text": [
        "0.954941860465\n",
        "[[9844    7]\n",
        " [ 458   11]]\n",
        "             precision    recall  f1-score   support\n",
        "\n",
        "          0       0.96      1.00      0.98      9851\n",
        "          1       0.61      0.02      0.05       469\n",
        "\n",
        "avg / total       0.94      0.95      0.93     10320\n",
        "\n",
        "CPU times: user 132 ms, sys: 1.7 ms, total: 134 ms\n",
        "Wall time: 133 ms\n"
       ]
      }
     ],
     "prompt_number": 142
    },
    {
     "cell_type": "code",
     "collapsed": false,
     "input": [
      "\n",
      "print confusion_matrix(y_pred, y_test)\n",
      "plt.matshow(confusion_matrix(Y_hat_kmeans, y))\n",
      "plt.title('confusion matrix')\n",
      "plt.xlabel('Y_hat_kmeans')\n",
      "plt.ylabel('actual values')\n",
      "plt.colorbar()"
     ],
     "language": "python",
     "metadata": {},
     "outputs": [
      {
       "ename": "NameError",
       "evalue": "name 'confusion_matrix' is not defined",
       "output_type": "pyerr",
       "traceback": [
        "\u001b[0;31m---------------------------------------------------------------------------\u001b[0m\n\u001b[0;31mNameError\u001b[0m                                 Traceback (most recent call last)",
        "\u001b[0;32m<ipython-input-1-8c9ea1d96b05>\u001b[0m in \u001b[0;36m<module>\u001b[0;34m()\u001b[0m\n\u001b[0;32m----> 1\u001b[0;31m \u001b[0;32mprint\u001b[0m \u001b[0mconfusion_matrix\u001b[0m\u001b[0;34m(\u001b[0m\u001b[0my_pred\u001b[0m\u001b[0;34m,\u001b[0m \u001b[0my_test\u001b[0m\u001b[0;34m)\u001b[0m\u001b[0;34m\u001b[0m\u001b[0m\n\u001b[0m\u001b[1;32m      2\u001b[0m \u001b[0mplt\u001b[0m\u001b[0;34m.\u001b[0m\u001b[0mmatshow\u001b[0m\u001b[0;34m(\u001b[0m\u001b[0mconfusion_matrix\u001b[0m\u001b[0;34m(\u001b[0m\u001b[0mY_hat_kmeans\u001b[0m\u001b[0;34m,\u001b[0m \u001b[0my\u001b[0m\u001b[0;34m)\u001b[0m\u001b[0;34m)\u001b[0m\u001b[0;34m\u001b[0m\u001b[0m\n\u001b[1;32m      3\u001b[0m \u001b[0mplt\u001b[0m\u001b[0;34m.\u001b[0m\u001b[0mtitle\u001b[0m\u001b[0;34m(\u001b[0m\u001b[0;34m'confusion matrix'\u001b[0m\u001b[0;34m)\u001b[0m\u001b[0;34m\u001b[0m\u001b[0m\n\u001b[1;32m      4\u001b[0m \u001b[0mplt\u001b[0m\u001b[0;34m.\u001b[0m\u001b[0mxlabel\u001b[0m\u001b[0;34m(\u001b[0m\u001b[0;34m'Y_hat_kmeans'\u001b[0m\u001b[0;34m)\u001b[0m\u001b[0;34m\u001b[0m\u001b[0m\n\u001b[1;32m      5\u001b[0m \u001b[0mplt\u001b[0m\u001b[0;34m.\u001b[0m\u001b[0mylabel\u001b[0m\u001b[0;34m(\u001b[0m\u001b[0;34m'actual values'\u001b[0m\u001b[0;34m)\u001b[0m\u001b[0;34m\u001b[0m\u001b[0m\n",
        "\u001b[0;31mNameError\u001b[0m: name 'confusion_matrix' is not defined"
       ]
      }
     ],
     "prompt_number": 1
    },
    {
     "cell_type": "code",
     "collapsed": false,
     "input": [
      "import scipy\n",
      "import pylab\n",
      "import scipy.cluster.hierarchy as sch\n",
      "\n",
      "%matplotlib inline\n",
      "\n",
      "# Generate random features and distance matrix.\n",
      "x = scipy.rand(40)\n",
      "D = scipy.zeros([40,40])\n",
      "for i in range(40):\n",
      "    for j in range(40):\n",
      "        D[i,j] = abs(x[i] - x[j])\n",
      "\n",
      "\n",
      "\n",
      "# Plot distance matrix.\n",
      "axmatrix = fig.add_axes([0.3,0.1,0.6,0.6])\n",
      "idx1 = Z1['leaves']\n",
      "idx2 = Z2['leaves']\n",
      "D = D[idx1,:]\n",
      "D = D[:,idx2]\n",
      "im = axmatrix.matshow(D, aspect='auto', origin='lower', cmap=pylab.cm.YlGnBu)\n",
      "axmatrix.set_xticks([])\n",
      "axmatrix.set_yticks([])\n",
      "\n",
      "# Plot colorbar.\n",
      "axcolor = fig.add_axes([0.91,0.1,0.02,0.6])\n",
      "pylab.colorbar(im, cax=axcolor)\n",
      "fig.show()\n",
      "fig.savefig('dendrogram.png')"
     ],
     "language": "python",
     "metadata": {},
     "outputs": [
      {
       "metadata": {},
       "output_type": "display_data",
       "png": "[encoded data removed]",
       "text": [
        "<matplotlib.figure.Figure at 0x1044b3990>"
       ]
      }
     ],
     "prompt_number": 6
    },
    {
     "cell_type": "code",
     "collapsed": false,
     "input": [],
     "language": "python",
     "metadata": {},
     "outputs": []
    },
    {
     "cell_type": "code",
     "collapsed": false,
     "input": [],
     "language": "python",
     "metadata": {},
     "outputs": []
    },
    {
     "cell_type": "code",
     "collapsed": false,
     "input": [],
     "language": "python",
     "metadata": {},
     "outputs": []
    },
    {
     "cell_type": "code",
     "collapsed": false,
     "input": [],
     "language": "python",
     "metadata": {},
     "outputs": []
    },
    {
     "cell_type": "code",
     "collapsed": false,
     "input": [],
     "language": "python",
     "metadata": {},
     "outputs": []
    },
    {
     "cell_type": "code",
     "collapsed": false,
     "input": [],
     "language": "python",
     "metadata": {},
     "outputs": []
    }
   ],
   "metadata": {}
  }
 ]
}