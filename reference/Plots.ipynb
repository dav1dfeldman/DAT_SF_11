{
 "metadata": {
  "name": "",
  "signature": "sha256:59393b21d9ec9fb42f7596b6fff05ac89beeccfdffb2b80c6bc901a28362e201"
 },
 "nbformat": 3,
 "nbformat_minor": 0,
 "worksheets": [
  {
   "cells": [
    {
     "cell_type": "code",
     "collapsed": false,
     "input": [
      "import plotly as py\n",
      "print plotly.__version__ \n",
      "\n",
      "# (*) How you communicate with Plotly's servers\n",
      "import plotly.plotly as py  \n",
      "\n",
      "# (*) Useful tools, e.g., get_sublots(), embed()\n",
      "import plotly.tools as tls"
     ],
     "language": "python",
     "metadata": {},
     "outputs": [
      {
       "output_type": "stream",
       "stream": "stdout",
       "text": [
        "1.4.11\n"
       ]
      }
     ],
     "prompt_number": 21
    },
    {
     "cell_type": "code",
     "collapsed": false,
     "input": [
      "# (1) Two lists of numbers\n",
      "x1 = [1,2,3,5,6]\n",
      "y1 = [1,4.5,7,24,38]\n",
      "\n",
      "# (2) Make dictionary linking x and y coordinate lists to 'x' and 'y' keys\n",
      "#     (mandatory in plotly v.1.0.8 and up)\n",
      "trace1 = dict(x=x1, y=y1)\n",
      "\n",
      "# (3) Make list of 1 trace, to be sent to Plotly\n",
      "#     (mandatory in 1.0.8 and up)\n",
      "data = [trace1]"
     ],
     "language": "python",
     "metadata": {},
     "outputs": [],
     "prompt_number": 22
    },
    {
     "cell_type": "code",
     "collapsed": false,
     "input": [
      "# (@) Call the plot() function of the plotly.plotly submodule,\n",
      "#     save figure as 's0_first_plot'\n",
      "py.plot(data, filename='dav1dfeldman')"
     ],
     "language": "python",
     "metadata": {},
     "outputs": [
      {
       "output_type": "stream",
       "stream": "stdout",
       "text": [
        "Aw, snap! We don't have an account for ''. Want to try again? You can authenticate with your email address or username. Sign in is not case sensitive.\n",
        "\n",
        "Don't have an account? plot.ly\n",
        "Questions? support@plot.ly\n"
       ]
      },
      {
       "metadata": {},
       "output_type": "pyout",
       "prompt_number": 23,
       "text": [
        "u''"
       ]
      }
     ],
     "prompt_number": 23
    },
    {
     "cell_type": "code",
     "collapsed": false,
     "input": [
      "support@plot.ly"
     ],
     "language": "python",
     "metadata": {},
     "outputs": [
      {
       "ename": "SyntaxError",
       "evalue": "invalid syntax (<ipython-input-24-82aff06cfc1c>, line 1)",
       "output_type": "pyerr",
       "traceback": [
        "\u001b[0;36m  File \u001b[0;32m\"<ipython-input-24-82aff06cfc1c>\"\u001b[0;36m, line \u001b[0;32m1\u001b[0m\n\u001b[0;31m    support@plot.ly\u001b[0m\n\u001b[0m           ^\u001b[0m\n\u001b[0;31mSyntaxError\u001b[0m\u001b[0;31m:\u001b[0m invalid syntax\n"
       ]
      }
     ],
     "prompt_number": 24
    },
    {
     "cell_type": "code",
     "collapsed": false,
     "input": [],
     "language": "python",
     "metadata": {},
     "outputs": []
    }
   ],
   "metadata": {}
  }
 ]
}