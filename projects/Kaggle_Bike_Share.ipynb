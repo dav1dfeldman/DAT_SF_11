{
 "metadata": {
  "name": "",
  "signature": "sha256:8d683e6e2c7fafeff9663e3bc6c0e35eea7c2558ced1aa098fd35456101d6c83"
 },
 "nbformat": 3,
 "nbformat_minor": 0,
 "worksheets": [
  {
   "cells": [
    {
     "cell_type": "code",
     "collapsed": false,
     "input": [
      "import pandas as pd\n",
      "import numpy as np\n",
      "import seaborn as sns\n",
      "import matplotlib.pyplot as plt\n",
      "from pprint import pprint\n",
      "from pandas.tools.plotting import scatter_matrix\n",
      "% matplotlib inline\n",
      "\n"
     ],
     "language": "python",
     "metadata": {},
     "outputs": [],
     "prompt_number": 86
    },
    {
     "cell_type": "code",
     "collapsed": false,
     "input": [
      "pd.set_option('display.precision', 3)\n",
      "pd.set_option('display.max_columns', None)"
     ],
     "language": "python",
     "metadata": {},
     "outputs": [],
     "prompt_number": 87
    },
    {
     "cell_type": "code",
     "collapsed": false,
     "input": [
      "df = pd.read_csv('data/kaggle_bike_train.csv', parse_dates = True)\n",
      "df_test = pd.read_csv('data/test.csv', parse_dates = True)"
     ],
     "language": "python",
     "metadata": {},
     "outputs": [],
     "prompt_number": 88
    },
    {
     "cell_type": "code",
     "collapsed": false,
     "input": [
      "df.info()"
     ],
     "language": "python",
     "metadata": {},
     "outputs": [
      {
       "output_type": "stream",
       "stream": "stdout",
       "text": [
        "<class 'pandas.core.frame.DataFrame'>\n",
        "Int64Index: 10886 entries, 0 to 10885\n",
        "Data columns (total 12 columns):\n",
        "datetime      10886 non-null object\n",
        "season        10886 non-null int64\n",
        "holiday       10886 non-null int64\n",
        "workingday    10886 non-null int64\n",
        "weather       10886 non-null int64\n",
        "temp          10886 non-null float64\n",
        "atemp         10886 non-null float64\n",
        "humidity      10886 non-null int64\n",
        "windspeed     10886 non-null float64\n",
        "casual        10886 non-null int64\n",
        "registered    10886 non-null int64\n",
        "count         10886 non-null int64\n",
        "dtypes: float64(3), int64(8), object(1)\n",
        "memory usage: 1.1+ MB\n"
       ]
      }
     ],
     "prompt_number": 89
    },
    {
     "cell_type": "code",
     "collapsed": false,
     "input": [
      "df = df.append(df_test)"
     ],
     "language": "python",
     "metadata": {},
     "outputs": [],
     "prompt_number": 90
    },
    {
     "cell_type": "code",
     "collapsed": false,
     "input": [
      "df.info()"
     ],
     "language": "python",
     "metadata": {},
     "outputs": [
      {
       "output_type": "stream",
       "stream": "stdout",
       "text": [
        "<class 'pandas.core.frame.DataFrame'>\n",
        "Int64Index: 17379 entries, 0 to 6492\n",
        "Data columns (total 12 columns):\n",
        "atemp         17379 non-null float64\n",
        "casual        10886 non-null float64\n",
        "count         10886 non-null float64\n",
        "datetime      17379 non-null object\n",
        "holiday       17379 non-null int64\n",
        "humidity      17379 non-null int64\n",
        "registered    10886 non-null float64\n",
        "season        17379 non-null int64\n",
        "temp          17379 non-null float64\n",
        "weather       17379 non-null int64\n",
        "windspeed     17379 non-null float64\n",
        "workingday    17379 non-null int64\n",
        "dtypes: float64(6), int64(5), object(1)\n",
        "memory usage: 1.7+ MB\n"
       ]
      }
     ],
     "prompt_number": 91
    },
    {
     "cell_type": "code",
     "collapsed": false,
     "input": [
      "df.head()"
     ],
     "language": "python",
     "metadata": {},
     "outputs": [
      {
       "html": [
        "<div style=\"max-height:1000px;max-width:1500px;overflow:auto;\">\n",
        "<table border=\"1\" class=\"dataframe\">\n",
        "  <thead>\n",
        "    <tr style=\"text-align: right;\">\n",
        "      <th></th>\n",
        "      <th>atemp</th>\n",
        "      <th>casual</th>\n",
        "      <th>count</th>\n",
        "      <th>datetime</th>\n",
        "      <th>holiday</th>\n",
        "      <th>humidity</th>\n",
        "      <th>registered</th>\n",
        "      <th>season</th>\n",
        "      <th>temp</th>\n",
        "      <th>weather</th>\n",
        "      <th>windspeed</th>\n",
        "      <th>workingday</th>\n",
        "    </tr>\n",
        "  </thead>\n",
        "  <tbody>\n",
        "    <tr>\n",
        "      <th>0</th>\n",
        "      <td> 14.39</td>\n",
        "      <td> 3</td>\n",
        "      <td> 16</td>\n",
        "      <td> 2011-01-01 00:00:00</td>\n",
        "      <td> 0</td>\n",
        "      <td> 81</td>\n",
        "      <td> 13</td>\n",
        "      <td> 1</td>\n",
        "      <td> 9.84</td>\n",
        "      <td> 1</td>\n",
        "      <td> 0</td>\n",
        "      <td> 0</td>\n",
        "    </tr>\n",
        "    <tr>\n",
        "      <th>1</th>\n",
        "      <td> 13.63</td>\n",
        "      <td> 8</td>\n",
        "      <td> 40</td>\n",
        "      <td> 2011-01-01 01:00:00</td>\n",
        "      <td> 0</td>\n",
        "      <td> 80</td>\n",
        "      <td> 32</td>\n",
        "      <td> 1</td>\n",
        "      <td> 9.02</td>\n",
        "      <td> 1</td>\n",
        "      <td> 0</td>\n",
        "      <td> 0</td>\n",
        "    </tr>\n",
        "    <tr>\n",
        "      <th>2</th>\n",
        "      <td> 13.63</td>\n",
        "      <td> 5</td>\n",
        "      <td> 32</td>\n",
        "      <td> 2011-01-01 02:00:00</td>\n",
        "      <td> 0</td>\n",
        "      <td> 80</td>\n",
        "      <td> 27</td>\n",
        "      <td> 1</td>\n",
        "      <td> 9.02</td>\n",
        "      <td> 1</td>\n",
        "      <td> 0</td>\n",
        "      <td> 0</td>\n",
        "    </tr>\n",
        "    <tr>\n",
        "      <th>3</th>\n",
        "      <td> 14.39</td>\n",
        "      <td> 3</td>\n",
        "      <td> 13</td>\n",
        "      <td> 2011-01-01 03:00:00</td>\n",
        "      <td> 0</td>\n",
        "      <td> 75</td>\n",
        "      <td> 10</td>\n",
        "      <td> 1</td>\n",
        "      <td> 9.84</td>\n",
        "      <td> 1</td>\n",
        "      <td> 0</td>\n",
        "      <td> 0</td>\n",
        "    </tr>\n",
        "    <tr>\n",
        "      <th>4</th>\n",
        "      <td> 14.39</td>\n",
        "      <td> 0</td>\n",
        "      <td>  1</td>\n",
        "      <td> 2011-01-01 04:00:00</td>\n",
        "      <td> 0</td>\n",
        "      <td> 75</td>\n",
        "      <td>  1</td>\n",
        "      <td> 1</td>\n",
        "      <td> 9.84</td>\n",
        "      <td> 1</td>\n",
        "      <td> 0</td>\n",
        "      <td> 0</td>\n",
        "    </tr>\n",
        "  </tbody>\n",
        "</table>\n",
        "</div>"
       ],
       "metadata": {},
       "output_type": "pyout",
       "prompt_number": 92,
       "text": [
        "   atemp  casual  count             datetime  holiday  humidity  registered  \\\n",
        "0  14.39       3     16  2011-01-01 00:00:00        0        81          13   \n",
        "1  13.63       8     40  2011-01-01 01:00:00        0        80          32   \n",
        "2  13.63       5     32  2011-01-01 02:00:00        0        80          27   \n",
        "3  14.39       3     13  2011-01-01 03:00:00        0        75          10   \n",
        "4  14.39       0      1  2011-01-01 04:00:00        0        75           1   \n",
        "\n",
        "   season  temp  weather  windspeed  workingday  \n",
        "0       1  9.84        1          0           0  \n",
        "1       1  9.02        1          0           0  \n",
        "2       1  9.02        1          0           0  \n",
        "3       1  9.84        1          0           0  \n",
        "4       1  9.84        1          0           0  "
       ]
      }
     ],
     "prompt_number": 92
    },
    {
     "cell_type": "code",
     "collapsed": false,
     "input": [
      "df.rename(columns = {'datetime' : 'd_t', 'count' : 'rentals'}, inplace = True)"
     ],
     "language": "python",
     "metadata": {},
     "outputs": [],
     "prompt_number": 93
    },
    {
     "cell_type": "code",
     "collapsed": false,
     "input": [
      "df.d_t = pd.to_datetime(df.d_t)\n",
      "df.info()"
     ],
     "language": "python",
     "metadata": {},
     "outputs": [
      {
       "output_type": "stream",
       "stream": "stdout",
       "text": [
        "<class 'pandas.core.frame.DataFrame'>\n",
        "Int64Index: 17379 entries, 0 to 6492\n",
        "Data columns (total 12 columns):\n",
        "atemp         17379 non-null float64\n",
        "casual        10886 non-null float64\n",
        "rentals       10886 non-null float64\n",
        "d_t           17379 non-null datetime64[ns]\n",
        "holiday       17379 non-null int64\n",
        "humidity      17379 non-null int64\n",
        "registered    10886 non-null float64\n",
        "season        17379 non-null int64\n",
        "temp          17379 non-null float64\n",
        "weather       17379 non-null int64\n",
        "windspeed     17379 non-null float64\n",
        "workingday    17379 non-null int64\n",
        "dtypes: datetime64[ns](1), float64(6), int64(5)\n",
        "memory usage: 1.7 MB\n"
       ]
      }
     ],
     "prompt_number": 94
    },
    {
     "cell_type": "code",
     "collapsed": false,
     "input": [
      "df['time'] = df.d_t.map(lambda x: x.time())\n",
      "df['date'] = df.d_t.map(lambda x: x.date())\n",
      "df['day'] = df.d_t.map(lambda x: x.dayofweek) # no ()??"
     ],
     "language": "python",
     "metadata": {},
     "outputs": [],
     "prompt_number": 95
    },
    {
     "cell_type": "code",
     "collapsed": false,
     "input": [
      "df.set_index(df.d_t, inplace = True)"
     ],
     "language": "python",
     "metadata": {},
     "outputs": [],
     "prompt_number": 96
    },
    {
     "cell_type": "code",
     "collapsed": false,
     "input": [
      "def dayname(x):\n",
      "    day = {}\n",
      "    day[0] = 'Mon'\n",
      "    day[1] = 'Tues'\n",
      "    day[2] = 'Wed'\n",
      "    day[3] = 'Thur'\n",
      "    day[4] = 'Fri'\n",
      "    day[5] = 'Sat'\n",
      "    day[6] = 'Sun'\n",
      "    return day[x]\n",
      "df['day_name'] = df['day'].map(dayname)"
     ],
     "language": "python",
     "metadata": {},
     "outputs": [],
     "prompt_number": 97
    },
    {
     "cell_type": "code",
     "collapsed": false,
     "input": [
      "#s eason -  1 = spring, 2 = summer, 3 = fall, 4 = winter \n",
      "def season(x):\n",
      "    season = {}\n",
      "    season[1] = 'Spring'\n",
      "    season[2] = 'Summer'\n",
      "    season[3] = 'Fall'\n",
      "    season[4] = 'Winter'\n",
      "    return season[x]\n",
      "df['season'] = df['season'].map(season)"
     ],
     "language": "python",
     "metadata": {},
     "outputs": [],
     "prompt_number": 98
    },
    {
     "cell_type": "code",
     "collapsed": false,
     "input": [
      "def weather(x):\n",
      "    weather = {}\n",
      "    weather[1] = 'Clear'\n",
      "    weather[2] = 'Mist'\n",
      "    weather[3] = 'Light'\n",
      "    weather[4] = 'Heavy'\n",
      "    return weather[x]\n",
      "df['weather'] = df['weather'].map(weather)"
     ],
     "language": "python",
     "metadata": {},
     "outputs": [],
     "prompt_number": 99
    },
    {
     "cell_type": "code",
     "collapsed": false,
     "input": [
      "df = df.drop(['day','d_t'], axis = 1)"
     ],
     "language": "python",
     "metadata": {},
     "outputs": [],
     "prompt_number": 100
    },
    {
     "cell_type": "code",
     "collapsed": false,
     "input": [
      "df.reset_index(inplace = True)"
     ],
     "language": "python",
     "metadata": {},
     "outputs": [],
     "prompt_number": 101
    },
    {
     "cell_type": "code",
     "collapsed": false,
     "input": [
      "# scatter_matrix(df, figsize = (15, 15));"
     ],
     "language": "python",
     "metadata": {},
     "outputs": [],
     "prompt_number": 102
    },
    {
     "cell_type": "code",
     "collapsed": false,
     "input": [
      "dummy_season = pd.get_dummies(df['season'])\n",
      "dummy_weather = pd.get_dummies(df['weather'])\n",
      "dummy_day_name = pd.get_dummies(df['day_name'])\n",
      "dummy_time = pd.get_dummies(df['time'])\n"
     ],
     "language": "python",
     "metadata": {},
     "outputs": [],
     "prompt_number": 103
    },
    {
     "cell_type": "code",
     "collapsed": false,
     "input": [
      "df_dummy = df.join([dummy_season, dummy_weather, dummy_day_name, dummy_time])"
     ],
     "language": "python",
     "metadata": {},
     "outputs": [],
     "prompt_number": 104
    },
    {
     "cell_type": "code",
     "collapsed": false,
     "input": [
      "df_dummy.drop(['season', 'weather', 'day_name', 'time', 'date', 'd_t'], axis = 1, inplace = True)"
     ],
     "language": "python",
     "metadata": {},
     "outputs": [],
     "prompt_number": 105
    },
    {
     "cell_type": "code",
     "collapsed": false,
     "input": [
      "df_dummy = df_dummy.fillna(0)"
     ],
     "language": "python",
     "metadata": {},
     "outputs": [],
     "prompt_number": 106
    },
    {
     "cell_type": "code",
     "collapsed": false,
     "input": [
      "df_dummy = df_dummy.astype(int)\n",
      "df_dummy.info()"
     ],
     "language": "python",
     "metadata": {},
     "outputs": [
      {
       "output_type": "stream",
       "stream": "stdout",
       "text": [
        "<class 'pandas.core.frame.DataFrame'>\n",
        "Int64Index: 17379 entries, 0 to 17378\n",
        "Data columns (total 48 columns):\n",
        "atemp         17379 non-null int64\n",
        "casual        17379 non-null int64\n",
        "rentals       17379 non-null int64\n",
        "holiday       17379 non-null int64\n",
        "humidity      17379 non-null int64\n",
        "registered    17379 non-null int64\n",
        "temp          17379 non-null int64\n",
        "windspeed     17379 non-null int64\n",
        "workingday    17379 non-null int64\n",
        "Fall          17379 non-null int64\n",
        "Spring        17379 non-null int64\n",
        "Summer        17379 non-null int64\n",
        "Winter        17379 non-null int64\n",
        "Clear         17379 non-null int64\n",
        "Heavy         17379 non-null int64\n",
        "Light         17379 non-null int64\n",
        "Mist          17379 non-null int64\n",
        "Fri           17379 non-null int64\n",
        "Mon           17379 non-null int64\n",
        "Sat           17379 non-null int64\n",
        "Sun           17379 non-null int64\n",
        "Thur          17379 non-null int64\n",
        "Tues          17379 non-null int64\n",
        "Wed           17379 non-null int64\n",
        "00:00:00      17379 non-null int64\n",
        "01:00:00      17379 non-null int64\n",
        "02:00:00      17379 non-null int64\n",
        "03:00:00      17379 non-null int64\n",
        "04:00:00      17379 non-null int64\n",
        "05:00:00      17379 non-null int64\n",
        "06:00:00      17379 non-null int64\n",
        "07:00:00      17379 non-null int64\n",
        "08:00:00      17379 non-null int64\n",
        "09:00:00      17379 non-null int64\n",
        "10:00:00      17379 non-null int64\n",
        "11:00:00      17379 non-null int64\n",
        "12:00:00      17379 non-null int64\n",
        "13:00:00      17379 non-null int64\n",
        "14:00:00      17379 non-null int64\n",
        "15:00:00      17379 non-null int64\n",
        "16:00:00      17379 non-null int64\n",
        "17:00:00      17379 non-null int64\n",
        "18:00:00      17379 non-null int64\n",
        "19:00:00      17379 non-null int64\n",
        "20:00:00      17379 non-null int64\n",
        "21:00:00      17379 non-null int64\n",
        "22:00:00      17379 non-null int64\n",
        "23:00:00      17379 non-null int64\n",
        "dtypes: int64(48)\n",
        "memory usage: 6.5 MB\n"
       ]
      }
     ],
     "prompt_number": 107
    },
    {
     "cell_type": "code",
     "collapsed": false,
     "input": [
      "from sklearn.cross_validation import train_test_split"
     ],
     "language": "python",
     "metadata": {},
     "outputs": [],
     "prompt_number": 108
    },
    {
     "cell_type": "code",
     "collapsed": false,
     "input": [
      "df_dummy_train = df_dummy[0:10886]\n",
      "df_dummy_train.rentals.mean()"
     ],
     "language": "python",
     "metadata": {},
     "outputs": [
      {
       "metadata": {},
       "output_type": "pyout",
       "prompt_number": 109,
       "text": [
        "191.57413191254824"
       ]
      }
     ],
     "prompt_number": 109
    },
    {
     "cell_type": "code",
     "collapsed": false,
     "input": [
      "df_dummy_test = df_dummy[10886:]\n",
      "\n",
      "df_dummy_test.describe()"
     ],
     "language": "python",
     "metadata": {},
     "outputs": [
      {
       "html": [
        "<div style=\"max-height:1000px;max-width:1500px;overflow:auto;\">\n",
        "<table border=\"1\" class=\"dataframe\">\n",
        "  <thead>\n",
        "    <tr style=\"text-align: right;\">\n",
        "      <th></th>\n",
        "      <th>atemp</th>\n",
        "      <th>casual</th>\n",
        "      <th>rentals</th>\n",
        "      <th>holiday</th>\n",
        "      <th>humidity</th>\n",
        "      <th>registered</th>\n",
        "      <th>temp</th>\n",
        "      <th>windspeed</th>\n",
        "      <th>workingday</th>\n",
        "      <th>Fall</th>\n",
        "      <th>Spring</th>\n",
        "      <th>Summer</th>\n",
        "      <th>Winter</th>\n",
        "      <th>Clear</th>\n",
        "      <th>Heavy</th>\n",
        "      <th>Light</th>\n",
        "      <th>Mist</th>\n",
        "      <th>Fri</th>\n",
        "      <th>Mon</th>\n",
        "      <th>Sat</th>\n",
        "      <th>Sun</th>\n",
        "      <th>Thur</th>\n",
        "      <th>Tues</th>\n",
        "      <th>Wed</th>\n",
        "      <th>00:00:00</th>\n",
        "      <th>01:00:00</th>\n",
        "      <th>02:00:00</th>\n",
        "      <th>03:00:00</th>\n",
        "      <th>04:00:00</th>\n",
        "      <th>05:00:00</th>\n",
        "      <th>06:00:00</th>\n",
        "      <th>07:00:00</th>\n",
        "      <th>08:00:00</th>\n",
        "      <th>09:00:00</th>\n",
        "      <th>10:00:00</th>\n",
        "      <th>11:00:00</th>\n",
        "      <th>12:00:00</th>\n",
        "      <th>13:00:00</th>\n",
        "      <th>14:00:00</th>\n",
        "      <th>15:00:00</th>\n",
        "      <th>16:00:00</th>\n",
        "      <th>17:00:00</th>\n",
        "      <th>18:00:00</th>\n",
        "      <th>19:00:00</th>\n",
        "      <th>20:00:00</th>\n",
        "      <th>21:00:00</th>\n",
        "      <th>22:00:00</th>\n",
        "      <th>23:00:00</th>\n",
        "    </tr>\n",
        "  </thead>\n",
        "  <tbody>\n",
        "    <tr>\n",
        "      <th>count</th>\n",
        "      <td> 6493.00</td>\n",
        "      <td> 6493</td>\n",
        "      <td> 6493</td>\n",
        "      <td> 6493.00</td>\n",
        "      <td> 6493.00</td>\n",
        "      <td> 6493</td>\n",
        "      <td> 6493.00</td>\n",
        "      <td> 6493.00</td>\n",
        "      <td> 6493.00</td>\n",
        "      <td> 6493.00</td>\n",
        "      <td> 6493.00</td>\n",
        "      <td> 6493.00</td>\n",
        "      <td> 6493.00</td>\n",
        "      <td> 6493.00</td>\n",
        "      <td> 6.49e+03</td>\n",
        "      <td> 6493.00</td>\n",
        "      <td> 6493.00</td>\n",
        "      <td> 6493.00</td>\n",
        "      <td> 6493.00</td>\n",
        "      <td> 6493.00</td>\n",
        "      <td> 6493.00</td>\n",
        "      <td> 6493.00</td>\n",
        "      <td> 6493.00</td>\n",
        "      <td> 6493.00</td>\n",
        "      <td> 6493.00</td>\n",
        "      <td> 6493.00</td>\n",
        "      <td> 6493.00</td>\n",
        "      <td> 6493.00</td>\n",
        "      <td> 6493.00</td>\n",
        "      <td> 6493.00</td>\n",
        "      <td> 6493.00</td>\n",
        "      <td> 6493.00</td>\n",
        "      <td> 6493.00</td>\n",
        "      <td> 6493.00</td>\n",
        "      <td> 6493.00</td>\n",
        "      <td> 6493.00</td>\n",
        "      <td> 6493.00</td>\n",
        "      <td> 6493.00</td>\n",
        "      <td> 6493.00</td>\n",
        "      <td> 6493.00</td>\n",
        "      <td> 6493.00</td>\n",
        "      <td> 6493.00</td>\n",
        "      <td> 6493.00</td>\n",
        "      <td> 6493.00</td>\n",
        "      <td> 6493.00</td>\n",
        "      <td> 6493.00</td>\n",
        "      <td> 6493.00</td>\n",
        "      <td> 6493.00</td>\n",
        "    </tr>\n",
        "    <tr>\n",
        "      <th>mean</th>\n",
        "      <td>   23.54</td>\n",
        "      <td>    0</td>\n",
        "      <td>    0</td>\n",
        "      <td>    0.03</td>\n",
        "      <td>   64.13</td>\n",
        "      <td>    0</td>\n",
        "      <td>   20.14</td>\n",
        "      <td>   12.26</td>\n",
        "      <td>    0.69</td>\n",
        "      <td>    0.27</td>\n",
        "      <td>    0.24</td>\n",
        "      <td>    0.26</td>\n",
        "      <td>    0.23</td>\n",
        "      <td>    0.65</td>\n",
        "      <td> 3.08e-04</td>\n",
        "      <td>    0.09</td>\n",
        "      <td>    0.26</td>\n",
        "      <td>    0.15</td>\n",
        "      <td>    0.14</td>\n",
        "      <td>    0.14</td>\n",
        "      <td>    0.14</td>\n",
        "      <td>    0.14</td>\n",
        "      <td>    0.14</td>\n",
        "      <td>    0.14</td>\n",
        "      <td>    0.04</td>\n",
        "      <td>    0.04</td>\n",
        "      <td>    0.04</td>\n",
        "      <td>    0.04</td>\n",
        "      <td>    0.04</td>\n",
        "      <td>    0.04</td>\n",
        "      <td>    0.04</td>\n",
        "      <td>    0.04</td>\n",
        "      <td>    0.04</td>\n",
        "      <td>    0.04</td>\n",
        "      <td>    0.04</td>\n",
        "      <td>    0.04</td>\n",
        "      <td>    0.04</td>\n",
        "      <td>    0.04</td>\n",
        "      <td>    0.04</td>\n",
        "      <td>    0.04</td>\n",
        "      <td>    0.04</td>\n",
        "      <td>    0.04</td>\n",
        "      <td>    0.04</td>\n",
        "      <td>    0.04</td>\n",
        "      <td>    0.04</td>\n",
        "      <td>    0.04</td>\n",
        "      <td>    0.04</td>\n",
        "      <td>    0.04</td>\n",
        "    </tr>\n",
        "    <tr>\n",
        "      <th>std</th>\n",
        "      <td>    8.82</td>\n",
        "      <td>    0</td>\n",
        "      <td>    0</td>\n",
        "      <td>    0.17</td>\n",
        "      <td>   19.29</td>\n",
        "      <td>    0</td>\n",
        "      <td>    8.06</td>\n",
        "      <td>    8.12</td>\n",
        "      <td>    0.46</td>\n",
        "      <td>    0.44</td>\n",
        "      <td>    0.43</td>\n",
        "      <td>    0.44</td>\n",
        "      <td>    0.42</td>\n",
        "      <td>    0.48</td>\n",
        "      <td> 1.75e-02</td>\n",
        "      <td>    0.28</td>\n",
        "      <td>    0.44</td>\n",
        "      <td>    0.35</td>\n",
        "      <td>    0.35</td>\n",
        "      <td>    0.35</td>\n",
        "      <td>    0.35</td>\n",
        "      <td>    0.35</td>\n",
        "      <td>    0.35</td>\n",
        "      <td>    0.35</td>\n",
        "      <td>    0.20</td>\n",
        "      <td>    0.20</td>\n",
        "      <td>    0.20</td>\n",
        "      <td>    0.20</td>\n",
        "      <td>    0.19</td>\n",
        "      <td>    0.20</td>\n",
        "      <td>    0.20</td>\n",
        "      <td>    0.20</td>\n",
        "      <td>    0.20</td>\n",
        "      <td>    0.20</td>\n",
        "      <td>    0.20</td>\n",
        "      <td>    0.20</td>\n",
        "      <td>    0.20</td>\n",
        "      <td>    0.20</td>\n",
        "      <td>    0.20</td>\n",
        "      <td>    0.20</td>\n",
        "      <td>    0.20</td>\n",
        "      <td>    0.20</td>\n",
        "      <td>    0.20</td>\n",
        "      <td>    0.20</td>\n",
        "      <td>    0.20</td>\n",
        "      <td>    0.20</td>\n",
        "      <td>    0.20</td>\n",
        "      <td>    0.20</td>\n",
        "    </tr>\n",
        "    <tr>\n",
        "      <th>min</th>\n",
        "      <td>    0.00</td>\n",
        "      <td>    0</td>\n",
        "      <td>    0</td>\n",
        "      <td>    0.00</td>\n",
        "      <td>   16.00</td>\n",
        "      <td>    0</td>\n",
        "      <td>    0.00</td>\n",
        "      <td>    0.00</td>\n",
        "      <td>    0.00</td>\n",
        "      <td>    0.00</td>\n",
        "      <td>    0.00</td>\n",
        "      <td>    0.00</td>\n",
        "      <td>    0.00</td>\n",
        "      <td>    0.00</td>\n",
        "      <td> 0.00e+00</td>\n",
        "      <td>    0.00</td>\n",
        "      <td>    0.00</td>\n",
        "      <td>    0.00</td>\n",
        "      <td>    0.00</td>\n",
        "      <td>    0.00</td>\n",
        "      <td>    0.00</td>\n",
        "      <td>    0.00</td>\n",
        "      <td>    0.00</td>\n",
        "      <td>    0.00</td>\n",
        "      <td>    0.00</td>\n",
        "      <td>    0.00</td>\n",
        "      <td>    0.00</td>\n",
        "      <td>    0.00</td>\n",
        "      <td>    0.00</td>\n",
        "      <td>    0.00</td>\n",
        "      <td>    0.00</td>\n",
        "      <td>    0.00</td>\n",
        "      <td>    0.00</td>\n",
        "      <td>    0.00</td>\n",
        "      <td>    0.00</td>\n",
        "      <td>    0.00</td>\n",
        "      <td>    0.00</td>\n",
        "      <td>    0.00</td>\n",
        "      <td>    0.00</td>\n",
        "      <td>    0.00</td>\n",
        "      <td>    0.00</td>\n",
        "      <td>    0.00</td>\n",
        "      <td>    0.00</td>\n",
        "      <td>    0.00</td>\n",
        "      <td>    0.00</td>\n",
        "      <td>    0.00</td>\n",
        "      <td>    0.00</td>\n",
        "      <td>    0.00</td>\n",
        "    </tr>\n",
        "    <tr>\n",
        "      <th>25%</th>\n",
        "      <td>   16.00</td>\n",
        "      <td>    0</td>\n",
        "      <td>    0</td>\n",
        "      <td>    0.00</td>\n",
        "      <td>   49.00</td>\n",
        "      <td>    0</td>\n",
        "      <td>   13.00</td>\n",
        "      <td>    7.00</td>\n",
        "      <td>    0.00</td>\n",
        "      <td>    0.00</td>\n",
        "      <td>    0.00</td>\n",
        "      <td>    0.00</td>\n",
        "      <td>    0.00</td>\n",
        "      <td>    0.00</td>\n",
        "      <td> 0.00e+00</td>\n",
        "      <td>    0.00</td>\n",
        "      <td>    0.00</td>\n",
        "      <td>    0.00</td>\n",
        "      <td>    0.00</td>\n",
        "      <td>    0.00</td>\n",
        "      <td>    0.00</td>\n",
        "      <td>    0.00</td>\n",
        "      <td>    0.00</td>\n",
        "      <td>    0.00</td>\n",
        "      <td>    0.00</td>\n",
        "      <td>    0.00</td>\n",
        "      <td>    0.00</td>\n",
        "      <td>    0.00</td>\n",
        "      <td>    0.00</td>\n",
        "      <td>    0.00</td>\n",
        "      <td>    0.00</td>\n",
        "      <td>    0.00</td>\n",
        "      <td>    0.00</td>\n",
        "      <td>    0.00</td>\n",
        "      <td>    0.00</td>\n",
        "      <td>    0.00</td>\n",
        "      <td>    0.00</td>\n",
        "      <td>    0.00</td>\n",
        "      <td>    0.00</td>\n",
        "      <td>    0.00</td>\n",
        "      <td>    0.00</td>\n",
        "      <td>    0.00</td>\n",
        "      <td>    0.00</td>\n",
        "      <td>    0.00</td>\n",
        "      <td>    0.00</td>\n",
        "      <td>    0.00</td>\n",
        "      <td>    0.00</td>\n",
        "      <td>    0.00</td>\n",
        "    </tr>\n",
        "    <tr>\n",
        "      <th>50%</th>\n",
        "      <td>   25.00</td>\n",
        "      <td>    0</td>\n",
        "      <td>    0</td>\n",
        "      <td>    0.00</td>\n",
        "      <td>   65.00</td>\n",
        "      <td>    0</td>\n",
        "      <td>   21.00</td>\n",
        "      <td>   11.00</td>\n",
        "      <td>    1.00</td>\n",
        "      <td>    0.00</td>\n",
        "      <td>    0.00</td>\n",
        "      <td>    0.00</td>\n",
        "      <td>    0.00</td>\n",
        "      <td>    1.00</td>\n",
        "      <td> 0.00e+00</td>\n",
        "      <td>    0.00</td>\n",
        "      <td>    0.00</td>\n",
        "      <td>    0.00</td>\n",
        "      <td>    0.00</td>\n",
        "      <td>    0.00</td>\n",
        "      <td>    0.00</td>\n",
        "      <td>    0.00</td>\n",
        "      <td>    0.00</td>\n",
        "      <td>    0.00</td>\n",
        "      <td>    0.00</td>\n",
        "      <td>    0.00</td>\n",
        "      <td>    0.00</td>\n",
        "      <td>    0.00</td>\n",
        "      <td>    0.00</td>\n",
        "      <td>    0.00</td>\n",
        "      <td>    0.00</td>\n",
        "      <td>    0.00</td>\n",
        "      <td>    0.00</td>\n",
        "      <td>    0.00</td>\n",
        "      <td>    0.00</td>\n",
        "      <td>    0.00</td>\n",
        "      <td>    0.00</td>\n",
        "      <td>    0.00</td>\n",
        "      <td>    0.00</td>\n",
        "      <td>    0.00</td>\n",
        "      <td>    0.00</td>\n",
        "      <td>    0.00</td>\n",
        "      <td>    0.00</td>\n",
        "      <td>    0.00</td>\n",
        "      <td>    0.00</td>\n",
        "      <td>    0.00</td>\n",
        "      <td>    0.00</td>\n",
        "      <td>    0.00</td>\n",
        "    </tr>\n",
        "    <tr>\n",
        "      <th>75%</th>\n",
        "      <td>   31.00</td>\n",
        "      <td>    0</td>\n",
        "      <td>    0</td>\n",
        "      <td>    0.00</td>\n",
        "      <td>   81.00</td>\n",
        "      <td>    0</td>\n",
        "      <td>   27.00</td>\n",
        "      <td>   16.00</td>\n",
        "      <td>    1.00</td>\n",
        "      <td>    1.00</td>\n",
        "      <td>    0.00</td>\n",
        "      <td>    1.00</td>\n",
        "      <td>    0.00</td>\n",
        "      <td>    1.00</td>\n",
        "      <td> 0.00e+00</td>\n",
        "      <td>    0.00</td>\n",
        "      <td>    1.00</td>\n",
        "      <td>    0.00</td>\n",
        "      <td>    0.00</td>\n",
        "      <td>    0.00</td>\n",
        "      <td>    0.00</td>\n",
        "      <td>    0.00</td>\n",
        "      <td>    0.00</td>\n",
        "      <td>    0.00</td>\n",
        "      <td>    0.00</td>\n",
        "      <td>    0.00</td>\n",
        "      <td>    0.00</td>\n",
        "      <td>    0.00</td>\n",
        "      <td>    0.00</td>\n",
        "      <td>    0.00</td>\n",
        "      <td>    0.00</td>\n",
        "      <td>    0.00</td>\n",
        "      <td>    0.00</td>\n",
        "      <td>    0.00</td>\n",
        "      <td>    0.00</td>\n",
        "      <td>    0.00</td>\n",
        "      <td>    0.00</td>\n",
        "      <td>    0.00</td>\n",
        "      <td>    0.00</td>\n",
        "      <td>    0.00</td>\n",
        "      <td>    0.00</td>\n",
        "      <td>    0.00</td>\n",
        "      <td>    0.00</td>\n",
        "      <td>    0.00</td>\n",
        "      <td>    0.00</td>\n",
        "      <td>    0.00</td>\n",
        "      <td>    0.00</td>\n",
        "      <td>    0.00</td>\n",
        "    </tr>\n",
        "    <tr>\n",
        "      <th>max</th>\n",
        "      <td>   50.00</td>\n",
        "      <td>    0</td>\n",
        "      <td>    0</td>\n",
        "      <td>    1.00</td>\n",
        "      <td>  100.00</td>\n",
        "      <td>    0</td>\n",
        "      <td>   40.00</td>\n",
        "      <td>   55.00</td>\n",
        "      <td>    1.00</td>\n",
        "      <td>    1.00</td>\n",
        "      <td>    1.00</td>\n",
        "      <td>    1.00</td>\n",
        "      <td>    1.00</td>\n",
        "      <td>    1.00</td>\n",
        "      <td> 1.00e+00</td>\n",
        "      <td>    1.00</td>\n",
        "      <td>    1.00</td>\n",
        "      <td>    1.00</td>\n",
        "      <td>    1.00</td>\n",
        "      <td>    1.00</td>\n",
        "      <td>    1.00</td>\n",
        "      <td>    1.00</td>\n",
        "      <td>    1.00</td>\n",
        "      <td>    1.00</td>\n",
        "      <td>    1.00</td>\n",
        "      <td>    1.00</td>\n",
        "      <td>    1.00</td>\n",
        "      <td>    1.00</td>\n",
        "      <td>    1.00</td>\n",
        "      <td>    1.00</td>\n",
        "      <td>    1.00</td>\n",
        "      <td>    1.00</td>\n",
        "      <td>    1.00</td>\n",
        "      <td>    1.00</td>\n",
        "      <td>    1.00</td>\n",
        "      <td>    1.00</td>\n",
        "      <td>    1.00</td>\n",
        "      <td>    1.00</td>\n",
        "      <td>    1.00</td>\n",
        "      <td>    1.00</td>\n",
        "      <td>    1.00</td>\n",
        "      <td>    1.00</td>\n",
        "      <td>    1.00</td>\n",
        "      <td>    1.00</td>\n",
        "      <td>    1.00</td>\n",
        "      <td>    1.00</td>\n",
        "      <td>    1.00</td>\n",
        "      <td>    1.00</td>\n",
        "    </tr>\n",
        "  </tbody>\n",
        "</table>\n",
        "</div>"
       ],
       "metadata": {},
       "output_type": "pyout",
       "prompt_number": 110,
       "text": [
        "         atemp  casual  rentals  holiday  humidity  registered     temp  \\\n",
        "count  6493.00    6493     6493  6493.00   6493.00        6493  6493.00   \n",
        "mean     23.54       0        0     0.03     64.13           0    20.14   \n",
        "std       8.82       0        0     0.17     19.29           0     8.06   \n",
        "min       0.00       0        0     0.00     16.00           0     0.00   \n",
        "25%      16.00       0        0     0.00     49.00           0    13.00   \n",
        "50%      25.00       0        0     0.00     65.00           0    21.00   \n",
        "75%      31.00       0        0     0.00     81.00           0    27.00   \n",
        "max      50.00       0        0     1.00    100.00           0    40.00   \n",
        "\n",
        "       windspeed  workingday     Fall   Spring   Summer   Winter    Clear  \\\n",
        "count    6493.00     6493.00  6493.00  6493.00  6493.00  6493.00  6493.00   \n",
        "mean       12.26        0.69     0.27     0.24     0.26     0.23     0.65   \n",
        "std         8.12        0.46     0.44     0.43     0.44     0.42     0.48   \n",
        "min         0.00        0.00     0.00     0.00     0.00     0.00     0.00   \n",
        "25%         7.00        0.00     0.00     0.00     0.00     0.00     0.00   \n",
        "50%        11.00        1.00     0.00     0.00     0.00     0.00     1.00   \n",
        "75%        16.00        1.00     1.00     0.00     1.00     0.00     1.00   \n",
        "max        55.00        1.00     1.00     1.00     1.00     1.00     1.00   \n",
        "\n",
        "          Heavy    Light     Mist      Fri      Mon      Sat      Sun  \\\n",
        "count  6.49e+03  6493.00  6493.00  6493.00  6493.00  6493.00  6493.00   \n",
        "mean   3.08e-04     0.09     0.26     0.15     0.14     0.14     0.14   \n",
        "std    1.75e-02     0.28     0.44     0.35     0.35     0.35     0.35   \n",
        "min    0.00e+00     0.00     0.00     0.00     0.00     0.00     0.00   \n",
        "25%    0.00e+00     0.00     0.00     0.00     0.00     0.00     0.00   \n",
        "50%    0.00e+00     0.00     0.00     0.00     0.00     0.00     0.00   \n",
        "75%    0.00e+00     0.00     1.00     0.00     0.00     0.00     0.00   \n",
        "max    1.00e+00     1.00     1.00     1.00     1.00     1.00     1.00   \n",
        "\n",
        "          Thur     Tues      Wed  00:00:00  01:00:00  02:00:00  03:00:00  \\\n",
        "count  6493.00  6493.00  6493.00   6493.00   6493.00   6493.00   6493.00   \n",
        "mean      0.14     0.14     0.14      0.04      0.04      0.04      0.04   \n",
        "std       0.35     0.35     0.35      0.20      0.20      0.20      0.20   \n",
        "min       0.00     0.00     0.00      0.00      0.00      0.00      0.00   \n",
        "25%       0.00     0.00     0.00      0.00      0.00      0.00      0.00   \n",
        "50%       0.00     0.00     0.00      0.00      0.00      0.00      0.00   \n",
        "75%       0.00     0.00     0.00      0.00      0.00      0.00      0.00   \n",
        "max       1.00     1.00     1.00      1.00      1.00      1.00      1.00   \n",
        "\n",
        "       04:00:00  05:00:00  06:00:00  07:00:00  08:00:00  09:00:00  10:00:00  \\\n",
        "count   6493.00   6493.00   6493.00   6493.00   6493.00   6493.00   6493.00   \n",
        "mean       0.04      0.04      0.04      0.04      0.04      0.04      0.04   \n",
        "std        0.19      0.20      0.20      0.20      0.20      0.20      0.20   \n",
        "min        0.00      0.00      0.00      0.00      0.00      0.00      0.00   \n",
        "25%        0.00      0.00      0.00      0.00      0.00      0.00      0.00   \n",
        "50%        0.00      0.00      0.00      0.00      0.00      0.00      0.00   \n",
        "75%        0.00      0.00      0.00      0.00      0.00      0.00      0.00   \n",
        "max        1.00      1.00      1.00      1.00      1.00      1.00      1.00   \n",
        "\n",
        "       11:00:00  12:00:00  13:00:00  14:00:00  15:00:00  16:00:00  17:00:00  \\\n",
        "count   6493.00   6493.00   6493.00   6493.00   6493.00   6493.00   6493.00   \n",
        "mean       0.04      0.04      0.04      0.04      0.04      0.04      0.04   \n",
        "std        0.20      0.20      0.20      0.20      0.20      0.20      0.20   \n",
        "min        0.00      0.00      0.00      0.00      0.00      0.00      0.00   \n",
        "25%        0.00      0.00      0.00      0.00      0.00      0.00      0.00   \n",
        "50%        0.00      0.00      0.00      0.00      0.00      0.00      0.00   \n",
        "75%        0.00      0.00      0.00      0.00      0.00      0.00      0.00   \n",
        "max        1.00      1.00      1.00      1.00      1.00      1.00      1.00   \n",
        "\n",
        "       18:00:00  19:00:00  20:00:00  21:00:00  22:00:00  23:00:00  \n",
        "count   6493.00   6493.00   6493.00   6493.00   6493.00   6493.00  \n",
        "mean       0.04      0.04      0.04      0.04      0.04      0.04  \n",
        "std        0.20      0.20      0.20      0.20      0.20      0.20  \n",
        "min        0.00      0.00      0.00      0.00      0.00      0.00  \n",
        "25%        0.00      0.00      0.00      0.00      0.00      0.00  \n",
        "50%        0.00      0.00      0.00      0.00      0.00      0.00  \n",
        "75%        0.00      0.00      0.00      0.00      0.00      0.00  \n",
        "max        1.00      1.00      1.00      1.00      1.00      1.00  "
       ]
      }
     ],
     "prompt_number": 110
    },
    {
     "cell_type": "code",
     "collapsed": false,
     "input": [
      "features1 = df_dummy_train.drop(['casual', 'registered', 'rentals'], axis = 1).values"
     ],
     "language": "python",
     "metadata": {},
     "outputs": [],
     "prompt_number": 111
    },
    {
     "cell_type": "code",
     "collapsed": false,
     "input": [
      "target1 = df_dummy_train['rentals'].values"
     ],
     "language": "python",
     "metadata": {},
     "outputs": [],
     "prompt_number": 112
    },
    {
     "cell_type": "code",
     "collapsed": false,
     "input": [
      "features1.shape"
     ],
     "language": "python",
     "metadata": {},
     "outputs": [
      {
       "metadata": {},
       "output_type": "pyout",
       "prompt_number": 113,
       "text": [
        "(10886, 45)"
       ]
      }
     ],
     "prompt_number": 113
    },
    {
     "cell_type": "code",
     "collapsed": false,
     "input": [
      "target1.shape"
     ],
     "language": "python",
     "metadata": {},
     "outputs": [
      {
       "metadata": {},
       "output_type": "pyout",
       "prompt_number": 114,
       "text": [
        "(10886,)"
       ]
      }
     ],
     "prompt_number": 114
    },
    {
     "cell_type": "code",
     "collapsed": false,
     "input": [
      "from sklearn.linear_model import LinearRegression"
     ],
     "language": "python",
     "metadata": {},
     "outputs": [],
     "prompt_number": 115
    },
    {
     "cell_type": "code",
     "collapsed": false,
     "input": [
      "features_train1, features_test1, target_train1, target_test1 = train_test_split(features1, target1, test_size = .3)"
     ],
     "language": "python",
     "metadata": {},
     "outputs": [],
     "prompt_number": 116
    },
    {
     "cell_type": "heading",
     "level": 2,
     "metadata": {},
     "source": [
      "linear regression"
     ]
    },
    {
     "cell_type": "code",
     "collapsed": false,
     "input": [
      "lr = LinearRegression()"
     ],
     "language": "python",
     "metadata": {},
     "outputs": [],
     "prompt_number": 117
    },
    {
     "cell_type": "code",
     "collapsed": false,
     "input": [
      "lr.fit(features_train1, target_train1)"
     ],
     "language": "python",
     "metadata": {},
     "outputs": [
      {
       "metadata": {},
       "output_type": "pyout",
       "prompt_number": 118,
       "text": [
        "LinearRegression(copy_X=True, fit_intercept=True, normalize=False)"
       ]
      }
     ],
     "prompt_number": 118
    },
    {
     "cell_type": "code",
     "collapsed": false,
     "input": [
      "target_pred1 = lr.predict(features_test1)"
     ],
     "language": "python",
     "metadata": {},
     "outputs": [],
     "prompt_number": 119
    },
    {
     "cell_type": "code",
     "collapsed": false,
     "input": [
      "sum_sq_model = np.sum((target_test1 - target_pred1) ** 2)\n",
      "sum_sq_model"
     ],
     "language": "python",
     "metadata": {},
     "outputs": [
      {
       "metadata": {},
       "output_type": "pyout",
       "prompt_number": 120,
       "text": [
        "40449392.724788234"
       ]
      }
     ],
     "prompt_number": 120
    },
    {
     "cell_type": "code",
     "collapsed": false,
     "input": [
      "sum_sq_naive = np.sum((target_test1 - target_test1.mean()) ** 2)\n",
      "sum_sq_naive"
     ],
     "language": "python",
     "metadata": {},
     "outputs": [
      {
       "metadata": {},
       "output_type": "pyout",
       "prompt_number": 121,
       "text": [
        "111302577.20636864"
       ]
      }
     ],
     "prompt_number": 121
    },
    {
     "cell_type": "code",
     "collapsed": false,
     "input": [
      "1 - sum_sq_model / sum_sq_naive"
     ],
     "language": "python",
     "metadata": {},
     "outputs": [
      {
       "metadata": {},
       "output_type": "pyout",
       "prompt_number": 122,
       "text": [
        "0.63658170601216091"
       ]
      }
     ],
     "prompt_number": 122
    },
    {
     "cell_type": "code",
     "collapsed": false,
     "input": [
      "lr.score(features_test1, target_test1)"
     ],
     "language": "python",
     "metadata": {},
     "outputs": [
      {
       "metadata": {},
       "output_type": "pyout",
       "prompt_number": 123,
       "text": [
        "0.63658170601216091"
       ]
      }
     ],
     "prompt_number": 123
    },
    {
     "cell_type": "code",
     "collapsed": false,
     "input": [
      "# Lets Just compare the Predicted to Actual and see the distribution\n",
      "\n",
      "fig, ax = plt.subplots(1, 1)\n",
      "\n",
      "ax.scatter(target_pred1, target_test1)\n",
      "ax.set_xlabel('Predicated')\n",
      "ax.set_ylabel('Actual')\n",
      "\n",
      "# Draw the ideal line\n",
      "ax.plot(target_test1, target_test1, 'r')"
     ],
     "language": "python",
     "metadata": {},
     "outputs": [
      {
       "metadata": {},
       "output_type": "pyout",
       "prompt_number": 124,
       "text": [
        "[<matplotlib.lines.Line2D at 0x10c8f7450>]"
       ]
      },
      {
       "metadata": {},
       "output_type": "display_data",
       "png": "[encoded data removed]",
       "text": [
        "<matplotlib.figure.Figure at 0x109d85c90>"
       ]
      }
     ],
     "prompt_number": 124
    },
    {
     "cell_type": "heading",
     "level": 2,
     "metadata": {},
     "source": [
      "polynomial regression"
     ]
    },
    {
     "cell_type": "code",
     "collapsed": false,
     "input": [
      "from sklearn.linear_model import Ridge\n",
      "from sklearn.preprocessing import PolynomialFeatures\n",
      "from sklearn.pipeline import make_pipeline"
     ],
     "language": "python",
     "metadata": {},
     "outputs": [],
     "prompt_number": 125
    },
    {
     "cell_type": "code",
     "collapsed": false,
     "input": [
      "%%time\n",
      "degree = 2\n",
      "est = make_pipeline(PolynomialFeatures(degree), LinearRegression())\n",
      "est.fit(features_train1, target_train1) # fit runs the linear regression "
     ],
     "language": "python",
     "metadata": {},
     "outputs": [
      {
       "output_type": "stream",
       "stream": "stdout",
       "text": [
        "CPU times: user 19.4 s, sys: 3.9 s, total: 23.3 s\n",
        "Wall time: 22.9 s\n"
       ]
      }
     ],
     "prompt_number": 171
    },
    {
     "cell_type": "code",
     "collapsed": false,
     "input": [
      "target_pred1 = est.predict(features_test1)"
     ],
     "language": "python",
     "metadata": {},
     "outputs": [],
     "prompt_number": 127
    },
    {
     "cell_type": "code",
     "collapsed": false,
     "input": [
      "# Lets Just compare the Predicted to Actual and see the distribution\n",
      "\n",
      "fig, ax = plt.subplots(1, 1)\n",
      "\n",
      "# ploting predictions vs test\n",
      "ax.scatter(target_pred1, target_test1)\n",
      "ax.set_xlabel('Predicated')\n",
      "ax.set_ylabel('Actual')\n",
      "\n",
      "# Draw the ideal line\n",
      "ax.plot(target_test1, target_test1, 'r')"
     ],
     "language": "python",
     "metadata": {},
     "outputs": [
      {
       "metadata": {},
       "output_type": "pyout",
       "prompt_number": 128,
       "text": [
        "[<matplotlib.lines.Line2D at 0x10dfa2a10>]"
       ]
      },
      {
       "metadata": {},
       "output_type": "display_data",
       "png": "[encoded data removed]",
       "text": [
        "<matplotlib.figure.Figure at 0x109ebb350>"
       ]
      }
     ],
     "prompt_number": 128
    },
    {
     "cell_type": "code",
     "collapsed": false,
     "input": [
      "est.score(features_test1, target_test1)"
     ],
     "language": "python",
     "metadata": {},
     "outputs": [
      {
       "metadata": {},
       "output_type": "pyout",
       "prompt_number": 129,
       "text": [
        "0.82361733498672485"
       ]
      }
     ],
     "prompt_number": 129
    },
    {
     "cell_type": "code",
     "collapsed": false,
     "input": [],
     "language": "python",
     "metadata": {},
     "outputs": [],
     "prompt_number": 129
    },
    {
     "cell_type": "code",
     "collapsed": false,
     "input": [],
     "language": "python",
     "metadata": {},
     "outputs": [],
     "prompt_number": 129
    },
    {
     "cell_type": "code",
     "collapsed": false,
     "input": [],
     "language": "python",
     "metadata": {},
     "outputs": [],
     "prompt_number": 129
    },
    {
     "cell_type": "code",
     "collapsed": false,
     "input": [],
     "language": "python",
     "metadata": {},
     "outputs": [],
     "prompt_number": 129
    },
    {
     "cell_type": "code",
     "collapsed": false,
     "input": [
      "features_train = df_dummy_train.drop(['casual', 'registered', 'rentals'], axis = 1).values"
     ],
     "language": "python",
     "metadata": {},
     "outputs": [],
     "prompt_number": 130
    },
    {
     "cell_type": "code",
     "collapsed": false,
     "input": [
      "features_test = df_dummy_test.drop(['casual', 'registered', 'rentals'], axis = 1).values"
     ],
     "language": "python",
     "metadata": {},
     "outputs": [],
     "prompt_number": 131
    },
    {
     "cell_type": "code",
     "collapsed": false,
     "input": [
      "target_train = df_dummy_train['rentals'].values"
     ],
     "language": "python",
     "metadata": {},
     "outputs": [],
     "prompt_number": 132
    },
    {
     "cell_type": "code",
     "collapsed": false,
     "input": [
      "target_test = df_dummy_test['rentals'].values"
     ],
     "language": "python",
     "metadata": {},
     "outputs": [],
     "prompt_number": 133
    },
    {
     "cell_type": "heading",
     "level": 2,
     "metadata": {},
     "source": [
      "poly regression on kaggle test data"
     ]
    },
    {
     "cell_type": "code",
     "collapsed": false,
     "input": [
      "est.fit(features_train, target_train)"
     ],
     "language": "python",
     "metadata": {},
     "outputs": [
      {
       "metadata": {},
       "output_type": "pyout",
       "prompt_number": 134,
       "text": [
        "Pipeline(steps=[('polynomialfeatures', PolynomialFeatures(degree=2, include_bias=True, interaction_only=False)), ('linearregression', LinearRegression(copy_X=True, fit_intercept=True, normalize=False))])"
       ]
      }
     ],
     "prompt_number": 134
    },
    {
     "cell_type": "code",
     "collapsed": false,
     "input": [
      "target_pred = est.predict(features_test)"
     ],
     "language": "python",
     "metadata": {},
     "outputs": [],
     "prompt_number": 135
    },
    {
     "cell_type": "heading",
     "level": 2,
     "metadata": {},
     "source": [
      "applying target preditions to submission dataframe "
     ]
    },
    {
     "cell_type": "code",
     "collapsed": false,
     "input": [
      "df_test_datetime = pd.DataFrame(df_test.datetime)"
     ],
     "language": "python",
     "metadata": {},
     "outputs": [],
     "prompt_number": 159
    },
    {
     "cell_type": "code",
     "collapsed": false,
     "input": [
      "df_test_datetime['count'] = target_pred"
     ],
     "language": "python",
     "metadata": {},
     "outputs": [],
     "prompt_number": 160
    },
    {
     "cell_type": "code",
     "collapsed": false,
     "input": [
      "df_test_datetime.describe()"
     ],
     "language": "python",
     "metadata": {},
     "outputs": [
      {
       "html": [
        "<div style=\"max-height:1000px;max-width:1500px;overflow:auto;\">\n",
        "<table border=\"1\" class=\"dataframe\">\n",
        "  <thead>\n",
        "    <tr style=\"text-align: right;\">\n",
        "      <th></th>\n",
        "      <th>count</th>\n",
        "    </tr>\n",
        "  </thead>\n",
        "  <tbody>\n",
        "    <tr>\n",
        "      <th>count</th>\n",
        "      <td> 6493.00</td>\n",
        "    </tr>\n",
        "    <tr>\n",
        "      <th>mean</th>\n",
        "      <td>  190.06</td>\n",
        "    </tr>\n",
        "    <tr>\n",
        "      <th>std</th>\n",
        "      <td>  170.15</td>\n",
        "    </tr>\n",
        "    <tr>\n",
        "      <th>min</th>\n",
        "      <td> -177.57</td>\n",
        "    </tr>\n",
        "    <tr>\n",
        "      <th>25%</th>\n",
        "      <td>   46.33</td>\n",
        "    </tr>\n",
        "    <tr>\n",
        "      <th>50%</th>\n",
        "      <td>  162.33</td>\n",
        "    </tr>\n",
        "    <tr>\n",
        "      <th>75%</th>\n",
        "      <td>  287.86</td>\n",
        "    </tr>\n",
        "    <tr>\n",
        "      <th>max</th>\n",
        "      <td>  765.40</td>\n",
        "    </tr>\n",
        "  </tbody>\n",
        "</table>\n",
        "</div>"
       ],
       "metadata": {},
       "output_type": "pyout",
       "prompt_number": 161,
       "text": [
        "         count\n",
        "count  6493.00\n",
        "mean    190.06\n",
        "std     170.15\n",
        "min    -177.57\n",
        "25%      46.33\n",
        "50%     162.33\n",
        "75%     287.86\n",
        "max     765.40"
       ]
      }
     ],
     "prompt_number": 161
    },
    {
     "cell_type": "code",
     "collapsed": false,
     "input": [
      "df_test_datetime.loc[df_test_datetime['count' ] < 0, 'count'] = 0 "
     ],
     "language": "python",
     "metadata": {},
     "outputs": [],
     "prompt_number": 162
    },
    {
     "cell_type": "code",
     "collapsed": false,
     "input": [
      "df_test_datetime.head()"
     ],
     "language": "python",
     "metadata": {},
     "outputs": [
      {
       "html": [
        "<div style=\"max-height:1000px;max-width:1500px;overflow:auto;\">\n",
        "<table border=\"1\" class=\"dataframe\">\n",
        "  <thead>\n",
        "    <tr style=\"text-align: right;\">\n",
        "      <th></th>\n",
        "      <th>datetime</th>\n",
        "      <th>count</th>\n",
        "    </tr>\n",
        "  </thead>\n",
        "  <tbody>\n",
        "    <tr>\n",
        "      <th>0</th>\n",
        "      <td> 2011-01-20 00:00:00</td>\n",
        "      <td> 20.01</td>\n",
        "    </tr>\n",
        "    <tr>\n",
        "      <th>1</th>\n",
        "      <td> 2011-01-20 01:00:00</td>\n",
        "      <td> 12.32</td>\n",
        "    </tr>\n",
        "    <tr>\n",
        "      <th>2</th>\n",
        "      <td> 2011-01-20 02:00:00</td>\n",
        "      <td> 10.01</td>\n",
        "    </tr>\n",
        "    <tr>\n",
        "      <th>3</th>\n",
        "      <td> 2011-01-20 03:00:00</td>\n",
        "      <td>  7.89</td>\n",
        "    </tr>\n",
        "    <tr>\n",
        "      <th>4</th>\n",
        "      <td> 2011-01-20 04:00:00</td>\n",
        "      <td>  4.09</td>\n",
        "    </tr>\n",
        "  </tbody>\n",
        "</table>\n",
        "</div>"
       ],
       "metadata": {},
       "output_type": "pyout",
       "prompt_number": 164,
       "text": [
        "              datetime  count\n",
        "0  2011-01-20 00:00:00  20.01\n",
        "1  2011-01-20 01:00:00  12.32\n",
        "2  2011-01-20 02:00:00  10.01\n",
        "3  2011-01-20 03:00:00   7.89\n",
        "4  2011-01-20 04:00:00   4.09"
       ]
      }
     ],
     "prompt_number": 164
    },
    {
     "cell_type": "code",
     "collapsed": false,
     "input": [
      "df_test_datetime = df_test_datetime.astype(object)\n",
      "df_test_datetime['count'] = df_test_datetime['count'].map(lambda x: round(x)).astype(int)"
     ],
     "language": "python",
     "metadata": {},
     "outputs": [],
     "prompt_number": 167
    },
    {
     "cell_type": "code",
     "collapsed": false,
     "input": [
      "df_test_datetime.head()"
     ],
     "language": "python",
     "metadata": {},
     "outputs": [
      {
       "html": [
        "<div style=\"max-height:1000px;max-width:1500px;overflow:auto;\">\n",
        "<table border=\"1\" class=\"dataframe\">\n",
        "  <thead>\n",
        "    <tr style=\"text-align: right;\">\n",
        "      <th></th>\n",
        "      <th>datetime</th>\n",
        "      <th>count</th>\n",
        "    </tr>\n",
        "  </thead>\n",
        "  <tbody>\n",
        "    <tr>\n",
        "      <th>0</th>\n",
        "      <td> 2011-01-20 00:00:00</td>\n",
        "      <td> 20</td>\n",
        "    </tr>\n",
        "    <tr>\n",
        "      <th>1</th>\n",
        "      <td> 2011-01-20 01:00:00</td>\n",
        "      <td> 12</td>\n",
        "    </tr>\n",
        "    <tr>\n",
        "      <th>2</th>\n",
        "      <td> 2011-01-20 02:00:00</td>\n",
        "      <td> 10</td>\n",
        "    </tr>\n",
        "    <tr>\n",
        "      <th>3</th>\n",
        "      <td> 2011-01-20 03:00:00</td>\n",
        "      <td>  8</td>\n",
        "    </tr>\n",
        "    <tr>\n",
        "      <th>4</th>\n",
        "      <td> 2011-01-20 04:00:00</td>\n",
        "      <td>  4</td>\n",
        "    </tr>\n",
        "  </tbody>\n",
        "</table>\n",
        "</div>"
       ],
       "metadata": {},
       "output_type": "pyout",
       "prompt_number": 168,
       "text": [
        "              datetime  count\n",
        "0  2011-01-20 00:00:00     20\n",
        "1  2011-01-20 01:00:00     12\n",
        "2  2011-01-20 02:00:00     10\n",
        "3  2011-01-20 03:00:00      8\n",
        "4  2011-01-20 04:00:00      4"
       ]
      }
     ],
     "prompt_number": 168
    },
    {
     "cell_type": "code",
     "collapsed": false,
     "input": [
      "df_test_datetime.to_csv('bike_predictions2.csv', index = False)"
     ],
     "language": "python",
     "metadata": {},
     "outputs": [],
     "prompt_number": 169
    },
    {
     "cell_type": "code",
     "collapsed": false,
     "input": [
      "sample = pd.read_csv('data/sample.csv')\n",
      "sample.head()"
     ],
     "language": "python",
     "metadata": {},
     "outputs": [
      {
       "html": [
        "<div style=\"max-height:1000px;max-width:1500px;overflow:auto;\">\n",
        "<table border=\"1\" class=\"dataframe\">\n",
        "  <thead>\n",
        "    <tr style=\"text-align: right;\">\n",
        "      <th></th>\n",
        "      <th>datetime</th>\n",
        "      <th>count</th>\n",
        "    </tr>\n",
        "  </thead>\n",
        "  <tbody>\n",
        "    <tr>\n",
        "      <th>0</th>\n",
        "      <td> 2011-01-20 00:00:00</td>\n",
        "      <td> 0</td>\n",
        "    </tr>\n",
        "    <tr>\n",
        "      <th>1</th>\n",
        "      <td> 2011-01-20 01:00:00</td>\n",
        "      <td> 0</td>\n",
        "    </tr>\n",
        "    <tr>\n",
        "      <th>2</th>\n",
        "      <td> 2011-01-20 02:00:00</td>\n",
        "      <td> 0</td>\n",
        "    </tr>\n",
        "    <tr>\n",
        "      <th>3</th>\n",
        "      <td> 2011-01-20 03:00:00</td>\n",
        "      <td> 0</td>\n",
        "    </tr>\n",
        "    <tr>\n",
        "      <th>4</th>\n",
        "      <td> 2011-01-20 04:00:00</td>\n",
        "      <td> 0</td>\n",
        "    </tr>\n",
        "  </tbody>\n",
        "</table>\n",
        "</div>"
       ],
       "metadata": {},
       "output_type": "pyout",
       "prompt_number": 166,
       "text": [
        "              datetime  count\n",
        "0  2011-01-20 00:00:00      0\n",
        "1  2011-01-20 01:00:00      0\n",
        "2  2011-01-20 02:00:00      0\n",
        "3  2011-01-20 03:00:00      0\n",
        "4  2011-01-20 04:00:00      0"
       ]
      }
     ],
     "prompt_number": 166
    },
    {
     "cell_type": "code",
     "collapsed": false,
     "input": [],
     "language": "python",
     "metadata": {},
     "outputs": [],
     "prompt_number": 73
    },
    {
     "cell_type": "code",
     "collapsed": false,
     "input": [],
     "language": "python",
     "metadata": {},
     "outputs": []
    },
    {
     "cell_type": "code",
     "collapsed": false,
     "input": [],
     "language": "python",
     "metadata": {},
     "outputs": []
    },
    {
     "cell_type": "code",
     "collapsed": false,
     "input": [],
     "language": "python",
     "metadata": {},
     "outputs": []
    },
    {
     "cell_type": "code",
     "collapsed": false,
     "input": [],
     "language": "python",
     "metadata": {},
     "outputs": []
    },
    {
     "cell_type": "code",
     "collapsed": false,
     "input": [],
     "language": "python",
     "metadata": {},
     "outputs": [],
     "prompt_number": 73
    },
    {
     "cell_type": "code",
     "collapsed": false,
     "input": [],
     "language": "python",
     "metadata": {},
     "outputs": []
    },
    {
     "cell_type": "code",
     "collapsed": false,
     "input": [],
     "language": "python",
     "metadata": {},
     "outputs": []
    },
    {
     "cell_type": "code",
     "collapsed": false,
     "input": [],
     "language": "python",
     "metadata": {},
     "outputs": [],
     "prompt_number": 54
    },
    {
     "cell_type": "code",
     "collapsed": false,
     "input": [
      "df.columns"
     ],
     "language": "python",
     "metadata": {},
     "outputs": [
      {
       "metadata": {},
       "output_type": "pyout",
       "prompt_number": 55,
       "text": [
        "Index([u'd_t', u'atemp', u'casual', u'rentals', u'holiday', u'humidity', u'registered', u'season', u'temp', u'weather', u'windspeed', u'workingday', u'time', u'date', u'day_name'], dtype='object')"
       ]
      }
     ],
     "prompt_number": 55
    },
    {
     "cell_type": "code",
     "collapsed": false,
     "input": [],
     "language": "python",
     "metadata": {},
     "outputs": [],
     "prompt_number": 55
    },
    {
     "cell_type": "code",
     "collapsed": false,
     "input": [
      "df.head()"
     ],
     "language": "python",
     "metadata": {},
     "outputs": [
      {
       "html": [
        "<div style=\"max-height:1000px;max-width:1500px;overflow:auto;\">\n",
        "<table border=\"1\" class=\"dataframe\">\n",
        "  <thead>\n",
        "    <tr style=\"text-align: right;\">\n",
        "      <th></th>\n",
        "      <th>d_t</th>\n",
        "      <th>atemp</th>\n",
        "      <th>casual</th>\n",
        "      <th>rentals</th>\n",
        "      <th>holiday</th>\n",
        "      <th>humidity</th>\n",
        "      <th>registered</th>\n",
        "      <th>season</th>\n",
        "      <th>temp</th>\n",
        "      <th>weather</th>\n",
        "      <th>windspeed</th>\n",
        "      <th>workingday</th>\n",
        "      <th>time</th>\n",
        "      <th>date</th>\n",
        "      <th>day_name</th>\n",
        "    </tr>\n",
        "  </thead>\n",
        "  <tbody>\n",
        "    <tr>\n",
        "      <th>0</th>\n",
        "      <td>2011-01-01 00:00:00</td>\n",
        "      <td> 14.39</td>\n",
        "      <td> 3</td>\n",
        "      <td> 16</td>\n",
        "      <td> 0</td>\n",
        "      <td> 81</td>\n",
        "      <td> 13</td>\n",
        "      <td> Spring</td>\n",
        "      <td> 9.84</td>\n",
        "      <td> Clear</td>\n",
        "      <td> 0</td>\n",
        "      <td> 0</td>\n",
        "      <td> 00:00:00</td>\n",
        "      <td> 2011-01-01</td>\n",
        "      <td> Sat</td>\n",
        "    </tr>\n",
        "    <tr>\n",
        "      <th>1</th>\n",
        "      <td>2011-01-01 01:00:00</td>\n",
        "      <td> 13.63</td>\n",
        "      <td> 8</td>\n",
        "      <td> 40</td>\n",
        "      <td> 0</td>\n",
        "      <td> 80</td>\n",
        "      <td> 32</td>\n",
        "      <td> Spring</td>\n",
        "      <td> 9.02</td>\n",
        "      <td> Clear</td>\n",
        "      <td> 0</td>\n",
        "      <td> 0</td>\n",
        "      <td> 01:00:00</td>\n",
        "      <td> 2011-01-01</td>\n",
        "      <td> Sat</td>\n",
        "    </tr>\n",
        "    <tr>\n",
        "      <th>2</th>\n",
        "      <td>2011-01-01 02:00:00</td>\n",
        "      <td> 13.63</td>\n",
        "      <td> 5</td>\n",
        "      <td> 32</td>\n",
        "      <td> 0</td>\n",
        "      <td> 80</td>\n",
        "      <td> 27</td>\n",
        "      <td> Spring</td>\n",
        "      <td> 9.02</td>\n",
        "      <td> Clear</td>\n",
        "      <td> 0</td>\n",
        "      <td> 0</td>\n",
        "      <td> 02:00:00</td>\n",
        "      <td> 2011-01-01</td>\n",
        "      <td> Sat</td>\n",
        "    </tr>\n",
        "    <tr>\n",
        "      <th>3</th>\n",
        "      <td>2011-01-01 03:00:00</td>\n",
        "      <td> 14.39</td>\n",
        "      <td> 3</td>\n",
        "      <td> 13</td>\n",
        "      <td> 0</td>\n",
        "      <td> 75</td>\n",
        "      <td> 10</td>\n",
        "      <td> Spring</td>\n",
        "      <td> 9.84</td>\n",
        "      <td> Clear</td>\n",
        "      <td> 0</td>\n",
        "      <td> 0</td>\n",
        "      <td> 03:00:00</td>\n",
        "      <td> 2011-01-01</td>\n",
        "      <td> Sat</td>\n",
        "    </tr>\n",
        "    <tr>\n",
        "      <th>4</th>\n",
        "      <td>2011-01-01 04:00:00</td>\n",
        "      <td> 14.39</td>\n",
        "      <td> 0</td>\n",
        "      <td>  1</td>\n",
        "      <td> 0</td>\n",
        "      <td> 75</td>\n",
        "      <td>  1</td>\n",
        "      <td> Spring</td>\n",
        "      <td> 9.84</td>\n",
        "      <td> Clear</td>\n",
        "      <td> 0</td>\n",
        "      <td> 0</td>\n",
        "      <td> 04:00:00</td>\n",
        "      <td> 2011-01-01</td>\n",
        "      <td> Sat</td>\n",
        "    </tr>\n",
        "  </tbody>\n",
        "</table>\n",
        "</div>"
       ],
       "metadata": {},
       "output_type": "pyout",
       "prompt_number": 56,
       "text": [
        "                  d_t  atemp  casual  rentals  holiday  humidity  registered  \\\n",
        "0 2011-01-01 00:00:00  14.39       3       16        0        81          13   \n",
        "1 2011-01-01 01:00:00  13.63       8       40        0        80          32   \n",
        "2 2011-01-01 02:00:00  13.63       5       32        0        80          27   \n",
        "3 2011-01-01 03:00:00  14.39       3       13        0        75          10   \n",
        "4 2011-01-01 04:00:00  14.39       0        1        0        75           1   \n",
        "\n",
        "   season  temp weather  windspeed  workingday      time        date day_name  \n",
        "0  Spring  9.84   Clear          0           0  00:00:00  2011-01-01      Sat  \n",
        "1  Spring  9.02   Clear          0           0  01:00:00  2011-01-01      Sat  \n",
        "2  Spring  9.02   Clear          0           0  02:00:00  2011-01-01      Sat  \n",
        "3  Spring  9.84   Clear          0           0  03:00:00  2011-01-01      Sat  \n",
        "4  Spring  9.84   Clear          0           0  04:00:00  2011-01-01      Sat  "
       ]
      }
     ],
     "prompt_number": 56
    },
    {
     "cell_type": "code",
     "collapsed": false,
     "input": [
      "print \"I think this one seems to fit pretty well. Let's add an exponential weighted moving average, just for fun.\"\n",
      "print \"\"\"\n",
      "1. Raw Data\n",
      "2. Polyfit\n",
      "3. 30 day exponential weighted moving average\n",
      "4. 14 day exponential weighted moving average\n",
      "\"\"\"\n",
      "\n",
      "for i in range(1,4):\n",
      "    z = np.polyfit(df.index, df.rentals, i)\n",
      "    p = np.poly1d(z)\n",
      "    \n",
      "    #print \"Polynomial (\" + str(i) + \")\", '\\n', p, '\\n'\n",
      "    xp = np.linspace(1500, max(df.index), max(df.rentals))\n",
      "    plt.plot(df.index, df.rentals, '.', xp, p(xp), '-')\n",
      "\n",
      "f, ((ax1, ax2), (ax3, ax4)) = plt.subplots(2, 2, sharex='col', sharey='row')\n",
      "from pandas.stats.moments import ewma\n",
      "\n",
      "z = np.polyfit(df.index, df.rentals, 2)\n",
      "p = np.poly1d(z)\n",
      "\n",
      "print \"Polynomial (\" + str(i) + \")\", '\\n', p, '\\n'\n",
      "xp = np.linspace(1, max(df.index), max(df.rentals))\n",
      "\n",
      "# Green is our polyfit\n",
      "ax1.plot(df.index, df.rentals, '.')\n",
      "ax2.plot(xp, p(xp), 'g-')\n",
      "\n",
      "# Here is the exponential moving average, in red, for 1 months span\n",
      "moving_ema_30 = ewma(df.rentals, span=30)\n",
      "ax3.plot(moving_ema_30)\n",
      "\n",
      "moving_ema_2w = ewma(df.rentals, span=14)\n",
      "ax4.plot(moving_ema_2w, 'r-')"
     ],
     "language": "python",
     "metadata": {},
     "outputs": [
      {
       "output_type": "stream",
       "stream": "stdout",
       "text": [
        "I think this one seems to fit pretty well. Let's add an exponential weighted moving average, just for fun.\n",
        "\n",
        "1. Raw Data\n",
        "2. Polyfit\n",
        "3. 30 day exponential weighted moving average\n",
        "4. 14 day exponential weighted moving average\n",
        "\n",
        "Polynomial (3)"
       ]
      },
      {
       "output_type": "stream",
       "stream": "stdout",
       "text": [
        " \n",
        "     2\n",
        "nan x + nan x + nan \n",
        "\n"
       ]
      },
      {
       "metadata": {},
       "output_type": "pyout",
       "prompt_number": 57,
       "text": [
        "[<matplotlib.lines.Line2D at 0x10eb95950>]"
       ]
      },
      {
       "metadata": {},
       "output_type": "display_data",
       "png": "[encoded data removed]",
       "text": [
        "<matplotlib.figure.Figure at 0x10a802d50>"
       ]
      },
      {
       "metadata": {},
       "output_type": "display_data",
       "png": "[encoded data removed]",
       "text": [
        "<matplotlib.figure.Figure at 0x10a802c90>"
       ]
      }
     ],
     "prompt_number": 57
    },
    {
     "cell_type": "code",
     "collapsed": false,
     "input": [],
     "language": "python",
     "metadata": {},
     "outputs": [],
     "prompt_number": 57
    },
    {
     "cell_type": "code",
     "collapsed": false,
     "input": [],
     "language": "python",
     "metadata": {},
     "outputs": [],
     "prompt_number": 57
    },
    {
     "cell_type": "code",
     "collapsed": false,
     "input": [],
     "language": "python",
     "metadata": {},
     "outputs": [],
     "prompt_number": 57
    },
    {
     "cell_type": "code",
     "collapsed": false,
     "input": [],
     "language": "python",
     "metadata": {},
     "outputs": []
    }
   ],
   "metadata": {}
  }
 ]
}