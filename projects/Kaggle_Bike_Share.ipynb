{
 "metadata": {
  "name": "",
  "signature": "sha256:f57cdfb8e7ab12ce0c15b515998e5012c85f33a64ead6eb22a34f8ac3aa79a31"
 },
 "nbformat": 3,
 "nbformat_minor": 0,
 "worksheets": [
  {
   "cells": [
    {
     "cell_type": "code",
     "collapsed": false,
     "input": [
      "from __future__ import division\n",
      "import pandas as pd\n",
      "import numpy as np\n",
      "import seaborn as sns\n",
      "import matplotlib.pyplot as plt\n",
      "from pprint import pprint\n",
      "from pandas.tools.plotting import scatter_matrix\n",
      "% matplotlib inline\n",
      "\n"
     ],
     "language": "python",
     "metadata": {},
     "outputs": [],
     "prompt_number": 83
    },
    {
     "cell_type": "code",
     "collapsed": false,
     "input": [
      "pd.set_option('display.precision', 3)\n",
      "pd.set_option('display.max_columns', None)"
     ],
     "language": "python",
     "metadata": {},
     "outputs": [],
     "prompt_number": 84
    },
    {
     "cell_type": "code",
     "collapsed": false,
     "input": [
      "df_train = pd.read_csv('kaggle_bike_train.csv', parse_dates = True)\n",
      "df_test = pd.read_csv('test.csv', parse_dates = True)"
     ],
     "language": "python",
     "metadata": {},
     "outputs": [],
     "prompt_number": 85
    },
    {
     "cell_type": "code",
     "collapsed": false,
     "input": [
      "#combining train and test for formating\n",
      "df = df_train.append(df_test)"
     ],
     "language": "python",
     "metadata": {},
     "outputs": [],
     "prompt_number": 86
    },
    {
     "cell_type": "code",
     "collapsed": false,
     "input": [
      "df.head()"
     ],
     "language": "python",
     "metadata": {},
     "outputs": [
      {
       "html": [
        "<div style=\"max-height:1000px;max-width:1500px;overflow:auto;\">\n",
        "<table border=\"1\" class=\"dataframe\">\n",
        "  <thead>\n",
        "    <tr style=\"text-align: right;\">\n",
        "      <th></th>\n",
        "      <th>atemp</th>\n",
        "      <th>casual</th>\n",
        "      <th>rentals</th>\n",
        "      <th>d_t</th>\n",
        "      <th>holiday</th>\n",
        "      <th>humidity</th>\n",
        "      <th>registered</th>\n",
        "      <th>season</th>\n",
        "      <th>temp</th>\n",
        "      <th>weather</th>\n",
        "      <th>windspeed</th>\n",
        "      <th>workingday</th>\n",
        "      <th>time</th>\n",
        "      <th>date</th>\n",
        "      <th>day</th>\n",
        "      <th>day_name</th>\n",
        "    </tr>\n",
        "    <tr>\n",
        "      <th>d_t</th>\n",
        "      <th></th>\n",
        "      <th></th>\n",
        "      <th></th>\n",
        "      <th></th>\n",
        "      <th></th>\n",
        "      <th></th>\n",
        "      <th></th>\n",
        "      <th></th>\n",
        "      <th></th>\n",
        "      <th></th>\n",
        "      <th></th>\n",
        "      <th></th>\n",
        "      <th></th>\n",
        "      <th></th>\n",
        "      <th></th>\n",
        "      <th></th>\n",
        "    </tr>\n",
        "  </thead>\n",
        "  <tbody>\n",
        "    <tr>\n",
        "      <th>2011-01-01 00:00:00</th>\n",
        "      <td> 14.39</td>\n",
        "      <td> 3</td>\n",
        "      <td> 16</td>\n",
        "      <td>2011-01-01 00:00:00</td>\n",
        "      <td> 0</td>\n",
        "      <td> 81</td>\n",
        "      <td> 13</td>\n",
        "      <td> Spring</td>\n",
        "      <td> 9.84</td>\n",
        "      <td> 1</td>\n",
        "      <td> 0</td>\n",
        "      <td> 0</td>\n",
        "      <td> 00:00:00</td>\n",
        "      <td> 2011-01-01</td>\n",
        "      <td> 5</td>\n",
        "      <td> Sat</td>\n",
        "    </tr>\n",
        "    <tr>\n",
        "      <th>2011-01-01 01:00:00</th>\n",
        "      <td> 13.63</td>\n",
        "      <td> 8</td>\n",
        "      <td> 40</td>\n",
        "      <td>2011-01-01 01:00:00</td>\n",
        "      <td> 0</td>\n",
        "      <td> 80</td>\n",
        "      <td> 32</td>\n",
        "      <td> Spring</td>\n",
        "      <td> 9.02</td>\n",
        "      <td> 1</td>\n",
        "      <td> 0</td>\n",
        "      <td> 0</td>\n",
        "      <td> 01:00:00</td>\n",
        "      <td> 2011-01-01</td>\n",
        "      <td> 5</td>\n",
        "      <td> Sat</td>\n",
        "    </tr>\n",
        "    <tr>\n",
        "      <th>2011-01-01 02:00:00</th>\n",
        "      <td> 13.63</td>\n",
        "      <td> 5</td>\n",
        "      <td> 32</td>\n",
        "      <td>2011-01-01 02:00:00</td>\n",
        "      <td> 0</td>\n",
        "      <td> 80</td>\n",
        "      <td> 27</td>\n",
        "      <td> Spring</td>\n",
        "      <td> 9.02</td>\n",
        "      <td> 1</td>\n",
        "      <td> 0</td>\n",
        "      <td> 0</td>\n",
        "      <td> 02:00:00</td>\n",
        "      <td> 2011-01-01</td>\n",
        "      <td> 5</td>\n",
        "      <td> Sat</td>\n",
        "    </tr>\n",
        "    <tr>\n",
        "      <th>2011-01-01 03:00:00</th>\n",
        "      <td> 14.39</td>\n",
        "      <td> 3</td>\n",
        "      <td> 13</td>\n",
        "      <td>2011-01-01 03:00:00</td>\n",
        "      <td> 0</td>\n",
        "      <td> 75</td>\n",
        "      <td> 10</td>\n",
        "      <td> Spring</td>\n",
        "      <td> 9.84</td>\n",
        "      <td> 1</td>\n",
        "      <td> 0</td>\n",
        "      <td> 0</td>\n",
        "      <td> 03:00:00</td>\n",
        "      <td> 2011-01-01</td>\n",
        "      <td> 5</td>\n",
        "      <td> Sat</td>\n",
        "    </tr>\n",
        "    <tr>\n",
        "      <th>2011-01-01 04:00:00</th>\n",
        "      <td> 14.39</td>\n",
        "      <td> 0</td>\n",
        "      <td>  1</td>\n",
        "      <td>2011-01-01 04:00:00</td>\n",
        "      <td> 0</td>\n",
        "      <td> 75</td>\n",
        "      <td>  1</td>\n",
        "      <td> Spring</td>\n",
        "      <td> 9.84</td>\n",
        "      <td> 1</td>\n",
        "      <td> 0</td>\n",
        "      <td> 0</td>\n",
        "      <td> 04:00:00</td>\n",
        "      <td> 2011-01-01</td>\n",
        "      <td> 5</td>\n",
        "      <td> Sat</td>\n",
        "    </tr>\n",
        "  </tbody>\n",
        "</table>\n",
        "</div>"
       ],
       "metadata": {},
       "output_type": "pyout",
       "prompt_number": 111,
       "text": [
        "                     atemp  casual  rentals                 d_t  holiday  \\\n",
        "d_t                                                                        \n",
        "2011-01-01 00:00:00  14.39       3       16 2011-01-01 00:00:00        0   \n",
        "2011-01-01 01:00:00  13.63       8       40 2011-01-01 01:00:00        0   \n",
        "2011-01-01 02:00:00  13.63       5       32 2011-01-01 02:00:00        0   \n",
        "2011-01-01 03:00:00  14.39       3       13 2011-01-01 03:00:00        0   \n",
        "2011-01-01 04:00:00  14.39       0        1 2011-01-01 04:00:00        0   \n",
        "\n",
        "                     humidity  registered  season  temp  weather  windspeed  \\\n",
        "d_t                                                                           \n",
        "2011-01-01 00:00:00        81          13  Spring  9.84        1          0   \n",
        "2011-01-01 01:00:00        80          32  Spring  9.02        1          0   \n",
        "2011-01-01 02:00:00        80          27  Spring  9.02        1          0   \n",
        "2011-01-01 03:00:00        75          10  Spring  9.84        1          0   \n",
        "2011-01-01 04:00:00        75           1  Spring  9.84        1          0   \n",
        "\n",
        "                     workingday      time        date  day day_name  \n",
        "d_t                                                                  \n",
        "2011-01-01 00:00:00           0  00:00:00  2011-01-01    5      Sat  \n",
        "2011-01-01 01:00:00           0  01:00:00  2011-01-01    5      Sat  \n",
        "2011-01-01 02:00:00           0  02:00:00  2011-01-01    5      Sat  \n",
        "2011-01-01 03:00:00           0  03:00:00  2011-01-01    5      Sat  \n",
        "2011-01-01 04:00:00           0  04:00:00  2011-01-01    5      Sat  "
       ]
      }
     ],
     "prompt_number": 111
    },
    {
     "cell_type": "code",
     "collapsed": false,
     "input": [
      "df.rename(columns = {'datetime' : 'd_t', 'count' : 'rentals'}, inplace = True)"
     ],
     "language": "python",
     "metadata": {},
     "outputs": [],
     "prompt_number": 87
    },
    {
     "cell_type": "code",
     "collapsed": false,
     "input": [
      "# date object to datetime\n",
      "df.d_t = pd.to_datetime(df.d_t)"
     ],
     "language": "python",
     "metadata": {},
     "outputs": [],
     "prompt_number": 88
    },
    {
     "cell_type": "code",
     "collapsed": false,
     "input": [
      "# creating time, date, and dayofweek columns\n",
      "df['time'] = df.d_t.map(lambda x: x.time())\n",
      "df['date'] = df.d_t.map(lambda x: x.date())\n",
      "df['day'] = df.d_t.map(lambda x: x.dayofweek) "
     ],
     "language": "python",
     "metadata": {},
     "outputs": [],
     "prompt_number": 89
    },
    {
     "cell_type": "code",
     "collapsed": false,
     "input": [
      "# creating the index with the datetime stamp\n",
      "df.set_index(df.d_t, inplace = True)"
     ],
     "language": "python",
     "metadata": {},
     "outputs": [],
     "prompt_number": 90
    },
    {
     "cell_type": "code",
     "collapsed": false,
     "input": [
      "def dayname(x):\n",
      "    day = {}\n",
      "    day[0] = 'Mon'\n",
      "    day[1] = 'Tues'\n",
      "    day[2] = 'Wed'\n",
      "    day[3] = 'Thur'\n",
      "    day[4] = 'Fri'\n",
      "    day[5] = 'Sat'\n",
      "    day[6] = 'Sun'\n",
      "    return day[x]\n",
      "df['day_name'] = df['day'].map(dayname)"
     ],
     "language": "python",
     "metadata": {},
     "outputs": [],
     "prompt_number": 91
    },
    {
     "cell_type": "code",
     "collapsed": false,
     "input": [
      "#s eason -  1 = spring, 2 = summer, 3 = fall, 4 = winter \n",
      "def season(x):\n",
      "    season = {}\n",
      "    season[1] = 'Spring'\n",
      "    season[2] = 'Summer'\n",
      "    season[3] = 'Fall'\n",
      "    season[4] = 'Winter'\n",
      "    return season[x]\n",
      "df['season'] = df['season'].map(season)"
     ],
     "language": "python",
     "metadata": {},
     "outputs": [],
     "prompt_number": 92
    },
    {
     "cell_type": "code",
     "collapsed": false,
     "input": [
      "def weather(x):\n",
      "    weather = {}\n",
      "    weather[1] = 'Clear'\n",
      "    weather[2] = 'Mist'\n",
      "    weather[3] = 'Light'\n",
      "    weather[4] = 'Heavy'\n",
      "    return weather[x]\n",
      "#df['weather'] = df['weather'].map(weather)"
     ],
     "language": "python",
     "metadata": {},
     "outputs": [],
     "prompt_number": 93
    },
    {
     "cell_type": "code",
     "collapsed": false,
     "input": [
      "[df.groupby(['time'])['rentals'].mean() <= 50]"
     ],
     "language": "python",
     "metadata": {},
     "outputs": [
      {
       "metadata": {},
       "output_type": "pyout",
       "prompt_number": 102,
       "text": [
        "[time\n",
        " 00:00:00    False\n",
        " 01:00:00     True\n",
        " 02:00:00     True\n",
        " 03:00:00     True\n",
        " 04:00:00     True\n",
        " 05:00:00     True\n",
        " 06:00:00    False\n",
        " 07:00:00    False\n",
        " 08:00:00    False\n",
        " 09:00:00    False\n",
        " 10:00:00    False\n",
        " 11:00:00    False\n",
        " 12:00:00    False\n",
        " 13:00:00    False\n",
        " 14:00:00    False\n",
        " 15:00:00    False\n",
        " 16:00:00    False\n",
        " 17:00:00    False\n",
        " 18:00:00    False\n",
        " 19:00:00    False\n",
        " 20:00:00    False\n",
        " 21:00:00    False\n",
        " 22:00:00    False\n",
        " 23:00:00    False\n",
        " Name: rentals, dtype: bool]"
       ]
      }
     ],
     "prompt_number": 102
    },
    {
     "cell_type": "code",
     "collapsed": false,
     "input": [],
     "language": "python",
     "metadata": {},
     "outputs": []
    },
    {
     "cell_type": "code",
     "collapsed": false,
     "input": [
      "df.groupby(['season', 'time'])['rentals'].sum().plot(kind = 'bar')"
     ],
     "language": "python",
     "metadata": {},
     "outputs": [
      {
       "metadata": {},
       "output_type": "pyout",
       "prompt_number": 94,
       "text": [
        "<matplotlib.axes._subplots.AxesSubplot at 0x1140d72d0>"
       ]
      },
      {
       "metadata": {},
       "output_type": "display_data",
       "png": "[encoded data removed]",
       "text": [
        "<matplotlib.figure.Figure at 0x1140c6d10>"
       ]
      }
     ],
     "prompt_number": 94
    },
    {
     "cell_type": "code",
     "collapsed": false,
     "input": [
      "# dropping unnecessary columns\n",
      "df = df.drop(['day','d_t', 'season'], axis = 1)"
     ],
     "language": "python",
     "metadata": {},
     "outputs": [],
     "prompt_number": 13
    },
    {
     "cell_type": "code",
     "collapsed": false,
     "input": [
      "# index needs to be reset\n",
      "df.reset_index(inplace = True)"
     ],
     "language": "python",
     "metadata": {},
     "outputs": [],
     "prompt_number": 14
    },
    {
     "cell_type": "code",
     "collapsed": false,
     "input": [
      "# scatter_matrix(df, figsize = (15, 15));"
     ],
     "language": "python",
     "metadata": {},
     "outputs": [],
     "prompt_number": 15
    },
    {
     "cell_type": "code",
     "collapsed": false,
     "input": [
      "df.drop(['date'], axis = 1, inplace = True)"
     ],
     "language": "python",
     "metadata": {},
     "outputs": [],
     "prompt_number": 16
    },
    {
     "cell_type": "code",
     "collapsed": false,
     "input": [
      "dummy_df = pd.get_dummies(df)\n",
      "dummy_df.head()"
     ],
     "language": "python",
     "metadata": {},
     "outputs": [
      {
       "html": [
        "<div style=\"max-height:1000px;max-width:1500px;overflow:auto;\">\n",
        "<table border=\"1\" class=\"dataframe\">\n",
        "  <thead>\n",
        "    <tr style=\"text-align: right;\">\n",
        "      <th></th>\n",
        "      <th>d_t</th>\n",
        "      <th>atemp</th>\n",
        "      <th>casual</th>\n",
        "      <th>rentals</th>\n",
        "      <th>holiday</th>\n",
        "      <th>humidity</th>\n",
        "      <th>registered</th>\n",
        "      <th>temp</th>\n",
        "      <th>weather</th>\n",
        "      <th>windspeed</th>\n",
        "      <th>workingday</th>\n",
        "      <th>time_00:00:00</th>\n",
        "      <th>time_01:00:00</th>\n",
        "      <th>time_02:00:00</th>\n",
        "      <th>time_03:00:00</th>\n",
        "      <th>time_04:00:00</th>\n",
        "      <th>time_05:00:00</th>\n",
        "      <th>time_06:00:00</th>\n",
        "      <th>time_07:00:00</th>\n",
        "      <th>time_08:00:00</th>\n",
        "      <th>time_09:00:00</th>\n",
        "      <th>time_10:00:00</th>\n",
        "      <th>time_11:00:00</th>\n",
        "      <th>time_12:00:00</th>\n",
        "      <th>time_13:00:00</th>\n",
        "      <th>time_14:00:00</th>\n",
        "      <th>time_15:00:00</th>\n",
        "      <th>time_16:00:00</th>\n",
        "      <th>time_17:00:00</th>\n",
        "      <th>time_18:00:00</th>\n",
        "      <th>time_19:00:00</th>\n",
        "      <th>time_20:00:00</th>\n",
        "      <th>time_21:00:00</th>\n",
        "      <th>time_22:00:00</th>\n",
        "      <th>time_23:00:00</th>\n",
        "      <th>day_name_Fri</th>\n",
        "      <th>day_name_Mon</th>\n",
        "      <th>day_name_Sat</th>\n",
        "      <th>day_name_Sun</th>\n",
        "      <th>day_name_Thur</th>\n",
        "      <th>day_name_Tues</th>\n",
        "      <th>day_name_Wed</th>\n",
        "    </tr>\n",
        "  </thead>\n",
        "  <tbody>\n",
        "    <tr>\n",
        "      <th>0</th>\n",
        "      <td>2011-01-01 00:00:00</td>\n",
        "      <td> 14.39</td>\n",
        "      <td> 3</td>\n",
        "      <td> 16</td>\n",
        "      <td> 0</td>\n",
        "      <td> 81</td>\n",
        "      <td> 13</td>\n",
        "      <td> 9.84</td>\n",
        "      <td> 1</td>\n",
        "      <td> 0</td>\n",
        "      <td> 0</td>\n",
        "      <td> 1</td>\n",
        "      <td> 0</td>\n",
        "      <td> 0</td>\n",
        "      <td> 0</td>\n",
        "      <td> 0</td>\n",
        "      <td> 0</td>\n",
        "      <td> 0</td>\n",
        "      <td> 0</td>\n",
        "      <td> 0</td>\n",
        "      <td> 0</td>\n",
        "      <td> 0</td>\n",
        "      <td> 0</td>\n",
        "      <td> 0</td>\n",
        "      <td> 0</td>\n",
        "      <td> 0</td>\n",
        "      <td> 0</td>\n",
        "      <td> 0</td>\n",
        "      <td> 0</td>\n",
        "      <td> 0</td>\n",
        "      <td> 0</td>\n",
        "      <td> 0</td>\n",
        "      <td> 0</td>\n",
        "      <td> 0</td>\n",
        "      <td> 0</td>\n",
        "      <td> 0</td>\n",
        "      <td> 0</td>\n",
        "      <td> 1</td>\n",
        "      <td> 0</td>\n",
        "      <td> 0</td>\n",
        "      <td> 0</td>\n",
        "      <td> 0</td>\n",
        "    </tr>\n",
        "    <tr>\n",
        "      <th>1</th>\n",
        "      <td>2011-01-01 01:00:00</td>\n",
        "      <td> 13.63</td>\n",
        "      <td> 8</td>\n",
        "      <td> 40</td>\n",
        "      <td> 0</td>\n",
        "      <td> 80</td>\n",
        "      <td> 32</td>\n",
        "      <td> 9.02</td>\n",
        "      <td> 1</td>\n",
        "      <td> 0</td>\n",
        "      <td> 0</td>\n",
        "      <td> 0</td>\n",
        "      <td> 1</td>\n",
        "      <td> 0</td>\n",
        "      <td> 0</td>\n",
        "      <td> 0</td>\n",
        "      <td> 0</td>\n",
        "      <td> 0</td>\n",
        "      <td> 0</td>\n",
        "      <td> 0</td>\n",
        "      <td> 0</td>\n",
        "      <td> 0</td>\n",
        "      <td> 0</td>\n",
        "      <td> 0</td>\n",
        "      <td> 0</td>\n",
        "      <td> 0</td>\n",
        "      <td> 0</td>\n",
        "      <td> 0</td>\n",
        "      <td> 0</td>\n",
        "      <td> 0</td>\n",
        "      <td> 0</td>\n",
        "      <td> 0</td>\n",
        "      <td> 0</td>\n",
        "      <td> 0</td>\n",
        "      <td> 0</td>\n",
        "      <td> 0</td>\n",
        "      <td> 0</td>\n",
        "      <td> 1</td>\n",
        "      <td> 0</td>\n",
        "      <td> 0</td>\n",
        "      <td> 0</td>\n",
        "      <td> 0</td>\n",
        "    </tr>\n",
        "    <tr>\n",
        "      <th>2</th>\n",
        "      <td>2011-01-01 02:00:00</td>\n",
        "      <td> 13.63</td>\n",
        "      <td> 5</td>\n",
        "      <td> 32</td>\n",
        "      <td> 0</td>\n",
        "      <td> 80</td>\n",
        "      <td> 27</td>\n",
        "      <td> 9.02</td>\n",
        "      <td> 1</td>\n",
        "      <td> 0</td>\n",
        "      <td> 0</td>\n",
        "      <td> 0</td>\n",
        "      <td> 0</td>\n",
        "      <td> 1</td>\n",
        "      <td> 0</td>\n",
        "      <td> 0</td>\n",
        "      <td> 0</td>\n",
        "      <td> 0</td>\n",
        "      <td> 0</td>\n",
        "      <td> 0</td>\n",
        "      <td> 0</td>\n",
        "      <td> 0</td>\n",
        "      <td> 0</td>\n",
        "      <td> 0</td>\n",
        "      <td> 0</td>\n",
        "      <td> 0</td>\n",
        "      <td> 0</td>\n",
        "      <td> 0</td>\n",
        "      <td> 0</td>\n",
        "      <td> 0</td>\n",
        "      <td> 0</td>\n",
        "      <td> 0</td>\n",
        "      <td> 0</td>\n",
        "      <td> 0</td>\n",
        "      <td> 0</td>\n",
        "      <td> 0</td>\n",
        "      <td> 0</td>\n",
        "      <td> 1</td>\n",
        "      <td> 0</td>\n",
        "      <td> 0</td>\n",
        "      <td> 0</td>\n",
        "      <td> 0</td>\n",
        "    </tr>\n",
        "    <tr>\n",
        "      <th>3</th>\n",
        "      <td>2011-01-01 03:00:00</td>\n",
        "      <td> 14.39</td>\n",
        "      <td> 3</td>\n",
        "      <td> 13</td>\n",
        "      <td> 0</td>\n",
        "      <td> 75</td>\n",
        "      <td> 10</td>\n",
        "      <td> 9.84</td>\n",
        "      <td> 1</td>\n",
        "      <td> 0</td>\n",
        "      <td> 0</td>\n",
        "      <td> 0</td>\n",
        "      <td> 0</td>\n",
        "      <td> 0</td>\n",
        "      <td> 1</td>\n",
        "      <td> 0</td>\n",
        "      <td> 0</td>\n",
        "      <td> 0</td>\n",
        "      <td> 0</td>\n",
        "      <td> 0</td>\n",
        "      <td> 0</td>\n",
        "      <td> 0</td>\n",
        "      <td> 0</td>\n",
        "      <td> 0</td>\n",
        "      <td> 0</td>\n",
        "      <td> 0</td>\n",
        "      <td> 0</td>\n",
        "      <td> 0</td>\n",
        "      <td> 0</td>\n",
        "      <td> 0</td>\n",
        "      <td> 0</td>\n",
        "      <td> 0</td>\n",
        "      <td> 0</td>\n",
        "      <td> 0</td>\n",
        "      <td> 0</td>\n",
        "      <td> 0</td>\n",
        "      <td> 0</td>\n",
        "      <td> 1</td>\n",
        "      <td> 0</td>\n",
        "      <td> 0</td>\n",
        "      <td> 0</td>\n",
        "      <td> 0</td>\n",
        "    </tr>\n",
        "    <tr>\n",
        "      <th>4</th>\n",
        "      <td>2011-01-01 04:00:00</td>\n",
        "      <td> 14.39</td>\n",
        "      <td> 0</td>\n",
        "      <td>  1</td>\n",
        "      <td> 0</td>\n",
        "      <td> 75</td>\n",
        "      <td>  1</td>\n",
        "      <td> 9.84</td>\n",
        "      <td> 1</td>\n",
        "      <td> 0</td>\n",
        "      <td> 0</td>\n",
        "      <td> 0</td>\n",
        "      <td> 0</td>\n",
        "      <td> 0</td>\n",
        "      <td> 0</td>\n",
        "      <td> 1</td>\n",
        "      <td> 0</td>\n",
        "      <td> 0</td>\n",
        "      <td> 0</td>\n",
        "      <td> 0</td>\n",
        "      <td> 0</td>\n",
        "      <td> 0</td>\n",
        "      <td> 0</td>\n",
        "      <td> 0</td>\n",
        "      <td> 0</td>\n",
        "      <td> 0</td>\n",
        "      <td> 0</td>\n",
        "      <td> 0</td>\n",
        "      <td> 0</td>\n",
        "      <td> 0</td>\n",
        "      <td> 0</td>\n",
        "      <td> 0</td>\n",
        "      <td> 0</td>\n",
        "      <td> 0</td>\n",
        "      <td> 0</td>\n",
        "      <td> 0</td>\n",
        "      <td> 0</td>\n",
        "      <td> 1</td>\n",
        "      <td> 0</td>\n",
        "      <td> 0</td>\n",
        "      <td> 0</td>\n",
        "      <td> 0</td>\n",
        "    </tr>\n",
        "  </tbody>\n",
        "</table>\n",
        "</div>"
       ],
       "metadata": {},
       "output_type": "pyout",
       "prompt_number": 19,
       "text": [
        "                  d_t  atemp  casual  rentals  holiday  humidity  registered  \\\n",
        "0 2011-01-01 00:00:00  14.39       3       16        0        81          13   \n",
        "1 2011-01-01 01:00:00  13.63       8       40        0        80          32   \n",
        "2 2011-01-01 02:00:00  13.63       5       32        0        80          27   \n",
        "3 2011-01-01 03:00:00  14.39       3       13        0        75          10   \n",
        "4 2011-01-01 04:00:00  14.39       0        1        0        75           1   \n",
        "\n",
        "   temp  weather  windspeed  workingday  time_00:00:00  time_01:00:00  \\\n",
        "0  9.84        1          0           0              1              0   \n",
        "1  9.02        1          0           0              0              1   \n",
        "2  9.02        1          0           0              0              0   \n",
        "3  9.84        1          0           0              0              0   \n",
        "4  9.84        1          0           0              0              0   \n",
        "\n",
        "   time_02:00:00  time_03:00:00  time_04:00:00  time_05:00:00  time_06:00:00  \\\n",
        "0              0              0              0              0              0   \n",
        "1              0              0              0              0              0   \n",
        "2              1              0              0              0              0   \n",
        "3              0              1              0              0              0   \n",
        "4              0              0              1              0              0   \n",
        "\n",
        "   time_07:00:00  time_08:00:00  time_09:00:00  time_10:00:00  time_11:00:00  \\\n",
        "0              0              0              0              0              0   \n",
        "1              0              0              0              0              0   \n",
        "2              0              0              0              0              0   \n",
        "3              0              0              0              0              0   \n",
        "4              0              0              0              0              0   \n",
        "\n",
        "   time_12:00:00  time_13:00:00  time_14:00:00  time_15:00:00  time_16:00:00  \\\n",
        "0              0              0              0              0              0   \n",
        "1              0              0              0              0              0   \n",
        "2              0              0              0              0              0   \n",
        "3              0              0              0              0              0   \n",
        "4              0              0              0              0              0   \n",
        "\n",
        "   time_17:00:00  time_18:00:00  time_19:00:00  time_20:00:00  time_21:00:00  \\\n",
        "0              0              0              0              0              0   \n",
        "1              0              0              0              0              0   \n",
        "2              0              0              0              0              0   \n",
        "3              0              0              0              0              0   \n",
        "4              0              0              0              0              0   \n",
        "\n",
        "   time_22:00:00  time_23:00:00  day_name_Fri  day_name_Mon  day_name_Sat  \\\n",
        "0              0              0             0             0             1   \n",
        "1              0              0             0             0             1   \n",
        "2              0              0             0             0             1   \n",
        "3              0              0             0             0             1   \n",
        "4              0              0             0             0             1   \n",
        "\n",
        "   day_name_Sun  day_name_Thur  day_name_Tues  day_name_Wed  \n",
        "0             0              0              0             0  \n",
        "1             0              0              0             0  \n",
        "2             0              0              0             0  \n",
        "3             0              0              0             0  \n",
        "4             0              0              0             0  "
       ]
      }
     ],
     "prompt_number": 19
    },
    {
     "cell_type": "code",
     "collapsed": false,
     "input": [
      "from sklearn.cross_validation import train_test_split"
     ],
     "language": "python",
     "metadata": {},
     "outputs": [],
     "prompt_number": 20
    },
    {
     "cell_type": "code",
     "collapsed": false,
     "input": [
      "dummy_df_train = dummy_df[0:10886]\n",
      "dummy_df_test = dummy_df[10886:]"
     ],
     "language": "python",
     "metadata": {},
     "outputs": [],
     "prompt_number": 21
    },
    {
     "cell_type": "code",
     "collapsed": false,
     "input": [
      "y = dummy_df_train['rentals'].values"
     ],
     "language": "python",
     "metadata": {},
     "outputs": [],
     "prompt_number": 166
    },
    {
     "cell_type": "code",
     "collapsed": false,
     "input": [
      "X = dummy_df_train.drop(['d_t', 'casual', 'registered', 'rentals'], axis = 1).values"
     ],
     "language": "python",
     "metadata": {},
     "outputs": [],
     "prompt_number": 167
    },
    {
     "cell_type": "code",
     "collapsed": false,
     "input": [
      "X.shape"
     ],
     "language": "python",
     "metadata": {},
     "outputs": [
      {
       "metadata": {},
       "output_type": "pyout",
       "prompt_number": 168,
       "text": [
        "(10886, 38)"
       ]
      }
     ],
     "prompt_number": 168
    },
    {
     "cell_type": "code",
     "collapsed": false,
     "input": [
      "y.shape"
     ],
     "language": "python",
     "metadata": {},
     "outputs": [
      {
       "metadata": {},
       "output_type": "pyout",
       "prompt_number": 169,
       "text": [
        "(10886,)"
       ]
      }
     ],
     "prompt_number": 169
    },
    {
     "cell_type": "code",
     "collapsed": false,
     "input": [
      "from sklearn.preprocessing import StandardScaler\n",
      "scaler = StandardScaler()\n",
      "X = scaler.fit_transform(X)\n",
      "print \"feature space holds {0} observations and features\".format(X.shape)"
     ],
     "language": "python",
     "metadata": {},
     "outputs": [
      {
       "output_type": "stream",
       "stream": "stdout",
       "text": [
        "feature space holds (10886, 38) observations and features\n"
       ]
      }
     ],
     "prompt_number": 170
    },
    {
     "cell_type": "code",
     "collapsed": false,
     "input": [
      "'''StandardScaler fixes this by normalizing each feature\n",
      "to a range of around 1.0 to -1.0\n",
      "thereby preventing models from misbehaving.'''\n",
      "# kind of...\n",
      "print X.max()\n",
      "print X.min()\n",
      "print X.std()"
     ],
     "language": "python",
     "metadata": {},
     "outputs": [
      {
       "output_type": "stream",
       "stream": "stdout",
       "text": [
        "5.83122760952\n",
        "-3.21585842207\n",
        "1.0\n"
       ]
      }
     ],
     "prompt_number": 171
    },
    {
     "cell_type": "code",
     "collapsed": false,
     "input": [
      "X_train, X_test, y_train, y_test = train_test_split(X, y, test_size = .3)"
     ],
     "language": "python",
     "metadata": {},
     "outputs": [],
     "prompt_number": 172
    },
    {
     "cell_type": "heading",
     "level": 2,
     "metadata": {},
     "source": [
      "linear regression"
     ]
    },
    {
     "cell_type": "code",
     "collapsed": false,
     "input": [
      "%%time\n",
      "from sklearn.linear_model import LinearRegression\n",
      "lr = LinearRegression()\n",
      "lr.fit(X_train, y_train)\n",
      "\n",
      "y_pred = lr.predict(X_test)\n",
      "\n",
      "print lr.score(X_test, y_test)"
     ],
     "language": "python",
     "metadata": {},
     "outputs": [
      {
       "output_type": "stream",
       "stream": "stdout",
       "text": [
        "0.613191073578\n",
        "CPU times: user 17.6 ms, sys: 3.62 ms, total: 21.3 ms\n",
        "Wall time: 18.1 ms\n"
       ]
      }
     ],
     "prompt_number": 175
    },
    {
     "cell_type": "code",
     "collapsed": false,
     "input": [
      "\n",
      "# Lets Just compare the Predicted to Actual and see the distribution\n",
      "\n",
      "fig, ax = plt.subplots(1, 1)\n",
      "\n",
      "ax.scatter(y_pred, y_test)\n",
      "ax.set_xlabel('Predicated')\n",
      "ax.set_ylabel('Actual')\n",
      "\n",
      "# Draw the ideal line\n",
      "ax.plot(y_test, y_test, 'r')"
     ],
     "language": "python",
     "metadata": {},
     "outputs": [
      {
       "metadata": {},
       "output_type": "pyout",
       "prompt_number": 176,
       "text": [
        "[<matplotlib.lines.Line2D at 0x112d978d0>]"
       ]
      },
      {
       "metadata": {},
       "output_type": "display_data",
       "png": "[encoded data removed]",
       "text": [
        "<matplotlib.figure.Figure at 0x112670b90>"
       ]
      }
     ],
     "prompt_number": 176
    },
    {
     "cell_type": "heading",
     "level": 2,
     "metadata": {},
     "source": [
      "polynomial regression"
     ]
    },
    {
     "cell_type": "code",
     "collapsed": false,
     "input": [
      "from sklearn.linear_model import Ridge\n",
      "from sklearn.preprocessing import PolynomialFeatures\n",
      "from sklearn.pipeline import make_pipeline"
     ],
     "language": "python",
     "metadata": {},
     "outputs": [],
     "prompt_number": 177
    },
    {
     "cell_type": "code",
     "collapsed": false,
     "input": [
      "%%time\n",
      "from sklearn.linear_model import Ridge\n",
      "from sklearn.preprocessing import PolynomialFeatures\n",
      "from sklearn.pipeline import make_pipeline\n",
      "\n",
      "degree = 2\n",
      "est = make_pipeline(PolynomialFeatures(degree), LinearRegression())\n",
      "est.fit(X_train, y_train) # fit runs the linear regression\n"
     ],
     "language": "python",
     "metadata": {},
     "outputs": [
      {
       "output_type": "stream",
       "stream": "stdout",
       "text": [
        "CPU times: user 9.65 s, sys: 1.6 s, total: 11.2 s\n",
        "Wall time: 11.1 s\n"
       ]
      }
     ],
     "prompt_number": 178
    },
    {
     "cell_type": "code",
     "collapsed": false,
     "input": [
      "y_pred = est.predict(X_test)\n",
      "print est.score(X_test, y_test)"
     ],
     "language": "python",
     "metadata": {},
     "outputs": [
      {
       "output_type": "stream",
       "stream": "stdout",
       "text": [
        "0.802626897681\n"
       ]
      }
     ],
     "prompt_number": 179
    },
    {
     "cell_type": "code",
     "collapsed": false,
     "input": [
      "# Lets Just compare the Predicted to Actual and see the distribution\n",
      "\n",
      "fig, ax = plt.subplots(1, 1)\n",
      "\n",
      "# ploting predictions vs test\n",
      "ax.scatter(y_pred, y_test)\n",
      "ax.set_xlabel('Predicated')\n",
      "ax.set_ylabel('Actual')\n",
      "\n",
      "# Draw the ideal line\n",
      "ax.plot(y_test, y_test, 'r')"
     ],
     "language": "python",
     "metadata": {},
     "outputs": [
      {
       "metadata": {},
       "output_type": "pyout",
       "prompt_number": 180,
       "text": [
        "[<matplotlib.lines.Line2D at 0x11a6ad050>]"
       ]
      },
      {
       "metadata": {},
       "output_type": "display_data",
       "png": "[encoded data removed]",
       "text": [
        "<matplotlib.figure.Figure at 0x10bcf0d10>"
       ]
      }
     ],
     "prompt_number": 180
    },
    {
     "cell_type": "heading",
     "level": 1,
     "metadata": {},
     "source": [
      "Casual"
     ]
    },
    {
     "cell_type": "code",
     "collapsed": false,
     "input": [
      "y_casual = dummy_df_train['casual']"
     ],
     "language": "python",
     "metadata": {},
     "outputs": [],
     "prompt_number": 149
    },
    {
     "cell_type": "code",
     "collapsed": false,
     "input": [
      "X_train, X_test, y_train, y_test = train_test_split(X, y_casual, test_size = .3)"
     ],
     "language": "python",
     "metadata": {},
     "outputs": [],
     "prompt_number": 150
    },
    {
     "cell_type": "heading",
     "level": 1,
     "metadata": {},
     "source": [
      "linear regression casual"
     ]
    },
    {
     "cell_type": "code",
     "collapsed": false,
     "input": [
      "%%time\n",
      "from sklearn.linear_model import LinearRegression\n",
      "lr = LinearRegression()\n",
      "lr.fit(X_train, y_train)\n",
      "\n",
      "y_pred_casual = lr.predict(X_test)\n",
      "\n",
      "print lr.score(X_test, y_test)"
     ],
     "language": "python",
     "metadata": {},
     "outputs": [
      {
       "output_type": "stream",
       "stream": "stdout",
       "text": [
        "0.572970172661\n",
        "CPU times: user 19.5 ms, sys: 4.76 ms, total: 24.3 ms\n",
        "Wall time: 21 ms\n"
       ]
      }
     ],
     "prompt_number": 151
    },
    {
     "cell_type": "code",
     "collapsed": false,
     "input": [
      "\n",
      "# Lets Just compare the Predicted to Actual and see the distribution\n",
      "\n",
      "fig, ax = plt.subplots(1, 1)\n",
      "\n",
      "ax.scatter(y_pred_casual, y_test)\n",
      "ax.set_xlabel('Predicated')\n",
      "ax.set_ylabel('Actual')\n",
      "\n",
      "# Draw the ideal line\n",
      "ax.plot(y_test, y_test, 'r')"
     ],
     "language": "python",
     "metadata": {},
     "outputs": [
      {
       "metadata": {},
       "output_type": "pyout",
       "prompt_number": 152,
       "text": [
        "[<matplotlib.lines.Line2D at 0x112631f90>]"
       ]
      },
      {
       "metadata": {},
       "output_type": "display_data",
       "png": "[encoded data removed]",
       "text": [
        "<matplotlib.figure.Figure at 0x112e674d0>"
       ]
      }
     ],
     "prompt_number": 152
    },
    {
     "cell_type": "heading",
     "level": 1,
     "metadata": {},
     "source": [
      "poly regression Causal"
     ]
    },
    {
     "cell_type": "code",
     "collapsed": false,
     "input": [
      "%%time\n",
      "from sklearn.linear_model import Ridge\n",
      "from sklearn.preprocessing import PolynomialFeatures\n",
      "from sklearn.pipeline import make_pipeline\n",
      "\n",
      "degree = 2\n",
      "est = make_pipeline(PolynomialFeatures(degree), LinearRegression())\n",
      "est.fit(X_train, y_train) # fit runs the linear regression\n"
     ],
     "language": "python",
     "metadata": {},
     "outputs": [
      {
       "output_type": "stream",
       "stream": "stdout",
       "text": [
        "CPU times: user 8.45 s, sys: 830 ms, total: 9.28 s\n",
        "Wall time: 8.84 s\n"
       ]
      }
     ],
     "prompt_number": 153
    },
    {
     "cell_type": "code",
     "collapsed": false,
     "input": [
      "y_pred_casual = est.predict(X_test)\n",
      "print est.score(X_test, y_test)"
     ],
     "language": "python",
     "metadata": {},
     "outputs": [
      {
       "output_type": "stream",
       "stream": "stdout",
       "text": [
        "0.775879826141\n"
       ]
      }
     ],
     "prompt_number": 154
    },
    {
     "cell_type": "code",
     "collapsed": false,
     "input": [
      "# Lets Just compare the Predicted to Actual and see the distribution\n",
      "\n",
      "fig, ax = plt.subplots(1, 1)\n",
      "\n",
      "# ploting predictions vs test\n",
      "ax.scatter(y_pred_casual, y_test)\n",
      "ax.set_xlabel('Predicated')\n",
      "ax.set_ylabel('Actual')\n",
      "\n",
      "# Draw the ideal line\n",
      "ax.plot(y_test, y_test, 'r')"
     ],
     "language": "python",
     "metadata": {},
     "outputs": [
      {
       "metadata": {},
       "output_type": "pyout",
       "prompt_number": 155,
       "text": [
        "[<matplotlib.lines.Line2D at 0x11a452890>]"
       ]
      },
      {
       "metadata": {},
       "output_type": "display_data",
       "png": "[encoded data removed]",
       "text": [
        "<matplotlib.figure.Figure at 0x112668cd0>"
       ]
      }
     ],
     "prompt_number": 155
    },
    {
     "cell_type": "heading",
     "level": 1,
     "metadata": {},
     "source": [
      "Registered"
     ]
    },
    {
     "cell_type": "code",
     "collapsed": false,
     "input": [
      "y_registered = dummy_df_train['registered']"
     ],
     "language": "python",
     "metadata": {},
     "outputs": [],
     "prompt_number": 156
    },
    {
     "cell_type": "code",
     "collapsed": false,
     "input": [
      "X_train, X_test, y_train, y_test = train_test_split(X, y_registered, test_size = .3)"
     ],
     "language": "python",
     "metadata": {},
     "outputs": [],
     "prompt_number": 157
    },
    {
     "cell_type": "heading",
     "level": 1,
     "metadata": {},
     "source": [
      "Linear Regression Registered"
     ]
    },
    {
     "cell_type": "code",
     "collapsed": false,
     "input": [
      "%%time\n",
      "from sklearn.linear_model import LinearRegression\n",
      "lr = LinearRegression()\n",
      "lr.fit(X_train, y_train)\n",
      "\n",
      "y_pred_registered = lr.predict(X_test)\n",
      "\n",
      "print lr.score(X_test, y_test)"
     ],
     "language": "python",
     "metadata": {},
     "outputs": [
      {
       "output_type": "stream",
       "stream": "stdout",
       "text": [
        "0.598636079791\n",
        "CPU times: user 18.5 ms, sys: 4.55 ms, total: 23.1 ms\n",
        "Wall time: 19.9 ms\n"
       ]
      }
     ],
     "prompt_number": 158
    },
    {
     "cell_type": "code",
     "collapsed": false,
     "input": [
      "\n",
      "# Lets Just compare the Predicted to Actual and see the distribution\n",
      "\n",
      "fig, ax = plt.subplots(1, 1)\n",
      "\n",
      "ax.scatter(y_pred_registered, y_test)\n",
      "ax.set_xlabel('Predicated')\n",
      "ax.set_ylabel('Actual')\n",
      "\n",
      "# Draw the ideal line\n",
      "ax.plot(y_test, y_test, 'r')"
     ],
     "language": "python",
     "metadata": {},
     "outputs": [
      {
       "metadata": {},
       "output_type": "pyout",
       "prompt_number": 159,
       "text": [
        "[<matplotlib.lines.Line2D at 0x1115de390>]"
       ]
      },
      {
       "metadata": {},
       "output_type": "display_data",
       "png": "[encoded data removed]",
       "text": [
        "<matplotlib.figure.Figure at 0x11a46df50>"
       ]
      }
     ],
     "prompt_number": 159
    },
    {
     "cell_type": "heading",
     "level": 1,
     "metadata": {},
     "source": [
      "Ploynomial Regression Registered"
     ]
    },
    {
     "cell_type": "code",
     "collapsed": false,
     "input": [
      "%%time\n",
      "from sklearn.linear_model import Ridge\n",
      "from sklearn.preprocessing import PolynomialFeatures\n",
      "from sklearn.pipeline import make_pipeline\n",
      "\n",
      "degree = 2\n",
      "est = make_pipeline(PolynomialFeatures(degree), LinearRegression())\n",
      "est.fit(X_train, y_train) # fit runs the linear regression\n"
     ],
     "language": "python",
     "metadata": {},
     "outputs": [
      {
       "output_type": "stream",
       "stream": "stdout",
       "text": [
        "CPU times: user 8.85 s, sys: 925 ms, total: 9.77 s\n",
        "Wall time: 9.31 s\n"
       ]
      }
     ],
     "prompt_number": 160
    },
    {
     "cell_type": "code",
     "collapsed": false,
     "input": [
      "y_pred_registered = est.predict(X_test)\n",
      "print est.score(X_test, y_test)"
     ],
     "language": "python",
     "metadata": {},
     "outputs": [
      {
       "output_type": "stream",
       "stream": "stdout",
       "text": [
        "0.791998149459\n"
       ]
      }
     ],
     "prompt_number": 161
    },
    {
     "cell_type": "code",
     "collapsed": false,
     "input": [
      "# Lets Just compare the Predicted to Actual and see the distribution\n",
      "\n",
      "fig, ax = plt.subplots(1, 1)\n",
      "\n",
      "# ploting predictions vs test\n",
      "ax.scatter(y_pred_registered, y_test)\n",
      "ax.set_xlabel('Predicated')\n",
      "ax.set_ylabel('Actual')\n",
      "\n",
      "# Draw the ideal line\n",
      "ax.plot(y_test, y_test, 'r')"
     ],
     "language": "python",
     "metadata": {},
     "outputs": [
      {
       "metadata": {},
       "output_type": "pyout",
       "prompt_number": 162,
       "text": [
        "[<matplotlib.lines.Line2D at 0x111db3ed0>]"
       ]
      },
      {
       "metadata": {},
       "output_type": "display_data",
       "png": "[encoded data removed]",
       "text": [
        "<matplotlib.figure.Figure at 0x11ad1d090>"
       ]
      }
     ],
     "prompt_number": 162
    },
    {
     "cell_type": "code",
     "collapsed": false,
     "input": [],
     "language": "python",
     "metadata": {},
     "outputs": []
    },
    {
     "cell_type": "code",
     "collapsed": false,
     "input": [],
     "language": "python",
     "metadata": {},
     "outputs": []
    },
    {
     "cell_type": "code",
     "collapsed": false,
     "input": [],
     "language": "python",
     "metadata": {},
     "outputs": []
    },
    {
     "cell_type": "code",
     "collapsed": false,
     "input": [],
     "language": "python",
     "metadata": {},
     "outputs": []
    },
    {
     "cell_type": "code",
     "collapsed": false,
     "input": [],
     "language": "python",
     "metadata": {},
     "outputs": []
    },
    {
     "cell_type": "code",
     "collapsed": false,
     "input": [],
     "language": "python",
     "metadata": {},
     "outputs": []
    },
    {
     "cell_type": "code",
     "collapsed": false,
     "input": [],
     "language": "python",
     "metadata": {},
     "outputs": []
    },
    {
     "cell_type": "heading",
     "level": 1,
     "metadata": {},
     "source": [
      "Adding y_pred_casual and y_pred_registered"
     ]
    },
    {
     "cell_type": "code",
     "collapsed": false,
     "input": [
      "y_pred_registered + y_pred_casual "
     ],
     "language": "python",
     "metadata": {},
     "outputs": [
      {
       "metadata": {},
       "output_type": "pyout",
       "prompt_number": 112,
       "text": [
        "array([ 387.37264819,   82.66000616,  493.2175441 , ...,  419.28212433,\n",
        "        340.9566817 ,  420.53311604])"
       ]
      }
     ],
     "prompt_number": 112
    },
    {
     "cell_type": "code",
     "collapsed": false,
     "input": [],
     "language": "python",
     "metadata": {},
     "outputs": []
    },
    {
     "cell_type": "code",
     "collapsed": false,
     "input": [],
     "language": "python",
     "metadata": {},
     "outputs": [],
     "prompt_number": 360
    },
    {
     "cell_type": "code",
     "collapsed": false,
     "input": [],
     "language": "python",
     "metadata": {},
     "outputs": [],
     "prompt_number": 360
    },
    {
     "cell_type": "heading",
     "level": 2,
     "metadata": {},
     "source": [
      "Making Kaggel Train Test SPLIT"
     ]
    },
    {
     "cell_type": "code",
     "collapsed": false,
     "input": [
      "features_train = dummy_df_train.drop(['d_t', 'casual', 'registered', 'rentals'], axis = 1).values\n",
      "features_train.shape"
     ],
     "language": "python",
     "metadata": {},
     "outputs": [
      {
       "metadata": {},
       "output_type": "pyout",
       "prompt_number": 361,
       "text": [
        "(10886, 45)"
       ]
      }
     ],
     "prompt_number": 361
    },
    {
     "cell_type": "code",
     "collapsed": false,
     "input": [
      "target_train = dummy_df_train['rentals'].values\n",
      "target_train.shape"
     ],
     "language": "python",
     "metadata": {},
     "outputs": [
      {
       "metadata": {},
       "output_type": "pyout",
       "prompt_number": 362,
       "text": [
        "(10886,)"
       ]
      }
     ],
     "prompt_number": 362
    },
    {
     "cell_type": "code",
     "collapsed": false,
     "input": [
      "features_test = dummy_df_test.drop(['d_t', 'casual', 'registered', 'rentals'], axis = 1).values\n",
      "features_test.shape"
     ],
     "language": "python",
     "metadata": {},
     "outputs": [
      {
       "metadata": {},
       "output_type": "pyout",
       "prompt_number": 363,
       "text": [
        "(6493, 45)"
       ]
      }
     ],
     "prompt_number": 363
    },
    {
     "cell_type": "code",
     "collapsed": false,
     "input": [
      "target_test = dummy_df_test['rentals'].values"
     ],
     "language": "python",
     "metadata": {},
     "outputs": [],
     "prompt_number": 364
    },
    {
     "cell_type": "heading",
     "level": 2,
     "metadata": {},
     "source": [
      "poly regression on kaggle test data"
     ]
    },
    {
     "cell_type": "code",
     "collapsed": false,
     "input": [
      "est.fit(features_train, target_train)"
     ],
     "language": "python",
     "metadata": {},
     "outputs": [
      {
       "metadata": {},
       "output_type": "pyout",
       "prompt_number": 368,
       "text": [
        "Pipeline(steps=[('polynomialfeatures', PolynomialFeatures(degree=2, include_bias=True, interaction_only=False)), ('linearregression', LinearRegression(copy_X=True, fit_intercept=True, normalize=False))])"
       ]
      }
     ],
     "prompt_number": 368
    },
    {
     "cell_type": "code",
     "collapsed": false,
     "input": [
      "%%time\n",
      "target_pred = est.predict(features_test)"
     ],
     "language": "python",
     "metadata": {},
     "outputs": [
      {
       "output_type": "stream",
       "stream": "stdout",
       "text": [
        "CPU times: user 3.63 s, sys: 1.28 s, total: 4.9 s\n",
        "Wall time: 5.04 s\n"
       ]
      }
     ],
     "prompt_number": 369
    },
    {
     "cell_type": "code",
     "collapsed": false,
     "input": [
      "target_pred.mean()"
     ],
     "language": "python",
     "metadata": {},
     "outputs": [
      {
       "metadata": {},
       "output_type": "pyout",
       "prompt_number": 370,
       "text": [
        "190.1647989867368"
       ]
      }
     ],
     "prompt_number": 370
    },
    {
     "cell_type": "code",
     "collapsed": false,
     "input": [],
     "language": "python",
     "metadata": {},
     "outputs": [],
     "prompt_number": 370
    },
    {
     "cell_type": "code",
     "collapsed": false,
     "input": [],
     "language": "python",
     "metadata": {},
     "outputs": [],
     "prompt_number": 370
    },
    {
     "cell_type": "heading",
     "level": 2,
     "metadata": {},
     "source": [
      "applying target preditions to submission dataframe "
     ]
    },
    {
     "cell_type": "code",
     "collapsed": false,
     "input": [
      "df_test_datetime = pd.DataFrame(df_test.datetime)"
     ],
     "language": "python",
     "metadata": {},
     "outputs": [],
     "prompt_number": 371
    },
    {
     "cell_type": "code",
     "collapsed": false,
     "input": [
      "df_test_datetime['count'] = target_pred"
     ],
     "language": "python",
     "metadata": {},
     "outputs": [],
     "prompt_number": 372
    },
    {
     "cell_type": "code",
     "collapsed": false,
     "input": [
      "df_test_datetime.describe()"
     ],
     "language": "python",
     "metadata": {},
     "outputs": [
      {
       "html": [
        "<div style=\"max-height:1000px;max-width:1500px;overflow:auto;\">\n",
        "<table border=\"1\" class=\"dataframe\">\n",
        "  <thead>\n",
        "    <tr style=\"text-align: right;\">\n",
        "      <th></th>\n",
        "      <th>count</th>\n",
        "    </tr>\n",
        "  </thead>\n",
        "  <tbody>\n",
        "    <tr>\n",
        "      <th>count</th>\n",
        "      <td> 6493.00</td>\n",
        "    </tr>\n",
        "    <tr>\n",
        "      <th>mean</th>\n",
        "      <td>  190.16</td>\n",
        "    </tr>\n",
        "    <tr>\n",
        "      <th>std</th>\n",
        "      <td>  170.20</td>\n",
        "    </tr>\n",
        "    <tr>\n",
        "      <th>min</th>\n",
        "      <td> -169.78</td>\n",
        "    </tr>\n",
        "    <tr>\n",
        "      <th>25%</th>\n",
        "      <td>   46.24</td>\n",
        "    </tr>\n",
        "    <tr>\n",
        "      <th>50%</th>\n",
        "      <td>  162.25</td>\n",
        "    </tr>\n",
        "    <tr>\n",
        "      <th>75%</th>\n",
        "      <td>  287.79</td>\n",
        "    </tr>\n",
        "    <tr>\n",
        "      <th>max</th>\n",
        "      <td>  770.65</td>\n",
        "    </tr>\n",
        "  </tbody>\n",
        "</table>\n",
        "</div>"
       ],
       "metadata": {},
       "output_type": "pyout",
       "prompt_number": 373,
       "text": [
        "         count\n",
        "count  6493.00\n",
        "mean    190.16\n",
        "std     170.20\n",
        "min    -169.78\n",
        "25%      46.24\n",
        "50%     162.25\n",
        "75%     287.79\n",
        "max     770.65"
       ]
      }
     ],
     "prompt_number": 373
    },
    {
     "cell_type": "code",
     "collapsed": false,
     "input": [
      "df_test_datetime.loc[df_test_datetime['count' ] < 0, 'count'] = 0 "
     ],
     "language": "python",
     "metadata": {},
     "outputs": [],
     "prompt_number": 374
    },
    {
     "cell_type": "code",
     "collapsed": false,
     "input": [
      "df_test_datetime.head()"
     ],
     "language": "python",
     "metadata": {},
     "outputs": [
      {
       "html": [
        "<div style=\"max-height:1000px;max-width:1500px;overflow:auto;\">\n",
        "<table border=\"1\" class=\"dataframe\">\n",
        "  <thead>\n",
        "    <tr style=\"text-align: right;\">\n",
        "      <th></th>\n",
        "      <th>datetime</th>\n",
        "      <th>count</th>\n",
        "    </tr>\n",
        "  </thead>\n",
        "  <tbody>\n",
        "    <tr>\n",
        "      <th>0</th>\n",
        "      <td> 2011-01-20 00:00:00</td>\n",
        "      <td> 27.84</td>\n",
        "    </tr>\n",
        "    <tr>\n",
        "      <th>1</th>\n",
        "      <td> 2011-01-20 01:00:00</td>\n",
        "      <td> 17.07</td>\n",
        "    </tr>\n",
        "    <tr>\n",
        "      <th>2</th>\n",
        "      <td> 2011-01-20 02:00:00</td>\n",
        "      <td> 15.53</td>\n",
        "    </tr>\n",
        "    <tr>\n",
        "      <th>3</th>\n",
        "      <td> 2011-01-20 03:00:00</td>\n",
        "      <td> 10.03</td>\n",
        "    </tr>\n",
        "    <tr>\n",
        "      <th>4</th>\n",
        "      <td> 2011-01-20 04:00:00</td>\n",
        "      <td>  7.15</td>\n",
        "    </tr>\n",
        "  </tbody>\n",
        "</table>\n",
        "</div>"
       ],
       "metadata": {},
       "output_type": "pyout",
       "prompt_number": 375,
       "text": [
        "              datetime  count\n",
        "0  2011-01-20 00:00:00  27.84\n",
        "1  2011-01-20 01:00:00  17.07\n",
        "2  2011-01-20 02:00:00  15.53\n",
        "3  2011-01-20 03:00:00  10.03\n",
        "4  2011-01-20 04:00:00   7.15"
       ]
      }
     ],
     "prompt_number": 375
    },
    {
     "cell_type": "code",
     "collapsed": false,
     "input": [
      "df_test_datetime = df_test_datetime.astype(object)\n",
      "df_test_datetime['count'] = df_test_datetime['count'].map(lambda x: round(x)).astype(int)"
     ],
     "language": "python",
     "metadata": {},
     "outputs": [],
     "prompt_number": 376
    },
    {
     "cell_type": "code",
     "collapsed": false,
     "input": [
      "df_test_datetime.head()"
     ],
     "language": "python",
     "metadata": {},
     "outputs": [
      {
       "html": [
        "<div style=\"max-height:1000px;max-width:1500px;overflow:auto;\">\n",
        "<table border=\"1\" class=\"dataframe\">\n",
        "  <thead>\n",
        "    <tr style=\"text-align: right;\">\n",
        "      <th></th>\n",
        "      <th>datetime</th>\n",
        "      <th>count</th>\n",
        "    </tr>\n",
        "  </thead>\n",
        "  <tbody>\n",
        "    <tr>\n",
        "      <th>0</th>\n",
        "      <td> 2011-01-20 00:00:00</td>\n",
        "      <td> 28</td>\n",
        "    </tr>\n",
        "    <tr>\n",
        "      <th>1</th>\n",
        "      <td> 2011-01-20 01:00:00</td>\n",
        "      <td> 17</td>\n",
        "    </tr>\n",
        "    <tr>\n",
        "      <th>2</th>\n",
        "      <td> 2011-01-20 02:00:00</td>\n",
        "      <td> 16</td>\n",
        "    </tr>\n",
        "    <tr>\n",
        "      <th>3</th>\n",
        "      <td> 2011-01-20 03:00:00</td>\n",
        "      <td> 10</td>\n",
        "    </tr>\n",
        "    <tr>\n",
        "      <th>4</th>\n",
        "      <td> 2011-01-20 04:00:00</td>\n",
        "      <td>  7</td>\n",
        "    </tr>\n",
        "  </tbody>\n",
        "</table>\n",
        "</div>"
       ],
       "metadata": {},
       "output_type": "pyout",
       "prompt_number": 377,
       "text": [
        "              datetime  count\n",
        "0  2011-01-20 00:00:00     28\n",
        "1  2011-01-20 01:00:00     17\n",
        "2  2011-01-20 02:00:00     16\n",
        "3  2011-01-20 03:00:00     10\n",
        "4  2011-01-20 04:00:00      7"
       ]
      }
     ],
     "prompt_number": 377
    },
    {
     "cell_type": "code",
     "collapsed": false,
     "input": [
      "df_test_datetime.to_csv('bike_predictions2.csv', index = False)"
     ],
     "language": "python",
     "metadata": {},
     "outputs": [],
     "prompt_number": 378
    },
    {
     "cell_type": "code",
     "collapsed": false,
     "input": [],
     "language": "python",
     "metadata": {},
     "outputs": []
    },
    {
     "cell_type": "code",
     "collapsed": false,
     "input": [
      "%%javascript\n",
      "alert('oasid');\n"
     ],
     "language": "python",
     "metadata": {},
     "outputs": [
      {
       "javascript": [
        "alert('oasid');"
       ],
       "metadata": {},
       "output_type": "display_data",
       "text": [
        "<IPython.core.display.Javascript at 0x104089610>"
       ]
      }
     ],
     "prompt_number": 7
    },
    {
     "cell_type": "code",
     "collapsed": false,
     "input": [],
     "language": "python",
     "metadata": {},
     "outputs": [],
     "prompt_number": 5
    },
    {
     "cell_type": "code",
     "collapsed": false,
     "input": [],
     "language": "python",
     "metadata": {},
     "outputs": []
    },
    {
     "cell_type": "code",
     "collapsed": false,
     "input": [],
     "language": "python",
     "metadata": {},
     "outputs": []
    },
    {
     "cell_type": "code",
     "collapsed": false,
     "input": [],
     "language": "python",
     "metadata": {},
     "outputs": []
    },
    {
     "cell_type": "code",
     "collapsed": false,
     "input": [],
     "language": "python",
     "metadata": {},
     "outputs": [],
     "prompt_number": 73
    },
    {
     "cell_type": "code",
     "collapsed": false,
     "input": [],
     "language": "python",
     "metadata": {},
     "outputs": []
    },
    {
     "cell_type": "code",
     "collapsed": false,
     "input": [],
     "language": "python",
     "metadata": {},
     "outputs": []
    },
    {
     "cell_type": "code",
     "collapsed": false,
     "input": [],
     "language": "python",
     "metadata": {},
     "outputs": [],
     "prompt_number": 54
    }
   ],
   "metadata": {}
  }
 ]
}