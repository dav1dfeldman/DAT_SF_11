{
 "metadata": {
  "name": "",
  "signature": "sha256:c45e61b7bb9798ae49c808b393b9a3984587fd502521a7bcd244dda5ff28aba0"
 },
 "nbformat": 3,
 "nbformat_minor": 0,
 "worksheets": [
  {
   "cells": [
    {
     "cell_type": "heading",
     "level": 2,
     "metadata": {},
     "source": [
      "http://blog.yhathq.com/posts/predicting-customer-churn-with-sklearn.html"
     ]
    },
    {
     "cell_type": "code",
     "collapsed": false,
     "input": [
      "from __future__ import division\n",
      "import pandas as pd\n",
      "import numpy as np\n",
      "import seaborn as sns\n",
      "import matplotlib.pyplot as plt\n",
      "# enables inline Plots\n",
      "%matplotlib inline\n",
      "pd.set_option('display.precision', 3)"
     ],
     "language": "python",
     "metadata": {},
     "outputs": [],
     "prompt_number": 2
    },
    {
     "cell_type": "code",
     "collapsed": false,
     "input": [
      "churn_df = pd.read_csv('churn.csv')\n",
      "col_names = churn_df.columns.tolist()\n",
      "\n",
      "print 'column names:'\n",
      "print '\\n', col_names\n",
      "\n",
      "to_show = col_names[:6] + col_names[-6:]\n",
      "print '\\nsample data:\\n '\n",
      "churn_df[to_show].head(6)"
     ],
     "language": "python",
     "metadata": {},
     "outputs": [
      {
       "output_type": "stream",
       "stream": "stdout",
       "text": [
        "column names:\n",
        "\n",
        "['State', 'Account Length', 'Area Code', 'Phone', \"Int'l Plan\", 'VMail Plan', 'VMail Message', 'Day Mins', 'Day Calls', 'Day Charge', 'Eve Mins', 'Eve Calls', 'Eve Charge', 'Night Mins', 'Night Calls', 'Night Charge', 'Intl Mins', 'Intl Calls', 'Intl Charge', 'CustServ Calls', 'Churn?']\n",
        "\n",
        "sample data:\n",
        " \n"
       ]
      },
      {
       "html": [
        "<div style=\"max-height:1000px;max-width:1500px;overflow:auto;\">\n",
        "<table border=\"1\" class=\"dataframe\">\n",
        "  <thead>\n",
        "    <tr style=\"text-align: right;\">\n",
        "      <th></th>\n",
        "      <th>State</th>\n",
        "      <th>Account Length</th>\n",
        "      <th>Area Code</th>\n",
        "      <th>Phone</th>\n",
        "      <th>Int'l Plan</th>\n",
        "      <th>VMail Plan</th>\n",
        "      <th>Night Charge</th>\n",
        "      <th>Intl Mins</th>\n",
        "      <th>Intl Calls</th>\n",
        "      <th>Intl Charge</th>\n",
        "      <th>CustServ Calls</th>\n",
        "      <th>Churn?</th>\n",
        "    </tr>\n",
        "  </thead>\n",
        "  <tbody>\n",
        "    <tr>\n",
        "      <th>0</th>\n",
        "      <td> KS</td>\n",
        "      <td> 128</td>\n",
        "      <td> 415</td>\n",
        "      <td> 382-4657</td>\n",
        "      <td>  no</td>\n",
        "      <td> yes</td>\n",
        "      <td> 11.01</td>\n",
        "      <td> 10.0</td>\n",
        "      <td> 3</td>\n",
        "      <td> 2.70</td>\n",
        "      <td> 1</td>\n",
        "      <td> False.</td>\n",
        "    </tr>\n",
        "    <tr>\n",
        "      <th>1</th>\n",
        "      <td> OH</td>\n",
        "      <td> 107</td>\n",
        "      <td> 415</td>\n",
        "      <td> 371-7191</td>\n",
        "      <td>  no</td>\n",
        "      <td> yes</td>\n",
        "      <td> 11.45</td>\n",
        "      <td> 13.7</td>\n",
        "      <td> 3</td>\n",
        "      <td> 3.70</td>\n",
        "      <td> 1</td>\n",
        "      <td> False.</td>\n",
        "    </tr>\n",
        "    <tr>\n",
        "      <th>2</th>\n",
        "      <td> NJ</td>\n",
        "      <td> 137</td>\n",
        "      <td> 415</td>\n",
        "      <td> 358-1921</td>\n",
        "      <td>  no</td>\n",
        "      <td>  no</td>\n",
        "      <td>  7.32</td>\n",
        "      <td> 12.2</td>\n",
        "      <td> 5</td>\n",
        "      <td> 3.29</td>\n",
        "      <td> 0</td>\n",
        "      <td> False.</td>\n",
        "    </tr>\n",
        "    <tr>\n",
        "      <th>3</th>\n",
        "      <td> OH</td>\n",
        "      <td>  84</td>\n",
        "      <td> 408</td>\n",
        "      <td> 375-9999</td>\n",
        "      <td> yes</td>\n",
        "      <td>  no</td>\n",
        "      <td>  8.86</td>\n",
        "      <td>  6.6</td>\n",
        "      <td> 7</td>\n",
        "      <td> 1.78</td>\n",
        "      <td> 2</td>\n",
        "      <td> False.</td>\n",
        "    </tr>\n",
        "    <tr>\n",
        "      <th>4</th>\n",
        "      <td> OK</td>\n",
        "      <td>  75</td>\n",
        "      <td> 415</td>\n",
        "      <td> 330-6626</td>\n",
        "      <td> yes</td>\n",
        "      <td>  no</td>\n",
        "      <td>  8.41</td>\n",
        "      <td> 10.1</td>\n",
        "      <td> 3</td>\n",
        "      <td> 2.73</td>\n",
        "      <td> 3</td>\n",
        "      <td> False.</td>\n",
        "    </tr>\n",
        "    <tr>\n",
        "      <th>5</th>\n",
        "      <td> AL</td>\n",
        "      <td> 118</td>\n",
        "      <td> 510</td>\n",
        "      <td> 391-8027</td>\n",
        "      <td> yes</td>\n",
        "      <td>  no</td>\n",
        "      <td>  9.18</td>\n",
        "      <td>  6.3</td>\n",
        "      <td> 6</td>\n",
        "      <td> 1.70</td>\n",
        "      <td> 0</td>\n",
        "      <td> False.</td>\n",
        "    </tr>\n",
        "  </tbody>\n",
        "</table>\n",
        "</div>"
       ],
       "metadata": {},
       "output_type": "pyout",
       "prompt_number": 3,
       "text": [
        "  State  Account Length  Area Code     Phone Int'l Plan VMail Plan  \\\n",
        "0    KS             128        415  382-4657         no        yes   \n",
        "1    OH             107        415  371-7191         no        yes   \n",
        "2    NJ             137        415  358-1921         no         no   \n",
        "3    OH              84        408  375-9999        yes         no   \n",
        "4    OK              75        415  330-6626        yes         no   \n",
        "5    AL             118        510  391-8027        yes         no   \n",
        "\n",
        "   Night Charge  Intl Mins  Intl Calls  Intl Charge  CustServ Calls  Churn?  \n",
        "0         11.01       10.0           3         2.70               1  False.  \n",
        "1         11.45       13.7           3         3.70               1  False.  \n",
        "2          7.32       12.2           5         3.29               0  False.  \n",
        "3          8.86        6.6           7         1.78               2  False.  \n",
        "4          8.41       10.1           3         2.73               3  False.  \n",
        "5          9.18        6.3           6         1.70               0  False.  "
       ]
      }
     ],
     "prompt_number": 3
    },
    {
     "cell_type": "code",
     "collapsed": false,
     "input": [
      "# make target\n",
      "churn_result = churn_df['Churn?']\n",
      "y = np.where(churn_result == 'True.', 1, 0) \n",
      "y.mean()"
     ],
     "language": "python",
     "metadata": {},
     "outputs": [
      {
       "metadata": {},
       "output_type": "pyout",
       "prompt_number": 8,
       "text": [
        "0.14491449144914492"
       ]
      }
     ],
     "prompt_number": 8
    },
    {
     "cell_type": "code",
     "collapsed": false,
     "input": [
      "# unnessary columns\n",
      "to_drop = ['State', 'Area Code', 'Phone', 'Churn?']\n",
      "churn_feat_space = churn_df.drop(to_drop, axis = 1)"
     ],
     "language": "python",
     "metadata": {},
     "outputs": [],
     "prompt_number": 5
    },
    {
     "cell_type": "code",
     "collapsed": false,
     "input": [
      "# yes/no has to be converted to boolean values\n",
      "# numpy converts these to boolean 1. and 0. later\n",
      "yes_no_cols = [\"Int'l Plan\", \"VMail Plan\"]\n",
      "churn_feat_space[yes_no_cols] = churn_feat_space[yes_no_cols] == 'yes'\n",
      "churn_feat_space.info()"
     ],
     "language": "python",
     "metadata": {},
     "outputs": [
      {
       "output_type": "stream",
       "stream": "stdout",
       "text": [
        "<class 'pandas.core.frame.DataFrame'>\n",
        "Int64Index: 3333 entries, 0 to 3332\n",
        "Data columns (total 17 columns):\n",
        "Account Length    3333 non-null int64\n",
        "Int'l Plan        3333 non-null bool\n",
        "VMail Plan        3333 non-null bool\n",
        "VMail Message     3333 non-null int64\n",
        "Day Mins          3333 non-null float64\n",
        "Day Calls         3333 non-null int64\n",
        "Day Charge        3333 non-null float64\n",
        "Eve Mins          3333 non-null float64\n",
        "Eve Calls         3333 non-null int64\n",
        "Eve Charge        3333 non-null float64\n",
        "Night Mins        3333 non-null float64\n",
        "Night Calls       3333 non-null int64\n",
        "Night Charge      3333 non-null float64\n",
        "Intl Mins         3333 non-null float64\n",
        "Intl Calls        3333 non-null int64\n",
        "Intl Charge       3333 non-null float64\n",
        "CustServ Calls    3333 non-null int64\n",
        "dtypes: bool(2), float64(8), int64(7)\n",
        "memory usage: 423.1 KB\n"
       ]
      }
     ],
     "prompt_number": 6
    },
    {
     "cell_type": "code",
     "collapsed": false,
     "input": [
      "# pull out features for future use\n",
      "features = churn_feat_space.columns"
     ],
     "language": "python",
     "metadata": {},
     "outputs": [],
     "prompt_number": 7
    },
    {
     "cell_type": "code",
     "collapsed": false,
     "input": [
      "# making features matrix\n",
      "X = churn_feat_space.as_matrix().astype(np.float)"
     ],
     "language": "python",
     "metadata": {},
     "outputs": [],
     "prompt_number": 8
    },
    {
     "cell_type": "code",
     "collapsed": false,
     "input": [
      "# this is important\n",
      "from sklearn.preprocessing import StandardScaler\n",
      "scaler = StandardScaler()\n",
      "X = scaler.fit_transform(X)\n",
      "print 'Feature space holds %d observations and %d features' % X.shape\n",
      "print 'Unique target labels:', np.unique(y)"
     ],
     "language": "python",
     "metadata": {},
     "outputs": [
      {
       "output_type": "stream",
       "stream": "stdout",
       "text": [
        "Feature space holds 3333 observations and 17 features\n",
        "Unique target labels: [0 1]\n"
       ]
      }
     ],
     "prompt_number": 170
    },
    {
     "cell_type": "code",
     "collapsed": false,
     "input": [
      "'''StandardScaler fixes this by normalizing each feature\n",
      "to a range of around 1.0 to -1.0\n",
      "thereby preventing models from misbehaving.'''\n",
      "# kind of...\n",
      "print X.max()\n",
      "print X.min()\n",
      "print X.std()"
     ],
     "language": "python",
     "metadata": {},
     "outputs": [
      {
       "output_type": "stream",
       "stream": "stdout",
       "text": [
        "6.30700101193\n",
        "-5.02591059074\n",
        "1.0\n"
       ]
      }
     ],
     "prompt_number": 171
    },
    {
     "cell_type": "heading",
     "level": 2,
     "metadata": {},
     "source": [
      "review!"
     ]
    },
    {
     "cell_type": "code",
     "collapsed": false,
     "input": [
      "from sklearn.cross_validation import KFold\n",
      "\n",
      "def run_cv(X,y,clf_class,**kwargs):\n",
      "    # Construct a kfolds object\n",
      "    kf = KFold(len(y),n_folds=5,shuffle=True)\n",
      "    y_pred = y.copy()\n",
      "    \n",
      "    # Iterate through folds\n",
      "    for train_index, test_index in kf:\n",
      "        X_train, X_test = X[train_index], X[test_index]\n",
      "        y_train = y[train_index]\n",
      "        # Initialize a classifier with key word arguments\n",
      "        clf = clf_class(**kwargs)\n",
      "        clf.fit(X_train,y_train)\n",
      "        y_pred[test_index] = clf.predict(X_test)\n",
      "    return y_pred\n"
     ],
     "language": "python",
     "metadata": {},
     "outputs": [],
     "prompt_number": 172
    },
    {
     "cell_type": "code",
     "collapsed": false,
     "input": [
      "#kf_total = cross_validation.KFold(len(x), n_folds=10, indices=True, shuffle=True, random_state=4)\n",
      "#for train, test in kf_total:\n",
      "#    print train, '\\n', test, '\\n\\n'\n",
      "\n",
      "#A few notes about using the above method for KFCV:\n",
      "\n",
      "#The first argument above is the # of samples we want to deal with. Since we\u2019re doing KFCV over our entire 1000-sample digits dataset, we set it to the length of x.\n",
      "#The second argument is the # of folds; 10 is often used.\n",
      "#The third argument indicates whether you are returning the indices of the original data rather than the elements themselves. Useful if you need to continue working with the original data.\n",
      "#The fourth argument , shuffle, means that KFCV will mix around the data (as you\u2019ll see below), meaning the generated test data won\u2019t be necessarily 0, 1, 2, 3, etc. Although shuffle allows you to throw in some randomness, you don\u2019t want to set shuffle to true for some datasets. For example, if you\u2019re working with the well-known iris dataset where samples 1-50 are from one kind of flower and samples from 50 on are for another kind of flower, you don\u2019t necessarily want to mix up samples 1-50 and 50+.\n",
      "#The fifth argument controls the degree of randomness.\n"
     ],
     "language": "python",
     "metadata": {},
     "outputs": [
      {
       "ename": "NameError",
       "evalue": "name 'cross_validation' is not defined",
       "output_type": "pyerr",
       "traceback": [
        "\u001b[0;31m---------------------------------------------------------------------------\u001b[0m\n\u001b[0;31mNameError\u001b[0m                                 Traceback (most recent call last)",
        "\u001b[0;32m<ipython-input-17-7e1faa713ed5>\u001b[0m in \u001b[0;36m<module>\u001b[0;34m()\u001b[0m\n\u001b[0;32m----> 1\u001b[0;31m \u001b[0mkf_total\u001b[0m \u001b[0;34m=\u001b[0m \u001b[0mcross_validation\u001b[0m\u001b[0;34m.\u001b[0m\u001b[0mKFold\u001b[0m\u001b[0;34m(\u001b[0m\u001b[0mlen\u001b[0m\u001b[0;34m(\u001b[0m\u001b[0mx\u001b[0m\u001b[0;34m)\u001b[0m\u001b[0;34m,\u001b[0m \u001b[0mn_folds\u001b[0m\u001b[0;34m=\u001b[0m\u001b[0;36m10\u001b[0m\u001b[0;34m,\u001b[0m \u001b[0mindices\u001b[0m\u001b[0;34m=\u001b[0m\u001b[0mTrue\u001b[0m\u001b[0;34m,\u001b[0m \u001b[0mshuffle\u001b[0m\u001b[0;34m=\u001b[0m\u001b[0mTrue\u001b[0m\u001b[0;34m,\u001b[0m \u001b[0mrandom_state\u001b[0m\u001b[0;34m=\u001b[0m\u001b[0;36m4\u001b[0m\u001b[0;34m)\u001b[0m\u001b[0;34m\u001b[0m\u001b[0m\n\u001b[0m\u001b[1;32m      2\u001b[0m \u001b[0;32mfor\u001b[0m \u001b[0mtrain\u001b[0m\u001b[0;34m,\u001b[0m \u001b[0mtest\u001b[0m \u001b[0;32min\u001b[0m \u001b[0mkf_total\u001b[0m\u001b[0;34m:\u001b[0m\u001b[0;34m\u001b[0m\u001b[0m\n\u001b[1;32m      3\u001b[0m     \u001b[0;32mprint\u001b[0m \u001b[0mtrain\u001b[0m\u001b[0;34m,\u001b[0m \u001b[0;34m'\\n'\u001b[0m\u001b[0;34m,\u001b[0m \u001b[0mtest\u001b[0m\u001b[0;34m,\u001b[0m \u001b[0;34m'\\n\\n'\u001b[0m\u001b[0;34m\u001b[0m\u001b[0m\n\u001b[1;32m      4\u001b[0m \u001b[0;34m\u001b[0m\u001b[0m\n\u001b[1;32m      5\u001b[0m \u001b[0;31m#A few notes about using the above method for KFCV:\u001b[0m\u001b[0;34m\u001b[0m\u001b[0;34m\u001b[0m\u001b[0m\n",
        "\u001b[0;31mNameError\u001b[0m: name 'cross_validation' is not defined"
       ]
      }
     ],
     "prompt_number": 17
    },
    {
     "cell_type": "code",
     "collapsed": false,
     "input": [
      "from sklearn.svm import SVC\n",
      "from sklearn.ensemble import RandomForestClassifier as RF\n",
      "from sklearn.neighbors import KNeighborsClassifier as KNN\n",
      "\n",
      "def accuracy(y_true, y_pred):\n",
      "    # Numpy interpretes True and False as 1. and 0.\n",
      "    print y_true.shape\n",
      "    return np.mean(y_true == y_pred)\n",
      "    \n",
      "\n",
      "print 'support vector machines:'\n",
      "print '%.3f' % accuracy(y, run_cv(X,y,SVC))\n",
      "print 'random forest:'\n",
      "print '%.3f' % accuracy(y, run_cv(X,y,RF))\n",
      "print 'K-Nearest-neighbors:'\n",
      "print '%.3f' % accuracy(y, run_cv(X,y,KNN))"
     ],
     "language": "python",
     "metadata": {},
     "outputs": [
      {
       "output_type": "stream",
       "stream": "stdout",
       "text": [
        "support vector machines:\n",
        "(3333,)"
       ]
      },
      {
       "output_type": "stream",
       "stream": "stdout",
       "text": [
        "\n",
        "0.918\n",
        "random forest:\n",
        "(3333,)"
       ]
      },
      {
       "output_type": "stream",
       "stream": "stdout",
       "text": [
        "\n",
        "0.942\n",
        "K-Nearest-neighbors:\n",
        "(3333,)"
       ]
      },
      {
       "output_type": "stream",
       "stream": "stdout",
       "text": [
        "\n",
        "0.896\n"
       ]
      }
     ],
     "prompt_number": 192
    },
    {
     "cell_type": "heading",
     "level": 2,
     "metadata": {},
     "source": [
      "REVIEW!!!"
     ]
    },
    {
     "cell_type": "code",
     "collapsed": false,
     "input": [
      "from sklearn.metrics import confusion_matrix\n",
      "from sklearn.metrics import precision_score\n",
      "from sklearn.metrics import recall_score\n",
      "from sklearn.metrics import classification_report\n",
      "\n",
      "def draw_confusion_matrices(confusion_matricies,class_names):\n",
      "    class_names = class_names.tolist()\n",
      "    for cm in confusion_matrices:\n",
      "        classifier, cm = cm[0], cm[1]\n",
      "        print(cm)\n",
      "        \n",
      "        fig = plt.figure()\n",
      "        ax = fig.add_subplot(111)\n",
      "        cax = ax.matshow(cm)\n",
      "        plt.title('Confusion matrix for %s' % classifier)\n",
      "        fig.colorbar(cax)\n",
      "        ax.set_xticklabels([''] + class_names)\n",
      "        ax.set_yticklabels([''] + class_names)\n",
      "        plt.xlabel('Predicted')\n",
      "        plt.ylabel('True')\n",
      "        plt.show()\n",
      "    \n",
      "y = np.array(y)\n",
      "class_names = np.unique(y)\n",
      "\n",
      "confusion_matrices = [\n",
      "    ( \"Support Vector Machines\", confusion_matrix(y,run_cv(X,y,SVC)) ),\n",
      "    ( \"Random Forest\", confusion_matrix(y,run_cv(X,y,RF)) ),\n",
      "    ( \"K-Nearest-Neighbors\", confusion_matrix(y,run_cv(X,y,KNN)) ),\n",
      "]\n",
      "\n",
      "# Pyplot code not included to reduce clutter\n",
      "# from churn_display import draw_confusion_matrices\n",
      "%matplotlib inline\n",
      "\n",
      "draw_confusion_matrices(confusion_matrices,class_names)"
     ],
     "language": "python",
     "metadata": {},
     "outputs": [
      {
       "output_type": "stream",
       "stream": "stdout",
       "text": [
        "[[2823   27]\n",
        " [ 237  246]]\n"
       ]
      },
      {
       "metadata": {},
       "output_type": "display_data",
       "png": "[encoded data removed]",
       "text": [
        "<matplotlib.figure.Figure at 0x10b727150>"
       ]
      },
      {
       "output_type": "stream",
       "stream": "stdout",
       "text": [
        "[[2826   24]\n",
        " [ 170  313]]\n"
       ]
      },
      {
       "metadata": {},
       "output_type": "display_data",
       "png": "[encoded data removed]",
       "text": [
        "<matplotlib.figure.Figure at 0x10b2b0410>"
       ]
      },
      {
       "output_type": "stream",
       "stream": "stdout",
       "text": [
        "[[2805   45]\n",
        " [ 307  176]]\n"
       ]
      },
      {
       "metadata": {},
       "output_type": "display_data",
       "png": "[encoded data removed]",
       "text": [
        "<matplotlib.figure.Figure at 0x10b6ed610>"
       ]
      }
     ],
     "prompt_number": 208
    },
    {
     "cell_type": "code",
     "collapsed": false,
     "input": [
      "def run_prob_cv(X, y, clf_class, **kwargs):\n",
      "    kf = KFold(len(y), n_folds=5, shuffle=True)\n",
      "    y_prob = np.zeros((len(y),2))\n",
      "    for train_index, test_index in kf:\n",
      "        X_train, X_test = X[train_index], X[test_index]\n",
      "        y_train = y[train_index]\n",
      "        clf = clf_class(**kwargs)\n",
      "        clf.fit(X_train,y_train)\n",
      "        # Predict probabilities, not classes\n",
      "        y_prob[test_index] = clf.predict_proba(X_test)\n",
      "    return y_prob"
     ],
     "language": "python",
     "metadata": {},
     "outputs": [],
     "prompt_number": 209
    },
    {
     "cell_type": "code",
     "collapsed": false,
     "input": [
      "import warnings\n",
      "warnings.filterwarnings('ignore')\n",
      "\n",
      "# Use 10 estimators so predictions are all multiples of 0.1\n",
      "pred_prob = run_prob_cv(X, y, RF, n_estimators=10)\n",
      "pred_churn = pred_prob[:,1]\n",
      "is_churn = y == 1\n",
      "\n",
      "# Number of times a predicted probability is assigned to an observation\n",
      "counts = pd.value_counts(pred_churn)\n",
      "\n",
      "# calculate true probabilities\n",
      "true_prob = {}\n",
      "for prob in counts.index:\n",
      "    true_prob[prob] = np.mean(is_churn[pred_churn == prob])\n",
      "    true_prob = pd.Series(true_prob)\n",
      "\n",
      "# pandas-fu\n",
      "counts = pd.concat([counts,true_prob], axis=1).reset_index()\n",
      "counts.columns = ['pred_prob', 'count', 'true_prob']\n",
      "counts"
     ],
     "language": "python",
     "metadata": {},
     "outputs": [
      {
       "html": [
        "<div style=\"max-height:1000px;max-width:1500px;overflow:auto;\">\n",
        "<table border=\"1\" class=\"dataframe\">\n",
        "  <thead>\n",
        "    <tr style=\"text-align: right;\">\n",
        "      <th></th>\n",
        "      <th>pred_prob</th>\n",
        "      <th>count</th>\n",
        "      <th>true_prob</th>\n",
        "    </tr>\n",
        "  </thead>\n",
        "  <tbody>\n",
        "    <tr>\n",
        "      <th>0 </th>\n",
        "      <td> 0.0</td>\n",
        "      <td> 1765</td>\n",
        "      <td> 0.03</td>\n",
        "    </tr>\n",
        "    <tr>\n",
        "      <th>1 </th>\n",
        "      <td> 0.1</td>\n",
        "      <td>  698</td>\n",
        "      <td> 0.02</td>\n",
        "    </tr>\n",
        "    <tr>\n",
        "      <th>2 </th>\n",
        "      <td> 0.2</td>\n",
        "      <td>  275</td>\n",
        "      <td> 0.05</td>\n",
        "    </tr>\n",
        "    <tr>\n",
        "      <th>3 </th>\n",
        "      <td> 0.3</td>\n",
        "      <td>  120</td>\n",
        "      <td> 0.13</td>\n",
        "    </tr>\n",
        "    <tr>\n",
        "      <th>4 </th>\n",
        "      <td> 0.9</td>\n",
        "      <td>   82</td>\n",
        "      <td> 0.95</td>\n",
        "    </tr>\n",
        "    <tr>\n",
        "      <th>5 </th>\n",
        "      <td> 0.8</td>\n",
        "      <td>   78</td>\n",
        "      <td> 0.97</td>\n",
        "    </tr>\n",
        "    <tr>\n",
        "      <th>6 </th>\n",
        "      <td> 0.4</td>\n",
        "      <td>   75</td>\n",
        "      <td> 0.33</td>\n",
        "    </tr>\n",
        "    <tr>\n",
        "      <th>7 </th>\n",
        "      <td> 0.7</td>\n",
        "      <td>   68</td>\n",
        "      <td> 0.97</td>\n",
        "    </tr>\n",
        "    <tr>\n",
        "      <th>8 </th>\n",
        "      <td> 0.6</td>\n",
        "      <td>   65</td>\n",
        "      <td> 0.74</td>\n",
        "    </tr>\n",
        "    <tr>\n",
        "      <th>9 </th>\n",
        "      <td> 1.0</td>\n",
        "      <td>   60</td>\n",
        "      <td> 1.00</td>\n",
        "    </tr>\n",
        "    <tr>\n",
        "      <th>10</th>\n",
        "      <td> 0.5</td>\n",
        "      <td>   47</td>\n",
        "      <td> 0.70</td>\n",
        "    </tr>\n",
        "  </tbody>\n",
        "</table>\n",
        "</div>"
       ],
       "metadata": {},
       "output_type": "pyout",
       "prompt_number": 236,
       "text": [
        "    pred_prob  count  true_prob\n",
        "0         0.0   1765       0.03\n",
        "1         0.1    698       0.02\n",
        "2         0.2    275       0.05\n",
        "3         0.3    120       0.13\n",
        "4         0.9     82       0.95\n",
        "5         0.8     78       0.97\n",
        "6         0.4     75       0.33\n",
        "7         0.7     68       0.97\n",
        "8         0.6     65       0.74\n",
        "9         1.0     60       1.00\n",
        "10        0.5     47       0.70"
       ]
      }
     ],
     "prompt_number": 236
    },
    {
     "cell_type": "code",
     "collapsed": false,
     "input": [
      "from ggplot import *\n",
      "%matplotlib inline\n",
      "\n",
      "baseline = np.mean(is_churn)\n",
      "ggplot(counts,aes(x='pred_prob',y='true_prob',size='count')) + \\\n",
      "    geom_point(color='blue') + \\\n",
      "    stat_function(fun = lambda x: x, color='red') + \\\n",
      "    stat_function(fun = lambda x: baseline, color='green') + \\\n",
      "    xlim(-0.05,  1.05) + ylim(-0.05,1.05) + \\\n",
      "    ggtitle(\"Random Forest\") + \\\n",
      "    xlab(\"Predicted probability\") + ylab(\"Relative frequency of outcome\")"
     ],
     "language": "python",
     "metadata": {},
     "outputs": [
      {
       "metadata": {},
       "output_type": "display_data",
       "png": "[encoded data removed]",
       "text": [
        "<matplotlib.figure.Figure at 0x10c508510>"
       ]
      },
      {
       "metadata": {},
       "output_type": "pyout",
       "prompt_number": 238,
       "text": [
        "<ggplot: (281348173)>"
       ]
      }
     ],
     "prompt_number": 238
    },
    {
     "cell_type": "code",
     "collapsed": false,
     "input": [
      "from churn_measurements import calibration, discrimination\n",
      "\n",
      "def print_measurements(pred_prob):\n",
      "    churn_prob, is_churn = pred_prob[:,1], y == 1\n",
      "    print \"  %-20s %.4f\" % (\"Calibration Error\", calibration(churn_prob, is_churn))\n",
      "    print \"  %-20s %.4f\" % (\"Discrimination\", discrimination(churn_prob,is_churn))\n",
      "\n",
      "    print \"Note -- Lower calibration is better, higher discrimination is better\"\n",
      "\n",
      "    print \"Support vector machines:\"\n",
      "    print_measurements(run_prob_cv(X,y,SVC,probability=True))\n",
      "\n",
      "    print \"Random forests:\"\n",
      "    print_measurements(run_prob_cv(X,y,RF,n_estimators=18))\n",
      "\n",
      "    print \"K-nearest-neighbors:\"\n",
      "\n",
      "print_measurements(run_prob_cv(X,y,KNN))"
     ],
     "language": "python",
     "metadata": {},
     "outputs": [
      {
       "ename": "ImportError",
       "evalue": "No module named churn_measurements",
       "output_type": "pyerr",
       "traceback": [
        "\u001b[0;31m---------------------------------------------------------------------------\u001b[0m\n\u001b[0;31mImportError\u001b[0m                               Traceback (most recent call last)",
        "\u001b[0;32m<ipython-input-240-2165d7f16ef6>\u001b[0m in \u001b[0;36m<module>\u001b[0;34m()\u001b[0m\n\u001b[0;32m----> 1\u001b[0;31m \u001b[0;32mfrom\u001b[0m \u001b[0mchurn_measurements\u001b[0m \u001b[0;32mimport\u001b[0m \u001b[0mcalibration\u001b[0m\u001b[0;34m,\u001b[0m \u001b[0mdiscrimination\u001b[0m\u001b[0;34m\u001b[0m\u001b[0m\n\u001b[0m\u001b[1;32m      2\u001b[0m \u001b[0;34m\u001b[0m\u001b[0m\n\u001b[1;32m      3\u001b[0m \u001b[0;32mdef\u001b[0m \u001b[0mprint_measurements\u001b[0m\u001b[0;34m(\u001b[0m\u001b[0mpred_prob\u001b[0m\u001b[0;34m)\u001b[0m\u001b[0;34m:\u001b[0m\u001b[0;34m\u001b[0m\u001b[0m\n\u001b[1;32m      4\u001b[0m     \u001b[0mchurn_prob\u001b[0m\u001b[0;34m,\u001b[0m \u001b[0mis_churn\u001b[0m \u001b[0;34m=\u001b[0m \u001b[0mpred_prob\u001b[0m\u001b[0;34m[\u001b[0m\u001b[0;34m:\u001b[0m\u001b[0;34m,\u001b[0m\u001b[0;36m1\u001b[0m\u001b[0;34m]\u001b[0m\u001b[0;34m,\u001b[0m \u001b[0my\u001b[0m \u001b[0;34m==\u001b[0m \u001b[0;36m1\u001b[0m\u001b[0;34m\u001b[0m\u001b[0m\n\u001b[1;32m      5\u001b[0m     \u001b[0;32mprint\u001b[0m \u001b[0;34m\"  %-20s %.4f\"\u001b[0m \u001b[0;34m%\u001b[0m \u001b[0;34m(\u001b[0m\u001b[0;34m\"Calibration Error\"\u001b[0m\u001b[0;34m,\u001b[0m \u001b[0mcalibration\u001b[0m\u001b[0;34m(\u001b[0m\u001b[0mchurn_prob\u001b[0m\u001b[0;34m,\u001b[0m \u001b[0mis_churn\u001b[0m\u001b[0;34m)\u001b[0m\u001b[0;34m)\u001b[0m\u001b[0;34m\u001b[0m\u001b[0m\n",
        "\u001b[0;31mImportError\u001b[0m: No module named churn_measurements"
       ]
      }
     ],
     "prompt_number": 240
    },
    {
     "cell_type": "code",
     "collapsed": false,
     "input": [],
     "language": "python",
     "metadata": {},
     "outputs": []
    }
   ],
   "metadata": {}
  }
 ]
}