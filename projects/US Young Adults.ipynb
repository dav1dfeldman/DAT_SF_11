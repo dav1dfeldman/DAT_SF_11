{
 "metadata": {
  "name": "",
  "signature": "sha256:eb8c68c32aef5f52f5c0efdaa68e879cd484abdaece5e6fa8800abd8ed8a4e0f"
 },
 "nbformat": 3,
 "nbformat_minor": 0,
 "worksheets": [
  {
   "cells": [
    {
     "cell_type": "code",
     "collapsed": false,
     "input": [
      "import pandas as pd\n",
      "import matplotlib.pyplot as plt\n",
      "import seaborn as sns\n",
      "\n",
      "%matplotlib inline"
     ],
     "language": "python",
     "metadata": {},
     "outputs": [],
     "prompt_number": 1
    },
    {
     "cell_type": "code",
     "collapsed": false,
     "input": [
      "df_1980 = pd.read_csv('../../../Downloads/YA_US_CSV/YA_1980_010.csv')\n",
      "df_1990 = pd.read_csv('../../../Downloads/YA_US_CSV/YA_1990_010.csv')\n",
      "df_2000 = pd.read_csv('../../../Downloads/YA_US_CSV/YA_2000_010.csv')\n",
      "df_2009 = pd.read_csv('../../../Downloads/YA_US_CSV/YA_2009_2013_010.csv')"
     ],
     "language": "python",
     "metadata": {},
     "outputs": [],
     "prompt_number": 9
    },
    {
     "cell_type": "heading",
     "level": 1,
     "metadata": {},
     "source": [
      "http://www.census.gov/censusexplorer/censusexplorer-youngadults.html"
     ]
    },
    {
     "cell_type": "code",
     "collapsed": false,
     "input": [
      "US_df = pd.concat([df_1980, df_1990, df_2000, df_2009], axis=0).reset_index().drop('index', axis = 1)"
     ],
     "language": "python",
     "metadata": {},
     "outputs": [],
     "prompt_number": 26
    },
    {
     "cell_type": "code",
     "collapsed": false,
     "input": [],
     "language": "python",
     "metadata": {},
     "outputs": []
    },
    {
     "cell_type": "code",
     "collapsed": false,
     "input": [
      "US_df.info()"
     ],
     "language": "python",
     "metadata": {},
     "outputs": [
      {
       "output_type": "stream",
       "stream": "stdout",
       "text": [
        "<class 'pandas.core.frame.DataFrame'>\n",
        "Int64Index: 4 entries, 0 to 3\n",
        "Data columns (total 60 columns):\n",
        "fips                     4 non-null object\n",
        "name                     4 non-null object\n",
        "population               4 non-null int64\n",
        "population18To34         4 non-null int64\n",
        "population18To34_me      4 non-null int64\n",
        "population18To34_p       4 non-null float64\n",
        "population18To34_pme     4 non-null float64\n",
        "white                    4 non-null int64\n",
        "white_me                 4 non-null int64\n",
        "white_p                  4 non-null float64\n",
        "white_pme                4 non-null float64\n",
        "minority                 4 non-null int64\n",
        "minority_me              4 non-null int64\n",
        "minority_p               4 non-null float64\n",
        "minority_pme             4 non-null float64\n",
        "neverMarried             4 non-null int64\n",
        "neverMarried_me          4 non-null int64\n",
        "neverMarried_p           4 non-null float64\n",
        "neverMarried_pme         4 non-null float64\n",
        "liveAlone                4 non-null int64\n",
        "liveAlone_me             4 non-null int64\n",
        "liveAlone_p              4 non-null float64\n",
        "liveAlone_pme            4 non-null float64\n",
        "educationBachelor        4 non-null int64\n",
        "educationBachelor_me     4 non-null int64\n",
        "educationBachelor_p      4 non-null float64\n",
        "educationBachelor_pme    4 non-null float64\n",
        "civilian                 4 non-null int64\n",
        "veteran                  4 non-null int64\n",
        "veteran_me               4 non-null int64\n",
        "veteran_p                4 non-null float64\n",
        "veteran_pme              4 non-null float64\n",
        "foreignBorn              4 non-null int64\n",
        "foreignBorn_me           4 non-null int64\n",
        "foreignBorn_p            4 non-null float64\n",
        "foreignBorn_pme          4 non-null float64\n",
        "otherLanguage            4 non-null int64\n",
        "otherLanguage_me         4 non-null int64\n",
        "otherLanguage_p          4 non-null float64\n",
        "otherLanguage_pme        4 non-null float64\n",
        "medianEarnings           4 non-null int64\n",
        "medianEarnings_me        0 non-null float64\n",
        "povertyUniverse          4 non-null int64\n",
        "poverty                  4 non-null int64\n",
        "poverty_me               4 non-null int64\n",
        "poverty_p                4 non-null float64\n",
        "poverty_pme              4 non-null float64\n",
        "employed                 4 non-null int64\n",
        "employed_me              4 non-null int64\n",
        "employed_p               4 non-null float64\n",
        "employed_pme             4 non-null float64\n",
        "commuter                 4 non-null int64\n",
        "droveToWork              4 non-null int64\n",
        "droveToWork_me           4 non-null int64\n",
        "droveToWork_p            4 non-null float64\n",
        "droveToWork_pme          4 non-null float64\n",
        "liveWithParent           4 non-null int64\n",
        "liveWithParent_me        4 non-null int64\n",
        "liveWithParent_p         4 non-null float64\n",
        "liveWithParent_pme       4 non-null float64\n",
        "dtypes: float64(27), int64(31), object(2)\n",
        "memory usage: 1.9+ KB\n"
       ]
      }
     ],
     "prompt_number": 21
    },
    {
     "cell_type": "code",
     "collapsed": false,
     "input": [],
     "language": "python",
     "metadata": {},
     "outputs": []
    }
   ],
   "metadata": {}
  }
 ]
}