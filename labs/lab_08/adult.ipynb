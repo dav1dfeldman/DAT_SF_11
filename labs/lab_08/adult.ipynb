{
 "metadata": {
  "name": "",
  "signature": "sha256:c2ecd505dfdb2c67e329a76bf157ad85181b752f4c0d0d6462ec1468b759f4f7"
 },
 "nbformat": 3,
 "nbformat_minor": 0,
 "worksheets": [
  {
   "cells": [
    {
     "cell_type": "markdown",
     "metadata": {},
     "source": [
      "#Adult Data Set\n",
      "Prediction task is to determine whether a person makes over 50K a year.<br>\n",
      "Use this Notebook to do your exploration and modeling."
     ]
    },
    {
     "cell_type": "markdown",
     "metadata": {},
     "source": [
      "###But first, a protip"
     ]
    },
    {
     "cell_type": "code",
     "collapsed": false,
     "input": [
      "import pandas as pd\n",
      "from sklearn import preprocessing\n",
      "import numpy as np\n",
      "import seaborn as sns\n",
      "import matplotlib.pyplot as plt\n",
      "# enables inline Plots\n",
      "%matplotlib inline"
     ],
     "language": "python",
     "metadata": {},
     "outputs": [],
     "prompt_number": 2
    },
    {
     "cell_type": "code",
     "collapsed": false,
     "input": [
      "%matplotlib inline\n",
      "\n",
      "import numpy as np\n",
      "from sklearn.linear_model import LinearRegression\n",
      "from sklearn.linear_model import Ridge\n",
      "from sklearn.preprocessing import PolynomialFeatures\n",
      "from sklearn.pipeline import make_pipeline\n",
      "from sklearn.cross_validation import train_test_split\n",
      "from sklearn.linear_model import LogisticRegression\n",
      "from sklearn.cross_validation import train_test_split\n",
      "from sklearn.svm import LinearSVC\n",
      "from sklearn.grid_search import GridSearchCV\n",
      "from sklearn.svm import SVC\n",
      "from sklearn.metrics import confusion_matrix, classification_report\n",
      "from sklearn.neighbors import KNeighborsClassifier as KNN\n",
      "\n",
      "\n",
      "import matplotlib.pylab as plt\n",
      "np.random.seed(9)"
     ],
     "language": "python",
     "metadata": {},
     "outputs": [],
     "prompt_number": 50
    },
    {
     "cell_type": "code",
     "collapsed": false,
     "input": [
      "cols = ['age',\n",
      "        'workclass',\n",
      "        'fnlwgt',\n",
      "        'education',\n",
      "        'education-num',\n",
      "        'marital-status',\n",
      "        'occupation',\n",
      "        'relationship',\n",
      "        'race',\n",
      "        'sex',\n",
      "        'capital-gain',\n",
      "        'capital-loss',\n",
      "        'hours-per-week',\n",
      "        'native-country',\n",
      "        'income']\n",
      "adult_df = pd.read_csv('http://archive.ics.uci.edu/ml/machine-learning-databases/adult/adult.data',\n",
      "                       header=0,names=cols,index_col=False)"
     ],
     "language": "python",
     "metadata": {},
     "outputs": [],
     "prompt_number": 66
    },
    {
     "cell_type": "markdown",
     "metadata": {},
     "source": [
      "###Now, you're on your own."
     ]
    },
    {
     "cell_type": "code",
     "collapsed": false,
     "input": [
      "adult_df.info()"
     ],
     "language": "python",
     "metadata": {},
     "outputs": [
      {
       "output_type": "stream",
       "stream": "stdout",
       "text": [
        "<class 'pandas.core.frame.DataFrame'>\n",
        "Int64Index: 32560 entries, 0 to 32559\n",
        "Data columns (total 15 columns):\n",
        "age               32560 non-null int64\n",
        "workclass         32560 non-null object\n",
        "fnlwgt            32560 non-null int64\n",
        "education         32560 non-null object\n",
        "education-num     32560 non-null int64\n",
        "marital-status    32560 non-null object\n",
        "occupation        32560 non-null object\n",
        "relationship      32560 non-null object\n",
        "race              32560 non-null object\n",
        "sex               32560 non-null object\n",
        "capital-gain      32560 non-null int64\n",
        "capital-loss      32560 non-null int64\n",
        "hours-per-week    32560 non-null int64\n",
        "native-country    32560 non-null object\n",
        "income            32560 non-null object\n",
        "dtypes: int64(6), object(9)\n",
        "memory usage: 4.0+ MB\n"
       ]
      }
     ],
     "prompt_number": 67
    },
    {
     "cell_type": "code",
     "collapsed": false,
     "input": [
      "adult_df.head()"
     ],
     "language": "python",
     "metadata": {},
     "outputs": [
      {
       "html": [
        "<div style=\"max-height:1000px;max-width:1500px;overflow:auto;\">\n",
        "<table border=\"1\" class=\"dataframe\">\n",
        "  <thead>\n",
        "    <tr style=\"text-align: right;\">\n",
        "      <th></th>\n",
        "      <th>age</th>\n",
        "      <th>workclass</th>\n",
        "      <th>fnlwgt</th>\n",
        "      <th>education</th>\n",
        "      <th>education-num</th>\n",
        "      <th>marital-status</th>\n",
        "      <th>occupation</th>\n",
        "      <th>relationship</th>\n",
        "      <th>race</th>\n",
        "      <th>sex</th>\n",
        "      <th>capital-gain</th>\n",
        "      <th>capital-loss</th>\n",
        "      <th>hours-per-week</th>\n",
        "      <th>native-country</th>\n",
        "      <th>income</th>\n",
        "    </tr>\n",
        "  </thead>\n",
        "  <tbody>\n",
        "    <tr>\n",
        "      <th>0</th>\n",
        "      <td> 50</td>\n",
        "      <td>  Self-emp-not-inc</td>\n",
        "      <td>  83311</td>\n",
        "      <td>  Bachelors</td>\n",
        "      <td> 13</td>\n",
        "      <td>  Married-civ-spouse</td>\n",
        "      <td>    Exec-managerial</td>\n",
        "      <td>        Husband</td>\n",
        "      <td>  White</td>\n",
        "      <td>    Male</td>\n",
        "      <td> 0</td>\n",
        "      <td> 0</td>\n",
        "      <td> 13</td>\n",
        "      <td>  United-States</td>\n",
        "      <td>  &lt;=50K</td>\n",
        "    </tr>\n",
        "    <tr>\n",
        "      <th>1</th>\n",
        "      <td> 38</td>\n",
        "      <td>           Private</td>\n",
        "      <td> 215646</td>\n",
        "      <td>    HS-grad</td>\n",
        "      <td>  9</td>\n",
        "      <td>            Divorced</td>\n",
        "      <td>  Handlers-cleaners</td>\n",
        "      <td>  Not-in-family</td>\n",
        "      <td>  White</td>\n",
        "      <td>    Male</td>\n",
        "      <td> 0</td>\n",
        "      <td> 0</td>\n",
        "      <td> 40</td>\n",
        "      <td>  United-States</td>\n",
        "      <td>  &lt;=50K</td>\n",
        "    </tr>\n",
        "    <tr>\n",
        "      <th>2</th>\n",
        "      <td> 53</td>\n",
        "      <td>           Private</td>\n",
        "      <td> 234721</td>\n",
        "      <td>       11th</td>\n",
        "      <td>  7</td>\n",
        "      <td>  Married-civ-spouse</td>\n",
        "      <td>  Handlers-cleaners</td>\n",
        "      <td>        Husband</td>\n",
        "      <td>  Black</td>\n",
        "      <td>    Male</td>\n",
        "      <td> 0</td>\n",
        "      <td> 0</td>\n",
        "      <td> 40</td>\n",
        "      <td>  United-States</td>\n",
        "      <td>  &lt;=50K</td>\n",
        "    </tr>\n",
        "    <tr>\n",
        "      <th>3</th>\n",
        "      <td> 28</td>\n",
        "      <td>           Private</td>\n",
        "      <td> 338409</td>\n",
        "      <td>  Bachelors</td>\n",
        "      <td> 13</td>\n",
        "      <td>  Married-civ-spouse</td>\n",
        "      <td>     Prof-specialty</td>\n",
        "      <td>           Wife</td>\n",
        "      <td>  Black</td>\n",
        "      <td>  Female</td>\n",
        "      <td> 0</td>\n",
        "      <td> 0</td>\n",
        "      <td> 40</td>\n",
        "      <td>           Cuba</td>\n",
        "      <td>  &lt;=50K</td>\n",
        "    </tr>\n",
        "    <tr>\n",
        "      <th>4</th>\n",
        "      <td> 37</td>\n",
        "      <td>           Private</td>\n",
        "      <td> 284582</td>\n",
        "      <td>    Masters</td>\n",
        "      <td> 14</td>\n",
        "      <td>  Married-civ-spouse</td>\n",
        "      <td>    Exec-managerial</td>\n",
        "      <td>           Wife</td>\n",
        "      <td>  White</td>\n",
        "      <td>  Female</td>\n",
        "      <td> 0</td>\n",
        "      <td> 0</td>\n",
        "      <td> 40</td>\n",
        "      <td>  United-States</td>\n",
        "      <td>  &lt;=50K</td>\n",
        "    </tr>\n",
        "  </tbody>\n",
        "</table>\n",
        "</div>"
       ],
       "metadata": {},
       "output_type": "pyout",
       "prompt_number": 68,
       "text": [
        "   age          workclass  fnlwgt   education  education-num  \\\n",
        "0   50   Self-emp-not-inc   83311   Bachelors             13   \n",
        "1   38            Private  215646     HS-grad              9   \n",
        "2   53            Private  234721        11th              7   \n",
        "3   28            Private  338409   Bachelors             13   \n",
        "4   37            Private  284582     Masters             14   \n",
        "\n",
        "        marital-status          occupation    relationship    race      sex  \\\n",
        "0   Married-civ-spouse     Exec-managerial         Husband   White     Male   \n",
        "1             Divorced   Handlers-cleaners   Not-in-family   White     Male   \n",
        "2   Married-civ-spouse   Handlers-cleaners         Husband   Black     Male   \n",
        "3   Married-civ-spouse      Prof-specialty            Wife   Black   Female   \n",
        "4   Married-civ-spouse     Exec-managerial            Wife   White   Female   \n",
        "\n",
        "   capital-gain  capital-loss  hours-per-week  native-country  income  \n",
        "0             0             0              13   United-States   <=50K  \n",
        "1             0             0              40   United-States   <=50K  \n",
        "2             0             0              40   United-States   <=50K  \n",
        "3             0             0              40            Cuba   <=50K  \n",
        "4             0             0              40   United-States   <=50K  "
       ]
      }
     ],
     "prompt_number": 68
    },
    {
     "cell_type": "code",
     "collapsed": false,
     "input": [
      "def assign_number(numb):\n",
      "    \n",
      "    income  = {}\n",
      "    income [' <=50K'] = 0\n",
      "    income [' >50K'] = 1\n",
      "\n",
      "    return income[numb]\n",
      "\n",
      "adult_df['income'] = adult_df['income'].map(assign_number)"
     ],
     "language": "python",
     "metadata": {},
     "outputs": [],
     "prompt_number": 69
    },
    {
     "cell_type": "code",
     "collapsed": false,
     "input": [
      "y = adult_df.income.values"
     ],
     "language": "python",
     "metadata": {},
     "outputs": [],
     "prompt_number": 70
    },
    {
     "cell_type": "code",
     "collapsed": false,
     "input": [
      "adult_df.income.mean()"
     ],
     "language": "python",
     "metadata": {},
     "outputs": [
      {
       "metadata": {},
       "output_type": "pyout",
       "prompt_number": 71,
       "text": [
        "0.24081695331695332"
       ]
      }
     ],
     "prompt_number": 71
    },
    {
     "cell_type": "code",
     "collapsed": false,
     "input": [
      "#from pandas.tools.plotting import scatter_matrix\n",
      "#scatter_matrix(adult_df, figsize = (15,15));"
     ],
     "language": "python",
     "metadata": {},
     "outputs": [],
     "prompt_number": 72
    },
    {
     "cell_type": "code",
     "collapsed": false,
     "input": [
      "X = adult_df.drop(['income', 'fnlwgt', 'education-num'], axis =1 )"
     ],
     "language": "python",
     "metadata": {},
     "outputs": [],
     "prompt_number": 73
    },
    {
     "cell_type": "code",
     "collapsed": false,
     "input": [
      "X = pd.get_dummies(X)"
     ],
     "language": "python",
     "metadata": {},
     "outputs": [],
     "prompt_number": 74
    },
    {
     "cell_type": "code",
     "collapsed": false,
     "input": [
      "X_scaled = preprocessing.scale(X)"
     ],
     "language": "python",
     "metadata": {},
     "outputs": [],
     "prompt_number": 75
    },
    {
     "cell_type": "code",
     "collapsed": false,
     "input": [
      "X_train, X_test, y_train, y_test = train_test_split(X_scaled, y, test_size=0.8)\n",
      "print X_train.shape\n",
      "print y_train.shape\n",
      "print y_train.mean()"
     ],
     "language": "python",
     "metadata": {},
     "outputs": [
      {
       "output_type": "stream",
       "stream": "stdout",
       "text": [
        "(6512, 106)\n",
        "(6512,)\n",
        "0.24308968059\n"
       ]
      }
     ],
     "prompt_number": 85
    },
    {
     "cell_type": "code",
     "collapsed": false,
     "input": [
      "clf = LogisticRegression(C = 10)\n",
      "clf.fit(X_train, y_train)\n",
      "y_pred = clf.predict(X_test)\n",
      "print clf.score(X_test, y_test)\n",
      "print confusion_matrix(y_test, y_pred)\n",
      "print classification_report(y_test, y_pred)"
     ],
     "language": "python",
     "metadata": {},
     "outputs": [
      {
       "output_type": "stream",
       "stream": "stdout",
       "text": [
        "0.850122850123\n",
        "[[18353  1437]\n",
        " [ 2467  3791]]\n",
        "             precision    recall  f1-score   support\n",
        "\n",
        "          0       0.88      0.93      0.90     19790\n",
        "          1       0.73      0.61      0.66      6258\n",
        "\n",
        "avg / total       0.84      0.85      0.85     26048\n",
        "\n"
       ]
      }
     ],
     "prompt_number": 86
    },
    {
     "cell_type": "code",
     "collapsed": false,
     "input": [
      "%%time\n",
      "\n",
      "d = {}\n",
      "d['C'] = np.logspace(-3,3,10)\n",
      "d['C']\n",
      "\n",
      "gs = GridSearchCV(LinearSVC(), d)\n",
      "gs.fit(X_train, y_train)\n",
      "\n",
      "print gs.score(X_train, y_train)\n",
      "print gs.best_params_,gs.best_score_\n",
      "print confusion_matrix(y_test, y_pred)\n",
      "print classification_report(y_test, y_pred)"
     ],
     "language": "python",
     "metadata": {},
     "outputs": [
      {
       "output_type": "stream",
       "stream": "stdout",
       "text": [
        "0.844594594595\n",
        "{'C': 0.10000000000000001} 0.837837837838\n",
        "[[18353  1437]\n",
        " [ 2467  3791]]\n",
        "             precision    recall  f1-score   support\n",
        "\n",
        "          0       0.88      0.93      0.90     19790\n",
        "          1       0.73      0.61      0.66      6258\n",
        "\n",
        "avg / total       0.84      0.85      0.85     26048\n",
        "\n",
        "CPU times: user 44.5 s, sys: 177 ms, total: 44.7 s\n",
        "Wall time: 44.8 s\n"
       ]
      }
     ],
     "prompt_number": 87
    },
    {
     "cell_type": "code",
     "collapsed": false,
     "input": [
      "%%time\n",
      "\n",
      "from sklearn.ensemble import RandomForestClassifier as RF\n",
      "\n",
      "clf = RF(n_estimators= 200)\n",
      "clf.fit(X_train, y_train)\n",
      "y_pred = clf.predict(X_test)\n",
      "print clf.score(X_test, y_test)\n",
      "print confusion_matrix(y_test, y_pred)\n",
      "print classification_report(y_test, y_pred)"
     ],
     "language": "python",
     "metadata": {},
     "outputs": [
      {
       "output_type": "stream",
       "stream": "stdout",
       "text": [
        "0.84839527027\n",
        "[[18215  1575]\n",
        " [ 2374  3884]]\n",
        "             precision    recall  f1-score   support\n",
        "\n",
        "          0       0.88      0.92      0.90     19790\n",
        "          1       0.71      0.62      0.66      6258\n",
        "\n",
        "avg / total       0.84      0.85      0.84     26048\n",
        "\n",
        "CPU times: user 3.9 s, sys: 109 ms, total: 4.01 s\n",
        "Wall time: 4 s\n"
       ]
      }
     ],
     "prompt_number": 88
    },
    {
     "cell_type": "code",
     "collapsed": false,
     "input": [
      "\n",
      "clf = KNN()\n",
      "clf.fit(X_train, y_train)\n",
      "y_pred = clf.predict(X_test)\n",
      "print clf.score(X_test, y_test)\n",
      "print confusion_matrix(y_test, y_pred)\n",
      "print classification_report(y_test, y_pred)"
     ],
     "language": "python",
     "metadata": {},
     "outputs": [
      {
       "output_type": "stream",
       "stream": "stdout",
       "text": [
        "0.817106879607\n",
        "[[17686  2104]\n",
        " [ 2660  3598]]\n",
        "             precision    recall  f1-score   support\n",
        "\n",
        "          0       0.87      0.89      0.88     19790\n",
        "          1       0.63      0.57      0.60      6258\n",
        "\n",
        "avg / total       0.81      0.82      0.81     26048\n",
        "\n"
       ]
      }
     ],
     "prompt_number": 89
    },
    {
     "cell_type": "code",
     "collapsed": false,
     "input": [],
     "language": "python",
     "metadata": {},
     "outputs": [],
     "prompt_number": 89
    },
    {
     "cell_type": "code",
     "collapsed": false,
     "input": [],
     "language": "python",
     "metadata": {},
     "outputs": []
    },
    {
     "cell_type": "code",
     "collapsed": false,
     "input": [],
     "language": "python",
     "metadata": {},
     "outputs": []
    },
    {
     "cell_type": "code",
     "collapsed": false,
     "input": [],
     "language": "python",
     "metadata": {},
     "outputs": []
    },
    {
     "cell_type": "code",
     "collapsed": false,
     "input": [],
     "language": "python",
     "metadata": {},
     "outputs": []
    },
    {
     "cell_type": "code",
     "collapsed": false,
     "input": [],
     "language": "python",
     "metadata": {},
     "outputs": []
    },
    {
     "cell_type": "code",
     "collapsed": false,
     "input": [],
     "language": "python",
     "metadata": {},
     "outputs": []
    },
    {
     "cell_type": "code",
     "collapsed": false,
     "input": [],
     "language": "python",
     "metadata": {},
     "outputs": []
    },
    {
     "cell_type": "code",
     "collapsed": false,
     "input": [],
     "language": "python",
     "metadata": {},
     "outputs": []
    },
    {
     "cell_type": "code",
     "collapsed": false,
     "input": [],
     "language": "python",
     "metadata": {},
     "outputs": []
    },
    {
     "cell_type": "code",
     "collapsed": false,
     "input": [],
     "language": "python",
     "metadata": {},
     "outputs": []
    },
    {
     "cell_type": "code",
     "collapsed": false,
     "input": [],
     "language": "python",
     "metadata": {},
     "outputs": []
    },
    {
     "cell_type": "code",
     "collapsed": false,
     "input": [],
     "language": "python",
     "metadata": {},
     "outputs": []
    },
    {
     "cell_type": "code",
     "collapsed": false,
     "input": [],
     "language": "python",
     "metadata": {},
     "outputs": []
    },
    {
     "cell_type": "code",
     "collapsed": false,
     "input": [],
     "language": "python",
     "metadata": {},
     "outputs": []
    },
    {
     "cell_type": "code",
     "collapsed": false,
     "input": [],
     "language": "python",
     "metadata": {},
     "outputs": []
    },
    {
     "cell_type": "code",
     "collapsed": false,
     "input": [],
     "language": "python",
     "metadata": {},
     "outputs": []
    },
    {
     "cell_type": "code",
     "collapsed": false,
     "input": [],
     "language": "python",
     "metadata": {},
     "outputs": []
    },
    {
     "cell_type": "code",
     "collapsed": false,
     "input": [],
     "language": "python",
     "metadata": {},
     "outputs": []
    }
   ],
   "metadata": {}
  }
 ]
}