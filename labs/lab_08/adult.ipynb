{
 "metadata": {
  "name": "",
  "signature": "sha256:ed71b268506494b364711b8f1c0d631e4ceecc93d3aa0160feab913407675208"
 },
 "nbformat": 3,
 "nbformat_minor": 0,
 "worksheets": [
  {
   "cells": [
    {
     "cell_type": "markdown",
     "metadata": {},
     "source": [
      "#Adult Data Set\n",
      "Prediction task is to determine whether a person makes over 50K a year.<br>\n",
      "Use this Notebook to do your exploration and modeling."
     ]
    },
    {
     "cell_type": "markdown",
     "metadata": {},
     "source": [
      "###But first, a protip"
     ]
    },
    {
     "cell_type": "code",
     "collapsed": false,
     "input": [
      "import pandas as pd\n",
      "from sklearn import preprocessing\n",
      "import numpy as np\n",
      "import seaborn as sns\n",
      "import matplotlib.pyplot as plt\n",
      "# enables inline Plots\n",
      "%matplotlib inline"
     ],
     "language": "python",
     "metadata": {},
     "outputs": [],
     "prompt_number": 2
    },
    {
     "cell_type": "code",
     "collapsed": false,
     "input": [
      "%matplotlib inline\n",
      "\n",
      "from sklearn.linear_model import LinearRegression\n",
      "from sklearn.linear_model import Ridge\n",
      "from sklearn.preprocessing import PolynomialFeatures\n",
      "from sklearn.pipeline import make_pipeline\n",
      "from sklearn.cross_validation import train_test_split\n",
      "from sklearn.linear_model import LogisticRegression\n",
      "from sklearn.cross_validation import train_test_split\n",
      "from sklearn.svm import LinearSVC\n",
      "from sklearn.grid_search import GridSearchCV\n",
      "from sklearn.svm import SVC\n",
      "from sklearn.metrics import confusion_matrix, classification_report\n",
      "from sklearn.neighbors import KNeighborsClassifier as KNN\n",
      "\n",
      "\n",
      "import matplotlib.pylab as plt\n",
      "np.random.seed(9)"
     ],
     "language": "python",
     "metadata": {},
     "outputs": [],
     "prompt_number": 11
    },
    {
     "cell_type": "code",
     "collapsed": false,
     "input": [
      "cols = ['age',\n",
      "        'workclass',\n",
      "        'fnlwgt',\n",
      "        'education',\n",
      "        'education-num',\n",
      "        'marital-status',\n",
      "        'occupation',\n",
      "        'relationship',\n",
      "        'race',\n",
      "        'sex',\n",
      "        'capital-gain',\n",
      "        'capital-loss',\n",
      "        'hours-per-week',\n",
      "        'native-country',\n",
      "        'income']\n",
      "adult_df = pd.read_csv('http://archive.ics.uci.edu/ml/machine-learning-databases/adult/adult.data',\n",
      "                       header=0,names=cols, index_col = False)"
     ],
     "language": "python",
     "metadata": {},
     "outputs": [],
     "prompt_number": 4
    },
    {
     "cell_type": "markdown",
     "metadata": {},
     "source": [
      "###Now, you're on your own."
     ]
    },
    {
     "cell_type": "code",
     "collapsed": false,
     "input": [
      "adult_df.head()"
     ],
     "language": "python",
     "metadata": {},
     "outputs": [
      {
       "html": [
        "<div style=\"max-height:1000px;max-width:1500px;overflow:auto;\">\n",
        "<table border=\"1\" class=\"dataframe\">\n",
        "  <thead>\n",
        "    <tr style=\"text-align: right;\">\n",
        "      <th></th>\n",
        "      <th>age</th>\n",
        "      <th>workclass</th>\n",
        "      <th>fnlwgt</th>\n",
        "      <th>education</th>\n",
        "      <th>education-num</th>\n",
        "      <th>marital-status</th>\n",
        "      <th>occupation</th>\n",
        "      <th>relationship</th>\n",
        "      <th>race</th>\n",
        "      <th>sex</th>\n",
        "      <th>capital-gain</th>\n",
        "      <th>capital-loss</th>\n",
        "      <th>hours-per-week</th>\n",
        "      <th>native-country</th>\n",
        "      <th>income</th>\n",
        "    </tr>\n",
        "  </thead>\n",
        "  <tbody>\n",
        "    <tr>\n",
        "      <th>0</th>\n",
        "      <td> 50</td>\n",
        "      <td>  Self-emp-not-inc</td>\n",
        "      <td>  83311</td>\n",
        "      <td>  Bachelors</td>\n",
        "      <td> 13</td>\n",
        "      <td>  Married-civ-spouse</td>\n",
        "      <td>    Exec-managerial</td>\n",
        "      <td>        Husband</td>\n",
        "      <td>  White</td>\n",
        "      <td>    Male</td>\n",
        "      <td> 0</td>\n",
        "      <td> 0</td>\n",
        "      <td> 13</td>\n",
        "      <td>  United-States</td>\n",
        "      <td>  &lt;=50K</td>\n",
        "    </tr>\n",
        "    <tr>\n",
        "      <th>1</th>\n",
        "      <td> 38</td>\n",
        "      <td>           Private</td>\n",
        "      <td> 215646</td>\n",
        "      <td>    HS-grad</td>\n",
        "      <td>  9</td>\n",
        "      <td>            Divorced</td>\n",
        "      <td>  Handlers-cleaners</td>\n",
        "      <td>  Not-in-family</td>\n",
        "      <td>  White</td>\n",
        "      <td>    Male</td>\n",
        "      <td> 0</td>\n",
        "      <td> 0</td>\n",
        "      <td> 40</td>\n",
        "      <td>  United-States</td>\n",
        "      <td>  &lt;=50K</td>\n",
        "    </tr>\n",
        "    <tr>\n",
        "      <th>2</th>\n",
        "      <td> 53</td>\n",
        "      <td>           Private</td>\n",
        "      <td> 234721</td>\n",
        "      <td>       11th</td>\n",
        "      <td>  7</td>\n",
        "      <td>  Married-civ-spouse</td>\n",
        "      <td>  Handlers-cleaners</td>\n",
        "      <td>        Husband</td>\n",
        "      <td>  Black</td>\n",
        "      <td>    Male</td>\n",
        "      <td> 0</td>\n",
        "      <td> 0</td>\n",
        "      <td> 40</td>\n",
        "      <td>  United-States</td>\n",
        "      <td>  &lt;=50K</td>\n",
        "    </tr>\n",
        "    <tr>\n",
        "      <th>3</th>\n",
        "      <td> 28</td>\n",
        "      <td>           Private</td>\n",
        "      <td> 338409</td>\n",
        "      <td>  Bachelors</td>\n",
        "      <td> 13</td>\n",
        "      <td>  Married-civ-spouse</td>\n",
        "      <td>     Prof-specialty</td>\n",
        "      <td>           Wife</td>\n",
        "      <td>  Black</td>\n",
        "      <td>  Female</td>\n",
        "      <td> 0</td>\n",
        "      <td> 0</td>\n",
        "      <td> 40</td>\n",
        "      <td>           Cuba</td>\n",
        "      <td>  &lt;=50K</td>\n",
        "    </tr>\n",
        "    <tr>\n",
        "      <th>4</th>\n",
        "      <td> 37</td>\n",
        "      <td>           Private</td>\n",
        "      <td> 284582</td>\n",
        "      <td>    Masters</td>\n",
        "      <td> 14</td>\n",
        "      <td>  Married-civ-spouse</td>\n",
        "      <td>    Exec-managerial</td>\n",
        "      <td>           Wife</td>\n",
        "      <td>  White</td>\n",
        "      <td>  Female</td>\n",
        "      <td> 0</td>\n",
        "      <td> 0</td>\n",
        "      <td> 40</td>\n",
        "      <td>  United-States</td>\n",
        "      <td>  &lt;=50K</td>\n",
        "    </tr>\n",
        "  </tbody>\n",
        "</table>\n",
        "</div>"
       ],
       "metadata": {},
       "output_type": "pyout",
       "prompt_number": 5,
       "text": [
        "   age          workclass  fnlwgt   education  education-num  \\\n",
        "0   50   Self-emp-not-inc   83311   Bachelors             13   \n",
        "1   38            Private  215646     HS-grad              9   \n",
        "2   53            Private  234721        11th              7   \n",
        "3   28            Private  338409   Bachelors             13   \n",
        "4   37            Private  284582     Masters             14   \n",
        "\n",
        "        marital-status          occupation    relationship    race      sex  \\\n",
        "0   Married-civ-spouse     Exec-managerial         Husband   White     Male   \n",
        "1             Divorced   Handlers-cleaners   Not-in-family   White     Male   \n",
        "2   Married-civ-spouse   Handlers-cleaners         Husband   Black     Male   \n",
        "3   Married-civ-spouse      Prof-specialty            Wife   Black   Female   \n",
        "4   Married-civ-spouse     Exec-managerial            Wife   White   Female   \n",
        "\n",
        "   capital-gain  capital-loss  hours-per-week  native-country  income  \n",
        "0             0             0              13   United-States   <=50K  \n",
        "1             0             0              40   United-States   <=50K  \n",
        "2             0             0              40   United-States   <=50K  \n",
        "3             0             0              40            Cuba   <=50K  \n",
        "4             0             0              40   United-States   <=50K  "
       ]
      }
     ],
     "prompt_number": 5
    },
    {
     "cell_type": "code",
     "collapsed": false,
     "input": [
      "adult_df.hist();"
     ],
     "language": "python",
     "metadata": {},
     "outputs": [
      {
       "metadata": {},
       "output_type": "display_data",
       "png": "[encoded data removed]",
       "text": [
        "<matplotlib.figure.Figure at 0x10a5aa410>"
       ]
      }
     ],
     "prompt_number": 7
    },
    {
     "cell_type": "code",
     "collapsed": false,
     "input": [
      "adult_df.info()"
     ],
     "language": "python",
     "metadata": {},
     "outputs": [
      {
       "output_type": "stream",
       "stream": "stdout",
       "text": [
        "<class 'pandas.core.frame.DataFrame'>\n",
        "Int64Index: 32560 entries, 0 to 32559\n",
        "Data columns (total 15 columns):\n",
        "age               32560 non-null int64\n",
        "workclass         32560 non-null object\n",
        "fnlwgt            32560 non-null int64\n",
        "education         32560 non-null object\n",
        "education-num     32560 non-null int64\n",
        "marital-status    32560 non-null object\n",
        "occupation        32560 non-null object\n",
        "relationship      32560 non-null object\n",
        "race              32560 non-null object\n",
        "sex               32560 non-null object\n",
        "capital-gain      32560 non-null int64\n",
        "capital-loss      32560 non-null int64\n",
        "hours-per-week    32560 non-null int64\n",
        "native-country    32560 non-null object\n",
        "income            32560 non-null object\n",
        "dtypes: int64(6), object(9)\n",
        "memory usage: 4.0+ MB\n"
       ]
      }
     ],
     "prompt_number": 14
    },
    {
     "cell_type": "code",
     "collapsed": false,
     "input": [
      "def assign_number(numb):\n",
      "    \n",
      "    income  = {}\n",
      "    income [' <=50K'] = 0\n",
      "    income [' >50K'] = 1\n",
      "\n",
      "    return income[numb]\n",
      "\n",
      "adult_df['income'] = adult_df['income'].map(assign_number)"
     ],
     "language": "python",
     "metadata": {},
     "outputs": [],
     "prompt_number": 219
    },
    {
     "cell_type": "code",
     "collapsed": false,
     "input": [
      "y = adult_df.income.values"
     ],
     "language": "python",
     "metadata": {},
     "outputs": [],
     "prompt_number": 220
    },
    {
     "cell_type": "code",
     "collapsed": false,
     "input": [
      "adult_df.income.mean()"
     ],
     "language": "python",
     "metadata": {},
     "outputs": [
      {
       "metadata": {},
       "output_type": "pyout",
       "prompt_number": 221,
       "text": [
        "0.24081695331695332"
       ]
      }
     ],
     "prompt_number": 221
    },
    {
     "cell_type": "code",
     "collapsed": false,
     "input": [
      "#from pandas.tools.plotting import scatter_matrix\n",
      "#scatter_matrix(adult_df, figsize = (15,15));"
     ],
     "language": "python",
     "metadata": {},
     "outputs": [],
     "prompt_number": 222
    },
    {
     "cell_type": "code",
     "collapsed": false,
     "input": [
      "adult_df.info()"
     ],
     "language": "python",
     "metadata": {},
     "outputs": [
      {
       "output_type": "stream",
       "stream": "stdout",
       "text": [
        "<class 'pandas.core.frame.DataFrame'>\n",
        "Int64Index: 32560 entries, 0 to 32559\n",
        "Data columns (total 15 columns):\n",
        "age               32560 non-null int64\n",
        "workclass         32560 non-null object\n",
        "fnlwgt            32560 non-null int64\n",
        "education         32560 non-null object\n",
        "education-num     32560 non-null int64\n",
        "marital-status    32560 non-null object\n",
        "occupation        32560 non-null object\n",
        "relationship      32560 non-null object\n",
        "race              32560 non-null object\n",
        "sex               32560 non-null object\n",
        "capital-gain      32560 non-null int64\n",
        "capital-loss      32560 non-null int64\n",
        "hours-per-week    32560 non-null int64\n",
        "native-country    32560 non-null object\n",
        "income            32560 non-null int64\n",
        "dtypes: int64(7), object(8)\n",
        "memory usage: 4.0+ MB\n"
       ]
      }
     ],
     "prompt_number": 227
    },
    {
     "cell_type": "code",
     "collapsed": false,
     "input": [
      "adult_df.groupby(['native-country'])['income'].sum().order(ascending = False)"
     ],
     "language": "python",
     "metadata": {},
     "outputs": [
      {
       "metadata": {},
       "output_type": "pyout",
       "prompt_number": 223,
       "text": [
        "native-country\n",
        " United-States                 7171\n",
        " ?                              146\n",
        " Philippines                     61\n",
        " Germany                         44\n",
        " India                           40\n",
        " Canada                          39\n",
        " Mexico                          33\n",
        " England                         30\n",
        " Cuba                            25\n",
        " Italy                           25\n",
        " Japan                           24\n",
        " China                           20\n",
        " Taiwan                          20\n",
        " Iran                            18\n",
        " South                           16\n",
        " Puerto-Rico                     12\n",
        " Poland                          12\n",
        " France                          12\n",
        " Jamaica                         10\n",
        " El-Salvador                      9\n",
        " Greece                           8\n",
        " Cambodia                         7\n",
        " Hong                             6\n",
        " Yugoslavia                       6\n",
        " Vietnam                          5\n",
        " Ireland                          5\n",
        " Ecuador                          4\n",
        " Haiti                            4\n",
        " Portugal                         4\n",
        " Scotland                         3\n",
        " Thailand                         3\n",
        " Guatemala                        3\n",
        " Hungary                          3\n",
        " Dominican-Republic               2\n",
        " Columbia                         2\n",
        " Peru                             2\n",
        " Trinadad&Tobago                  2\n",
        " Laos                             2\n",
        " Nicaragua                        2\n",
        " Honduras                         1\n",
        " Outlying-US(Guam-USVI-etc)       0\n",
        " Holand-Netherlands               0\n",
        "Name: income, dtype: int64"
       ]
      }
     ],
     "prompt_number": 223
    },
    {
     "cell_type": "code",
     "collapsed": false,
     "input": [
      "X = adult_df.drop([\n",
      "        'fnlwgt',\n",
      "        'education-num',\n",
      "        'native-country',\n",
      "        'income'], axis =1 )\n",
      "\n",
      "X = pd.get_dummies(X)\n",
      "X_scaled = preprocessing.scale(X)"
     ],
     "language": "python",
     "metadata": {},
     "outputs": [],
     "prompt_number": 224
    },
    {
     "cell_type": "code",
     "collapsed": false,
     "input": [
      "X_train, X_test, y_train, y_test = train_test_split(X_scaled, y, test_size=0.8)\n",
      "print X_train.shape\n",
      "print y_train.shape\n",
      "print y_train.mean()"
     ],
     "language": "python",
     "metadata": {},
     "outputs": [
      {
       "output_type": "stream",
       "stream": "stdout",
       "text": [
        "(6512, 64)\n",
        "(6512,)\n",
        "0.242782555283\n"
       ]
      }
     ],
     "prompt_number": 212
    },
    {
     "cell_type": "heading",
     "level": 1,
     "metadata": {},
     "source": [
      "LogisticRegression"
     ]
    },
    {
     "cell_type": "code",
     "collapsed": false,
     "input": [
      "%%time\n",
      "clf = LogisticRegression(C = 10)\n",
      "clf.fit(X_train, y_train)\n",
      "y_pred = clf.predict(X_test)\n",
      "print clf.score(X_test, y_test)\n",
      "print confusion_matrix(y_test, y_pred)\n",
      "print classification_report(y_test, y_pred)"
     ],
     "language": "python",
     "metadata": {},
     "outputs": [
      {
       "output_type": "stream",
       "stream": "stdout",
       "text": [
        "0.849508599509\n",
        "[[18348  1440]\n",
        " [ 2480  3780]]\n",
        "             precision    recall  f1-score   support\n",
        "\n",
        "          0       0.88      0.93      0.90     19788\n",
        "          1       0.72      0.60      0.66      6260\n",
        "\n",
        "avg / total       0.84      0.85      0.84     26048\n",
        "\n",
        "CPU times: user 287 ms, sys: 4.15 ms, total: 292 ms\n",
        "Wall time: 291 ms\n"
       ]
      }
     ],
     "prompt_number": 189
    },
    {
     "cell_type": "heading",
     "level": 1,
     "metadata": {},
     "source": [
      "GridSearchCV, LinearSVC"
     ]
    },
    {
     "cell_type": "code",
     "collapsed": false,
     "input": [
      "%%time\n",
      "\n",
      "from sklearn.svm import LinearSVC\n",
      "from sklearn.grid_search import GridSearchCV\n",
      "\n",
      "d = {}\n",
      "d['C'] = np.logspace(-3,3,1)\n",
      "d['C']\n",
      "\n",
      "gs = GridSearchCV(LinearSVC(), d)\n",
      "gs.fit(X_train, y_train)\n",
      "y_pred = gs.predict(X_test)\n",
      "\n",
      "print gs.score(X_train, y_train)\n",
      "print gs.best_params_,gs.best_score_\n",
      "print confusion_matrix(y_test, y_pred)\n",
      "print classification_report(y_test, y_pred)"
     ],
     "language": "python",
     "metadata": {},
     "outputs": [
      {
       "output_type": "stream",
       "stream": "stdout",
       "text": [
        "0.9675\n",
        "{'C': 0.001} 0.96125\n",
        "[[177   9]\n",
        " [  2  12]]"
       ]
      },
      {
       "output_type": "stream",
       "stream": "stdout",
       "text": [
        "\n",
        "             precision    recall  f1-score   support\n",
        "\n",
        "          0       0.99      0.95      0.97       186\n",
        "          1       0.57      0.86      0.69        14\n",
        "\n",
        "avg / total       0.96      0.94      0.95       200\n",
        "\n",
        "CPU times: user 171 ms, sys: 2.04 ms, total: 173 ms"
       ]
      },
      {
       "output_type": "stream",
       "stream": "stdout",
       "text": [
        "\n",
        "Wall time: 339 ms\n"
       ]
      }
     ],
     "prompt_number": 8
    },
    {
     "cell_type": "heading",
     "level": 2,
     "metadata": {},
     "source": [
      "RandomForestClassifier"
     ]
    },
    {
     "cell_type": "code",
     "collapsed": false,
     "input": [
      "%%time\n",
      "\n",
      "from sklearn.ensemble import RandomForestClassifier as RF\n",
      "\n",
      "clf = RF(n_estimators= 100)\n",
      "clf.fit(X_train, y_train)\n",
      "y_pred = clf.predict(X_test)\n",
      "print clf.score(X_test, y_test)\n",
      "print confusion_matrix(y_test, y_pred)\n",
      "print classification_report(y_test, y_pred)"
     ],
     "language": "python",
     "metadata": {},
     "outputs": [
      {
       "output_type": "stream",
       "stream": "stdout",
       "text": [
        "0.845170454545\n",
        "[[18125  1663]\n",
        " [ 2370  3890]]\n",
        "             precision    recall  f1-score   support\n",
        "\n",
        "          0       0.88      0.92      0.90     19788\n",
        "          1       0.70      0.62      0.66      6260\n",
        "\n",
        "avg / total       0.84      0.85      0.84     26048\n",
        "\n",
        "CPU times: user 1.63 s, sys: 51.1 ms, total: 1.68 s\n",
        "Wall time: 1.67 s\n"
       ]
      }
     ],
     "prompt_number": 187
    },
    {
     "cell_type": "heading",
     "level": 1,
     "metadata": {},
     "source": [
      "KNeighborsClassifier"
     ]
    },
    {
     "cell_type": "code",
     "collapsed": false,
     "input": [
      "%%time\n",
      "from sklearn.neighbors import KNeighborsClassifier as KNN\n",
      "\n",
      "clf = KNN()\n",
      "clf.fit(X_train, y_train)\n",
      "y_pred = clf.predict(X_test)\n",
      "print clf.score(X_test, y_test)\n",
      "print confusion_matrix(y_test, y_pred)\n",
      "print classification_report(y_test, y_pred)"
     ],
     "language": "python",
     "metadata": {},
     "outputs": [
      {
       "output_type": "stream",
       "stream": "stdout",
       "text": [
        "0.819755835381\n",
        "[[17833  1955]\n",
        " [ 2740  3520]]\n",
        "             precision    recall  f1-score   support\n",
        "\n",
        "          0       0.87      0.90      0.88     19788\n",
        "          1       0.64      0.56      0.60      6260\n",
        "\n",
        "avg / total       0.81      0.82      0.82     26048\n",
        "\n",
        "CPU times: user 38.2 s, sys: 125 ms, total: 38.3 s\n",
        "Wall time: 38.5 s\n"
       ]
      }
     ],
     "prompt_number": 188
    },
    {
     "cell_type": "code",
     "collapsed": false,
     "input": [],
     "language": "python",
     "metadata": {},
     "outputs": [],
     "prompt_number": 188
    },
    {
     "cell_type": "code",
     "collapsed": false,
     "input": [],
     "language": "python",
     "metadata": {},
     "outputs": [],
     "prompt_number": 17
    },
    {
     "cell_type": "code",
     "collapsed": false,
     "input": [],
     "language": "python",
     "metadata": {},
     "outputs": []
    },
    {
     "cell_type": "code",
     "collapsed": false,
     "input": [],
     "language": "python",
     "metadata": {},
     "outputs": []
    },
    {
     "cell_type": "code",
     "collapsed": false,
     "input": [],
     "language": "python",
     "metadata": {},
     "outputs": []
    },
    {
     "cell_type": "code",
     "collapsed": false,
     "input": [],
     "language": "python",
     "metadata": {},
     "outputs": []
    },
    {
     "cell_type": "code",
     "collapsed": false,
     "input": [],
     "language": "python",
     "metadata": {},
     "outputs": [],
     "prompt_number": 17
    },
    {
     "cell_type": "code",
     "collapsed": false,
     "input": [],
     "language": "python",
     "metadata": {},
     "outputs": [],
     "prompt_number": 17
    },
    {
     "cell_type": "heading",
     "level": 1,
     "metadata": {},
     "source": [
      "Stratified Sample"
     ]
    },
    {
     "cell_type": "code",
     "collapsed": false,
     "input": [
      "####   Stratified Sample   #####\n",
      "\n",
      "\n",
      "adult_df_0 = adult_df[adult_df.income == 0]\n",
      "adult_df_1 = adult_df[adult_df.income == 1]\n",
      "\n",
      "print adult_df_1.count().max()\n",
      "\n",
      "# How to take a random sample of rows\n",
      "rows = np.random.choice(adult_df_0.index.values, 7841)\n",
      "\n",
      "# How to assign sample to data frame\n",
      "adult_df_0_sample = adult_df_0.ix[rows]\n",
      "\n",
      "#test to see if it worked\n",
      "adult_df_SS = pd.concat([adult_df_0_sample, adult_df_1])\n",
      "print 'mean:', adult_df_SS.income.mean()\n",
      "print 'count:',adult_df_SS.income.count()\n",
      "\n",
      "y_SS = adult_df_SS.income.values\n",
      "y_SS.sum()"
     ],
     "language": "python",
     "metadata": {},
     "outputs": [
      {
       "output_type": "stream",
       "stream": "stdout",
       "text": [
        "7841\n",
        "mean: 0.5\n",
        "count: 15682\n"
       ]
      },
      {
       "metadata": {},
       "output_type": "pyout",
       "prompt_number": 190,
       "text": [
        "7841"
       ]
      }
     ],
     "prompt_number": 190
    },
    {
     "cell_type": "code",
     "collapsed": false,
     "input": [
      "X_SS = adult_df_SS.drop([\n",
      "        'fnlwgt',\n",
      "        'education-num',\n",
      "        'native-country',\n",
      "        'income'], axis =1 )\n",
      "X_SS = pd.get_dummies(X_SS)\n",
      "X_scaled_SS = preprocessing.scale(X_SS)"
     ],
     "language": "python",
     "metadata": {},
     "outputs": [],
     "prompt_number": 191
    },
    {
     "cell_type": "code",
     "collapsed": false,
     "input": [
      "X_train_SS, X_test_SS, y_train_SS, y_test_SS = train_test_split(X_scaled_SS, y_SS, test_size=0.2)"
     ],
     "language": "python",
     "metadata": {},
     "outputs": [],
     "prompt_number": 192
    },
    {
     "cell_type": "code",
     "collapsed": false,
     "input": [
      "print X_train_SS.shape\n",
      "print y_train_SS.shape\n",
      "print y_train_SS.mean()"
     ],
     "language": "python",
     "metadata": {},
     "outputs": [
      {
       "output_type": "stream",
       "stream": "stdout",
       "text": [
        "(12545, 64)\n",
        "(12545,)\n",
        "0.499242726186\n"
       ]
      }
     ],
     "prompt_number": 193
    },
    {
     "cell_type": "code",
     "collapsed": false,
     "input": [
      "%%time\n",
      "clf = LogisticRegression(C = 10)\n",
      "clf.fit(X_train_SS, y_train_SS)\n",
      "y_pred_SS = clf.predict(X_test_SS)\n",
      "print clf.score(X_test_SS, y_test_SS)\n",
      "print confusion_matrix(y_test_SS, y_pred_SS)\n",
      "print classification_report(y_test_SS, y_pred_SS)"
     ],
     "language": "python",
     "metadata": {},
     "outputs": [
      {
       "output_type": "stream",
       "stream": "stdout",
       "text": [
        "0.819572840293\n",
        "[[1226  333]\n",
        " [ 233 1345]]\n",
        "             precision    recall  f1-score   support\n",
        "\n",
        "          0       0.84      0.79      0.81      1559\n",
        "          1       0.80      0.85      0.83      1578\n",
        "\n",
        "avg / total       0.82      0.82      0.82      3137\n",
        "\n",
        "CPU times: user 310 ms, sys: 4.39 ms, total: 314 ms\n",
        "Wall time: 314 ms\n"
       ]
      }
     ],
     "prompt_number": 194
    },
    {
     "cell_type": "code",
     "collapsed": false,
     "input": [
      "%%time\n",
      "clf = LogisticRegression(C = 10)\n",
      "clf.fit(X_train_SS, y_train_SS)\n",
      "y_pred = clf.predict(X_test)\n",
      "print clf.score(X_test, y_test)\n",
      "print confusion_matrix(y_test, y_pred)\n",
      "print classification_report(y_test, y_pred)"
     ],
     "language": "python",
     "metadata": {},
     "outputs": [
      {
       "output_type": "stream",
       "stream": "stdout",
       "text": [
        "0.724009520885\n",
        "[[12922  6866]\n",
        " [  323  5937]]\n",
        "             precision    recall  f1-score   support\n",
        "\n",
        "          0       0.98      0.65      0.78     19788\n",
        "          1       0.46      0.95      0.62      6260\n",
        "\n",
        "avg / total       0.85      0.72      0.74     26048\n",
        "\n",
        "CPU times: user 339 ms, sys: 4.56 ms, total: 343 ms\n",
        "Wall time: 344 ms\n"
       ]
      }
     ],
     "prompt_number": 195
    },
    {
     "cell_type": "code",
     "collapsed": false,
     "input": [
      "# adding y_pred from SS model\n",
      "X_test_P = pd.DataFrame(X_test)\n",
      "X_test_P[64] = y_pred\n",
      "X_test_P.shape"
     ],
     "language": "python",
     "metadata": {},
     "outputs": [
      {
       "metadata": {},
       "output_type": "pyout",
       "prompt_number": 196,
       "text": [
        "(26048, 65)"
       ]
      }
     ],
     "prompt_number": 196
    },
    {
     "cell_type": "code",
     "collapsed": false,
     "input": [
      "# converting to 2D numpy\n",
      "X_test_P = X_test_P.values"
     ],
     "language": "python",
     "metadata": {},
     "outputs": [],
     "prompt_number": 197
    },
    {
     "cell_type": "code",
     "collapsed": false,
     "input": [
      "# using X_test with y_pred values to re-run model predicting y\n",
      "X_train_P, X_test_P, y_train_P, y_test_P = train_test_split(X_test_P, y_test, test_size=0.2)"
     ],
     "language": "python",
     "metadata": {},
     "outputs": [],
     "prompt_number": 198
    },
    {
     "cell_type": "code",
     "collapsed": false,
     "input": [
      "%%time\n",
      "clf = RF(n_estimators= 100)\n",
      "clf.fit(X_train_P, y_train_P)\n",
      "y_pred_final = clf.predict(X_test_P)\n",
      "print clf.score(X_test_P, y_test_P)\n",
      "print confusion_matrix(y_test_P, y_pred_final)\n",
      "print classification_report(y_test_P, y_pred_final)"
     ],
     "language": "python",
     "metadata": {},
     "outputs": [
      {
       "output_type": "stream",
       "stream": "stdout",
       "text": [
        "0.852783109405\n",
        "[[3687  304]\n",
        " [ 463  756]]\n",
        "             precision    recall  f1-score   support\n",
        "\n",
        "          0       0.89      0.92      0.91      3991\n",
        "          1       0.71      0.62      0.66      1219\n",
        "\n",
        "avg / total       0.85      0.85      0.85      5210\n",
        "\n",
        "CPU times: user 3.35 s, sys: 67.5 ms, total: 3.42 s\n",
        "Wall time: 3.43 s\n"
       ]
      }
     ],
     "prompt_number": 199
    },
    {
     "cell_type": "code",
     "collapsed": false,
     "input": [],
     "language": "python",
     "metadata": {},
     "outputs": []
    },
    {
     "cell_type": "code",
     "collapsed": false,
     "input": [],
     "language": "python",
     "metadata": {},
     "outputs": []
    },
    {
     "cell_type": "code",
     "collapsed": false,
     "input": [],
     "language": "python",
     "metadata": {},
     "outputs": []
    },
    {
     "cell_type": "code",
     "collapsed": false,
     "input": [],
     "language": "python",
     "metadata": {},
     "outputs": []
    },
    {
     "cell_type": "code",
     "collapsed": false,
     "input": [],
     "language": "python",
     "metadata": {},
     "outputs": []
    },
    {
     "cell_type": "code",
     "collapsed": false,
     "input": [],
     "language": "python",
     "metadata": {},
     "outputs": [],
     "prompt_number": 199
    },
    {
     "cell_type": "code",
     "collapsed": false,
     "input": [],
     "language": "python",
     "metadata": {},
     "outputs": [],
     "prompt_number": 231
    },
    {
     "cell_type": "heading",
     "level": 1,
     "metadata": {},
     "source": [
      "Predicting country of origin"
     ]
    },
    {
     "cell_type": "code",
     "collapsed": false,
     "input": [
      "### Seperate by Target Variable, asign 0 or 1 ###\n",
      "\n",
      "adult_df_0 = adult_df[adult_df['native-country'] != ' India']\n",
      "adult_df_1 = adult_df[adult_df['native-country'] == ' India']\n",
      "     # asign 0 or 1 #\n",
      "adult_df_0['native-country'] = 0\n",
      "adult_df_1['native-country'] = 1\n",
      "\n",
      "# concating reg df with 0, 1 for y\n",
      "adult_df_binary_y = pd.concat([adult_df_0, adult_df_1])\n",
      "\n",
      "adult_df_binary_y['native-country'].sum()"
     ],
     "language": "python",
     "metadata": {},
     "outputs": [
      {
       "metadata": {},
       "output_type": "pyout",
       "prompt_number": 246,
       "text": [
        "100"
       ]
      }
     ],
     "prompt_number": 246
    },
    {
     "cell_type": "heading",
     "level": 2,
     "metadata": {},
     "source": [
      "Stratified Sample"
     ]
    },
    {
     "cell_type": "code",
     "collapsed": false,
     "input": [
      "### get dummies BEFORE creating stratified sample ###\n",
      "# this way avoids losing columns #\n",
      "\n",
      "adult_df_binary_y_dummies = pd.get_dummies(adult_df_binary_y)\n",
      "adult_df_binary_y_dummies_dropped = adult_df_binary_y_dummies.drop(['fnlwgt','education-num'], axis =1)\n",
      "adult_df_0_dummies = adult_df_binary_y_dummies_dropped[adult_df_binary_y_dummies_dropped['native-country'] == 0]\n",
      "adult_df_1_dummies = adult_df_binary_y_dummies_dropped[adult_df_binary_y_dummies_dropped['native-country'] == 1]\n",
      "\n",
      "## Take a Random Sample of Rows ##\n",
      "rows = np.random.choice(adult_df_0_dummies.index.values, 2000)\n",
      "\n",
      "# assign sample to data frame #\n",
      "adult_df_0_dummies_sample = adult_df_0_dummies.ix[rows]\n",
      "\n",
      "# concating Stratified Sample df #\n",
      "adult_df_SS_dummies = pd.concat([adult_df_0_dummies_sample, adult_df_1_dummies])\n",
      "\n",
      "\n",
      "### Split Feature and Target ###\n",
      "\n",
      "print '''\\n Feature and Target, Stratified Sample \\n'''\n",
      "\n",
      "print 'num of target \"1\" in adult_df_SS_dummies: \\t', adult_df_SS_dummies['native-country'].sum()\n",
      "print 'mean in adult_df_SS_dummies: \\t\\t\\t', adult_df_SS_dummies['native-country'].mean()\n",
      "print 'count in adult_df_SS_dummies: \\t\\t\\t',adult_df_SS_dummies['native-country'].count()\n",
      "\n",
      "\n",
      "## for y ##\n",
      "y_SS = adult_df_SS_dummies['native-country'].values\n",
      "\n",
      "print 'sum of target \"1\" in y_SS: \\t\\t\\t', y_SS.sum()\n",
      "print 'count of target \"1\" in y_SS: \\t\\t\\t', adult_df_SS_dummies['native-country'].count()\n",
      "\n",
      "## for X ##\n",
      "adult_df_SS_dummies_for_X = adult_df_SS_dummies.drop(['native-country'], axis = 1)\n",
      "\n",
      "X_SS_dummies_scaled = preprocessing.scale(adult_df_SS_dummies_for_X)\n",
      "\n",
      "\n",
      "\n",
      "print  '''\\n Train Test Split, Stratified Sample \\n'''\n",
      "\n",
      "X_train_SS, X_test_SS, y_train_SS, y_test_SS = train_test_split(X_SS_dummies_scaled, y_SS, test_size=0.3)\n",
      "print 'X_train_SS:\\t\\t', X_train_SS.shape\n",
      "print 'y_train_SS:\\t\\t', y_train_SS.shape\n",
      "print 'X_test_SS:\\t\\t', X_test_SS.shape\n",
      "print 'y_test_SS:\\t\\t', y_test_SS.shape"
     ],
     "language": "python",
     "metadata": {},
     "outputs": [
      {
       "output_type": "stream",
       "stream": "stdout",
       "text": [
        "\n",
        " Feature and Target, Stratified Sample \n",
        "\n",
        "num of target \"1\" in adult_df_SS_dummies: \t100\n",
        "mean in adult_df_SS_dummies: \t\t\t0.047619047619\n",
        "count in adult_df_SS_dummies: \t\t\t2100\n",
        "sum of target \"1\" in y_SS: \t\t\t100\n",
        "count of target \"1\" in y_SS: \t\t\t2100\n",
        "\n",
        " Train Test Split, Stratified Sample \n",
        "\n",
        "X_train_SS:\t\t(1470, 66)\n",
        "y_train_SS:\t\t(1470,)\n",
        "X_test_SS:\t\t(630, 66)\n",
        "y_test_SS:\t\t(630,)\n"
       ]
      }
     ],
     "prompt_number": 257
    },
    {
     "cell_type": "heading",
     "level": 2,
     "metadata": {},
     "source": [
      "Regular Distribution"
     ]
    },
    {
     "cell_type": "code",
     "collapsed": false,
     "input": [
      "\n",
      "####    Regular Distribution    ####\n",
      "\n",
      "### Train Test Split for Regular Distribution ###\n",
      "\n",
      "print '''\\n\\n Train Test Split for Regular Distribution \\n'''\n",
      "\n",
      "print 'num of target \"1\" in df: \\t', adult_df_binary_y['native-country'].sum()\n",
      "print 'mean in df: \\t\\t\\t', adult_df_binary_y['native-country'].mean()\n",
      "print 'count in df: \\t\\t\\t',adult_df_binary_y['native-country'].count()\n",
      "\n",
      "## for y ##\n",
      "y = adult_df_binary_y['native-country'].values\n",
      "\n",
      "print 'sum of target \"1\" in y: \\t', y.sum()\n",
      "print 'count of target \"1\" in y: \\t', adult_df_binary_y['native-country'].count()\n",
      "\n",
      "## for X ##\n",
      "X = adult_df_binary_y.drop([\n",
      "        'fnlwgt',\n",
      "        'education-num',\n",
      "        'native-country'], axis =1 )\n",
      "X_dummies = pd.get_dummies(X)\n",
      "X_dummies_scaled = preprocessing.scale(X_dummies)\n",
      "\n",
      "\n",
      "### Train Test Split for Regular Distribution ###\n",
      "\n",
      "print  '''\\n Train Test Split, Regular Distribution \\n'''\n",
      "\n",
      "X_train, X_test, y_train, y_test = train_test_split(X_dummies_scaled, y, test_size=.9)\n",
      "print 'X_train:\\t\\t', X_train.shape\n",
      "print 'y_train:\\t\\t', y_train.shape\n",
      "print 'X_test:\\t\\t\\t', X_test.shape\n",
      "print 'y_test:\\t\\t\\t', y_test.shape"
     ],
     "language": "python",
     "metadata": {},
     "outputs": [
      {
       "output_type": "stream",
       "stream": "stdout",
       "text": [
        "\n",
        "\n",
        " Train Test Split for Regular Distribution \n",
        "\n",
        "num of target \"1\" in df: \t100\n",
        "mean in df: \t\t\t0.00307125307125\n",
        "count in df: \t\t\t32560\n",
        "sum of target \"1\" in y: \t100\n",
        "count of target \"1\" in y: \t32560\n",
        "\n",
        " Train Test Split, Regular Distribution \n"
       ]
      },
      {
       "output_type": "stream",
       "stream": "stdout",
       "text": [
        "\n",
        "X_train:\t\t(3256, 66)\n",
        "y_train:\t\t(3256,)\n",
        "X_test:\t\t\t(29304, 66)\n",
        "y_test:\t\t\t(29304,)\n"
       ]
      }
     ],
     "prompt_number": 258
    },
    {
     "cell_type": "heading",
     "level": 2,
     "metadata": {},
     "source": [
      "Test SS"
     ]
    },
    {
     "cell_type": "code",
     "collapsed": false,
     "input": [],
     "language": "python",
     "metadata": {},
     "outputs": [],
     "prompt_number": 258
    },
    {
     "cell_type": "code",
     "collapsed": false,
     "input": [],
     "language": "python",
     "metadata": {},
     "outputs": [],
     "prompt_number": 258
    },
    {
     "cell_type": "code",
     "collapsed": false,
     "input": [],
     "language": "python",
     "metadata": {},
     "outputs": [],
     "prompt_number": 258
    },
    {
     "cell_type": "code",
     "collapsed": false,
     "input": [],
     "language": "python",
     "metadata": {},
     "outputs": [],
     "prompt_number": 258
    },
    {
     "cell_type": "code",
     "collapsed": false,
     "input": [
      "%%time\n",
      "\n",
      "d = {}\n",
      "d['C'] = np.logspace(0,3,1)\n",
      "d['C']\n",
      "\n",
      "gs = GridSearchCV(LinearSVC(), d)\n",
      "gs.fit(X_train, y_train)\n",
      "y_pred = gs.predict(X_test)\n",
      "\n",
      "print gs.score(X_train, y_train)\n",
      "print gs.best_params_,gs.best_score_\n",
      "print confusion_matrix(y_test, y_pred)\n",
      "print classification_report(y_test, y_pred)"
     ],
     "language": "python",
     "metadata": {},
     "outputs": [
      {
       "output_type": "stream",
       "stream": "stdout",
       "text": [
        "0.998157248157\n",
        "{'C': 1.0} 0.992628992629\n",
        "[[29106   110]\n",
        " [   70    18]]\n",
        "             precision    recall  f1-score   support\n",
        "\n",
        "          0       1.00      1.00      1.00     29216\n",
        "          1       0.14      0.20      0.17        88\n",
        "\n",
        "avg / total       1.00      0.99      0.99     29304\n",
        "\n",
        "CPU times: user 209 ms, sys: 4.44 ms, total: 213 ms\n",
        "Wall time: 211 ms\n"
       ]
      }
     ],
     "prompt_number": 259
    },
    {
     "cell_type": "code",
     "collapsed": false,
     "input": [
      "%%time\n",
      "\n",
      "d = {}\n",
      "d['C'] = np.logspace(-3,3,5)\n",
      "d['C']\n",
      "\n",
      "gs = GridSearchCV(LinearSVC(), d)\n",
      "gs.fit(X_train_SS, y_train_SS)\n",
      "y_pred_SS = gs.predict(X_test_SS)\n",
      "\n",
      "print gs.score(X_train_SS, y_train_SS)\n",
      "print gs.best_params_,gs.best_score_\n",
      "print confusion_matrix(y_test_SS, y_pred_SS)\n",
      "print classification_report(y_test_SS, y_pred_SS)"
     ],
     "language": "python",
     "metadata": {},
     "outputs": [
      {
       "output_type": "stream",
       "stream": "stdout",
       "text": [
        "0.986394557823\n",
        "{'C': 0.031622776601683791} 0.970068027211\n",
        "[[583   9]\n",
        " [  8  30]]\n",
        "             precision    recall  f1-score   support\n",
        "\n",
        "          0       0.99      0.98      0.99       592\n",
        "          1       0.77      0.79      0.78        38\n",
        "\n",
        "avg / total       0.97      0.97      0.97       630\n",
        "\n",
        "CPU times: user 278 ms, sys: 2.48 ms, total: 281 ms\n",
        "Wall time: 280 ms\n"
       ]
      }
     ],
     "prompt_number": 260
    },
    {
     "cell_type": "code",
     "collapsed": false,
     "input": [
      "%%time\n",
      "\n",
      "d = {}\n",
      "d['C'] = np.logspace(-4,4,50)\n",
      "d['C']\n",
      "\n",
      "gs = GridSearchCV(LinearSVC(), d)\n",
      "gs.fit(X_train_SS, y_train_SS)\n",
      "y_pred = gs.predict(X_test)\n",
      "\n",
      "print gs.score(X_train, y_train)\n",
      "print gs.best_params_,gs.best_score_\n",
      "print confusion_matrix(y_test, y_pred)\n",
      "print classification_report(y_test, y_pred)"
     ],
     "language": "python",
     "metadata": {},
     "outputs": [
      {
       "output_type": "stream",
       "stream": "stdout",
       "text": [
        "0.977886977887\n",
        "{'C': 0.086851137375135209} 0.974149659864\n",
        "[[28463   753]\n",
        " [   10    78]]\n",
        "             precision    recall  f1-score   support\n",
        "\n",
        "          0       1.00      0.97      0.99     29216\n",
        "          1       0.09      0.89      0.17        88\n",
        "\n",
        "avg / total       1.00      0.97      0.98     29304\n",
        "\n",
        "CPU times: user 2.5 s, sys: 12.4 ms, total: 2.51 s\n",
        "Wall time: 2.51 s\n"
       ]
      }
     ],
     "prompt_number": 262
    },
    {
     "cell_type": "code",
     "collapsed": false,
     "input": [],
     "language": "python",
     "metadata": {},
     "outputs": [],
     "prompt_number": 261
    },
    {
     "cell_type": "code",
     "collapsed": false,
     "input": [],
     "language": "python",
     "metadata": {},
     "outputs": []
    },
    {
     "cell_type": "code",
     "collapsed": false,
     "input": [],
     "language": "python",
     "metadata": {},
     "outputs": []
    },
    {
     "cell_type": "code",
     "collapsed": false,
     "input": [],
     "language": "python",
     "metadata": {},
     "outputs": []
    },
    {
     "cell_type": "code",
     "collapsed": false,
     "input": [],
     "language": "python",
     "metadata": {},
     "outputs": []
    },
    {
     "cell_type": "code",
     "collapsed": false,
     "input": [],
     "language": "python",
     "metadata": {},
     "outputs": []
    },
    {
     "cell_type": "code",
     "collapsed": false,
     "input": [],
     "language": "python",
     "metadata": {},
     "outputs": []
    },
    {
     "cell_type": "heading",
     "level": 2,
     "metadata": {},
     "source": [
      "GridSearchCV, LinearSVC (for reg df)"
     ]
    },
    {
     "cell_type": "code",
     "collapsed": false,
     "input": [
      "X_nc = adult_df.drop([\n",
      "        'fnlwgt',\n",
      "        'education-num',\n",
      "        'native-country'], axis =1 )\n",
      "\n",
      "X_nc = pd.get_dummies(X)\n",
      "X_scaled_nc = preprocessing.scale(X)\n",
      "\n",
      "X_train, X_test, y_train, y_test = train_test_split(X_scaled_nc, y_nc, test_size=0.2)\n",
      "print X_train.shape\n",
      "print y_train.shape\n",
      "print y_train.mean()"
     ],
     "language": "python",
     "metadata": {},
     "outputs": [],
     "prompt_number": 62
    },
    {
     "cell_type": "code",
     "collapsed": false,
     "input": [],
     "language": "python",
     "metadata": {},
     "outputs": [
      {
       "output_type": "stream",
       "stream": "stdout",
       "text": [
        "(26048, 64)\n",
        "(26048,)\n",
        "0.00310964373464\n"
       ]
      }
     ],
     "prompt_number": 164
    },
    {
     "cell_type": "code",
     "collapsed": false,
     "input": [
      "%%time\n",
      "\n",
      "d = {}\n",
      "d['C'] = np.logspace(-5,4,2)\n",
      "d['C']\n",
      "\n",
      "gs = GridSearchCV(LinearSVC(), d)\n",
      "gs.fit(X_train, y_train)\n",
      "\n",
      "print gs.score(X_train, y_train)\n",
      "print gs.best_params_,gs.best_score_\n",
      "print confusion_matrix(y_test, y_pred)\n",
      "print classification_report(y_test, y_pred)"
     ],
     "language": "python",
     "metadata": {},
     "outputs": [
      {
       "output_type": "stream",
       "stream": "stdout",
       "text": [
        "0.996890356265\n",
        "{'C': 1.0000000000000001e-05} 0.996890356265\n"
       ]
      },
      {
       "ename": "ValueError",
       "evalue": "Found array with dim 26048. Expected 6512",
       "output_type": "pyerr",
       "traceback": [
        "\u001b[0;31m---------------------------------------------------------------------------\u001b[0m\n\u001b[0;31mValueError\u001b[0m                                Traceback (most recent call last)",
        "\u001b[0;32m<ipython-input-165-a9fd34d5933f>\u001b[0m in \u001b[0;36m<module>\u001b[0;34m()\u001b[0m\n\u001b[0;32m----> 1\u001b[0;31m \u001b[0mget_ipython\u001b[0m\u001b[0;34m(\u001b[0m\u001b[0;34m)\u001b[0m\u001b[0;34m.\u001b[0m\u001b[0mrun_cell_magic\u001b[0m\u001b[0;34m(\u001b[0m\u001b[0;34mu'time'\u001b[0m\u001b[0;34m,\u001b[0m \u001b[0;34mu''\u001b[0m\u001b[0;34m,\u001b[0m \u001b[0;34mu\"\\nd = {}\\nd['C'] = np.logspace(-5,4,2)\\nd['C']\\n\\ngs = GridSearchCV(LinearSVC(), d)\\ngs.fit(X_train, y_train)\\n\\nprint gs.score(X_train, y_train)\\nprint gs.best_params_,gs.best_score_\\nprint confusion_matrix(y_test, y_pred)\\nprint classification_report(y_test, y_pred)\"\u001b[0m\u001b[0;34m)\u001b[0m\u001b[0;34m\u001b[0m\u001b[0m\n\u001b[0m",
        "\u001b[0;32m/Users/David/anaconda/lib/python2.7/site-packages/IPython/core/interactiveshell.pyc\u001b[0m in \u001b[0;36mrun_cell_magic\u001b[0;34m(self, magic_name, line, cell)\u001b[0m\n\u001b[1;32m   2160\u001b[0m             \u001b[0mmagic_arg_s\u001b[0m \u001b[0;34m=\u001b[0m \u001b[0mself\u001b[0m\u001b[0;34m.\u001b[0m\u001b[0mvar_expand\u001b[0m\u001b[0;34m(\u001b[0m\u001b[0mline\u001b[0m\u001b[0;34m,\u001b[0m \u001b[0mstack_depth\u001b[0m\u001b[0;34m)\u001b[0m\u001b[0;34m\u001b[0m\u001b[0m\n\u001b[1;32m   2161\u001b[0m             \u001b[0;32mwith\u001b[0m \u001b[0mself\u001b[0m\u001b[0;34m.\u001b[0m\u001b[0mbuiltin_trap\u001b[0m\u001b[0;34m:\u001b[0m\u001b[0;34m\u001b[0m\u001b[0m\n\u001b[0;32m-> 2162\u001b[0;31m                 \u001b[0mresult\u001b[0m \u001b[0;34m=\u001b[0m \u001b[0mfn\u001b[0m\u001b[0;34m(\u001b[0m\u001b[0mmagic_arg_s\u001b[0m\u001b[0;34m,\u001b[0m \u001b[0mcell\u001b[0m\u001b[0;34m)\u001b[0m\u001b[0;34m\u001b[0m\u001b[0m\n\u001b[0m\u001b[1;32m   2163\u001b[0m             \u001b[0;32mreturn\u001b[0m \u001b[0mresult\u001b[0m\u001b[0;34m\u001b[0m\u001b[0m\n\u001b[1;32m   2164\u001b[0m \u001b[0;34m\u001b[0m\u001b[0m\n",
        "\u001b[0;32m/Users/David/anaconda/lib/python2.7/site-packages/IPython/core/magics/execution.pyc\u001b[0m in \u001b[0;36mtime\u001b[0;34m(self, line, cell, local_ns)\u001b[0m\n",
        "\u001b[0;32m/Users/David/anaconda/lib/python2.7/site-packages/IPython/core/magic.pyc\u001b[0m in \u001b[0;36m<lambda>\u001b[0;34m(f, *a, **k)\u001b[0m\n\u001b[1;32m    191\u001b[0m     \u001b[0;31m# but it's overkill for just that one bit of state.\u001b[0m\u001b[0;34m\u001b[0m\u001b[0;34m\u001b[0m\u001b[0m\n\u001b[1;32m    192\u001b[0m     \u001b[0;32mdef\u001b[0m \u001b[0mmagic_deco\u001b[0m\u001b[0;34m(\u001b[0m\u001b[0marg\u001b[0m\u001b[0;34m)\u001b[0m\u001b[0;34m:\u001b[0m\u001b[0;34m\u001b[0m\u001b[0m\n\u001b[0;32m--> 193\u001b[0;31m         \u001b[0mcall\u001b[0m \u001b[0;34m=\u001b[0m \u001b[0;32mlambda\u001b[0m \u001b[0mf\u001b[0m\u001b[0;34m,\u001b[0m \u001b[0;34m*\u001b[0m\u001b[0ma\u001b[0m\u001b[0;34m,\u001b[0m \u001b[0;34m**\u001b[0m\u001b[0mk\u001b[0m\u001b[0;34m:\u001b[0m \u001b[0mf\u001b[0m\u001b[0;34m(\u001b[0m\u001b[0;34m*\u001b[0m\u001b[0ma\u001b[0m\u001b[0;34m,\u001b[0m \u001b[0;34m**\u001b[0m\u001b[0mk\u001b[0m\u001b[0;34m)\u001b[0m\u001b[0;34m\u001b[0m\u001b[0m\n\u001b[0m\u001b[1;32m    194\u001b[0m \u001b[0;34m\u001b[0m\u001b[0m\n\u001b[1;32m    195\u001b[0m         \u001b[0;32mif\u001b[0m \u001b[0mcallable\u001b[0m\u001b[0;34m(\u001b[0m\u001b[0marg\u001b[0m\u001b[0;34m)\u001b[0m\u001b[0;34m:\u001b[0m\u001b[0;34m\u001b[0m\u001b[0m\n",
        "\u001b[0;32m/Users/David/anaconda/lib/python2.7/site-packages/IPython/core/magics/execution.pyc\u001b[0m in \u001b[0;36mtime\u001b[0;34m(self, line, cell, local_ns)\u001b[0m\n\u001b[1;32m   1127\u001b[0m         \u001b[0;32melse\u001b[0m\u001b[0;34m:\u001b[0m\u001b[0;34m\u001b[0m\u001b[0m\n\u001b[1;32m   1128\u001b[0m             \u001b[0mst\u001b[0m \u001b[0;34m=\u001b[0m \u001b[0mclock2\u001b[0m\u001b[0;34m(\u001b[0m\u001b[0;34m)\u001b[0m\u001b[0;34m\u001b[0m\u001b[0m\n\u001b[0;32m-> 1129\u001b[0;31m             \u001b[0;32mexec\u001b[0m\u001b[0;34m(\u001b[0m\u001b[0mcode\u001b[0m\u001b[0;34m,\u001b[0m \u001b[0mglob\u001b[0m\u001b[0;34m,\u001b[0m \u001b[0mlocal_ns\u001b[0m\u001b[0;34m)\u001b[0m\u001b[0;34m\u001b[0m\u001b[0m\n\u001b[0m\u001b[1;32m   1130\u001b[0m             \u001b[0mend\u001b[0m \u001b[0;34m=\u001b[0m \u001b[0mclock2\u001b[0m\u001b[0;34m(\u001b[0m\u001b[0;34m)\u001b[0m\u001b[0;34m\u001b[0m\u001b[0m\n\u001b[1;32m   1131\u001b[0m             \u001b[0mout\u001b[0m \u001b[0;34m=\u001b[0m \u001b[0mNone\u001b[0m\u001b[0;34m\u001b[0m\u001b[0m\n",
        "\u001b[0;32m<timed exec>\u001b[0m in \u001b[0;36m<module>\u001b[0;34m()\u001b[0m\n",
        "\u001b[0;32m/Users/David/anaconda/lib/python2.7/site-packages/sklearn/metrics/metrics.pyc\u001b[0m in \u001b[0;36mconfusion_matrix\u001b[0;34m(y_true, y_pred, labels)\u001b[0m\n\u001b[1;32m    957\u001b[0m \u001b[0;34m\u001b[0m\u001b[0m\n\u001b[1;32m    958\u001b[0m     \"\"\"\n\u001b[0;32m--> 959\u001b[0;31m     \u001b[0my_type\u001b[0m\u001b[0;34m,\u001b[0m \u001b[0my_true\u001b[0m\u001b[0;34m,\u001b[0m \u001b[0my_pred\u001b[0m \u001b[0;34m=\u001b[0m \u001b[0m_check_clf_targets\u001b[0m\u001b[0;34m(\u001b[0m\u001b[0my_true\u001b[0m\u001b[0;34m,\u001b[0m \u001b[0my_pred\u001b[0m\u001b[0;34m)\u001b[0m\u001b[0;34m\u001b[0m\u001b[0m\n\u001b[0m\u001b[1;32m    960\u001b[0m     \u001b[0;32mif\u001b[0m \u001b[0my_type\u001b[0m \u001b[0;32mnot\u001b[0m \u001b[0;32min\u001b[0m \u001b[0;34m(\u001b[0m\u001b[0;34m\"binary\"\u001b[0m\u001b[0;34m,\u001b[0m \u001b[0;34m\"multiclass\"\u001b[0m\u001b[0;34m)\u001b[0m\u001b[0;34m:\u001b[0m\u001b[0;34m\u001b[0m\u001b[0m\n\u001b[1;32m    961\u001b[0m         \u001b[0;32mraise\u001b[0m \u001b[0mValueError\u001b[0m\u001b[0;34m(\u001b[0m\u001b[0;34m\"%s is not supported\"\u001b[0m \u001b[0;34m%\u001b[0m \u001b[0my_type\u001b[0m\u001b[0;34m)\u001b[0m\u001b[0;34m\u001b[0m\u001b[0m\n",
        "\u001b[0;32m/Users/David/anaconda/lib/python2.7/site-packages/sklearn/metrics/metrics.pyc\u001b[0m in \u001b[0;36m_check_clf_targets\u001b[0;34m(y_true, y_pred)\u001b[0m\n\u001b[1;32m    107\u001b[0m     \u001b[0my_pred\u001b[0m \u001b[0;34m:\u001b[0m \u001b[0marray\u001b[0m \u001b[0;32mor\u001b[0m \u001b[0mindicator\u001b[0m \u001b[0mmatrix\u001b[0m\u001b[0;34m\u001b[0m\u001b[0m\n\u001b[1;32m    108\u001b[0m     \"\"\"\n\u001b[0;32m--> 109\u001b[0;31m     \u001b[0my_true\u001b[0m\u001b[0;34m,\u001b[0m \u001b[0my_pred\u001b[0m \u001b[0;34m=\u001b[0m \u001b[0mcheck_arrays\u001b[0m\u001b[0;34m(\u001b[0m\u001b[0my_true\u001b[0m\u001b[0;34m,\u001b[0m \u001b[0my_pred\u001b[0m\u001b[0;34m,\u001b[0m \u001b[0mallow_lists\u001b[0m\u001b[0;34m=\u001b[0m\u001b[0mTrue\u001b[0m\u001b[0;34m)\u001b[0m\u001b[0;34m\u001b[0m\u001b[0m\n\u001b[0m\u001b[1;32m    110\u001b[0m     \u001b[0mtype_true\u001b[0m \u001b[0;34m=\u001b[0m \u001b[0mtype_of_target\u001b[0m\u001b[0;34m(\u001b[0m\u001b[0my_true\u001b[0m\u001b[0;34m)\u001b[0m\u001b[0;34m\u001b[0m\u001b[0m\n\u001b[1;32m    111\u001b[0m     \u001b[0mtype_pred\u001b[0m \u001b[0;34m=\u001b[0m \u001b[0mtype_of_target\u001b[0m\u001b[0;34m(\u001b[0m\u001b[0my_pred\u001b[0m\u001b[0;34m)\u001b[0m\u001b[0;34m\u001b[0m\u001b[0m\n",
        "\u001b[0;32m/Users/David/anaconda/lib/python2.7/site-packages/sklearn/utils/validation.pyc\u001b[0m in \u001b[0;36mcheck_arrays\u001b[0;34m(*arrays, **options)\u001b[0m\n\u001b[1;32m    252\u001b[0m         \u001b[0;32mif\u001b[0m \u001b[0msize\u001b[0m \u001b[0;34m!=\u001b[0m \u001b[0mn_samples\u001b[0m\u001b[0;34m:\u001b[0m\u001b[0;34m\u001b[0m\u001b[0m\n\u001b[1;32m    253\u001b[0m             raise ValueError(\"Found array with dim %d. Expected %d\"\n\u001b[0;32m--> 254\u001b[0;31m                              % (size, n_samples))\n\u001b[0m\u001b[1;32m    255\u001b[0m \u001b[0;34m\u001b[0m\u001b[0m\n\u001b[1;32m    256\u001b[0m         \u001b[0;32mif\u001b[0m \u001b[0;32mnot\u001b[0m \u001b[0mallow_lists\u001b[0m \u001b[0;32mor\u001b[0m \u001b[0mhasattr\u001b[0m\u001b[0;34m(\u001b[0m\u001b[0marray\u001b[0m\u001b[0;34m,\u001b[0m \u001b[0;34m\"shape\"\u001b[0m\u001b[0;34m)\u001b[0m\u001b[0;34m:\u001b[0m\u001b[0;34m\u001b[0m\u001b[0m\n",
        "\u001b[0;31mValueError\u001b[0m: Found array with dim 26048. Expected 6512"
       ]
      }
     ],
     "prompt_number": 165
    },
    {
     "cell_type": "code",
     "collapsed": false,
     "input": [],
     "language": "python",
     "metadata": {},
     "outputs": []
    },
    {
     "cell_type": "code",
     "collapsed": false,
     "input": [],
     "language": "python",
     "metadata": {},
     "outputs": []
    },
    {
     "cell_type": "code",
     "collapsed": false,
     "input": [],
     "language": "python",
     "metadata": {},
     "outputs": []
    },
    {
     "cell_type": "code",
     "collapsed": false,
     "input": [],
     "language": "python",
     "metadata": {},
     "outputs": []
    },
    {
     "cell_type": "code",
     "collapsed": false,
     "input": [],
     "language": "python",
     "metadata": {},
     "outputs": []
    },
    {
     "cell_type": "code",
     "collapsed": false,
     "input": [],
     "language": "python",
     "metadata": {},
     "outputs": []
    },
    {
     "cell_type": "code",
     "collapsed": false,
     "input": [],
     "language": "python",
     "metadata": {},
     "outputs": []
    },
    {
     "cell_type": "code",
     "collapsed": false,
     "input": [],
     "language": "python",
     "metadata": {},
     "outputs": []
    },
    {
     "cell_type": "heading",
     "level": 1,
     "metadata": {},
     "source": [
      "Extra Models"
     ]
    },
    {
     "cell_type": "code",
     "collapsed": false,
     "input": [
      "%%time\n",
      "\n",
      "from sklearn.ensemble import RandomForestClassifier as RF\n",
      "\n",
      "clf = RF(n_estimators= 100)\n",
      "clf.fit(X_train, y_train)\n",
      "y_pred = clf.predict(X_test)\n",
      "print clf.score(X_test, y_test)\n",
      "print confusion_matrix(y_test, y_pred)\n",
      "print classification_report(y_test, y_pred)"
     ],
     "language": "python",
     "metadata": {},
     "outputs": [
      {
       "output_type": "stream",
       "stream": "stdout",
       "text": [
        "0.996660012285\n",
        "[[25955    10]\n",
        " [   77     6]]\n",
        "             precision    recall  f1-score   support\n",
        "\n",
        "          0       1.00      1.00      1.00     25965\n",
        "          1       0.38      0.07      0.12        83\n",
        "\n",
        "avg / total       1.00      1.00      1.00     26048\n",
        "\n",
        "CPU times: user 721 ms, sys: 9.91 ms, total: 731 ms\n",
        "Wall time: 731 ms\n"
       ]
      }
     ],
     "prompt_number": 80
    },
    {
     "cell_type": "code",
     "collapsed": false,
     "input": [
      "%%time\n",
      "from sklearn.neighbors import KNeighborsClassifier as KNN\n",
      "\n",
      "clf = KNN(n_neighbors = 5)\n",
      "clf.fit(X_train, y_train)\n",
      "y_pred = clf.predict(X_test)\n",
      "print clf.score(X_test, y_test)\n",
      "print confusion_matrix(y_test, y_pred)\n",
      "print classification_report(y_test, y_pred)"
     ],
     "language": "python",
     "metadata": {},
     "outputs": [
      {
       "output_type": "stream",
       "stream": "stdout",
       "text": [
        "0.996736793612\n",
        "[[25956     9]\n",
        " [   76     7]]\n",
        "             precision    recall  f1-score   support\n",
        "\n",
        "          0       1.00      1.00      1.00     25965\n",
        "          1       0.44      0.08      0.14        83\n",
        "\n",
        "avg / total       1.00      1.00      1.00     26048\n",
        "\n",
        "CPU times: user 35.2 s, sys: 75.3 ms, total: 35.3 s\n",
        "Wall time: 35.3 s\n"
       ]
      }
     ],
     "prompt_number": 82
    },
    {
     "cell_type": "code",
     "collapsed": false,
     "input": [
      "%%time\n",
      "\n",
      "d = {}\n",
      "d['C'] = np.logspace(-5,4,20)\n",
      "d['C']\n",
      "\n",
      "gs = GridSearchCV(LinearSVC(), d)\n",
      "gs.fit(X_train, y_train)\n",
      "\n",
      "print gs.score(X_train, y_train)\n",
      "print gs.best_params_,gs.best_score_\n",
      "print confusion_matrix(y_test, y_pred)\n",
      "print classification_report(y_test, y_pred)"
     ],
     "language": "python",
     "metadata": {},
     "outputs": [
      {
       "output_type": "stream",
       "stream": "stdout",
       "text": [
        "0.997389434889\n",
        "{'C': 2.9763514416313192e-05} 0.997389434889\n",
        "[[25956     9]\n",
        " [   76     7]]\n",
        "             precision    recall  f1-score   support\n",
        "\n",
        "          0       1.00      1.00      1.00     25965\n",
        "          1       0.44      0.08      0.14        83\n",
        "\n",
        "avg / total       1.00      1.00      1.00     26048\n",
        "\n",
        "CPU times: user 4.13 s, sys: 51.2 ms, total: 4.18 s\n",
        "Wall time: 4.19 s\n"
       ]
      }
     ],
     "prompt_number": 83
    },
    {
     "cell_type": "code",
     "collapsed": false,
     "input": [
      "%%time\n",
      "clf = LogisticRegression(C = 100)\n",
      "clf.fit(X_train, y_train)\n",
      "y_pred = clf.predict(X_test)\n",
      "print clf.score(X_test, y_test)\n",
      "print confusion_matrix(y_test, y_pred)\n",
      "print classification_report(y_test, y_pred)"
     ],
     "language": "python",
     "metadata": {},
     "outputs": [
      {
       "output_type": "stream",
       "stream": "stdout",
       "text": [
        "0.995546683047\n",
        "[[25926    39]\n",
        " [   77     6]]\n",
        "             precision    recall  f1-score   support\n",
        "\n",
        "          0       1.00      1.00      1.00     25965\n",
        "          1       0.13      0.07      0.09        83\n",
        "\n",
        "avg / total       0.99      1.00      0.99     26048\n",
        "\n",
        "CPU times: user 328 ms, sys: 3.73 ms, total: 332 ms\n",
        "Wall time: 330 ms\n"
       ]
      }
     ],
     "prompt_number": 84
    },
    {
     "cell_type": "code",
     "collapsed": false,
     "input": [],
     "language": "python",
     "metadata": {},
     "outputs": []
    }
   ],
   "metadata": {}
  }
 ]
}