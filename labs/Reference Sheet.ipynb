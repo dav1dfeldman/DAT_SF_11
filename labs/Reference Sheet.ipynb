{
 "metadata": {
  "name": "",
  "signature": "sha256:0a7fdc3abe17842e728e5af8f5b03376e68e9d3b92f51655f94419c1c3b39d0a"
 },
 "nbformat": 3,
 "nbformat_minor": 0,
 "worksheets": [
  {
   "cells": [
    {
     "cell_type": "heading",
     "level": 1,
     "metadata": {},
     "source": [
      "Lab 1 and 2"
     ]
    },
    {
     "cell_type": "heading",
     "level": 2,
     "metadata": {},
     "source": [
      "Importing and loading"
     ]
    },
    {
     "cell_type": "code",
     "collapsed": false,
     "input": [
      "# how to load seaborn\n",
      "!pip install seaborn "
     ],
     "language": "python",
     "metadata": {},
     "outputs": [
      {
       "output_type": "stream",
       "stream": "stdout",
       "text": [
        "Requirement already satisfied (use --upgrade to upgrade): seaborn in /Users/David/anaconda/lib/python2.7/site-packages\r\n",
        "Cleaning up...\r\n"
       ]
      }
     ],
     "prompt_number": 8
    },
    {
     "cell_type": "code",
     "collapsed": false,
     "input": [
      "import pandas as pd\n",
      "import numpy as np\n",
      "import seaborn as sns\n",
      "import matplotlib.pyplot as plt\n",
      "# enables inline Plots\n",
      "%matplotlib inline"
     ],
     "language": "python",
     "metadata": {},
     "outputs": [],
     "prompt_number": 12
    },
    {
     "cell_type": "code",
     "collapsed": false,
     "input": [
      "# how to import image loading package\n",
      "from IPython.display import Image"
     ],
     "language": "python",
     "metadata": {},
     "outputs": [],
     "prompt_number": 11
    },
    {
     "cell_type": "heading",
     "level": 2,
     "metadata": {},
     "source": [
      "Setting preferences"
     ]
    },
    {
     "cell_type": "code",
     "collapsed": false,
     "input": [
      "# Limit rows displayed in notebook\n",
      "pd.set_option('display.max_columns', None)"
     ],
     "language": "python",
     "metadata": {},
     "outputs": [],
     "prompt_number": 12
    },
    {
     "cell_type": "code",
     "collapsed": false,
     "input": [
      "pd.set_option('display.max_rows', 10)"
     ],
     "language": "python",
     "metadata": {},
     "outputs": [],
     "prompt_number": 13
    },
    {
     "cell_type": "code",
     "collapsed": false,
     "input": [
      "# limits number of decimal points displayed \n",
      "pd.set_option('display.precision', 3)"
     ],
     "language": "python",
     "metadata": {},
     "outputs": [],
     "prompt_number": 14
    },
    {
     "cell_type": "code",
     "collapsed": false,
     "input": [
      "# to make \n",
      "pd.set_option('display.mpl_style', 'default')"
     ],
     "language": "python",
     "metadata": {},
     "outputs": [],
     "prompt_number": 15
    },
    {
     "cell_type": "code",
     "collapsed": false,
     "input": [
      "# prints version of pandas\n",
      "print 'Pandas Version: ', pd.__version__"
     ],
     "language": "python",
     "metadata": {},
     "outputs": [
      {
       "output_type": "stream",
       "stream": "stdout",
       "text": [
        "Pandas Version:  0.14.1\n"
       ]
      }
     ],
     "prompt_number": 16
    },
    {
     "cell_type": "code",
     "collapsed": false,
     "input": [
      "# prints version of numpy\n",
      "print 'Numpy Version: ', np.__version__"
     ],
     "language": "python",
     "metadata": {},
     "outputs": [
      {
       "output_type": "stream",
       "stream": "stdout",
       "text": [
        "Numpy Version:  1.9.0\n"
       ]
      }
     ],
     "prompt_number": 17
    },
    {
     "cell_type": "heading",
     "level": 2,
     "metadata": {},
     "source": [
      "Opening a File"
     ]
    },
    {
     "cell_type": "code",
     "collapsed": false,
     "input": [
      "# opens a csv\n",
      "df = pd.read_csv(\u2018example_file.csv\u2019)\n",
      "# use '../' to go back directories and the 'directory/' names to go forward\n",
      "df = pd.read_csv('../../data/example_file.csv')"
     ],
     "language": "python",
     "metadata": {},
     "outputs": []
    },
    {
     "cell_type": "heading",
     "level": 2,
     "metadata": {},
     "source": [
      "Viewing File"
     ]
    },
    {
     "cell_type": "code",
     "collapsed": false,
     "input": [
      "# to look at the column names, types, # of non_null values\n",
      "df.info()"
     ],
     "language": "python",
     "metadata": {},
     "outputs": []
    },
    {
     "cell_type": "code",
     "collapsed": false,
     "input": [
      "# view description\n",
      "df.describe()"
     ],
     "language": "python",
     "metadata": {},
     "outputs": []
    },
    {
     "cell_type": "code",
     "collapsed": false,
     "input": [
      "# see column names\n",
      "df.columns"
     ],
     "language": "python",
     "metadata": {},
     "outputs": []
    },
    {
     "cell_type": "code",
     "collapsed": false,
     "input": [
      "# Finding unique column values\n",
      "df.column.unique()\n",
      "# also works for any of these\n",
      "df[\u2018column\u2019].unique()"
     ],
     "language": "python",
     "metadata": {},
     "outputs": []
    },
    {
     "cell_type": "code",
     "collapsed": false,
     "input": [
      "# value count, how many of each unique value in a column\n",
      "df.column.value_count()"
     ],
     "language": "python",
     "metadata": {},
     "outputs": []
    },
    {
     "cell_type": "code",
     "collapsed": false,
     "input": [
      "# How to get the mean of a column\n",
      "df.column.mean()"
     ],
     "language": "python",
     "metadata": {},
     "outputs": []
    },
    {
     "cell_type": "heading",
     "level": 2,
     "metadata": {},
     "source": [
      "Identifying and filling missing values"
     ]
    },
    {
     "cell_type": "code",
     "collapsed": false,
     "input": [
      "# Identify the missing values in a column rows\n",
      "df[pd.isnull(df.column)]"
     ],
     "language": "python",
     "metadata": {},
     "outputs": []
    },
    {
     "cell_type": "code",
     "collapsed": false,
     "input": [
      "# input a value instead of \u2018na'\n",
      "df.column.fillna(\u201ccould be anything\u201d)\n",
      "\n",
      "# for instance\n",
      "df.column.fillna(df.column.mean())\n",
      "\n",
      "# set equal to a new column for filled out \u2018na\u2019s with old values"
     ],
     "language": "python",
     "metadata": {},
     "outputs": []
    },
    {
     "cell_type": "heading",
     "level": 2,
     "metadata": {},
     "source": [
      "Filling nulls with mean and std"
     ]
    },
    {
     "cell_type": "code",
     "collapsed": false,
     "input": [
      "print 'Mean Column:', df.column.mean()\n",
      "print 'Std Column:', df.column.std()"
     ],
     "language": "python",
     "metadata": {},
     "outputs": []
    },
    {
     "cell_type": "code",
     "collapsed": false,
     "input": [
      "def get_age_impute_values(n):\n",
      "    return np.random.normal(df.column.mean(), df.column.std(), n)"
     ],
     "language": "python",
     "metadata": {},
     "outputs": [],
     "prompt_number": 24
    },
    {
     "cell_type": "code",
     "collapsed": false,
     "input": [
      "titanic.loc[titanic.Age.isnull(), 'Age'] = get_age_impute_values(n = )"
     ],
     "language": "python",
     "metadata": {},
     "outputs": []
    },
    {
     "cell_type": "heading",
     "level": 2,
     "metadata": {},
     "source": [
      "Selecting Rows"
     ]
    },
    {
     "cell_type": "code",
     "collapsed": false,
     "input": [
      "# Selecting rows\n",
      "df.iloc[0]"
     ],
     "language": "python",
     "metadata": {},
     "outputs": []
    },
    {
     "cell_type": "code",
     "collapsed": false,
     "input": [
      "# Selecting every other row in columns 2-4\n",
      "bike.iloc[::2, 2:5]"
     ],
     "language": "python",
     "metadata": {},
     "outputs": []
    },
    {
     "cell_type": "code",
     "collapsed": false,
     "input": [
      "# uses loc\n",
      "# won't work with iloc because there is a coln name\n",
      "# selects rows 0-2 with columns 1 and 2\n",
      "df.loc[0:2, ['column1', 'column2']]"
     ],
     "language": "python",
     "metadata": {},
     "outputs": []
    },
    {
     "cell_type": "code",
     "collapsed": false,
     "input": [
      "# How to select a row\n",
      "df.ix[0]"
     ],
     "language": "python",
     "metadata": {},
     "outputs": []
    },
    {
     "cell_type": "code",
     "collapsed": false,
     "input": [
      "# How to select multiple rows\n",
      "df.ix[0:100]"
     ],
     "language": "python",
     "metadata": {},
     "outputs": []
    },
    {
     "cell_type": "code",
     "collapsed": false,
     "input": [
      "# How to select every other row\n",
      "df.ix[0::2]"
     ],
     "language": "python",
     "metadata": {},
     "outputs": []
    },
    {
     "cell_type": "code",
     "collapsed": false,
     "input": [
      "# How to select rows starting from the last\n",
      "df.ix[::-1]"
     ],
     "language": "python",
     "metadata": {},
     "outputs": []
    },
    {
     "cell_type": "heading",
     "level": 2,
     "metadata": {},
     "source": [
      "Taking a random sample"
     ]
    },
    {
     "cell_type": "code",
     "collapsed": false,
     "input": [
      "# How to take a random sample of rows\n",
      "rows = np.random.choice(df.index.values, 1000)\n",
      "\n",
      "# How to assign sample to data frame\n",
      "sampled_df = df.ix[rows]"
     ],
     "language": "python",
     "metadata": {},
     "outputs": []
    },
    {
     "cell_type": "code",
     "collapsed": false,
     "input": [],
     "language": "python",
     "metadata": {},
     "outputs": []
    },
    {
     "cell_type": "heading",
     "level": 2,
     "metadata": {},
     "source": [
      "Renaming a column"
     ]
    },
    {
     "cell_type": "code",
     "collapsed": false,
     "input": [
      "# replace a column name\n",
      "df.rename(columns = {'coln1' :  'coln2'}, inplace = True)"
     ],
     "language": "python",
     "metadata": {},
     "outputs": []
    },
    {
     "cell_type": "heading",
     "level": 2,
     "metadata": {},
     "source": [
      "Replacing values with nan"
     ]
    },
    {
     "cell_type": "code",
     "collapsed": false,
     "input": [
      "df.column.replace('a_value', np.nan, inplace = True)"
     ],
     "language": "python",
     "metadata": {},
     "outputs": []
    },
    {
     "cell_type": "heading",
     "level": 2,
     "metadata": {},
     "source": [
      "Changing type of field"
     ]
    },
    {
     "cell_type": "code",
     "collapsed": false,
     "input": [
      "df.column = df.column.astype(float)"
     ],
     "language": "python",
     "metadata": {},
     "outputs": []
    },
    {
     "cell_type": "heading",
     "level": 2,
     "metadata": {},
     "source": [
      "Inserting values"
     ]
    },
    {
     "cell_type": "code",
     "collapsed": false,
     "input": [
      "# inserting the mean value by category ex. mean horsepower given number of cylinders\n",
      "df.groupby('column1').column2.mean()\n",
      "# column1 = cylinders\n",
      "# column2 = horsepowers"
     ],
     "language": "python",
     "metadata": {},
     "outputs": []
    },
    {
     "cell_type": "code",
     "collapsed": false,
     "input": [],
     "language": "python",
     "metadata": {},
     "outputs": []
    },
    {
     "cell_type": "heading",
     "level": 2,
     "metadata": {},
     "source": [
      "Assign integers to categorical data"
     ]
    },
    {
     "cell_type": "code",
     "collapsed": false,
     "input": [
      "# How to assign integers to categorical data\n",
      "def assign_number(numb):\n",
      "    \n",
      "    column1 = {}\n",
      "    column1 ['category_value1'] = 1\n",
      "    column1 ['category_value2'] = 2\n",
      "    column1 ['category_value3'] = 3\n",
      "    column1 ['category_value4'] = 4\n",
      "    \n",
      "    return poverty_level[numb]\n",
      "\n",
      "df['column2'] = df['column1'].map(assign_number)\n",
      "# column2 creates a new column for the new values\n",
      "# this can also be done in reverse to assign strings to numbers"
     ],
     "language": "python",
     "metadata": {},
     "outputs": [],
     "prompt_number": 3
    },
    {
     "cell_type": "heading",
     "level": 2,
     "metadata": {},
     "source": [
      "Converting values"
     ]
    },
    {
     "cell_type": "code",
     "collapsed": false,
     "input": [
      "# to get fahrenheit from celsius using map\n",
      "def get_fahrenheit(celsius):\n",
      "    return celsius * 1.8 + 32\n",
      "\n",
      "df['temp_f'] = df['temp_c'].map(get_fahrenheit)"
     ],
     "language": "python",
     "metadata": {},
     "outputs": []
    },
    {
     "cell_type": "code",
     "collapsed": false,
     "input": [],
     "language": "python",
     "metadata": {},
     "outputs": []
    },
    {
     "cell_type": "heading",
     "level": 2,
     "metadata": {},
     "source": [
      "Loading an Image"
     ]
    },
    {
     "cell_type": "code",
     "collapsed": false,
     "input": [
      "# example_pic.jpg needs to be in the right directory or directed to it\n",
      "Image(filename=\u2018example_pic.jpg\u2019)"
     ],
     "language": "python",
     "metadata": {},
     "outputs": []
    },
    {
     "cell_type": "heading",
     "level": 2,
     "metadata": {},
     "source": [
      "Sorting with Boolean"
     ]
    },
    {
     "cell_type": "code",
     "collapsed": false,
     "input": [
      "df [df.column == 1]\n",
      "df[(df.column1 == \u2018string\u2019) & (df.column2 > 500)]\n",
      "df[df.column1 == 'string']['column2'].mean() , count() , anything else that will analyze the data"
     ],
     "language": "python",
     "metadata": {},
     "outputs": []
    },
    {
     "cell_type": "code",
     "collapsed": false,
     "input": [
      "df[df.column1 == \"string1\"]['column2'].value_counts()"
     ],
     "language": "python",
     "metadata": {},
     "outputs": []
    },
    {
     "cell_type": "code",
     "collapsed": false,
     "input": [
      "# find individual categorical values percentage of category\n",
      "df.column1.value_counts / df.column1.count()"
     ],
     "language": "python",
     "metadata": {},
     "outputs": []
    },
    {
     "cell_type": "code",
     "collapsed": false,
     "input": [
      "# what percentage of category/feature are a specific categorical value grouped by another feature\n",
      "df[df.column1 == 'string']['column2'].value_counts() / df.column2.value_counts()"
     ],
     "language": "python",
     "metadata": {},
     "outputs": []
    },
    {
     "cell_type": "heading",
     "level": 2,
     "metadata": {},
     "source": [
      "Groupby"
     ]
    },
    {
     "cell_type": "code",
     "collapsed": false,
     "input": [
      "# How to groupby column and apply a function like sum, count, or mean\n",
      "df.groupby([\u2018column\u2019]).sum()"
     ],
     "language": "python",
     "metadata": {},
     "outputs": []
    },
    {
     "cell_type": "code",
     "collapsed": false,
     "input": [
      "# To groupby multiple columns with multiple functions attached\n",
      "df.groupby([\u2018column1\u2019, \u2018column2\u2019, \u2018column3\u2019]).agg([\u2018func1\u2019, \u2018func2\u2019])\n",
      "# grouped in order of which column is listed first"
     ],
     "language": "python",
     "metadata": {},
     "outputs": []
    },
    {
     "cell_type": "code",
     "collapsed": false,
     "input": [
      "# To view a specific column of values that\u2019s groupby\u2019ed another feature \n",
      "df.groupby([\u2018column1\u2019])[\u2018column2\u2019].sum()\n",
      "# column1 is what it is separated by and column2 is what column of values you are viewing"
     ],
     "language": "python",
     "metadata": {},
     "outputs": []
    },
    {
     "cell_type": "heading",
     "level": 3,
     "metadata": {},
     "source": [
      "combining groupby with boolean "
     ]
    },
    {
     "cell_type": "code",
     "collapsed": false,
     "input": [
      "df[df.column1 == 'string'].groupby(['column1'])['column2', 'column3'].mean()"
     ],
     "language": "python",
     "metadata": {},
     "outputs": []
    },
    {
     "cell_type": "heading",
     "level": 3,
     "metadata": {},
     "source": [
      "inserting the mean value by category"
     ]
    },
    {
     "cell_type": "code",
     "collapsed": false,
     "input": [
      "df.groupby('column1')['column2'].transform(lambda x: x.fillna(x.mean()))"
     ],
     "language": "python",
     "metadata": {},
     "outputs": []
    },
    {
     "cell_type": "heading",
     "level": 2,
     "metadata": {},
     "source": [
      "Convert from Str to Date"
     ]
    },
    {
     "cell_type": "code",
     "collapsed": false,
     "input": [
      "# check to see if it is a str or pandas.tslib.Timestamp\n",
      "type(df.column_date[0])"
     ],
     "language": "python",
     "metadata": {},
     "outputs": []
    },
    {
     "cell_type": "code",
     "collapsed": false,
     "input": [
      "# convert to datetime\n",
      "df.column_date = pd.to_datetime(df.column_date)"
     ],
     "language": "python",
     "metadata": {},
     "outputs": []
    },
    {
     "cell_type": "code",
     "collapsed": false,
     "input": [
      "# shows all the date related options\n",
      "print dir(df.column_date[0])"
     ],
     "language": "python",
     "metadata": {},
     "outputs": []
    },
    {
     "cell_type": "code",
     "collapsed": false,
     "input": [
      "# Creat new columns\n",
      "# Get Day of week,date,time, from datetime stamp\n",
      "bike['daynum'] = bike.row_dt.map(lambda x: x.dayofweek)\n",
      "bike['row_date'] = bike.row_dt.map(lambda x: x.date())\n",
      "bike['row_time'] = bike.row_dt.map(lambda x: x.time())\n"
     ],
     "language": "python",
     "metadata": {},
     "outputs": []
    },
    {
     "cell_type": "heading",
     "level": 2,
     "metadata": {},
     "source": [
      "Nameing Days"
     ]
    },
    {
     "cell_type": "code",
     "collapsed": false,
     "input": [
      "def day(x):\n",
      "    day_of_week = {}\n",
      "    day_of_week[0] = 'Mon'\n",
      "    day_of_week[1] = 'Tues'\n",
      "    day_of_week[2] = 'Wed'\n",
      "    day_of_week[3] = 'Thurs'\n",
      "    day_of_week[4] = 'Fri'\n",
      "    day_of_week[5] = 'Sat'\n",
      "    day_of_week[6] = 'Sun'\n",
      "    return day_of_week[x]\n",
      "\n",
      "merged['day_name'] = merged['day_of_week'].map(day)"
     ],
     "language": "python",
     "metadata": {},
     "outputs": []
    },
    {
     "cell_type": "heading",
     "level": 2,
     "metadata": {},
     "source": [
      "Aggregate data by days, weeks, months"
     ]
    },
    {
     "cell_type": "code",
     "collapsed": false,
     "input": [
      "# if you have a datetime stamp and you want to consolidate ex hours to days\n",
      "# How you aggregate data by days\n",
      "df_day = df[['column1', 'column2', 'column3']].resample('D', how=np.sum)\n",
      "# Example from bike share\n",
      "bike_day = bike[['casual', 'registered', 'rentals']].resample('D', how=np.sum)"
     ],
     "language": "python",
     "metadata": {},
     "outputs": [],
     "prompt_number": 0
    },
    {
     "cell_type": "heading",
     "level": 1,
     "metadata": {},
     "source": [
      "Plotting"
     ]
    },
    {
     "cell_type": "heading",
     "level": 2,
     "metadata": {},
     "source": [
      "Histograms"
     ]
    },
    {
     "cell_type": "code",
     "collapsed": false,
     "input": [
      "# how to make a histogram with a certain number of bins\n",
      "df.column.hist(bins = 20)"
     ],
     "language": "python",
     "metadata": {},
     "outputs": []
    },
    {
     "cell_type": "code",
     "collapsed": false,
     "input": [
      "# Histogram of feature 1 \n",
      "# split by another feature 2 (discrete variable)\n",
      "df.column1.hist(by = df.column2);\n",
      "\n",
      "# -example\n",
      "\n",
      "df.age.hist(by = df.gender);\n",
      "\n",
      "# - add a ';' at the end to remove documentation"
     ],
     "language": "python",
     "metadata": {},
     "outputs": []
    },
    {
     "cell_type": "code",
     "collapsed": false,
     "input": [
      "# How to fix the y or x axis for both graphs\n",
      "\n",
      "df.column1.hist(by = df.column2, sharey = True);\n",
      "# or\n",
      "df.column1.hist(by = df.column2, sharex = True);"
     ],
     "language": "python",
     "metadata": {},
     "outputs": []
    },
    {
     "cell_type": "heading",
     "level": 2,
     "metadata": {},
     "source": [
      "Boxplot"
     ]
    },
    {
     "cell_type": "code",
     "collapsed": false,
     "input": [
      "# how to make a boxplot\n",
      "df.boxplot([\u2018column1\u2019, \u2018column2\u2019, \u2018column3\u2019])\n",
      "# makes a boxplot based on the distribution of column 1"
     ],
     "language": "python",
     "metadata": {},
     "outputs": []
    },
    {
     "cell_type": "code",
     "collapsed": false,
     "input": [
      "# how to make a boxplot thats categorized into groups\n",
      "\n",
      "df.boxplot([\u2018column1\u2019], by = \u2018column2\u2019);\n",
      "\n",
      "# column1 is the value distribution\n",
      "# column2 is what the plots are separated by"
     ],
     "language": "python",
     "metadata": {},
     "outputs": []
    },
    {
     "cell_type": "heading",
     "level": 2,
     "metadata": {},
     "source": [
      "Scatter by Date"
     ]
    },
    {
     "cell_type": "code",
     "collapsed": false,
     "input": [
      "#count = something like 'bookings per day', or 'electric usage by day'\n",
      "count = df.column1\n",
      "#make a emtpy plot\n",
      "fig, ax = plt.subplots(1,1)\n",
      "#set the 'x' axis to index and the 'y' to count\n",
      "#scatter\n",
      "ax.plot_date(count.index, count)\n",
      "#line graph\n",
      "count.plot()"
     ],
     "language": "python",
     "metadata": {},
     "outputs": []
    },
    {
     "cell_type": "heading",
     "level": 2,
     "metadata": {},
     "source": [
      "Line plot by date"
     ]
    },
    {
     "cell_type": "code",
     "collapsed": false,
     "input": [
      "with plt.style.context('fivethirtyeight'):\n",
      "    #bookings.sort('booking_date', inplace = True)\n",
      "    ax = df['booking_date'].value_counts().sort_index().plot(figsize = (12,8))\n",
      "    ax.set_ylabel(\"Number of bookings\")\n",
      "    ax.set_xlabel('Date')"
     ],
     "language": "python",
     "metadata": {},
     "outputs": []
    },
    {
     "cell_type": "heading",
     "level": 2,
     "metadata": {},
     "source": [
      "printing multiple regression lines"
     ]
    },
    {
     "cell_type": "code",
     "collapsed": false,
     "input": [
      "#fig, ax = plt.subplots(1,1)\n",
      "#ax.scatter(df.weight, df.mpg);\n",
      "\n",
      "for i in range(1,3):\n",
      "    z = np.polyfit(df.weight, df.mpg, i)\n",
      "    p = np.poly1d(z)\n",
      "    \n",
      "    #print \"Polynomial (\" + str(i) + \")\", '\\n', p, '\\n'\n",
      "    xp = np.linspace(1500, max(df.weight), max(df.mpg))\n",
      "    plt.plot(df.weight, df.mpg, '.', xp, p(xp), '-')"
     ],
     "language": "python",
     "metadata": {},
     "outputs": []
    },
    {
     "cell_type": "heading",
     "level": 2,
     "metadata": {},
     "source": [
      "rolling averages"
     ]
    },
    {
     "cell_type": "code",
     "collapsed": false,
     "input": [
      "# check kaggle bike share ..."
     ],
     "language": "python",
     "metadata": {},
     "outputs": []
    },
    {
     "cell_type": "heading",
     "level": 2,
     "metadata": {},
     "source": [
      "Scatter Matrix"
     ]
    },
    {
     "cell_type": "code",
     "collapsed": false,
     "input": [
      "from pandas.tools.plotting import scatter_matrix"
     ],
     "language": "python",
     "metadata": {},
     "outputs": []
    },
    {
     "cell_type": "code",
     "collapsed": false,
     "input": [
      "scatter_matrix(df[['column1', 'column2', 'column3', 'column4']], figsize (15, 15));"
     ],
     "language": "python",
     "metadata": {},
     "outputs": []
    },
    {
     "cell_type": "heading",
     "level": 2,
     "metadata": {},
     "source": [
      "Seaborn"
     ]
    },
    {
     "cell_type": "code",
     "collapsed": false,
     "input": [
      "# How to make blank grid plots with Seaborn\n",
      "\n",
      "sns.FacetGrid(df, row = \u2018column1\u2019, col = \u2018column2\u2019)\n",
      "\n",
      "# should be set to a variable \u2018grid_plot'\n",
      "\n",
      "# \u2018sns' is for sea born\n",
      "\n",
      "# column1 separates grids by row on feature1\n",
      "\n",
      "# column2 separates grids by column on feature2"
     ],
     "language": "python",
     "metadata": {},
     "outputs": []
    },
    {
     "cell_type": "heading",
     "level": 3,
     "metadata": {},
     "source": [
      "scatterplot with seaborn"
     ]
    },
    {
     "cell_type": "code",
     "collapsed": false,
     "input": [
      "# How to add plot points to the grid\n",
      "sns.FacetGrid(df, row = \u2018column1\u2019, col = \u2018column2\u2019).map(sns.regplot, \u2018column3\u2019, \u2018column4\u2019)\n",
      "\n",
      "# or if you set the gridplots to a variable\n",
      "\n",
      "grid_plot.map(sns.regplot, \u2018column1\u2019, \u2018column2\u2019) \n",
      "\n",
      "# column 3 is x axis values\n",
      "# column 4 is y axis values"
     ],
     "language": "python",
     "metadata": {},
     "outputs": []
    },
    {
     "cell_type": "code",
     "collapsed": false,
     "input": [
      "# In a grid scatter plot  how to control color darkness\n",
      "\n",
      "grid_plot.map(sns.regplot, \u2018column1\u2019, \u2018column2\u2019, color = \u2018.4\u2019)"
     ],
     "language": "python",
     "metadata": {},
     "outputs": []
    },
    {
     "cell_type": "code",
     "collapsed": false,
     "input": [
      "# In a grid scatter plot how to take away regression line\n",
      "\n",
      "grid_plot.map(sns.regplot, column1, column2, fit_reg = False)"
     ],
     "language": "python",
     "metadata": {},
     "outputs": []
    },
    {
     "cell_type": "code",
     "collapsed": false,
     "input": [
      "# How to spread plot points on a scatter plot for when they have the same value\n",
      "\n",
      "grid_plot.map(sns.regplot, \u2018column1\u2019, \u2018column2\u2019, x_jitter = \u2018.1\u2019)"
     ],
     "language": "python",
     "metadata": {},
     "outputs": []
    },
    {
     "cell_type": "heading",
     "level": 3,
     "metadata": {},
     "source": [
      "boxplot with seaborn"
     ]
    },
    {
     "cell_type": "code",
     "collapsed": false,
     "input": [
      "# how to make a boxplot with seaborn\n",
      "sns.boxplot(df.column1);"
     ],
     "language": "python",
     "metadata": {},
     "outputs": []
    },
    {
     "cell_type": "code",
     "collapsed": false,
     "input": [
      "# how to groupby with a boxplot with sea born\n",
      "sns.boxplot(df.column1, groupby = df.column2)"
     ],
     "language": "python",
     "metadata": {},
     "outputs": []
    },
    {
     "cell_type": "code",
     "collapsed": false,
     "input": [
      "# How to make a title for a plot with seaborn\n",
      "sns.boxplot(df.column1, groupby = df.column2).set_title(\u2018whatever you name it\u2019)"
     ],
     "language": "python",
     "metadata": {},
     "outputs": []
    },
    {
     "cell_type": "code",
     "collapsed": false,
     "input": [],
     "language": "python",
     "metadata": {},
     "outputs": []
    },
    {
     "cell_type": "code",
     "collapsed": false,
     "input": [],
     "language": "python",
     "metadata": {},
     "outputs": []
    },
    {
     "cell_type": "heading",
     "level": 2,
     "metadata": {},
     "source": [
      "Sorting Data Frame"
     ]
    },
    {
     "cell_type": "code",
     "collapsed": false,
     "input": [
      "# How to sort data frame\n",
      "df.sort_index(by = \u2018column1\u2019, ascending = False)"
     ],
     "language": "python",
     "metadata": {},
     "outputs": []
    },
    {
     "cell_type": "code",
     "collapsed": false,
     "input": [
      "# How to locate rows of some feature's highest or lowest values\n",
      "df.sort(columns = 'column1').iloc[-5:]"
     ],
     "language": "python",
     "metadata": {},
     "outputs": []
    },
    {
     "cell_type": "code",
     "collapsed": false,
     "input": [],
     "language": "python",
     "metadata": {},
     "outputs": []
    },
    {
     "cell_type": "heading",
     "level": 2,
     "metadata": {},
     "source": [
      "Indexing"
     ]
    },
    {
     "cell_type": "code",
     "collapsed": false,
     "input": [
      "# it's faster to get rows by indexing \n",
      "# this is an example of setting the datetime column as the index\n",
      "df.set_index(['column_date'], inplace=True)"
     ],
     "language": "python",
     "metadata": {},
     "outputs": []
    },
    {
     "cell_type": "code",
     "collapsed": false,
     "input": [],
     "language": "python",
     "metadata": {},
     "outputs": []
    },
    {
     "cell_type": "heading",
     "level": 2,
     "metadata": {},
     "source": [
      "Deleting"
     ]
    },
    {
     "cell_type": "code",
     "collapsed": false,
     "input": [
      "# Delete Statement\n",
      "# del df['column']\n",
      "\n",
      "# Or as df.drop method\n",
      "df.drop('column', axis=1, inplace=True)  # Axis 0 is rows, Axis 1 is columns\n",
      "\n",
      "df.drop(df.index[[1,3]])"
     ],
     "language": "python",
     "metadata": {},
     "outputs": []
    },
    {
     "cell_type": "code",
     "collapsed": false,
     "input": [],
     "language": "python",
     "metadata": {},
     "outputs": []
    },
    {
     "cell_type": "code",
     "collapsed": false,
     "input": [],
     "language": "python",
     "metadata": {},
     "outputs": []
    },
    {
     "cell_type": "heading",
     "level": 1,
     "metadata": {},
     "source": [
      "Lab 3"
     ]
    },
    {
     "cell_type": "heading",
     "level": 2,
     "metadata": {},
     "source": [
      "Replacing characters"
     ]
    },
    {
     "cell_type": "code",
     "collapsed": false,
     "input": [
      "# In this case removing commas from a string and converting it to an integer\n",
      "for i in ['column1', 'column2', 'column3', 'column4']:\n",
      "    df[i] = df[i].map(lambda x: x.replace(',', '')).astype(int)"
     ],
     "language": "python",
     "metadata": {},
     "outputs": []
    },
    {
     "cell_type": "heading",
     "level": 2,
     "metadata": {},
     "source": [
      "Merging\n"
     ]
    },
    {
     "cell_type": "code",
     "collapsed": false,
     "input": [
      "df = df.merge(df2)"
     ],
     "language": "python",
     "metadata": {},
     "outputs": []
    },
    {
     "cell_type": "code",
     "collapsed": false,
     "input": [
      "# How to apply values from another column, only in the rows where the value is larger than the other\n",
      "pres_2004['Bush_votes'] = (pres_2004['Bush'] > pres_2004['Kerry'] * pres_2004['Electoral Votes'])\n",
      "pres_2004['Kerry_votes'] = (pres_2004['Kerry'] > pres_2004['Bush'] * pres_2004['Electoral Votes'])"
     ],
     "language": "python",
     "metadata": {},
     "outputs": []
    },
    {
     "cell_type": "heading",
     "level": 1,
     "metadata": {},
     "source": [
      "Numpy"
     ]
    },
    {
     "cell_type": "heading",
     "level": 2,
     "metadata": {},
     "source": [
      "1d vs 2d"
     ]
    },
    {
     "cell_type": "code",
     "collapsed": false,
     "input": [
      "print pd.Series([1,2,3])\n",
      "print '-', np.array([1,2,3])\n",
      "print '-', pd.Series([1,2,3]).values"
     ],
     "language": "python",
     "metadata": {},
     "outputs": [
      {
       "output_type": "stream",
       "stream": "stdout",
       "text": [
        "0    1\n",
        "1    2\n",
        "2    3\n",
        "dtype: int64\n",
        "- [1 2 3]\n",
        "- [1 2 3]\n"
       ]
      }
     ],
     "prompt_number": 5
    },
    {
     "cell_type": "heading",
     "level": 2,
     "metadata": {},
     "source": [
      "Aranging"
     ]
    },
    {
     "cell_type": "code",
     "collapsed": false,
     "input": [
      "print np.arange(20)\n",
      "print np.zeros(20)\n",
      "print np.ones(20)\n",
      "print np.eye(4, 4)"
     ],
     "language": "python",
     "metadata": {},
     "outputs": [
      {
       "output_type": "stream",
       "stream": "stdout",
       "text": [
        "[ 0  1  2  3  4  5  6  7  8  9 10 11 12 13 14 15 16 17 18 19]\n",
        "[ 0.  0.  0.  0.  0.  0.  0.  0.  0.  0.  0.  0.  0.  0.  0.  0.  0.  0.\n",
        "  0.  0.]\n",
        "[ 1.  1.  1.  1.  1.  1.  1.  1.  1.  1.  1.  1.  1.  1.  1.  1.  1.  1.\n",
        "  1.  1.]\n",
        "[[ 1.  0.  0.  0.]\n",
        " [ 0.  1.  0.  0.]\n",
        " [ 0.  0.  1.  0.]\n",
        " [ 0.  0.  0.  1.]]\n"
       ]
      }
     ],
     "prompt_number": 32
    },
    {
     "cell_type": "code",
     "collapsed": false,
     "input": [
      "x = np.arange(20)\n",
      "x = x.reshape(4, 5)\n",
      "print x\n",
      "\n",
      "# Row 2&3, columns 2&3\n",
      "x[1:3, 2:4]"
     ],
     "language": "python",
     "metadata": {},
     "outputs": [
      {
       "output_type": "stream",
       "stream": "stdout",
       "text": [
        "[[ 0  1  2  3  4]\n",
        " [ 5  6  7  8  9]\n",
        " [10 11 12 13 14]\n",
        " [15 16 17 18 19]]\n"
       ]
      },
      {
       "metadata": {},
       "output_type": "pyout",
       "prompt_number": 37,
       "text": [
        "array([[ 7,  8],\n",
        "       [12, 13]])"
       ]
      }
     ],
     "prompt_number": 37
    },
    {
     "cell_type": "heading",
     "level": 3,
     "metadata": {},
     "source": [
      "Numpy Boolean"
     ]
    },
    {
     "cell_type": "code",
     "collapsed": false,
     "input": [
      "x[x > 7]"
     ],
     "language": "python",
     "metadata": {},
     "outputs": [
      {
       "metadata": {},
       "output_type": "pyout",
       "prompt_number": 38,
       "text": [
        "array([ 8,  9, 10, 11, 12, 13, 14, 15, 16, 17, 18, 19])"
       ]
      }
     ],
     "prompt_number": 38
    },
    {
     "cell_type": "code",
     "collapsed": false,
     "input": [
      "arr = ([1,4,8,2,3])\n",
      "print '-', arr != 2\n",
      "\n",
      "arr = np.array([1,4,8,2,3])\n",
      "print '-', arr != 2"
     ],
     "language": "python",
     "metadata": {},
     "outputs": [
      {
       "output_type": "stream",
       "stream": "stdout",
       "text": [
        "- True\n",
        "- [ True  True  True False  True]"
       ]
      },
      {
       "output_type": "stream",
       "stream": "stdout",
       "text": [
        "\n"
       ]
      }
     ],
     "prompt_number": 6
    },
    {
     "cell_type": "heading",
     "level": 3,
     "metadata": {},
     "source": [
      "Numpy Range and Assigning Values"
     ]
    },
    {
     "cell_type": "code",
     "collapsed": false,
     "input": [
      "# Selecting a range\n",
      "print arr[1:5:2]\n",
      "# Assign Values\n",
      "arr[1:] = 20  # Start at 1st element till END\n",
      "print arr"
     ],
     "language": "python",
     "metadata": {},
     "outputs": [
      {
       "output_type": "stream",
       "stream": "stdout",
       "text": [
        "[4 2]\n",
        "[ 1 20 20 20 20]\n"
       ]
      }
     ],
     "prompt_number": 7
    },
    {
     "cell_type": "heading",
     "level": 3,
     "metadata": {},
     "source": [
      "Numpy Shaping"
     ]
    },
    {
     "cell_type": "code",
     "collapsed": false,
     "input": [
      "# Reshape One-D to Two-D Array\n",
      "arr = np.array([1,2,3,4,5,6])\n",
      "print arr.reshape(2, 3)\n",
      "print \"=\"\n",
      "print arr.reshape(-1, 3)\n",
      "print arr.reshape(2, -1)\n",
      "arr = arr.reshape(2, -1)\n",
      "pd.DataFrame(arr)"
     ],
     "language": "python",
     "metadata": {},
     "outputs": [
      {
       "output_type": "stream",
       "stream": "stdout",
       "text": [
        "[[1 2 3]\n",
        " [4 5 6]]\n",
        "=\n",
        "[[1 2 3]\n",
        " [4 5 6]]\n",
        "[[1 2 3]\n",
        " [4 5 6]]\n"
       ]
      },
      {
       "html": [
        "<div style=\"max-height:1000px;max-width:1500px;overflow:auto;\">\n",
        "<table border=\"1\" class=\"dataframe\">\n",
        "  <thead>\n",
        "    <tr style=\"text-align: right;\">\n",
        "      <th></th>\n",
        "      <th>0</th>\n",
        "      <th>1</th>\n",
        "      <th>2</th>\n",
        "    </tr>\n",
        "  </thead>\n",
        "  <tbody>\n",
        "    <tr>\n",
        "      <th>0</th>\n",
        "      <td> 1</td>\n",
        "      <td> 2</td>\n",
        "      <td> 3</td>\n",
        "    </tr>\n",
        "    <tr>\n",
        "      <th>1</th>\n",
        "      <td> 4</td>\n",
        "      <td> 5</td>\n",
        "      <td> 6</td>\n",
        "    </tr>\n",
        "  </tbody>\n",
        "</table>\n",
        "</div>"
       ],
       "metadata": {},
       "output_type": "pyout",
       "prompt_number": 8,
       "text": [
        "   0  1  2\n",
        "0  1  2  3\n",
        "1  4  5  6"
       ]
      }
     ],
     "prompt_number": 8
    },
    {
     "cell_type": "heading",
     "level": 2,
     "metadata": {},
     "source": [
      "numpy + - * / **"
     ]
    },
    {
     "cell_type": "code",
     "collapsed": false,
     "input": [
      "print arr + 5\n",
      "print arr / 5.\n",
      "print arr * 5\n",
      "print arr ** 5"
     ],
     "language": "python",
     "metadata": {},
     "outputs": [
      {
       "output_type": "stream",
       "stream": "stdout",
       "text": [
        "[[ 6  7  8]\n",
        " [ 9 10 11]]\n",
        "[[ 0.2  0.4  0.6]\n",
        " [ 0.8  1.   1.2]]\n",
        "[[ 5 10 15]\n",
        " [20 25 30]]\n",
        "[[   1   32  243]\n",
        " [1024 3125 7776]]\n"
       ]
      }
     ],
     "prompt_number": 13
    },
    {
     "cell_type": "code",
     "collapsed": false,
     "input": [
      "print arr + arr\n",
      "print arr * arr"
     ],
     "language": "python",
     "metadata": {},
     "outputs": [
      {
       "output_type": "stream",
       "stream": "stdout",
       "text": [
        "[[ 2  4  6]\n",
        " [ 8 10 12]]\n",
        "[[ 1  4  9]\n",
        " [16 25 36]]\n"
       ]
      }
     ],
     "prompt_number": 17
    },
    {
     "cell_type": "code",
     "collapsed": false,
     "input": [],
     "language": "python",
     "metadata": {},
     "outputs": []
    },
    {
     "cell_type": "heading",
     "level": 2,
     "metadata": {},
     "source": [
      "numpy linspace"
     ]
    },
    {
     "cell_type": "code",
     "collapsed": false,
     "input": [
      "# Create 10 elements between 0 and 1 - linearly separated\n",
      "np.linspace(0, 1, 10)"
     ],
     "language": "python",
     "metadata": {},
     "outputs": [
      {
       "metadata": {},
       "output_type": "pyout",
       "prompt_number": 3,
       "text": [
        "array([ 0.        ,  0.11111111,  0.22222222,  0.33333333,  0.44444444,\n",
        "        0.55555556,  0.66666667,  0.77777778,  0.88888889,  1.        ])"
       ]
      }
     ],
     "prompt_number": 3
    },
    {
     "cell_type": "heading",
     "level": 2,
     "metadata": {},
     "source": [
      "numpy random"
     ]
    },
    {
     "cell_type": "code",
     "collapsed": false,
     "input": [
      "# Mean of 1, std of 0.1, 10 elements\n",
      "arr = np.random.normal(1, 0.1, 100)\n",
      "arr"
     ],
     "language": "python",
     "metadata": {},
     "outputs": [
      {
       "metadata": {},
       "output_type": "pyout",
       "prompt_number": 14,
       "text": [
        "array([ 0.64803951,  1.03704663,  1.00023622,  1.00585654,  1.17272973,\n",
        "        1.12789439,  0.99505505,  1.0438557 ,  0.91141346,  0.90050046,\n",
        "        0.86207235,  1.00222438,  0.97312632,  0.99209342,  1.06534913,\n",
        "        1.05820735,  0.97013752,  1.16554243,  1.11302581,  1.12279776,\n",
        "        0.92235222,  1.07051819,  0.88807926,  1.20145908,  1.04291991,\n",
        "        1.1321091 ,  0.87729127,  1.06756055,  0.89608739,  1.02705719,\n",
        "        0.94298061,  1.02080116,  0.86740154,  1.05768361,  1.05546142,\n",
        "        0.96576146,  0.92098253,  1.00519099,  1.02876282,  1.09682907,\n",
        "        1.03889307,  1.10431345,  0.91405171,  1.02015819,  1.07981873,\n",
        "        0.94081045,  1.13394878,  0.85648576,  1.19054221,  0.97667417,\n",
        "        1.02219213,  0.94321619,  0.84589555,  0.84635829,  0.97853102,\n",
        "        0.89173032,  0.86491282,  1.0576308 ,  0.97332264,  0.96778528,\n",
        "        1.03345754,  0.99564429,  1.0394449 ,  0.92569   ,  0.97940899,\n",
        "        0.88582639,  0.92913516,  1.04196094,  0.87005022,  0.96143264,\n",
        "        1.17846501,  1.15080884,  1.03514815,  1.14642203,  0.8432605 ,\n",
        "        1.08711977,  0.95906992,  1.06896814,  0.86900175,  0.916106  ,\n",
        "        0.93405226,  0.92895431,  0.92054573,  0.94944895,  1.05502634,\n",
        "        1.09839674,  1.07206016,  0.72725604,  0.92291602,  1.16832087,\n",
        "        0.96624281,  0.920155  ,  0.94638078,  1.04619071,  0.82267828,\n",
        "        0.91776414,  0.95137391,  0.89446489,  0.98545342,  1.13127939])"
       ]
      }
     ],
     "prompt_number": 14
    },
    {
     "cell_type": "code",
     "collapsed": false,
     "input": [
      "# Standard Normal Dist\n",
      "np.random.rand(1,5) # back to front, 1D, 2D, 3D, ect."
     ],
     "language": "python",
     "metadata": {},
     "outputs": [
      {
       "metadata": {},
       "output_type": "pyout",
       "prompt_number": 18,
       "text": [
        "array([[ 0.12806526,  0.43762798,  0.66172852,  0.55910409,  0.62812012]])"
       ]
      }
     ],
     "prompt_number": 18
    },
    {
     "cell_type": "code",
     "collapsed": false,
     "input": [
      "# to fill categorical info based on percentage\n",
      "np.random.choice(('a','b'), size= 10, p = (.31, .69)) "
     ],
     "language": "python",
     "metadata": {},
     "outputs": [
      {
       "metadata": {},
       "output_type": "pyout",
       "prompt_number": 19,
       "text": [
        "array(['b', 'b', 'b', 'b', 'a', 'b', 'b', 'b', 'a', 'b'], \n",
        "      dtype='|S1')"
       ]
      }
     ],
     "prompt_number": 19
    },
    {
     "cell_type": "heading",
     "level": 1,
     "metadata": {},
     "source": [
      "matplotlib"
     ]
    },
    {
     "cell_type": "code",
     "collapsed": false,
     "input": [
      "arr2 = np.random.normal(1, 0.1, 10000)"
     ],
     "language": "python",
     "metadata": {},
     "outputs": [],
     "prompt_number": 24
    },
    {
     "cell_type": "code",
     "collapsed": false,
     "input": [
      "fig, ax = plt.subplots(1, 1)\n",
      "ax.hist(arr2, bins = 100);"
     ],
     "language": "python",
     "metadata": {},
     "outputs": [
      {
       "metadata": {},
       "output_type": "display_data",
       "png": "[encoded data removed]",
       "text": [
        "<matplotlib.figure.Figure at 0x10cf238d0>"
       ]
      }
     ],
     "prompt_number": 26
    },
    {
     "cell_type": "code",
     "collapsed": false,
     "input": [],
     "language": "python",
     "metadata": {},
     "outputs": []
    },
    {
     "cell_type": "heading",
     "level": 2,
     "metadata": {},
     "source": [
      "Drop rows or columns"
     ]
    },
    {
     "cell_type": "code",
     "collapsed": false,
     "input": [
      "# drop column\n",
      "df.drop(['column1'], axis=1)"
     ],
     "language": "python",
     "metadata": {},
     "outputs": []
    },
    {
     "cell_type": "code",
     "collapsed": false,
     "input": [
      "# drop row\n",
      "df.drop(['1', '3'], axis=0)"
     ],
     "language": "python",
     "metadata": {},
     "outputs": []
    },
    {
     "cell_type": "heading",
     "level": 1,
     "metadata": {},
     "source": [
      "SKLEARN"
     ]
    },
    {
     "cell_type": "code",
     "collapsed": false,
     "input": [
      "# Linear Regression\n",
      "from sklearn.linear_model import LinearRegression\n",
      "#Train_Test_Split\n",
      "from sklearn.cross_validation import train_test_split"
     ],
     "language": "python",
     "metadata": {},
     "outputs": []
    },
    {
     "cell_type": "heading",
     "level": 2,
     "metadata": {},
     "source": [
      "Create train and test set"
     ]
    },
    {
     "cell_type": "code",
     "collapsed": false,
     "input": [
      "#Seperate Features and Train\n",
      "X = df[['coln1','coln2']].values\n",
      "y = df['coln3'].values\n",
      "X.shape\n",
      "y.shape"
     ],
     "language": "python",
     "metadata": {},
     "outputs": []
    },
    {
     "cell_type": "code",
     "collapsed": false,
     "input": [
      "#Train_Test_Split\n",
      "X_train, X_test, Y_train, Y_test = train_test_split(X, Y, test_size = 0.2)"
     ],
     "language": "python",
     "metadata": {},
     "outputs": []
    },
    {
     "cell_type": "heading",
     "level": 2,
     "metadata": {},
     "source": [
      "Linear Regression"
     ]
    },
    {
     "cell_type": "code",
     "collapsed": false,
     "input": [
      "#LinearRegression\n",
      "clf = LinearRegression()\n",
      "clf.fit(X_train, y_train)\n",
      "\n",
      "model = clf.fit(X_test, y_test, n_jobs = 10)\n",
      "model.score(x_test, y_test)\n",
      "\n",
      "# clf.coef_ --- view coefficients\n",
      "# clf.intercept_ --- view intercepts\n",
      "\n",
      "clf.score(X_test, y_test)\n",
      "sum_sq_model = np.sum((Y_pred - y_test) ** 2)\n",
      "sum_sq_naive = np.sum((y_test.mean() - y_test) ** 2)\n",
      "1 - sum_sq_model / sum_sq_naive"
     ],
     "language": "python",
     "metadata": {},
     "outputs": []
    },
    {
     "cell_type": "heading",
     "level": 2,
     "metadata": {},
     "source": [
      "Ploting predicted vs actual"
     ]
    },
    {
     "cell_type": "code",
     "collapsed": false,
     "input": [
      "# Lets Just compare the Predicted to Actual and see the distribution\n",
      "\n",
      "fig, ax = plt.subplots(1, 1)\n",
      "\n",
      "ax.scatter(target_pred, target_test)\n",
      "ax.set_xlabel('Predicated')\n",
      "ax.set_ylabel('Actual')\n",
      "\n",
      "# Draw the ideal line\n",
      "ax.plot(target, target, 'r')"
     ],
     "language": "python",
     "metadata": {},
     "outputs": []
    },
    {
     "cell_type": "code",
     "collapsed": false,
     "input": [],
     "language": "python",
     "metadata": {},
     "outputs": []
    },
    {
     "cell_type": "heading",
     "level": 2,
     "metadata": {},
     "source": [
      "Linear, Polynomial and Regularized Regression"
     ]
    },
    {
     "cell_type": "code",
     "collapsed": false,
     "input": [
      "%matplotlib inline\n",
      "\n",
      "import numpy as np\n",
      "from sklearn.linear_model import LinearRegression\n",
      "from sklearn.linear_model import Ridge\n",
      "from sklearn.preprocessing import PolynomialFeatures\n",
      "from sklearn.pipeline import make_pipeline\n",
      "from sklearn.cross_validation import train_test_split\n",
      "\n",
      "import matplotlib.pylab as plt\n",
      "\n",
      "#size all plots\n",
      "from IPython.core.pylabtools import figsize\n",
      "figsize(5,5)\n",
      "\n",
      "#nice plot style\n",
      "plt.style.use('fivethirtyeight')\n",
      "\n",
      "#keep sample consistant for testing\n",
      "np.random.seed(9)"
     ],
     "language": "python",
     "metadata": {},
     "outputs": [],
     "prompt_number": 187
    },
    {
     "cell_type": "heading",
     "level": 3,
     "metadata": {},
     "source": [
      "making a random sin wave of data points"
     ]
    },
    {
     "cell_type": "code",
     "collapsed": false,
     "input": [
      "# a function to generate y coordinants from x coordinants\n",
      "def f(x):\n",
      "    return np.sin(2 * np.pi * x)\n",
      "\n",
      "# generate for the x axis consistant at intervals. The \"nice\" looking x coordinants\n",
      "x_plot = np.linspace(0, 1, 100)\n",
      "\n",
      "# generate points and keep a subset of them\n",
      "n_samples = 100\n",
      "\n",
      "# this is generating random x coordinants\n",
      "# [:] is taking the whole list, 90: would just take the last 10, :5 would just take the first 5.\n",
      "# np.newaxis is creating a new array, the : makes it do it for each value\n",
      "X = np.random.uniform(0, 1, size=n_samples)[:, np.newaxis]\n",
      "X.sort(axis = 0)\n",
      "\n",
      "# now we have y values generated from the ramdom x coordinants +\n",
      "# adding additional noise of .3\n",
      "y = f(X) + np.random.normal(scale=0.3, size=n_samples)[:, np.newaxis]\n"
     ],
     "language": "python",
     "metadata": {},
     "outputs": [],
     "prompt_number": 188
    },
    {
     "cell_type": "heading",
     "level": 3,
     "metadata": {},
     "source": [
      "train test split"
     ]
    },
    {
     "cell_type": "code",
     "collapsed": false,
     "input": [
      "# train size is only %20\n",
      "X_train, X_test, y_train, y_test = train_test_split(X, y, test_size=0.8)"
     ],
     "language": "python",
     "metadata": {},
     "outputs": [],
     "prompt_number": 203
    },
    {
     "cell_type": "heading",
     "level": 2,
     "metadata": {},
     "source": [
      "ploting x and y axis"
     ]
    },
    {
     "cell_type": "code",
     "collapsed": false,
     "input": [
      "# makes a empty plot\n",
      "fig, ax = plt.subplots(1, 1)\n",
      "\n",
      "# makes a line by connecting all point of x_plot and f(x_plot)\n",
      "ax.plot(x_plot, f(x_plot), label = 'ground truth', color = 'green')\n",
      "\n",
      "# plots all 20 points from X_train and y_train, the messy X coordinants and the y's from it with the added noise\n",
      "ax.scatter(X_train, y_train, label='data', s=100)\n",
      "\n",
      "# setting y plot limits, (-2, 2) if (2, -2) it will flip!\n",
      "ax.set_ylim((-2, 2))\n",
      "\n",
      "# setting x plot limits\n",
      "ax.set_xlim((0, 1))\n",
      "\n",
      "# labels axis\n",
      "ax.set_ylabel('y')\n",
      "ax.set_xlabel('x')\n",
      "\n",
      "# creates legend with \"label = 'ground truth'\" from above\n",
      "ax.legend();\n",
      "\n"
     ],
     "language": "python",
     "metadata": {},
     "outputs": [
      {
       "metadata": {},
       "output_type": "display_data",
       "png": "[encoded data removed]",
       "text": [
        "<matplotlib.figure.Figure at 0x10e7144d0>"
       ]
      }
     ],
     "prompt_number": 204
    },
    {
     "cell_type": "heading",
     "level": 2,
     "metadata": {},
     "source": [
      "Draw a line to approximate the data"
     ]
    },
    {
     "cell_type": "code",
     "collapsed": false,
     "input": [
      "def plot_approximation(est, ax, label=None):\n",
      "    \"\"\"Plot the approximation of ``est`` on axis ``ax``. \"\"\"\n",
      "    ax.scatter(X_train, y_train, s=100)\n",
      "    ax.plot(x_plot, est.predict(x_plot[:, np.newaxis]), color='red', label=label)"
     ],
     "language": "python",
     "metadata": {},
     "outputs": [],
     "prompt_number": 205
    },
    {
     "cell_type": "code",
     "collapsed": false,
     "input": [
      "# the empty plot we want\n",
      "fig,ax = plt.subplots(1,1)\n",
      "ax.set_ylim((-2, 2))\n",
      "ax.set_xlim((0, 1))\n",
      "ax.set_ylabel('y')\n",
      "ax.set_xlabel('x')\n",
      "\n",
      "# set polynomial degree\n",
      "degree = 3\n",
      "est = make_pipeline(PolynomialFeatures(degree), LinearRegression())\n",
      "est.fit(X_train, y_train) # fit runs the linear regression \n",
      "plot_approximation(est, ax, label='degree=%d' % degree)\n",
      "ax.legend();"
     ],
     "language": "python",
     "metadata": {},
     "outputs": [
      {
       "metadata": {},
       "output_type": "display_data",
       "png": "[encoded data removed]",
       "text": [
        "<matplotlib.figure.Figure at 0x10feab9d0>"
       ]
      }
     ],
     "prompt_number": 206
    },
    {
     "cell_type": "code",
     "collapsed": false,
     "input": [
      "np.zeros(10)"
     ],
     "language": "python",
     "metadata": {},
     "outputs": [
      {
       "metadata": {},
       "output_type": "pyout",
       "prompt_number": 207,
       "text": [
        "array([ 0.,  0.,  0.,  0.,  0.,  0.,  0.,  0.,  0.,  0.])"
       ]
      }
     ],
     "prompt_number": 207
    },
    {
     "cell_type": "code",
     "collapsed": false,
     "input": [
      "%%time\n",
      "from sklearn.metrics import mean_squared_error\n",
      "\n",
      "# both make an empty array of zeros\n",
      "train_error = np.zeros(10)\n",
      "test_error = np.empty(10)\n",
      "\n",
      "\n",
      "for degree in range(10):\n",
      "    est = make_pipeline(PolynomialFeatures(degree), LinearRegression())\n",
      "    est.fit(X_train, y_train)\n",
      "    train_error[degree] = mean_squared_error(y_train, est.predict(X_train))\n",
      "    test_error[degree] = mean_squared_error(y_test, est.predict(X_test))\n",
      "\n",
      "plt.plot(np.arange(10), train_error, color='green', label='train')\n",
      "plt.plot(np.arange(10), test_error, color='red', label='test')\n",
      "plt.ylim((0.0, 1))\n",
      "plt.ylabel('log(mean squared error)')\n",
      "plt.xlabel('degree')\n",
      "plt.legend(loc='upper left')"
     ],
     "language": "python",
     "metadata": {},
     "outputs": [
      {
       "output_type": "stream",
       "stream": "stdout",
       "text": [
        "CPU times: user 81.8 ms, sys: 2.46 ms, total: 84.3 ms\n",
        "Wall time: 82.5 ms\n"
       ]
      },
      {
       "metadata": {},
       "output_type": "display_data",
       "png": "[encoded data removed]",
       "text": [
        "<matplotlib.figure.Figure at 0x10fed0490>"
       ]
      }
     ],
     "prompt_number": 208
    },
    {
     "cell_type": "code",
     "collapsed": false,
     "input": [
      "y_train.shape"
     ],
     "language": "python",
     "metadata": {},
     "outputs": [
      {
       "metadata": {},
       "output_type": "pyout",
       "prompt_number": 209,
       "text": [
        "(20, 1)"
       ]
      }
     ],
     "prompt_number": 209
    },
    {
     "cell_type": "code",
     "collapsed": false,
     "input": [],
     "language": "python",
     "metadata": {},
     "outputs": [],
     "prompt_number": 209
    },
    {
     "cell_type": "code",
     "collapsed": false,
     "input": [],
     "language": "python",
     "metadata": {},
     "outputs": [],
     "prompt_number": 209
    },
    {
     "cell_type": "code",
     "collapsed": false,
     "input": [],
     "language": "python",
     "metadata": {},
     "outputs": []
    }
   ],
   "metadata": {}
  }
 ]
}