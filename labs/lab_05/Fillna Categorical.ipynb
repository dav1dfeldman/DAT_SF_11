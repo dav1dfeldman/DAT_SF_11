{
 "metadata": {
  "name": "",
  "signature": "sha256:c139c90ab81dbdced1e702f527e42aa783fc9e2e03acdb396fd1b8fc1076b0fe"
 },
 "nbformat": 3,
 "nbformat_minor": 0,
 "worksheets": [
  {
   "cells": [
    {
     "cell_type": "code",
     "collapsed": false,
     "input": [
      "import numpy as np\n",
      "import pandas as pd\n",
      "np.random.seed([1])\n",
      "df = pd.DataFrame(np.random.normal(10, 2, 20).round().astype(object))\n",
      "df.rename(columns = {0 :  'category'}, inplace = True)\n",
      "df.loc[::5] = np.nan\n",
      "print df"
     ],
     "language": "python",
     "metadata": {},
     "outputs": [
      {
       "output_type": "stream",
       "stream": "stdout",
       "text": [
        "   category\n",
        "0       NaN\n",
        "1        12\n",
        "2         4\n",
        "3         9\n",
        "4        12\n",
        "5       NaN\n",
        "6        10\n",
        "7        12\n",
        "8        13\n",
        "9         9\n",
        "10      NaN\n",
        "11        9\n",
        "12       10\n",
        "13       11\n",
        "14        9\n",
        "15      NaN\n",
        "16       10\n",
        "17        4\n",
        "18        9\n",
        "19        9\n"
       ]
      }
     ],
     "prompt_number": 139
    },
    {
     "cell_type": "code",
     "collapsed": false,
     "input": [
      "df.category.value_counts()"
     ],
     "language": "python",
     "metadata": {},
     "outputs": [
      {
       "metadata": {},
       "output_type": "pyout",
       "prompt_number": 140,
       "text": [
        "9     6\n",
        "12    3\n",
        "10    3\n",
        "4     2\n",
        "13    1\n",
        "11    1\n",
        "dtype: int64"
       ]
      }
     ],
     "prompt_number": 140
    },
    {
     "cell_type": "code",
     "collapsed": false,
     "input": [
      "df.category.value_counts()/16"
     ],
     "language": "python",
     "metadata": {},
     "outputs": [
      {
       "metadata": {},
       "output_type": "pyout",
       "prompt_number": 141,
       "text": [
        "9     0.3750\n",
        "12    0.1875\n",
        "10    0.1875\n",
        "4     0.1250\n",
        "13    0.0625\n",
        "11    0.0625\n",
        "dtype: float64"
       ]
      }
     ],
     "prompt_number": 141
    },
    {
     "cell_type": "code",
     "collapsed": false,
     "input": [
      "category_fill"
     ],
     "language": "python",
     "metadata": {},
     "outputs": [
      {
       "metadata": {},
       "output_type": "pyout",
       "prompt_number": 142,
       "text": [
        "array([ 9, 12,  9,  9])"
       ]
      }
     ],
     "prompt_number": 142
    },
    {
     "cell_type": "code",
     "collapsed": false,
     "input": [
      "from scipy import stats\n",
      "\n",
      "counts = df.category.value_counts()\n",
      "print counts\n",
      "dist = stats.rv_discrete(values=(counts.index, counts/counts.sum()))\n",
      "print dist\n",
      "fill_values = dist.rvs(size=df.shape[0] - df.category.count())\n",
      "print fill_values\n",
      "df.loc[df.category.isnull(), \"category\"] = fill_values\n",
      "print df\n",
      "print dist.rvs"
     ],
     "language": "python",
     "metadata": {},
     "outputs": [
      {
       "output_type": "stream",
       "stream": "stdout",
       "text": [
        "9     7\n",
        "12    4\n",
        "11    3\n",
        "10    3\n",
        "4     2\n",
        "13    1\n",
        "dtype: int64\n",
        "<scipy.stats._distn_infrastructure.rv_discrete object at 0x1088d5f10>\n",
        "[]\n",
        "   category\n",
        "0        11\n",
        "1        12\n",
        "2         4\n",
        "3         9\n",
        "4        12\n",
        "5        11\n",
        "6        10\n",
        "7        12\n",
        "8        13\n",
        "9         9\n",
        "10       12\n",
        "11        9\n",
        "12       10\n",
        "13       11\n",
        "14        9\n",
        "15        9\n",
        "16       10\n",
        "17        4\n",
        "18        9\n",
        "19        9\n",
        "<bound method rv_discrete.rvs of <scipy.stats._distn_infrastructure.rv_discrete object at 0x1088d5f10>>\n"
       ]
      }
     ],
     "prompt_number": 148
    },
    {
     "cell_type": "code",
     "collapsed": false,
     "input": [
      "df"
     ],
     "language": "python",
     "metadata": {},
     "outputs": [
      {
       "html": [
        "<div style=\"max-height:1000px;max-width:1500px;overflow:auto;\">\n",
        "<table border=\"1\" class=\"dataframe\">\n",
        "  <thead>\n",
        "    <tr style=\"text-align: right;\">\n",
        "      <th></th>\n",
        "      <th>category</th>\n",
        "    </tr>\n",
        "  </thead>\n",
        "  <tbody>\n",
        "    <tr>\n",
        "      <th>0 </th>\n",
        "      <td>  9</td>\n",
        "    </tr>\n",
        "    <tr>\n",
        "      <th>1 </th>\n",
        "      <td> 12</td>\n",
        "    </tr>\n",
        "    <tr>\n",
        "      <th>2 </th>\n",
        "      <td>  4</td>\n",
        "    </tr>\n",
        "    <tr>\n",
        "      <th>3 </th>\n",
        "      <td>  9</td>\n",
        "    </tr>\n",
        "    <tr>\n",
        "      <th>4 </th>\n",
        "      <td> 12</td>\n",
        "    </tr>\n",
        "    <tr>\n",
        "      <th>5 </th>\n",
        "      <td>  9</td>\n",
        "    </tr>\n",
        "    <tr>\n",
        "      <th>6 </th>\n",
        "      <td> 10</td>\n",
        "    </tr>\n",
        "    <tr>\n",
        "      <th>7 </th>\n",
        "      <td> 12</td>\n",
        "    </tr>\n",
        "    <tr>\n",
        "      <th>8 </th>\n",
        "      <td> 13</td>\n",
        "    </tr>\n",
        "    <tr>\n",
        "      <th>9 </th>\n",
        "      <td>  9</td>\n",
        "    </tr>\n",
        "    <tr>\n",
        "      <th>10</th>\n",
        "      <td>  9</td>\n",
        "    </tr>\n",
        "    <tr>\n",
        "      <th>11</th>\n",
        "      <td>  9</td>\n",
        "    </tr>\n",
        "    <tr>\n",
        "      <th>12</th>\n",
        "      <td> 10</td>\n",
        "    </tr>\n",
        "    <tr>\n",
        "      <th>13</th>\n",
        "      <td> 11</td>\n",
        "    </tr>\n",
        "    <tr>\n",
        "      <th>14</th>\n",
        "      <td>  9</td>\n",
        "    </tr>\n",
        "    <tr>\n",
        "      <th>15</th>\n",
        "      <td>  4</td>\n",
        "    </tr>\n",
        "    <tr>\n",
        "      <th>16</th>\n",
        "      <td> 10</td>\n",
        "    </tr>\n",
        "    <tr>\n",
        "      <th>17</th>\n",
        "      <td>  4</td>\n",
        "    </tr>\n",
        "    <tr>\n",
        "      <th>18</th>\n",
        "      <td>  9</td>\n",
        "    </tr>\n",
        "    <tr>\n",
        "      <th>19</th>\n",
        "      <td>  9</td>\n",
        "    </tr>\n",
        "  </tbody>\n",
        "</table>\n",
        "</div>"
       ],
       "metadata": {},
       "output_type": "pyout",
       "prompt_number": 130,
       "text": [
        "   category\n",
        "0         9\n",
        "1        12\n",
        "2         4\n",
        "3         9\n",
        "4        12\n",
        "5         9\n",
        "6        10\n",
        "7        12\n",
        "8        13\n",
        "9         9\n",
        "10        9\n",
        "11        9\n",
        "12       10\n",
        "13       11\n",
        "14        9\n",
        "15        4\n",
        "16       10\n",
        "17        4\n",
        "18        9\n",
        "19        9"
       ]
      }
     ],
     "prompt_number": 130
    },
    {
     "cell_type": "code",
     "collapsed": false,
     "input": [
      "df.category.value_counts()"
     ],
     "language": "python",
     "metadata": {},
     "outputs": [
      {
       "metadata": {},
       "output_type": "pyout",
       "prompt_number": 131,
       "text": [
        "9     9\n",
        "4     3\n",
        "12    3\n",
        "10    3\n",
        "13    1\n",
        "11    1\n",
        "dtype: int64"
       ]
      }
     ],
     "prompt_number": 131
    },
    {
     "cell_type": "code",
     "collapsed": false,
     "input": [],
     "language": "python",
     "metadata": {},
     "outputs": []
    },
    {
     "cell_type": "code",
     "collapsed": false,
     "input": [
      "# to fill categorical info based on percentage\n",
      "category_fill = np.random.choice((9, 12, 10, 4, 13, 11), size = 4, p = (.375, .1875, .1875, .1250, .0625, .0625))\n",
      "df.loc[df.category.isnull(), \"category\"] = category_fill"
     ],
     "language": "python",
     "metadata": {},
     "outputs": [],
     "prompt_number": 123
    },
    {
     "cell_type": "code",
     "collapsed": false,
     "input": [
      "df.category.value_counts()"
     ],
     "language": "python",
     "metadata": {},
     "outputs": [
      {
       "metadata": {},
       "output_type": "pyout",
       "prompt_number": 124,
       "text": [
        "9     9\n",
        "12    4\n",
        "10    3\n",
        "4     2\n",
        "13    1\n",
        "11    1\n",
        "dtype: int64"
       ]
      }
     ],
     "prompt_number": 124
    },
    {
     "cell_type": "code",
     "collapsed": false,
     "input": [],
     "language": "python",
     "metadata": {},
     "outputs": []
    }
   ],
   "metadata": {}
  }
 ]
}