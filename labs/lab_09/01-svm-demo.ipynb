{
 "metadata": {
  "name": "",
  "signature": "sha256:80a0a326af0501fd16984a9f3923b2fb48bd38c9453baf84bbc83c4e2102e544"
 },
 "nbformat": 3,
 "nbformat_minor": 0,
 "worksheets": [
  {
   "cells": [
    {
     "cell_type": "markdown",
     "metadata": {},
     "source": [
      "<small><i>This example was adapted from from a tutorial give by [Jake Vanderplas](http://www.vanderplas.com) at PyCon 2014.</i></small>"
     ]
    },
    {
     "cell_type": "markdown",
     "metadata": {},
     "source": [
      "## SVM Demo App"
     ]
    },
    {
     "cell_type": "code",
     "collapsed": false,
     "input": [
      "!python svm_gui.py"
     ],
     "language": "python",
     "metadata": {},
     "outputs": [
      {
       "output_type": "stream",
       "stream": "stdout",
       "text": [
        "\r\n",
        "==========\r\n",
        "Libsvm GUI\r\n",
        "==========\r\n",
        "\r\n",
        "A simple graphical frontend for Libsvm mainly intended for didactic\r\n",
        "purposes. You can create data points by point and click and visualize\r\n",
        "the decision region induced by different kernels and parameter settings.\r\n",
        "\r\n",
        "To create positive examples click the left mouse button; to create\r\n",
        "negative examples click the right button.\r\n",
        "\r\n",
        "If all examples are from the same class, it uses a one-class SVM.\r\n",
        "\r\n",
        "\r\n"
       ]
      },
      {
       "output_type": "stream",
       "stream": "stdout",
       "text": [
        "fit the model\r\n",
        "Accuracy: 100.0\r\n"
       ]
      },
      {
       "output_type": "stream",
       "stream": "stdout",
       "text": [
        "fit the model\r\n",
        "Accuracy: 100.0\r\n"
       ]
      },
      {
       "output_type": "stream",
       "stream": "stdout",
       "text": [
        "fit the model\r\n",
        "Accuracy: 100.0\r\n"
       ]
      },
      {
       "output_type": "stream",
       "stream": "stdout",
       "text": [
        "fit the model\r\n",
        "Accuracy: 100.0\r\n"
       ]
      },
      {
       "output_type": "stream",
       "stream": "stdout",
       "text": [
        "fit the model\r\n",
        "Accuracy: 100.0\r\n"
       ]
      },
      {
       "output_type": "stream",
       "stream": "stdout",
       "text": [
        "fit the model\r\n",
        "Accuracy: 100.0\r\n"
       ]
      },
      {
       "output_type": "stream",
       "stream": "stdout",
       "text": [
        "fit the model\r\n",
        "Accuracy: 100.0\r\n"
       ]
      },
      {
       "output_type": "stream",
       "stream": "stdout",
       "text": [
        "fit the model\r\n",
        "Accuracy: 100.0\r\n"
       ]
      },
      {
       "output_type": "stream",
       "stream": "stdout",
       "text": [
        "fit the model\r\n",
        "Accuracy: 100.0\r\n"
       ]
      },
      {
       "output_type": "stream",
       "stream": "stdout",
       "text": [
        "fit the model\r\n",
        "Accuracy: 100.0\r\n"
       ]
      },
      {
       "output_type": "stream",
       "stream": "stdout",
       "text": [
        "fit the model\r\n",
        "Accuracy: 100.0\r\n"
       ]
      },
      {
       "output_type": "stream",
       "stream": "stdout",
       "text": [
        "fit the model\r\n",
        "Accuracy: 100.0\r\n"
       ]
      },
      {
       "output_type": "stream",
       "stream": "stdout",
       "text": [
        "fit the model\r\n",
        "Accuracy: 100.0\r\n"
       ]
      },
      {
       "output_type": "stream",
       "stream": "stdout",
       "text": [
        "fit the model\r\n",
        "Accuracy: 100.0\r\n"
       ]
      },
      {
       "output_type": "stream",
       "stream": "stdout",
       "text": [
        "fit the model\r\n",
        "Accuracy: 100.0\r\n"
       ]
      },
      {
       "output_type": "stream",
       "stream": "stdout",
       "text": [
        "fit the model\r\n",
        "Accuracy: 100.0\r\n"
       ]
      },
      {
       "output_type": "stream",
       "stream": "stdout",
       "text": [
        "fit the model\r\n",
        "Accuracy: 100.0\r\n"
       ]
      },
      {
       "output_type": "stream",
       "stream": "stdout",
       "text": [
        "fit the model\r\n",
        "Accuracy: 100.0\r\n"
       ]
      },
      {
       "output_type": "stream",
       "stream": "stdout",
       "text": [
        "fit the model\r\n",
        "Accuracy: 100.0\r\n"
       ]
      },
      {
       "output_type": "stream",
       "stream": "stdout",
       "text": [
        "fit the model\r\n",
        "Accuracy: 100.0\r\n"
       ]
      },
      {
       "output_type": "stream",
       "stream": "stdout",
       "text": [
        "fit the model\r\n",
        "Accuracy: 100.0\r\n"
       ]
      },
      {
       "output_type": "stream",
       "stream": "stdout",
       "text": [
        "fit the model\r\n",
        "Accuracy: 100.0\r\n"
       ]
      },
      {
       "output_type": "stream",
       "stream": "stdout",
       "text": [
        "fit the model\r\n",
        "Accuracy: 100.0\r\n"
       ]
      },
      {
       "output_type": "stream",
       "stream": "stdout",
       "text": [
        "fit the model\r\n",
        "Accuracy: 100.0\r\n"
       ]
      },
      {
       "output_type": "stream",
       "stream": "stdout",
       "text": [
        "fit the model\r\n",
        "Accuracy: 100.0\r\n"
       ]
      },
      {
       "output_type": "stream",
       "stream": "stdout",
       "text": [
        "fit the model\r\n",
        "Accuracy: 75.0\r\n"
       ]
      },
      {
       "output_type": "stream",
       "stream": "stdout",
       "text": [
        "fit the model\r\n",
        "Accuracy: 75.0\r\n"
       ]
      },
      {
       "output_type": "stream",
       "stream": "stdout",
       "text": [
        "fit the model\r\n",
        "Accuracy: 75.0\r\n"
       ]
      },
      {
       "output_type": "stream",
       "stream": "stdout",
       "text": [
        "fit the model\r\n"
       ]
      },
      {
       "output_type": "stream",
       "stream": "stdout",
       "text": [
        "Accuracy: 75.0\r\n"
       ]
      },
      {
       "output_type": "stream",
       "stream": "stdout",
       "text": [
        "fit the model\r\n",
        "Accuracy: 75.0\r\n"
       ]
      },
      {
       "output_type": "stream",
       "stream": "stdout",
       "text": [
        "fit the model\r\n",
        "Accuracy: 100.0\r\n"
       ]
      },
      {
       "output_type": "stream",
       "stream": "stdout",
       "text": [
        "fit the model\r\n",
        "Accuracy: 100.0\r\n"
       ]
      },
      {
       "output_type": "stream",
       "stream": "stdout",
       "text": [
        "fit the model\r\n",
        "Accuracy: 100.0\r\n"
       ]
      },
      {
       "output_type": "stream",
       "stream": "stdout",
       "text": [
        "fit the model\r\n",
        "Accuracy: 100.0\r\n"
       ]
      },
      {
       "output_type": "stream",
       "stream": "stdout",
       "text": [
        "fit the model\r\n",
        "Accuracy: 100.0\r\n"
       ]
      },
      {
       "output_type": "stream",
       "stream": "stdout",
       "text": [
        "fit the model\r\n",
        "Accuracy: 100.0\r\n"
       ]
      },
      {
       "output_type": "stream",
       "stream": "stdout",
       "text": [
        "fit the model\r\n",
        "Accuracy: 100.0\r\n"
       ]
      },
      {
       "output_type": "stream",
       "stream": "stdout",
       "text": [
        "fit the model\r\n",
        "Accuracy: 100.0\r\n"
       ]
      },
      {
       "output_type": "stream",
       "stream": "stdout",
       "text": [
        "fit the model\r\n",
        "Accuracy: 100.0\r\n"
       ]
      },
      {
       "output_type": "stream",
       "stream": "stdout",
       "text": [
        "fit the model\r\n",
        "Accuracy: 94.7368421053\r\n"
       ]
      },
      {
       "output_type": "stream",
       "stream": "stdout",
       "text": [
        "fit the model\r\n",
        "Accuracy: 95.0\r\n"
       ]
      },
      {
       "output_type": "stream",
       "stream": "stdout",
       "text": [
        "fit the model\r\n",
        "Accuracy: 95.2380952381\r\n"
       ]
      },
      {
       "output_type": "stream",
       "stream": "stdout",
       "text": [
        "fit the model\r\n",
        "Accuracy: 100.0\r\n"
       ]
      },
      {
       "output_type": "stream",
       "stream": "stdout",
       "text": [
        "fit the model\r\n",
        "Accuracy: 100.0\r\n"
       ]
      },
      {
       "output_type": "stream",
       "stream": "stdout",
       "text": [
        "fit the model\r\n",
        "Accuracy: 100.0\r\n"
       ]
      },
      {
       "output_type": "stream",
       "stream": "stdout",
       "text": [
        "fit the model\r\n",
        "Accuracy: 100.0\r\n"
       ]
      },
      {
       "output_type": "stream",
       "stream": "stdout",
       "text": [
        "fit the model\r\n",
        "Accuracy: 100.0\r\n"
       ]
      },
      {
       "output_type": "stream",
       "stream": "stdout",
       "text": [
        "fit the model\r\n",
        "Accuracy: 100.0\r\n"
       ]
      },
      {
       "output_type": "stream",
       "stream": "stdout",
       "text": [
        "fit the model\r\n",
        "Accuracy: 100.0\r\n"
       ]
      },
      {
       "output_type": "stream",
       "stream": "stdout",
       "text": [
        "fit the model\r\n",
        "Accuracy: 80.0\r\n"
       ]
      },
      {
       "output_type": "stream",
       "stream": "stdout",
       "text": [
        "fit the model\r\n",
        "Accuracy: 83.3333333333\r\n"
       ]
      },
      {
       "output_type": "stream",
       "stream": "stdout",
       "text": [
        "fit the model\r\n",
        "Accuracy: 71.4285714286\r\n"
       ]
      },
      {
       "output_type": "stream",
       "stream": "stdout",
       "text": [
        "fit the model\r\n",
        "Accuracy: 75.0\r\n"
       ]
      },
      {
       "output_type": "stream",
       "stream": "stdout",
       "text": [
        "fit the model\r\n",
        "Accuracy: 77.7777777778\r\n"
       ]
      },
      {
       "output_type": "stream",
       "stream": "stdout",
       "text": [
        "fit the model\r\n",
        "Accuracy: 80.0\r\n"
       ]
      },
      {
       "output_type": "stream",
       "stream": "stdout",
       "text": [
        "fit the model\r\n",
        "Accuracy: 81.8181818182\r\n"
       ]
      },
      {
       "output_type": "stream",
       "stream": "stdout",
       "text": [
        "fit the model\r\n",
        "Accuracy: 66.6666666667\r\n"
       ]
      },
      {
       "output_type": "stream",
       "stream": "stdout",
       "text": [
        "fit the model\r\n"
       ]
      },
      {
       "output_type": "stream",
       "stream": "stdout",
       "text": [
        "fit the model\r\n",
        "Accuracy: 100.0\r\n"
       ]
      },
      {
       "output_type": "stream",
       "stream": "stdout",
       "text": [
        "fit the model\r\n",
        "Accuracy: 66.6666666667\r\n"
       ]
      },
      {
       "output_type": "stream",
       "stream": "stdout",
       "text": [
        "fit the model\r\n",
        "Accuracy: 66.6666666667\r\n"
       ]
      },
      {
       "output_type": "stream",
       "stream": "stdout",
       "text": [
        "fit the model\r\n"
       ]
      },
      {
       "output_type": "stream",
       "stream": "stdout",
       "text": [
        "Accuracy: 75.0\r\n"
       ]
      },
      {
       "output_type": "stream",
       "stream": "stdout",
       "text": [
        "fit the model\r\n"
       ]
      },
      {
       "output_type": "stream",
       "stream": "stdout",
       "text": [
        "fit the model\r\n",
        "Accuracy: 100.0\r\n"
       ]
      },
      {
       "output_type": "stream",
       "stream": "stdout",
       "text": [
        "fit the model\r\n",
        "Accuracy: 66.6666666667\r\n"
       ]
      },
      {
       "output_type": "stream",
       "stream": "stdout",
       "text": [
        "fit the model\r\n",
        "Accuracy: 100.0\r\n"
       ]
      },
      {
       "output_type": "stream",
       "stream": "stdout",
       "text": [
        "fit the model\r\n",
        "Accuracy: 60.0\r\n"
       ]
      },
      {
       "output_type": "stream",
       "stream": "stdout",
       "text": [
        "fit the model\r\n",
        "Accuracy: 66.6666666667\r\n"
       ]
      },
      {
       "output_type": "stream",
       "stream": "stdout",
       "text": [
        "fit the model\r\n",
        "Accuracy: 57.1428571429\r\n"
       ]
      },
      {
       "output_type": "stream",
       "stream": "stdout",
       "text": [
        "fit the model\r\n",
        "Accuracy: 62.5\r\n"
       ]
      },
      {
       "output_type": "stream",
       "stream": "stdout",
       "text": [
        "fit the model\r\n",
        "Accuracy: 55.5555555556\r\n"
       ]
      },
      {
       "output_type": "stream",
       "stream": "stdout",
       "text": [
        "fit the model\r\n"
       ]
      },
      {
       "output_type": "stream",
       "stream": "stdout",
       "text": [
        "Accuracy: 70.0\r\n"
       ]
      },
      {
       "output_type": "stream",
       "stream": "stdout",
       "text": [
        "fit the model\r\n",
        "Accuracy: 63.6363636364\r\n"
       ]
      },
      {
       "output_type": "stream",
       "stream": "stdout",
       "text": [
        "fit the model\r\n",
        "Accuracy: 66.6666666667\r\n"
       ]
      },
      {
       "output_type": "stream",
       "stream": "stdout",
       "text": [
        "fit the model\r\n",
        "Accuracy: 69.2307692308\r\n"
       ]
      },
      {
       "output_type": "stream",
       "stream": "stdout",
       "text": [
        "fit the model\r\n",
        "Accuracy: 64.2857142857\r\n"
       ]
      },
      {
       "output_type": "stream",
       "stream": "stdout",
       "text": [
        "fit the model\r\n",
        "Accuracy: 60.0\r\n"
       ]
      },
      {
       "output_type": "stream",
       "stream": "stdout",
       "text": [
        "fit the model\r\n",
        "Accuracy: 56.25\r\n"
       ]
      },
      {
       "output_type": "stream",
       "stream": "stdout",
       "text": [
        "fit the model\r\n",
        "Accuracy: 52.9411764706\r\n"
       ]
      },
      {
       "output_type": "stream",
       "stream": "stdout",
       "text": [
        "fit the model\r\n",
        "Accuracy: 52.9411764706\r\n"
       ]
      },
      {
       "output_type": "stream",
       "stream": "stdout",
       "text": [
        "fit the model\r\n",
        "Accuracy: 52.9411764706\r\n"
       ]
      },
      {
       "output_type": "stream",
       "stream": "stdout",
       "text": [
        "fit the model\r\n",
        "Accuracy: 52.9411764706\r\n"
       ]
      },
      {
       "output_type": "stream",
       "stream": "stdout",
       "text": [
        "fit the model\r\n",
        "Accuracy: 52.9411764706\r\n"
       ]
      },
      {
       "output_type": "stream",
       "stream": "stdout",
       "text": [
        "fit the model\r\n",
        "Accuracy: 58.8235294118\r\n"
       ]
      },
      {
       "output_type": "stream",
       "stream": "stdout",
       "text": [
        "fit the model\r\n",
        "Accuracy: 70.5882352941\r\n"
       ]
      },
      {
       "output_type": "stream",
       "stream": "stdout",
       "text": [
        "fit the model\r\n",
        "Accuracy: 70.5882352941\r\n"
       ]
      },
      {
       "output_type": "stream",
       "stream": "stdout",
       "text": [
        "fit the model\r\n",
        "Accuracy: 47.0588235294\r\n"
       ]
      },
      {
       "output_type": "stream",
       "stream": "stdout",
       "text": [
        "fit the model\r\n"
       ]
      },
      {
       "output_type": "stream",
       "stream": "stdout",
       "text": [
        "fit the model\r\n",
        "Accuracy: 100.0\r\n"
       ]
      },
      {
       "output_type": "stream",
       "stream": "stdout",
       "text": [
        "fit the model\r\n",
        "Exception in Tkinter callback\r\n",
        "Traceback (most recent call last):\r\n",
        "  File \"/Users/David/anaconda/lib/python2.7/lib-tk/Tkinter.py\", line 1532, in __call__\r\n"
       ]
      },
      {
       "output_type": "stream",
       "stream": "stdout",
       "text": [
        "    return self.func(*args)\r\n",
        "  File \"svm_gui.py\", line 93, in fit\r\n",
        "    degree = int(self.degree.get())\r\n",
        "ValueError: invalid literal for int() with base 10: ''\r\n"
       ]
      },
      {
       "output_type": "stream",
       "stream": "stdout",
       "text": [
        "fit the model\r\n",
        "Accuracy: 100.0\r\n"
       ]
      },
      {
       "output_type": "stream",
       "stream": "stdout",
       "text": [
        "fit the model\r\n",
        "Accuracy: 100.0\r\n"
       ]
      },
      {
       "output_type": "stream",
       "stream": "stdout",
       "text": [
        "fit the model\r\n",
        "Accuracy: 75.0\r\n"
       ]
      },
      {
       "output_type": "stream",
       "stream": "stdout",
       "text": [
        "fit the model\r\n",
        "Accuracy: 80.0\r\n"
       ]
      },
      {
       "output_type": "stream",
       "stream": "stdout",
       "text": [
        "fit the model\r\n",
        "Accuracy: 83.3333333333\r\n"
       ]
      },
      {
       "output_type": "stream",
       "stream": "stdout",
       "text": [
        "fit the model\r\n",
        "Accuracy: 85.7142857143\r\n"
       ]
      },
      {
       "output_type": "stream",
       "stream": "stdout",
       "text": [
        "fit the model\r\n",
        "Accuracy: 50.0\r\n"
       ]
      },
      {
       "output_type": "stream",
       "stream": "stdout",
       "text": [
        "fit the model\r\n",
        "Accuracy: 55.5555555556\r\n"
       ]
      },
      {
       "output_type": "stream",
       "stream": "stdout",
       "text": [
        "fit the model\r\n",
        "Accuracy: 60.0\r\n"
       ]
      },
      {
       "output_type": "stream",
       "stream": "stdout",
       "text": [
        "fit the model\r\n",
        "Accuracy: 63.6363636364\r\n"
       ]
      },
      {
       "output_type": "stream",
       "stream": "stdout",
       "text": [
        "fit the model\r\n",
        "Accuracy: 66.6666666667\r\n"
       ]
      },
      {
       "output_type": "stream",
       "stream": "stdout",
       "text": [
        "fit the model\r\n",
        "Accuracy: 53.8461538462\r\n"
       ]
      },
      {
       "output_type": "stream",
       "stream": "stdout",
       "text": [
        "fit the model\r\n",
        "Accuracy: 64.2857142857\r\n"
       ]
      },
      {
       "output_type": "stream",
       "stream": "stdout",
       "text": [
        "fit the model\r\n",
        "Accuracy: 66.6666666667\r\n"
       ]
      },
      {
       "output_type": "stream",
       "stream": "stdout",
       "text": [
        "fit the model\r\n",
        "Accuracy: 56.25\r\n"
       ]
      },
      {
       "output_type": "stream",
       "stream": "stdout",
       "text": [
        "fit the model\r\n",
        "Accuracy: 52.9411764706\r\n"
       ]
      },
      {
       "output_type": "stream",
       "stream": "stdout",
       "text": [
        "fit the model\r\n",
        "Accuracy: 76.4705882353\r\n"
       ]
      }
     ],
     "prompt_number": 1
    },
    {
     "cell_type": "code",
     "collapsed": false,
     "input": [],
     "language": "python",
     "metadata": {},
     "outputs": []
    }
   ],
   "metadata": {}
  }
 ]
}