{
 "metadata": {
  "name": "",
  "signature": "sha256:9a60df8ec310dd6a30c4b8be01db7b0b43d2b66806bb414f5cec16f7d1a1ea4f"
 },
 "nbformat": 3,
 "nbformat_minor": 0,
 "worksheets": [
  {
   "cells": [
    {
     "cell_type": "markdown",
     "metadata": {},
     "source": [
      "<small><i>This example was adapted from from a tutorial give by [Jake Vanderplas](http://www.vanderplas.com) at PyCon 2014.</i></small>"
     ]
    },
    {
     "cell_type": "markdown",
     "metadata": {},
     "source": [
      "## SVM Demo App"
     ]
    },
    {
     "cell_type": "code",
     "collapsed": false,
     "input": [
      "!python svm_gui.py"
     ],
     "language": "python",
     "metadata": {},
     "outputs": [
      {
       "output_type": "stream",
       "stream": "stdout",
       "text": [
        "\r\n",
        "==========\r\n",
        "Libsvm GUI\r\n",
        "==========\r\n",
        "\r\n",
        "A simple graphical frontend for Libsvm mainly intended for didactic\r\n",
        "purposes. You can create data points by point and click and visualize\r\n",
        "the decision region induced by different kernels and parameter settings.\r\n",
        "\r\n",
        "To create positive examples click the left mouse button; to create\r\n",
        "negative examples click the right button.\r\n",
        "\r\n",
        "If all examples are from the same class, it uses a one-class SVM.\r\n",
        "\r\n",
        "\r\n"
       ]
      },
      {
       "output_type": "stream",
       "stream": "stdout",
       "text": [
        "fit the model\r\n",
        "Exception in Tkinter callback\r\n",
        "Traceback (most recent call last):\r\n",
        "  File \"/Users/David/anaconda/lib/python2.7/lib-tk/Tkinter.py\", line 1532, in __call__\r\n",
        "    return self.func(*args)\r\n",
        "  File \"svm_gui.py\", line 87, in fit\r\n",
        "    X = train[:, 0:2]\r\n",
        "IndexError: too many indices for array\r\n"
       ]
      },
      {
       "output_type": "stream",
       "stream": "stdout",
       "text": [
        "fit the model\r\n"
       ]
      },
      {
       "output_type": "stream",
       "stream": "stdout",
       "text": [
        "Accuracy: 87.323943662\r\n"
       ]
      },
      {
       "output_type": "stream",
       "stream": "stdout",
       "text": [
        "fit the model\r\n",
        "Exception in Tkinter callback\r\n",
        "Traceback (most recent call last):\r\n",
        "  File \"/Users/David/anaconda/lib/python2.7/lib-tk/Tkinter.py\", line 1532, in __call__\r\n",
        "    return self.func(*args)\r\n",
        "  File \"svm_gui.py\", line 93, in fit\r\n",
        "    degree = int(self.degree.get())\r\n",
        "ValueError: invalid literal for int() with base 10: ''\r\n"
       ]
      },
      {
       "output_type": "stream",
       "stream": "stdout",
       "text": [
        "fit the model\r\n",
        "Accuracy: 100.0\r\n"
       ]
      },
      {
       "output_type": "stream",
       "stream": "stdout",
       "text": [
        "fit the model\r\n",
        "Accuracy: 100.0\r\n"
       ]
      },
      {
       "output_type": "stream",
       "stream": "stdout",
       "text": [
        "fit the model\r\n",
        "Accuracy: 100.0\r\n"
       ]
      },
      {
       "output_type": "stream",
       "stream": "stdout",
       "text": [
        "fit the model\r\n",
        "Accuracy: 100.0\r\n"
       ]
      },
      {
       "output_type": "stream",
       "stream": "stdout",
       "text": [
        "fit the model\r\n",
        "Accuracy: 100.0\r\n"
       ]
      },
      {
       "output_type": "stream",
       "stream": "stdout",
       "text": [
        "fit the model\r\n",
        "Accuracy: 100.0\r\n"
       ]
      },
      {
       "output_type": "stream",
       "stream": "stdout",
       "text": [
        "fit the model\r\n",
        "Accuracy: 100.0\r\n"
       ]
      },
      {
       "output_type": "stream",
       "stream": "stdout",
       "text": [
        "fit the model\r\n",
        "Accuracy: 85.7142857143\r\n"
       ]
      },
      {
       "output_type": "stream",
       "stream": "stdout",
       "text": [
        "fit the model\r\n",
        "Accuracy: 87.5\r\n"
       ]
      },
      {
       "output_type": "stream",
       "stream": "stdout",
       "text": [
        "fit the model\r\n",
        "Accuracy: 88.8888888889\r\n"
       ]
      },
      {
       "output_type": "stream",
       "stream": "stdout",
       "text": [
        "fit the model\r\n",
        "Accuracy: 90.0\r\n"
       ]
      },
      {
       "output_type": "stream",
       "stream": "stdout",
       "text": [
        "fit the model\r\n",
        "Accuracy: 90.9090909091\r\n"
       ]
      },
      {
       "output_type": "stream",
       "stream": "stdout",
       "text": [
        "fit the model\r\n",
        "Accuracy: 75.0\r\n"
       ]
      },
      {
       "output_type": "stream",
       "stream": "stdout",
       "text": [
        "fit the model\r\n",
        "Accuracy: 69.2307692308\r\n"
       ]
      },
      {
       "output_type": "stream",
       "stream": "stdout",
       "text": [
        "fit the model\r\n",
        "Accuracy: 71.4285714286\r\n"
       ]
      },
      {
       "output_type": "stream",
       "stream": "stdout",
       "text": [
        "fit the model\r\n",
        "Accuracy: 73.3333333333\r\n"
       ]
      },
      {
       "output_type": "stream",
       "stream": "stdout",
       "text": [
        "fit the model\r\n",
        "Accuracy: 75.0\r\n"
       ]
      },
      {
       "output_type": "stream",
       "stream": "stdout",
       "text": [
        "fit the model\r\n",
        "Accuracy: 76.4705882353\r\n"
       ]
      },
      {
       "output_type": "stream",
       "stream": "stdout",
       "text": [
        "fit the model\r\n",
        "Accuracy: 77.7777777778\r\n"
       ]
      },
      {
       "output_type": "stream",
       "stream": "stdout",
       "text": [
        "fit the model\r\n",
        "Accuracy: 73.6842105263\r\n"
       ]
      },
      {
       "output_type": "stream",
       "stream": "stdout",
       "text": [
        "fit the model\r\n",
        "Accuracy: 70.0\r\n"
       ]
      },
      {
       "output_type": "stream",
       "stream": "stdout",
       "text": [
        "fit the model\r\n",
        "Accuracy: 71.4285714286\r\n"
       ]
      },
      {
       "output_type": "stream",
       "stream": "stdout",
       "text": [
        "fit the model\r\n",
        "Accuracy: 72.7272727273\r\n"
       ]
      },
      {
       "output_type": "stream",
       "stream": "stdout",
       "text": [
        "fit the model\r\n",
        "Accuracy: 73.9130434783\r\n"
       ]
      },
      {
       "output_type": "stream",
       "stream": "stdout",
       "text": [
        "fit the model\r\n",
        "Accuracy: 75.0\r\n"
       ]
      },
      {
       "output_type": "stream",
       "stream": "stdout",
       "text": [
        "fit the model\r\n",
        "Accuracy: 76.0\r\n"
       ]
      },
      {
       "output_type": "stream",
       "stream": "stdout",
       "text": [
        "fit the model\r\n",
        "Accuracy: 76.9230769231\r\n"
       ]
      },
      {
       "output_type": "stream",
       "stream": "stdout",
       "text": [
        "fit the model\r\n",
        "Accuracy: 77.7777777778\r\n"
       ]
      },
      {
       "output_type": "stream",
       "stream": "stdout",
       "text": [
        "fit the model\r\n",
        "Accuracy: 78.5714285714\r\n"
       ]
      },
      {
       "output_type": "stream",
       "stream": "stdout",
       "text": [
        "fit the model\r\n",
        "Accuracy: 79.3103448276\r\n"
       ]
      },
      {
       "output_type": "stream",
       "stream": "stdout",
       "text": [
        "fit the model\r\n",
        "Accuracy: 80.0\r\n"
       ]
      },
      {
       "output_type": "stream",
       "stream": "stdout",
       "text": [
        "fit the model\r\n",
        "Accuracy: 80.6451612903\r\n"
       ]
      },
      {
       "output_type": "stream",
       "stream": "stdout",
       "text": [
        "fit the model\r\n",
        "Accuracy: 81.25\r\n"
       ]
      },
      {
       "output_type": "stream",
       "stream": "stdout",
       "text": [
        "fit the model\r\n",
        "Accuracy: 81.8181818182\r\n"
       ]
      },
      {
       "output_type": "stream",
       "stream": "stdout",
       "text": [
        "fit the model\r\n",
        "Accuracy: 82.3529411765\r\n"
       ]
      },
      {
       "output_type": "stream",
       "stream": "stdout",
       "text": [
        "fit the model\r\n",
        "Accuracy: 82.8571428571\r\n"
       ]
      },
      {
       "output_type": "stream",
       "stream": "stdout",
       "text": [
        "fit the model\r\n",
        "Accuracy: 83.3333333333\r\n"
       ]
      },
      {
       "output_type": "stream",
       "stream": "stdout",
       "text": [
        "fit the model\r\n",
        "Accuracy: 83.7837837838\r\n"
       ]
      },
      {
       "output_type": "stream",
       "stream": "stdout",
       "text": [
        "fit the model\r\n",
        "Accuracy: 84.2105263158\r\n"
       ]
      },
      {
       "output_type": "stream",
       "stream": "stdout",
       "text": [
        "fit the model\r\n",
        "Accuracy: 84.2105263158\r\n"
       ]
      },
      {
       "output_type": "stream",
       "stream": "stdout",
       "text": [
        "fit the model\r\n",
        "Accuracy: 84.2105263158\r\n"
       ]
      },
      {
       "output_type": "stream",
       "stream": "stdout",
       "text": [
        "fit the model\r\n",
        "Accuracy: 84.2105263158\r\n"
       ]
      },
      {
       "output_type": "stream",
       "stream": "stdout",
       "text": [
        "fit the model\r\n",
        "Accuracy: 84.2105263158\r\n"
       ]
      },
      {
       "output_type": "stream",
       "stream": "stdout",
       "text": [
        "fit the model\r\n",
        "Accuracy: 84.2105263158\r\n"
       ]
      },
      {
       "output_type": "stream",
       "stream": "stdout",
       "text": [
        "fit the model\r\n"
       ]
      },
      {
       "output_type": "stream",
       "stream": "stdout",
       "text": [
        "Accuracy: 84.2105263158\r\n"
       ]
      }
     ],
     "prompt_number": 1
    },
    {
     "cell_type": "code",
     "collapsed": false,
     "input": [],
     "language": "python",
     "metadata": {},
     "outputs": []
    }
   ],
   "metadata": {}
  }
 ]
}