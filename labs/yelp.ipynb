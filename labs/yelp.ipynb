{
 "metadata": {
  "name": "",
  "signature": "sha256:e225d16818afebe7832be4c6994aa87264d019067bd218afb122bbe2a0190867"
 },
 "nbformat": 3,
 "nbformat_minor": 0,
 "worksheets": [
  {
   "cells": [
    {
     "cell_type": "code",
     "collapsed": false,
     "input": [
      "import pandas as pd\n",
      "import matplotlib.pyplot as plt\n",
      "import numpy as np\n"
     ],
     "language": "python",
     "metadata": {},
     "outputs": []
    }
   ],
   "metadata": {}
  }
 ]
}