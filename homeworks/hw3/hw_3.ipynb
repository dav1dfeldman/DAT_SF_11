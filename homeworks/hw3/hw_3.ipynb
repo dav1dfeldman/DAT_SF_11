{
 "metadata": {
  "name": "",
  "signature": "sha256:768c9533474d0def0ac397f71ce207f555f8f0531a1ef16273b53019572f4a04"
 },
 "nbformat": 3,
 "nbformat_minor": 0,
 "worksheets": [
  {
   "cells": [
    {
     "cell_type": "markdown",
     "metadata": {},
     "source": [
      "\n",
      "#HW 3: KNN & Random Forest\n",
      "Get your data [here](https://archive.ics.uci.edu/ml/datasets/Bank+Marketing). The data is related with direct marketing campaigns of a Portuguese banking institution. The marketing campaigns were based on phone calls. Often, more than one contact to the same client was required, in order to access if the product (bank term deposit) would be ('yes') or not ('no') subscribed. There are four datasets:\n",
      "\n",
      "1) bank-additional-full.csv with all examples (41188) and 20 inputs, ordered by date (from May 2008 to November 2010)\n",
      "\n",
      "2) bank-additional.csv with 10% of the examples (4119), randomly selected from 1), and 20 inputs.\n",
      "\n",
      "3) bank-full.csv with all examples and 17 inputs, ordered by date (older version of this dataset with less inputs). \n",
      "\n",
      "4) bank.csv with 10% of the examples and 17 inputs, randomly selected from 3 (older version of this dataset with less inputs). \n",
      "\n",
      "The smallest datasets are provided to test more computationally demanding machine \n",
      "learning algorithms (e.g., SVM). \n",
      "\n",
      "The classification goal is to predict if the client will subscribe (yes/no) a term deposit (variable y)."
     ]
    },
    {
     "cell_type": "markdown",
     "metadata": {},
     "source": [
      "##Assignment\n",
      "* Preprocess your data (you may find `LabelEncoder` useful)\n",
      "* Train both KNN and Random Forest models\n",
      "* Find the best parameters by computing their learning curve (feel free to verify this with grid search)\n",
      "* Create a clasification report\n",
      "* Inspect your models, what features are most important? How might you use this information to improve model precision?\n"
     ]
    },
    {
     "cell_type": "code",
     "collapsed": false,
     "input": [
      "import pandas as pd\n",
      "import numpy as np\n",
      "import matplotlib.pyplot as plt\n",
      "from sklearn.ensemble import RandomForestClassifier\n",
      "from sklearn.neighbors import KNeighborsClassifier\n",
      "\n",
      "%matplotlib inline"
     ],
     "language": "python",
     "metadata": {},
     "outputs": [],
     "prompt_number": 9
    },
    {
     "cell_type": "code",
     "collapsed": false,
     "input": [
      "bank_full_df = pd.read_csv('bank/bank-full.csv', sep = ';')"
     ],
     "language": "python",
     "metadata": {},
     "outputs": [],
     "prompt_number": 18
    },
    {
     "cell_type": "code",
     "collapsed": false,
     "input": [
      "bank_df = pd.read_csv('bank/bank.csv', sep = ';')"
     ],
     "language": "python",
     "metadata": {},
     "outputs": [],
     "prompt_number": 19
    },
    {
     "cell_type": "code",
     "collapsed": false,
     "input": [
      "bank_additional_full_df = pd.read_csv('bank-additional/bank-additional-full.csv', sep = ';')"
     ],
     "language": "python",
     "metadata": {},
     "outputs": [],
     "prompt_number": 29
    },
    {
     "cell_type": "code",
     "collapsed": false,
     "input": [
      "bank_additional_df = pd.read_csv('bank-additional/bank-additional.csv', sep = ';')"
     ],
     "language": "python",
     "metadata": {},
     "outputs": [],
     "prompt_number": 30
    },
    {
     "cell_type": "code",
     "collapsed": false,
     "input": [
      "for i in [bank_full_df, bank_df, bank_additional_full_df, bank_additional_df]:\n",
      "    print i.info()\n",
      "    "
     ],
     "language": "python",
     "metadata": {},
     "outputs": [
      {
       "output_type": "stream",
       "stream": "stdout",
       "text": [
        "<class 'pandas.core.frame.DataFrame'>\n",
        "Int64Index: 45211 entries, 0 to 45210\n",
        "Data columns (total 17 columns):\n",
        "age          45211 non-null int64\n",
        "job          45211 non-null object\n",
        "marital      45211 non-null object\n",
        "education    45211 non-null object\n",
        "default      45211 non-null object\n",
        "balance      45211 non-null int64\n",
        "housing      45211 non-null object\n",
        "loan         45211 non-null object\n",
        "contact      45211 non-null object\n",
        "day          45211 non-null int64\n",
        "month        45211 non-null object\n",
        "duration     45211 non-null int64\n",
        "campaign     45211 non-null int64\n",
        "pdays        45211 non-null int64\n",
        "previous     45211 non-null int64\n",
        "poutcome     45211 non-null object\n",
        "y            45211 non-null object\n",
        "dtypes: int64(7), object(10)\n",
        "memory usage: 6.2+ MB\n",
        "None\n",
        "<class 'pandas.core.frame.DataFrame'>\n",
        "Int64Index: 4521 entries, 0 to 4520\n",
        "Data columns (total 17 columns):\n",
        "age          4521 non-null int64\n",
        "job          4521 non-null object\n",
        "marital      4521 non-null object\n",
        "education    4521 non-null object\n",
        "default      4521 non-null object\n",
        "balance      4521 non-null int64\n",
        "housing      4521 non-null object\n",
        "loan         4521 non-null object\n",
        "contact      4521 non-null object\n",
        "day          4521 non-null int64\n",
        "month        4521 non-null object\n",
        "duration     4521 non-null int64\n",
        "campaign     4521 non-null int64\n",
        "pdays        4521 non-null int64\n",
        "previous     4521 non-null int64\n",
        "poutcome     4521 non-null object\n",
        "y            4521 non-null object\n",
        "dtypes: int64(7), object(10)\n",
        "memory usage: 635.8+ KB\n",
        "None\n",
        "<class 'pandas.core.frame.DataFrame'>\n",
        "Int64Index: 41188 entries, 0 to 41187\n",
        "Data columns (total 21 columns):\n",
        "age               41188 non-null int64\n",
        "job               41188 non-null object\n",
        "marital           41188 non-null object\n",
        "education         41188 non-null object\n",
        "default           41188 non-null object\n",
        "housing           41188 non-null object\n",
        "loan              41188 non-null object\n",
        "contact           41188 non-null object\n",
        "month             41188 non-null object\n",
        "day_of_week       41188 non-null object\n",
        "duration          41188 non-null int64\n",
        "campaign          41188 non-null int64\n",
        "pdays             41188 non-null int64\n",
        "previous          41188 non-null int64\n",
        "poutcome          41188 non-null object\n",
        "emp.var.rate      41188 non-null float64\n",
        "cons.price.idx    41188 non-null float64\n",
        "cons.conf.idx     41188 non-null float64\n",
        "euribor3m         41188 non-null float64\n",
        "nr.employed       41188 non-null float64\n",
        "y                 41188 non-null object\n",
        "dtypes: float64(5), int64(5), object(11)\n",
        "memory usage: 6.9+ MB\n",
        "None\n",
        "<class 'pandas.core.frame.DataFrame'>\n",
        "Int64Index: 4119 entries, 0 to 4118\n",
        "Data columns (total 21 columns):\n",
        "age               4119 non-null int64\n",
        "job               4119 non-null object\n",
        "marital           4119 non-null object\n",
        "education         4119 non-null object\n",
        "default           4119 non-null object\n",
        "housing           4119 non-null object\n",
        "loan              4119 non-null object\n",
        "contact           4119 non-null object\n",
        "month             4119 non-null object\n",
        "day_of_week       4119 non-null object\n",
        "duration          4119 non-null int64\n",
        "campaign          4119 non-null int64\n",
        "pdays             4119 non-null int64\n",
        "previous          4119 non-null int64\n",
        "poutcome          4119 non-null object\n",
        "emp.var.rate      4119 non-null float64\n",
        "cons.price.idx    4119 non-null float64\n",
        "cons.conf.idx     4119 non-null float64\n",
        "euribor3m         4119 non-null float64\n",
        "nr.employed       4119 non-null float64\n",
        "y                 4119 non-null object\n",
        "dtypes: float64(5), int64(5), object(11)\n",
        "memory usage: 708.0+ KB\n",
        "None\n"
       ]
      }
     ],
     "prompt_number": 36
    },
    {
     "cell_type": "code",
     "collapsed": false,
     "input": [],
     "language": "python",
     "metadata": {},
     "outputs": []
    }
   ],
   "metadata": {}
  }
 ]
}