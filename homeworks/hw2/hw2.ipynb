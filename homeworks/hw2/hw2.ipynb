{
 "metadata": {
  "name": "",
  "signature": "sha256:39eacabcf6caf169525b522a511c0cf82fc0d00ed6c2cdd339dcfb9bdb5ae69f"
 },
 "nbformat": 3,
 "nbformat_minor": 0,
 "worksheets": [
  {
   "cells": [
    {
     "cell_type": "code",
     "collapsed": false,
     "input": [
      "import pandas as pd\n",
      "import numpy as np\n",
      "import seaborn as sns\n",
      "import matplotlib.pyplot as plt"
     ],
     "language": "python",
     "metadata": {},
     "outputs": [],
     "prompt_number": 222
    },
    {
     "cell_type": "code",
     "collapsed": false,
     "input": [
      "# enables inline Plots\n",
      "%matplotlib inline"
     ],
     "language": "python",
     "metadata": {},
     "outputs": [],
     "prompt_number": 223
    },
    {
     "cell_type": "code",
     "collapsed": false,
     "input": [
      "# Limit rows displayed in notebook\n",
      "pd.set_option('display.max_columns', None)"
     ],
     "language": "python",
     "metadata": {},
     "outputs": [],
     "prompt_number": 224
    },
    {
     "cell_type": "code",
     "collapsed": false,
     "input": [
      "pd.set_option('display.max_rows', 100)"
     ],
     "language": "python",
     "metadata": {},
     "outputs": [],
     "prompt_number": 225
    },
    {
     "cell_type": "code",
     "collapsed": false,
     "input": [
      "pd.set_option('display.precision', 3)"
     ],
     "language": "python",
     "metadata": {},
     "outputs": [],
     "prompt_number": 226
    },
    {
     "cell_type": "code",
     "collapsed": false,
     "input": [
      "pd.set_option('display.mpl_style', 'default')"
     ],
     "language": "python",
     "metadata": {},
     "outputs": [],
     "prompt_number": 227
    },
    {
     "cell_type": "code",
     "collapsed": false,
     "input": [
      "columns = ['A1', 'Age', 'A3', 'A4', 'A5', 'A6', 'A7', 'A8', 'A9', 'A10', 'A11', 'A12', 'A13', 'A14', 'A15', 'A16']\n",
      "df = pd.read_csv('../data/hw2_data.data', names = columns)"
     ],
     "language": "python",
     "metadata": {},
     "outputs": [],
     "prompt_number": 228
    },
    {
     "cell_type": "code",
     "collapsed": false,
     "input": [
      "df.replace('?', np.nan, inplace = True)\n"
     ],
     "language": "python",
     "metadata": {},
     "outputs": [],
     "prompt_number": 229
    },
    {
     "cell_type": "code",
     "collapsed": false,
     "input": [
      "df.A16.replace({'+' : 1, '-' : 0}, inplace = True)"
     ],
     "language": "python",
     "metadata": {},
     "outputs": [],
     "prompt_number": 230
    },
    {
     "cell_type": "code",
     "collapsed": false,
     "input": [
      "df.A1.describe()"
     ],
     "language": "python",
     "metadata": {},
     "outputs": [
      {
       "metadata": {},
       "output_type": "pyout",
       "prompt_number": 231,
       "text": [
        "count     678\n",
        "unique      2\n",
        "top         b\n",
        "freq      468\n",
        "Name: A1, dtype: object"
       ]
      }
     ],
     "prompt_number": 231
    },
    {
     "cell_type": "heading",
     "level": 2,
     "metadata": {},
     "source": [
      "Fill A1"
     ]
    },
    {
     "cell_type": "heading",
     "level": 3,
     "metadata": {},
     "source": [
      "filling categorical values by value counts (http://stackoverflow.com/questions/27474439/fill-multiple-nulls-for-categorical-data/27475194?noredirect=1#comment43393809_27475194)"
     ]
    },
    {
     "cell_type": "code",
     "collapsed": false,
     "input": [
      "from scipy import stats\n",
      "counts = df.A1.value_counts()\n",
      "dist = stats.rv_discrete(values=(np.arange(counts.shape[0]), \n",
      "                                 counts/counts.sum()))\n",
      "fill_idxs = dist.rvs(size=df.shape[0] - df.A1.count())\n",
      "df.loc[df.A1.isnull(), \"A1\"] = counts.iloc[fill_idxs].index.values"
     ],
     "language": "python",
     "metadata": {},
     "outputs": [],
     "prompt_number": 258
    },
    {
     "cell_type": "code",
     "collapsed": false,
     "input": [],
     "language": "python",
     "metadata": {},
     "outputs": [],
     "prompt_number": 258
    },
    {
     "cell_type": "code",
     "collapsed": false,
     "input": [
      "\n",
      "df[df.A1.isnull()]"
     ],
     "language": "python",
     "metadata": {},
     "outputs": [
      {
       "html": [
        "<div style=\"max-height:1000px;max-width:1500px;overflow:auto;\">\n",
        "<table border=\"1\" class=\"dataframe\">\n",
        "  <thead>\n",
        "    <tr style=\"text-align: right;\">\n",
        "      <th></th>\n",
        "      <th>A1</th>\n",
        "      <th>Age</th>\n",
        "      <th>A3</th>\n",
        "      <th>A4</th>\n",
        "      <th>A5</th>\n",
        "      <th>A6</th>\n",
        "      <th>A7</th>\n",
        "      <th>A8</th>\n",
        "      <th>A9</th>\n",
        "      <th>A10</th>\n",
        "      <th>A11</th>\n",
        "      <th>A12</th>\n",
        "      <th>A13</th>\n",
        "      <th>A14</th>\n",
        "      <th>A15</th>\n",
        "      <th>A16</th>\n",
        "    </tr>\n",
        "  </thead>\n",
        "  <tbody>\n",
        "  </tbody>\n",
        "</table>\n",
        "</div>"
       ],
       "metadata": {},
       "output_type": "pyout",
       "prompt_number": 259,
       "text": [
        "Empty DataFrame\n",
        "Columns: [A1, Age, A3, A4, A5, A6, A7, A8, A9, A10, A11, A12, A13, A14, A15, A16]\n",
        "Index: []"
       ]
      }
     ],
     "prompt_number": 259
    },
    {
     "cell_type": "heading",
     "level": 3,
     "metadata": {},
     "source": [
      "how to do it manually"
     ]
    },
    {
     "cell_type": "code",
     "collapsed": false,
     "input": [
      "#a_count = df.A1[df.A1 == 'a'].count()\n",
      "#b_count = df.A1[df.A1 == 'b'].count()\n",
      "#float( b_count)/(a_count + b_count)"
     ],
     "language": "python",
     "metadata": {},
     "outputs": [
      {
       "metadata": {},
       "output_type": "pyout",
       "prompt_number": 233,
       "text": [
        "0.6898550724637681"
       ]
      }
     ],
     "prompt_number": 233
    },
    {
     "cell_type": "code",
     "collapsed": false,
     "input": [
      "# how to do it manually\n",
      "# to fill categorical info based on percentage\n",
      "# A1_fill = np.random.choice(('a','b'), size= 12, p = (.31, .69)) \n",
      "#df.loc[df.A1.isnull(), \"A1\"] = A1_fill"
     ],
     "language": "python",
     "metadata": {},
     "outputs": [],
     "prompt_number": 235
    },
    {
     "cell_type": "code",
     "collapsed": false,
     "input": [
      "df.A1.describe()"
     ],
     "language": "python",
     "metadata": {},
     "outputs": [
      {
       "metadata": {},
       "output_type": "pyout",
       "prompt_number": 236,
       "text": [
        "count     690\n",
        "unique      2\n",
        "top         b\n",
        "freq      476\n",
        "Name: A1, dtype: object"
       ]
      }
     ],
     "prompt_number": 236
    },
    {
     "cell_type": "heading",
     "level": 2,
     "metadata": {},
     "source": [
      "Fill Age2"
     ]
    },
    {
     "cell_type": "code",
     "collapsed": false,
     "input": [
      "df.Age = df.Age.astype(float)"
     ],
     "language": "python",
     "metadata": {},
     "outputs": [],
     "prompt_number": 270
    },
    {
     "cell_type": "code",
     "collapsed": false,
     "input": [
      "print 'Mean Column:', df.Age.mean()\n",
      "print 'Std Column:', df.Age.std()"
     ],
     "language": "python",
     "metadata": {},
     "outputs": [
      {
       "output_type": "stream",
       "stream": "stdout",
       "text": [
        "Mean Column: 31.5331994048\n",
        "Std Column: 11.894149473\n"
       ]
      }
     ],
     "prompt_number": 271
    },
    {
     "cell_type": "code",
     "collapsed": false,
     "input": [
      "def get_age_impute_values(n):\n",
      "    return np.random.normal(df.Age.mean(), df.Age.std(), n)"
     ],
     "language": "python",
     "metadata": {},
     "outputs": [],
     "prompt_number": 272
    },
    {
     "cell_type": "code",
     "collapsed": false,
     "input": [
      "df.loc[df.Age.isnull(), 'Age'] = get_age_impute_values(12)"
     ],
     "language": "python",
     "metadata": {},
     "outputs": [],
     "prompt_number": 273
    },
    {
     "cell_type": "heading",
     "level": 2,
     "metadata": {},
     "source": [
      "Dropping all nulls in A4 (those rows have multiple other null values)"
     ]
    },
    {
     "cell_type": "code",
     "collapsed": false,
     "input": [
      "df.dropna(subset=['A4'], how='all', inplace = True)"
     ],
     "language": "python",
     "metadata": {},
     "outputs": [],
     "prompt_number": 266
    },
    {
     "cell_type": "heading",
     "level": 2,
     "metadata": {},
     "source": [
      "Same method for all nulls in A6, A7, A14 (they might be worth filling in...)"
     ]
    },
    {
     "cell_type": "code",
     "collapsed": false,
     "input": [
      "#A6\n",
      "counts = df.A6.value_counts()\n",
      "dist = stats.rv_discrete(values=(np.arange(counts.shape[0]), \n",
      "                                 counts/counts.sum()))\n",
      "fill_idxs = dist.rvs(size=df.shape[0] - df.A6.count())\n",
      "df.loc[df.A6.isnull(), \"A6\"] = counts.iloc[fill_idxs].index.values\n",
      "#A7\n",
      "counts = df.A7.value_counts()\n",
      "dist = stats.rv_discrete(values=(np.arange(counts.shape[0]), \n",
      "                                 counts/counts.sum()))\n",
      "fill_idxs = dist.rvs(size=df.shape[0] - df.A7.count())\n",
      "df.loc[df.A7.isnull(), \"A7\"] = counts.iloc[fill_idxs].index.values\n",
      "#A14\n",
      "counts = df.A14.value_counts()\n",
      "dist = stats.rv_discrete(values=(np.arange(counts.shape[0]), \n",
      "                                 counts/counts.sum()))\n",
      "fill_idxs = dist.rvs(size=df.shape[0] - df.A14.count())\n",
      "df.loc[df.A14.isnull(), \"A14\"] = counts.iloc[fill_idxs].index.values"
     ],
     "language": "python",
     "metadata": {},
     "outputs": [],
     "prompt_number": 268
    },
    {
     "cell_type": "code",
     "collapsed": false,
     "input": [
      "# All filled by random proportional representation\n",
      "df.info()"
     ],
     "language": "python",
     "metadata": {},
     "outputs": [
      {
       "output_type": "stream",
       "stream": "stdout",
       "text": [
        "<class 'pandas.core.frame.DataFrame'>\n",
        "Int64Index: 684 entries, 0 to 689\n",
        "Data columns (total 16 columns):\n",
        "A1     684 non-null object\n",
        "Age    684 non-null float64\n",
        "A3     684 non-null float64\n",
        "A4     684 non-null object\n",
        "A5     684 non-null object\n",
        "A6     684 non-null object\n",
        "A7     684 non-null object\n",
        "A8     684 non-null float64\n",
        "A9     684 non-null object\n",
        "A10    684 non-null object\n",
        "A11    684 non-null int64\n",
        "A12    684 non-null object\n",
        "A13    684 non-null object\n",
        "A14    684 non-null object\n",
        "A15    684 non-null int64\n",
        "A16    684 non-null int64\n",
        "dtypes: float64(3), int64(3), object(10)\n",
        "memory usage: 90.8+ KB\n"
       ]
      }
     ],
     "prompt_number": 275
    },
    {
     "cell_type": "heading",
     "level": 2,
     "metadata": {},
     "source": [
      "All Values Filled"
     ]
    },
    {
     "cell_type": "heading",
     "level": 2,
     "metadata": {},
     "source": [
      "PLOTS"
     ]
    },
    {
     "cell_type": "code",
     "collapsed": false,
     "input": [
      "df.Age.hist(bins = 50)"
     ],
     "language": "python",
     "metadata": {},
     "outputs": [
      {
       "metadata": {},
       "output_type": "pyout",
       "prompt_number": 277,
       "text": [
        "<matplotlib.axes._subplots.AxesSubplot at 0x10b206f90>"
       ]
      },
      {
       "metadata": {},
       "output_type": "display_data",
       "png": "[encoded data removed]",
       "text": [
        "<matplotlib.figure.Figure at 0x10c418e50>"
       ]
      }
     ],
     "prompt_number": 277
    },
    {
     "cell_type": "code",
     "collapsed": false,
     "input": [
      "df.A1.value_counts().plot(kind = 'bar') #gender?"
     ],
     "language": "python",
     "metadata": {},
     "outputs": [
      {
       "metadata": {},
       "output_type": "pyout",
       "prompt_number": 278,
       "text": [
        "<matplotlib.axes._subplots.AxesSubplot at 0x10d1e94d0>"
       ]
      },
      {
       "metadata": {},
       "output_type": "display_data",
       "png": "[encoded data removed]",
       "text": [
        "<matplotlib.figure.Figure at 0x10d113c10>"
       ]
      }
     ],
     "prompt_number": 278
    },
    {
     "cell_type": "code",
     "collapsed": false,
     "input": [
      "df.A4.value_counts().plot(kind = 'bar')"
     ],
     "language": "python",
     "metadata": {},
     "outputs": [
      {
       "metadata": {},
       "output_type": "pyout",
       "prompt_number": 279,
       "text": [
        "<matplotlib.axes._subplots.AxesSubplot at 0x10c856790>"
       ]
      },
      {
       "metadata": {},
       "output_type": "display_data",
       "png": "[encoded data removed]",
       "text": [
        "<matplotlib.figure.Figure at 0x10c4d6790>"
       ]
      }
     ],
     "prompt_number": 279
    },
    {
     "cell_type": "code",
     "collapsed": false,
     "input": [
      "df.A5.value_counts().plot(kind = 'bar')"
     ],
     "language": "python",
     "metadata": {},
     "outputs": [
      {
       "metadata": {},
       "output_type": "pyout",
       "prompt_number": 280,
       "text": [
        "<matplotlib.axes._subplots.AxesSubplot at 0x10c445c10>"
       ]
      },
      {
       "metadata": {},
       "output_type": "display_data",
       "png": "[encoded data removed]",
       "text": [
        "<matplotlib.figure.Figure at 0x10c463ad0>"
       ]
      }
     ],
     "prompt_number": 280
    },
    {
     "cell_type": "code",
     "collapsed": false,
     "input": [
      "df.A6.value_counts().plot(kind = 'bar')"
     ],
     "language": "python",
     "metadata": {},
     "outputs": [
      {
       "metadata": {},
       "output_type": "pyout",
       "prompt_number": 281,
       "text": [
        "<matplotlib.axes._subplots.AxesSubplot at 0x10c66cc90>"
       ]
      },
      {
       "metadata": {},
       "output_type": "display_data",
       "png": "[encoded data removed]",
       "text": [
        "<matplotlib.figure.Figure at 0x10c4d61d0>"
       ]
      }
     ],
     "prompt_number": 281
    },
    {
     "cell_type": "code",
     "collapsed": false,
     "input": [
      "df.A7.value_counts().plot(kind = 'bar')"
     ],
     "language": "python",
     "metadata": {},
     "outputs": [
      {
       "metadata": {},
       "output_type": "pyout",
       "prompt_number": 282,
       "text": [
        "<matplotlib.axes._subplots.AxesSubplot at 0x10c686210>"
       ]
      },
      {
       "metadata": {},
       "output_type": "display_data",
       "png": "[encoded data removed]",
       "text": [
        "<matplotlib.figure.Figure at 0x10c472290>"
       ]
      }
     ],
     "prompt_number": 282
    },
    {
     "cell_type": "code",
     "collapsed": false,
     "input": [
      "df.A9.value_counts().plot(kind = 'bar')"
     ],
     "language": "python",
     "metadata": {},
     "outputs": [
      {
       "metadata": {},
       "output_type": "pyout",
       "prompt_number": 283,
       "text": [
        "<matplotlib.axes._subplots.AxesSubplot at 0x10c7a5dd0>"
       ]
      },
      {
       "metadata": {},
       "output_type": "display_data",
       "png": "[encoded data removed]",
       "text": [
        "<matplotlib.figure.Figure at 0x10c816690>"
       ]
      }
     ],
     "prompt_number": 283
    },
    {
     "cell_type": "code",
     "collapsed": false,
     "input": [
      "df.A10.value_counts().plot(kind = 'bar')"
     ],
     "language": "python",
     "metadata": {},
     "outputs": [
      {
       "metadata": {},
       "output_type": "pyout",
       "prompt_number": 284,
       "text": [
        "<matplotlib.axes._subplots.AxesSubplot at 0x10c8a8350>"
       ]
      },
      {
       "metadata": {},
       "output_type": "display_data",
       "png": "[encoded data removed]",
       "text": [
        "<matplotlib.figure.Figure at 0x10dcada10>"
       ]
      }
     ],
     "prompt_number": 284
    },
    {
     "cell_type": "code",
     "collapsed": false,
     "input": [
      "df.A12.value_counts().plot(kind = 'bar')"
     ],
     "language": "python",
     "metadata": {},
     "outputs": [
      {
       "metadata": {},
       "output_type": "pyout",
       "prompt_number": 285,
       "text": [
        "<matplotlib.axes._subplots.AxesSubplot at 0x10dcd31d0>"
       ]
      },
      {
       "metadata": {},
       "output_type": "display_data",
       "png": "[encoded data removed]",
       "text": [
        "<matplotlib.figure.Figure at 0x10f427e50>"
       ]
      }
     ],
     "prompt_number": 285
    },
    {
     "cell_type": "code",
     "collapsed": false,
     "input": [
      "df.A13.value_counts().plot(kind = 'bar')"
     ],
     "language": "python",
     "metadata": {},
     "outputs": [
      {
       "metadata": {},
       "output_type": "pyout",
       "prompt_number": 286,
       "text": [
        "<matplotlib.axes._subplots.AxesSubplot at 0x10f4cf450>"
       ]
      },
      {
       "metadata": {},
       "output_type": "display_data",
       "png": "[encoded data removed]",
       "text": [
        "<matplotlib.figure.Figure at 0x10f5d2290>"
       ]
      }
     ],
     "prompt_number": 286
    },
    {
     "cell_type": "code",
     "collapsed": false,
     "input": [
      "df.A14.value_counts().plot(kind = 'bar')"
     ],
     "language": "python",
     "metadata": {},
     "outputs": [
      {
       "metadata": {},
       "output_type": "pyout",
       "prompt_number": 287,
       "text": [
        "<matplotlib.axes._subplots.AxesSubplot at 0x10f610050>"
       ]
      },
      {
       "metadata": {},
       "output_type": "display_data",
       "png": "[encoded data removed]",
       "text": [
        "<matplotlib.figure.Figure at 0x10f625450>"
       ]
      }
     ],
     "prompt_number": 287
    },
    {
     "cell_type": "code",
     "collapsed": false,
     "input": [
      "df.groupby(['A4'])['A16'].mean()"
     ],
     "language": "python",
     "metadata": {},
     "outputs": [
      {
       "metadata": {},
       "output_type": "pyout",
       "prompt_number": 288,
       "text": [
        "A4\n",
        "l     1.00\n",
        "u     0.49\n",
        "y     0.28\n",
        "Name: A16, dtype: float64"
       ]
      }
     ],
     "prompt_number": 288
    },
    {
     "cell_type": "code",
     "collapsed": false,
     "input": [
      "df.info()"
     ],
     "language": "python",
     "metadata": {},
     "outputs": [
      {
       "output_type": "stream",
       "stream": "stdout",
       "text": [
        "<class 'pandas.core.frame.DataFrame'>\n",
        "Int64Index: 684 entries, 0 to 689\n",
        "Data columns (total 16 columns):\n",
        "A1     684 non-null object\n",
        "Age    684 non-null float64\n",
        "A3     684 non-null float64\n",
        "A4     684 non-null object\n",
        "A5     684 non-null object\n",
        "A6     684 non-null object\n",
        "A7     684 non-null object\n",
        "A8     684 non-null float64\n",
        "A9     684 non-null object\n",
        "A10    684 non-null object\n",
        "A11    684 non-null int64\n",
        "A12    684 non-null object\n",
        "A13    684 non-null object\n",
        "A14    684 non-null object\n",
        "A15    684 non-null int64\n",
        "A16    684 non-null int64\n",
        "dtypes: float64(3), int64(3), object(10)\n",
        "memory usage: 90.8+ KB\n"
       ]
      }
     ],
     "prompt_number": 289
    },
    {
     "cell_type": "code",
     "collapsed": false,
     "input": [
      "df.hist(bins = 50, figsize = (15, 15));"
     ],
     "language": "python",
     "metadata": {},
     "outputs": [
      {
       "metadata": {},
       "output_type": "display_data",
       "png": "[encoded data removed]",
       "text": [
        "<matplotlib.figure.Figure at 0x10f879390>"
       ]
      }
     ],
     "prompt_number": 290
    },
    {
     "cell_type": "code",
     "collapsed": false,
     "input": [
      "df.corr()"
     ],
     "language": "python",
     "metadata": {},
     "outputs": [
      {
       "html": [
        "<div style=\"max-height:1000px;max-width:1500px;overflow:auto;\">\n",
        "<table border=\"1\" class=\"dataframe\">\n",
        "  <thead>\n",
        "    <tr style=\"text-align: right;\">\n",
        "      <th></th>\n",
        "      <th>Age</th>\n",
        "      <th>A3</th>\n",
        "      <th>A8</th>\n",
        "      <th>A11</th>\n",
        "      <th>A15</th>\n",
        "      <th>A16</th>\n",
        "    </tr>\n",
        "  </thead>\n",
        "  <tbody>\n",
        "    <tr>\n",
        "      <th>Age</th>\n",
        "      <td> 1.00</td>\n",
        "      <td> 0.20</td>\n",
        "      <td> 0.40</td>\n",
        "      <td> 0.19</td>\n",
        "      <td> 0.02</td>\n",
        "      <td> 0.16</td>\n",
        "    </tr>\n",
        "    <tr>\n",
        "      <th>A3</th>\n",
        "      <td> 0.20</td>\n",
        "      <td> 1.00</td>\n",
        "      <td> 0.30</td>\n",
        "      <td> 0.27</td>\n",
        "      <td> 0.12</td>\n",
        "      <td> 0.21</td>\n",
        "    </tr>\n",
        "    <tr>\n",
        "      <th>A8</th>\n",
        "      <td> 0.40</td>\n",
        "      <td> 0.30</td>\n",
        "      <td> 1.00</td>\n",
        "      <td> 0.32</td>\n",
        "      <td> 0.05</td>\n",
        "      <td> 0.33</td>\n",
        "    </tr>\n",
        "    <tr>\n",
        "      <th>A11</th>\n",
        "      <td> 0.19</td>\n",
        "      <td> 0.27</td>\n",
        "      <td> 0.32</td>\n",
        "      <td> 1.00</td>\n",
        "      <td> 0.06</td>\n",
        "      <td> 0.41</td>\n",
        "    </tr>\n",
        "    <tr>\n",
        "      <th>A15</th>\n",
        "      <td> 0.02</td>\n",
        "      <td> 0.12</td>\n",
        "      <td> 0.05</td>\n",
        "      <td> 0.06</td>\n",
        "      <td> 1.00</td>\n",
        "      <td> 0.18</td>\n",
        "    </tr>\n",
        "    <tr>\n",
        "      <th>A16</th>\n",
        "      <td> 0.16</td>\n",
        "      <td> 0.21</td>\n",
        "      <td> 0.33</td>\n",
        "      <td> 0.41</td>\n",
        "      <td> 0.18</td>\n",
        "      <td> 1.00</td>\n",
        "    </tr>\n",
        "  </tbody>\n",
        "</table>\n",
        "</div>"
       ],
       "metadata": {},
       "output_type": "pyout",
       "prompt_number": 291,
       "text": [
        "      Age    A3    A8   A11   A15   A16\n",
        "Age  1.00  0.20  0.40  0.19  0.02  0.16\n",
        "A3   0.20  1.00  0.30  0.27  0.12  0.21\n",
        "A8   0.40  0.30  1.00  0.32  0.05  0.33\n",
        "A11  0.19  0.27  0.32  1.00  0.06  0.41\n",
        "A15  0.02  0.12  0.05  0.06  1.00  0.18\n",
        "A16  0.16  0.21  0.33  0.41  0.18  1.00"
       ]
      }
     ],
     "prompt_number": 291
    },
    {
     "cell_type": "heading",
     "level": 2,
     "metadata": {},
     "source": [
      "Dummies"
     ]
    },
    {
     "cell_type": "code",
     "collapsed": false,
     "input": [
      "dummy = pd.get_dummies(df)\n",
      "dummy.drop('A16' , axis = 1, inplace = True)\n"
     ],
     "language": "python",
     "metadata": {},
     "outputs": [],
     "prompt_number": 292
    },
    {
     "cell_type": "code",
     "collapsed": false,
     "input": [
      "dummy.info()"
     ],
     "language": "python",
     "metadata": {},
     "outputs": [
      {
       "output_type": "stream",
       "stream": "stdout",
       "text": [
        "<class 'pandas.core.frame.DataFrame'>\n",
        "Int64Index: 684 entries, 0 to 689\n",
        "Columns: 215 entries, Age to A14_02000\n",
        "dtypes: float64(213), int64(2)\n",
        "memory usage: 1.1 MB\n"
       ]
      }
     ],
     "prompt_number": 293
    },
    {
     "cell_type": "code",
     "collapsed": false,
     "input": [],
     "language": "python",
     "metadata": {},
     "outputs": [],
     "prompt_number": 293
    },
    {
     "cell_type": "code",
     "collapsed": false,
     "input": [
      "Target = df.A16.values"
     ],
     "language": "python",
     "metadata": {},
     "outputs": [],
     "prompt_number": 294
    },
    {
     "cell_type": "code",
     "collapsed": false,
     "input": [
      "Features = dummy"
     ],
     "language": "python",
     "metadata": {},
     "outputs": [],
     "prompt_number": 295
    },
    {
     "cell_type": "heading",
     "level": 2,
     "metadata": {},
     "source": [
      "train_test_split"
     ]
    },
    {
     "cell_type": "code",
     "collapsed": false,
     "input": [
      "from sklearn.cross_validation import train_test_split"
     ],
     "language": "python",
     "metadata": {},
     "outputs": [],
     "prompt_number": 296
    },
    {
     "cell_type": "code",
     "collapsed": false,
     "input": [
      "X_train, X_test, y_train, y_test = train_test_split(Features, Target, random_state=3, test_size=0.2)"
     ],
     "language": "python",
     "metadata": {},
     "outputs": [],
     "prompt_number": 297
    },
    {
     "cell_type": "heading",
     "level": 2,
     "metadata": {},
     "source": [
      "LogisticRegression"
     ]
    },
    {
     "cell_type": "code",
     "collapsed": false,
     "input": [
      "from sklearn.linear_model import LogisticRegression"
     ],
     "language": "python",
     "metadata": {},
     "outputs": [],
     "prompt_number": 298
    },
    {
     "cell_type": "code",
     "collapsed": false,
     "input": [
      "clf = LogisticRegression()"
     ],
     "language": "python",
     "metadata": {},
     "outputs": [],
     "prompt_number": 299
    },
    {
     "cell_type": "code",
     "collapsed": false,
     "input": [
      "clf.fit(X_train, y_train)"
     ],
     "language": "python",
     "metadata": {},
     "outputs": [
      {
       "metadata": {},
       "output_type": "pyout",
       "prompt_number": 300,
       "text": [
        "LogisticRegression(C=1.0, class_weight=None, dual=False, fit_intercept=True,\n",
        "          intercept_scaling=1, penalty='l2', random_state=None, tol=0.0001)"
       ]
      }
     ],
     "prompt_number": 300
    },
    {
     "cell_type": "code",
     "collapsed": false,
     "input": [
      "clf.score(X_test, y_test)"
     ],
     "language": "python",
     "metadata": {},
     "outputs": [
      {
       "metadata": {},
       "output_type": "pyout",
       "prompt_number": 301,
       "text": [
        "0.79562043795620441"
       ]
      }
     ],
     "prompt_number": 301
    },
    {
     "cell_type": "heading",
     "level": 2,
     "metadata": {},
     "source": [
      "confusion_matrix"
     ]
    },
    {
     "cell_type": "code",
     "collapsed": false,
     "input": [
      "from sklearn.metrics import confusion_matrix, classification_report"
     ],
     "language": "python",
     "metadata": {},
     "outputs": [],
     "prompt_number": 302
    },
    {
     "cell_type": "code",
     "collapsed": false,
     "input": [
      "y_pred = clf.predict(X_test)"
     ],
     "language": "python",
     "metadata": {},
     "outputs": [],
     "prompt_number": 303
    },
    {
     "cell_type": "code",
     "collapsed": false,
     "input": [
      "confusion_matrix(y_test, y_pred)"
     ],
     "language": "python",
     "metadata": {},
     "outputs": [
      {
       "metadata": {},
       "output_type": "pyout",
       "prompt_number": 304,
       "text": [
        "array([[63, 19],\n",
        "       [ 9, 46]])"
       ]
      }
     ],
     "prompt_number": 304
    },
    {
     "cell_type": "code",
     "collapsed": false,
     "input": [
      "print classification_report(y_test, y_pred)"
     ],
     "language": "python",
     "metadata": {},
     "outputs": [
      {
       "output_type": "stream",
       "stream": "stdout",
       "text": [
        "             precision    recall  f1-score   support\n",
        "\n",
        "          0       0.88      0.77      0.82        82\n",
        "          1       0.71      0.84      0.77        55\n",
        "\n",
        "avg / total       0.81      0.80      0.80       137\n",
        "\n"
       ]
      }
     ],
     "prompt_number": 305
    },
    {
     "cell_type": "heading",
     "level": 2,
     "metadata": {},
     "source": [
      "dropping low value coefficients"
     ]
    },
    {
     "cell_type": "code",
     "collapsed": false,
     "input": [
      "# coefficients of features in dummy\n",
      "coef = pd.DataFrame(zip(dummy.columns, np.transpose(clf.coef_)))\n",
      "coef.head()"
     ],
     "language": "python",
     "metadata": {},
     "outputs": [
      {
       "html": [
        "<div style=\"max-height:1000px;max-width:1500px;overflow:auto;\">\n",
        "<table border=\"1\" class=\"dataframe\">\n",
        "  <thead>\n",
        "    <tr style=\"text-align: right;\">\n",
        "      <th></th>\n",
        "      <th>0</th>\n",
        "      <th>1</th>\n",
        "    </tr>\n",
        "  </thead>\n",
        "  <tbody>\n",
        "    <tr>\n",
        "      <th>0</th>\n",
        "      <td> Age</td>\n",
        "      <td>  [-0.0112983350863]</td>\n",
        "    </tr>\n",
        "    <tr>\n",
        "      <th>1</th>\n",
        "      <td>  A3</td>\n",
        "      <td>    [0.001731692748]</td>\n",
        "    </tr>\n",
        "    <tr>\n",
        "      <th>2</th>\n",
        "      <td>  A8</td>\n",
        "      <td>   [0.0396860079031]</td>\n",
        "    </tr>\n",
        "    <tr>\n",
        "      <th>3</th>\n",
        "      <td> A11</td>\n",
        "      <td>    [0.157757178565]</td>\n",
        "    </tr>\n",
        "    <tr>\n",
        "      <th>4</th>\n",
        "      <td> A15</td>\n",
        "      <td> [0.000415182516395]</td>\n",
        "    </tr>\n",
        "  </tbody>\n",
        "</table>\n",
        "</div>"
       ],
       "metadata": {},
       "output_type": "pyout",
       "prompt_number": 307,
       "text": [
        "     0                    1\n",
        "0  Age   [-0.0112983350863]\n",
        "1   A3     [0.001731692748]\n",
        "2   A8    [0.0396860079031]\n",
        "3  A11     [0.157757178565]\n",
        "4  A15  [0.000415182516395]"
       ]
      }
     ],
     "prompt_number": 307
    },
    {
     "cell_type": "code",
     "collapsed": false,
     "input": [
      "# renaming columns\n",
      "coef.rename(columns={0 : 'features', 1 : 'coef'}, inplace = True)"
     ],
     "language": "python",
     "metadata": {},
     "outputs": [],
     "prompt_number": 308
    },
    {
     "cell_type": "code",
     "collapsed": false,
     "input": [
      "coef[coef['coef'].abs().order(ascending = False) > 1.66]"
     ],
     "language": "python",
     "metadata": {},
     "outputs": [
      {
       "html": [
        "<div style=\"max-height:1000px;max-width:1500px;overflow:auto;\">\n",
        "<table border=\"1\" class=\"dataframe\">\n",
        "  <thead>\n",
        "    <tr style=\"text-align: right;\">\n",
        "      <th></th>\n",
        "      <th>features</th>\n",
        "      <th>coef</th>\n",
        "    </tr>\n",
        "  </thead>\n",
        "  <tbody>\n",
        "    <tr>\n",
        "      <th>36</th>\n",
        "      <td> A9_f</td>\n",
        "      <td> [-2.04421716048]</td>\n",
        "    </tr>\n",
        "    <tr>\n",
        "      <th>37</th>\n",
        "      <td> A9_t</td>\n",
        "      <td>  [1.81028767732]</td>\n",
        "    </tr>\n",
        "  </tbody>\n",
        "</table>\n",
        "</div>"
       ],
       "metadata": {},
       "output_type": "pyout",
       "prompt_number": 309,
       "text": [
        "   features              coef\n",
        "36     A9_f  [-2.04421716048]\n",
        "37     A9_t   [1.81028767732]"
       ]
      }
     ],
     "prompt_number": 309
    },
    {
     "cell_type": "code",
     "collapsed": false,
     "input": [
      "# separating the low value coefficient\n",
      "features_0 = coef.features[coef['coef'].abs().order(ascending = False) > .5].values\n",
      "features_0"
     ],
     "language": "python",
     "metadata": {},
     "outputs": [
      {
       "metadata": {},
       "output_type": "pyout",
       "prompt_number": 310,
       "text": [
        "array(['A6_aa', 'A6_cc', 'A6_d', 'A6_ff', 'A6_i', 'A6_x', 'A7_bb', 'A7_ff',\n",
        "       'A7_n', 'A9_f', 'A9_t', 'A14_00000', 'A14_00132', 'A14_00140',\n",
        "       'A14_00150', 'A14_00167', 'A14_00180', 'A14_00200', 'A14_00208',\n",
        "       'A14_00232', 'A14_00329', 'A14_00400', 'A14_00420', 'A14_00500',\n",
        "       'A14_00560', 'A14_00760', 'A14_00980'], dtype=object)"
       ]
      }
     ],
     "prompt_number": 310
    },
    {
     "cell_type": "code",
     "collapsed": false,
     "input": [
      "#droping the low value coefficients\n",
      "dummy_0 = dummy.drop(features_0, axis = 1)"
     ],
     "language": "python",
     "metadata": {},
     "outputs": [],
     "prompt_number": 311
    },
    {
     "cell_type": "code",
     "collapsed": false,
     "input": [
      "dummy_0.info()"
     ],
     "language": "python",
     "metadata": {},
     "outputs": [
      {
       "output_type": "stream",
       "stream": "stdout",
       "text": [
        "<class 'pandas.core.frame.DataFrame'>\n",
        "Int64Index: 684 entries, 0 to 689\n",
        "Columns: 188 entries, Age to A14_02000\n",
        "dtypes: float64(186), int64(2)\n",
        "memory usage: 1010.0 KB\n"
       ]
      }
     ],
     "prompt_number": 312
    },
    {
     "cell_type": "heading",
     "level": 2,
     "metadata": {},
     "source": [
      "runing the model with less columns"
     ]
    },
    {
     "cell_type": "code",
     "collapsed": false,
     "input": [
      "Features_0 = dummy_0"
     ],
     "language": "python",
     "metadata": {},
     "outputs": [],
     "prompt_number": 313
    },
    {
     "cell_type": "code",
     "collapsed": false,
     "input": [
      "X_train_0, X_test_0, y_train_0, y_test_0 = train_test_split(Features_0, Target, random_state=3, test_size=0.2)"
     ],
     "language": "python",
     "metadata": {},
     "outputs": [],
     "prompt_number": 314
    },
    {
     "cell_type": "code",
     "collapsed": false,
     "input": [
      "clf.fit(X_train_0, y_train_0)"
     ],
     "language": "python",
     "metadata": {},
     "outputs": [
      {
       "metadata": {},
       "output_type": "pyout",
       "prompt_number": 315,
       "text": [
        "LogisticRegression(C=1.0, class_weight=None, dual=False, fit_intercept=True,\n",
        "          intercept_scaling=1, penalty='l2', random_state=None, tol=0.0001)"
       ]
      }
     ],
     "prompt_number": 315
    },
    {
     "cell_type": "heading",
     "level": 2,
     "metadata": {},
     "source": [
      "slightly worse score, different each time based on the random_state used"
     ]
    },
    {
     "cell_type": "code",
     "collapsed": false,
     "input": [
      "clf.score(X_test_0, y_test_0)"
     ],
     "language": "python",
     "metadata": {},
     "outputs": [
      {
       "metadata": {},
       "output_type": "pyout",
       "prompt_number": 317,
       "text": [
        "0.78102189781021902"
       ]
      }
     ],
     "prompt_number": 317
    },
    {
     "cell_type": "code",
     "collapsed": false,
     "input": [
      "#seems like all the low coef features still help"
     ],
     "language": "python",
     "metadata": {},
     "outputs": [],
     "prompt_number": 318
    },
    {
     "cell_type": "heading",
     "level": 2,
     "metadata": {},
     "source": [
      "Support Vector Machines"
     ]
    },
    {
     "cell_type": "code",
     "collapsed": false,
     "input": [
      "import pandas as pd\n",
      "import numpy as np\n",
      "import seaborn as sns\n",
      "import matplotlib.pyplot as plt\n",
      "%matplotlib inline\n",
      "from sklearn.cross_validation import train_test_split\n",
      "from sklearn.svm import LinearSVC\n",
      "from sklearn.grid_search import GridSearchCV\n",
      "from sklearn.svm import SVC"
     ],
     "language": "python",
     "metadata": {},
     "outputs": [],
     "prompt_number": 319
    },
    {
     "cell_type": "code",
     "collapsed": false,
     "input": [
      "X_train_1, X_test_1, y_train_1, y_test_1 = train_test_split(Features_0, Target, random_state=3, test_size = 0.3)"
     ],
     "language": "python",
     "metadata": {},
     "outputs": [],
     "prompt_number": 320
    },
    {
     "cell_type": "code",
     "collapsed": false,
     "input": [
      "est = LinearSVC(C=1e+1)"
     ],
     "language": "python",
     "metadata": {},
     "outputs": [],
     "prompt_number": 321
    },
    {
     "cell_type": "code",
     "collapsed": false,
     "input": [
      "est.fit(X_train, y_train)"
     ],
     "language": "python",
     "metadata": {},
     "outputs": [
      {
       "metadata": {},
       "output_type": "pyout",
       "prompt_number": 322,
       "text": [
        "LinearSVC(C=10.0, class_weight=None, dual=True, fit_intercept=True,\n",
        "     intercept_scaling=1, loss='l2', multi_class='ovr', penalty='l2',\n",
        "     random_state=None, tol=0.0001, verbose=0)"
       ]
      }
     ],
     "prompt_number": 322
    },
    {
     "cell_type": "code",
     "collapsed": false,
     "input": [
      "est.score(X_test, y_test)"
     ],
     "language": "python",
     "metadata": {},
     "outputs": [
      {
       "metadata": {},
       "output_type": "pyout",
       "prompt_number": 323,
       "text": [
        "0.68613138686131392"
       ]
      }
     ],
     "prompt_number": 323
    },
    {
     "cell_type": "heading",
     "level": 2,
     "metadata": {},
     "source": [
      "GridSearch"
     ]
    },
    {
     "cell_type": "code",
     "collapsed": false,
     "input": [
      "d = {}\n",
      "d['C'] = np.logspace(-3,3,10)\n",
      "d['C']"
     ],
     "language": "python",
     "metadata": {},
     "outputs": [
      {
       "metadata": {},
       "output_type": "pyout",
       "prompt_number": 324,
       "text": [
        "array([  1.00000000e-03,   4.64158883e-03,   2.15443469e-02,\n",
        "         1.00000000e-01,   4.64158883e-01,   2.15443469e+00,\n",
        "         1.00000000e+01,   4.64158883e+01,   2.15443469e+02,\n",
        "         1.00000000e+03])"
       ]
      }
     ],
     "prompt_number": 324
    },
    {
     "cell_type": "code",
     "collapsed": false,
     "input": [
      "%%time\n",
      "gs = GridSearchCV(LinearSVC(),d)\n",
      "gs.fit(X_train, y_train)"
     ],
     "language": "python",
     "metadata": {},
     "outputs": [
      {
       "output_type": "stream",
       "stream": "stdout",
       "text": [
        "CPU times: user 814 ms, sys: 8.38 ms, total: 822 ms\n",
        "Wall time: 825 ms\n"
       ]
      }
     ],
     "prompt_number": 325
    },
    {
     "cell_type": "code",
     "collapsed": false,
     "input": [
      "gs.best_params_,gs.best_score_"
     ],
     "language": "python",
     "metadata": {},
     "outputs": [
      {
       "metadata": {},
       "output_type": "pyout",
       "prompt_number": 326,
       "text": [
        "({'C': 0.46415888336127775}, 0.87751371115173671)"
       ]
      }
     ],
     "prompt_number": 326
    },
    {
     "cell_type": "code",
     "collapsed": false,
     "input": [
      "gs.score(X_train, y_train)"
     ],
     "language": "python",
     "metadata": {},
     "outputs": [
      {
       "metadata": {},
       "output_type": "pyout",
       "prompt_number": 327,
       "text": [
        "0.91224862888482627"
       ]
      }
     ],
     "prompt_number": 327
    },
    {
     "cell_type": "code",
     "collapsed": false,
     "input": [
      "y_pred = gs.predict(X_test)"
     ],
     "language": "python",
     "metadata": {},
     "outputs": [],
     "prompt_number": 328
    },
    {
     "cell_type": "code",
     "collapsed": false,
     "input": [
      "66/(9+66.)"
     ],
     "language": "python",
     "metadata": {},
     "outputs": [
      {
       "metadata": {},
       "output_type": "pyout",
       "prompt_number": 329,
       "text": [
        "0.88"
       ]
      }
     ],
     "prompt_number": 329
    },
    {
     "cell_type": "code",
     "collapsed": false,
     "input": [
      "confusion_matrix(y_test, y_pred)"
     ],
     "language": "python",
     "metadata": {},
     "outputs": [
      {
       "metadata": {},
       "output_type": "pyout",
       "prompt_number": 330,
       "text": [
        "array([[59, 23],\n",
        "       [ 8, 47]])"
       ]
      }
     ],
     "prompt_number": 330
    },
    {
     "cell_type": "code",
     "collapsed": false,
     "input": [
      "print classification_report(y_test, y_pred)"
     ],
     "language": "python",
     "metadata": {},
     "outputs": [
      {
       "output_type": "stream",
       "stream": "stdout",
       "text": [
        "             precision    recall  f1-score   support\n",
        "\n",
        "          0       0.88      0.72      0.79        82\n",
        "          1       0.67      0.85      0.75        55\n",
        "\n",
        "avg / total       0.80      0.77      0.78       137\n",
        "\n"
       ]
      }
     ],
     "prompt_number": 331
    },
    {
     "cell_type": "heading",
     "level": 2,
     "metadata": {},
     "source": [
      "Non-Linear kernel"
     ]
    },
    {
     "cell_type": "code",
     "collapsed": false,
     "input": [
      "svc = SVC()"
     ],
     "language": "python",
     "metadata": {},
     "outputs": [],
     "prompt_number": 332
    },
    {
     "cell_type": "code",
     "collapsed": false,
     "input": [
      "svc.fit(X_train, y_train)"
     ],
     "language": "python",
     "metadata": {},
     "outputs": [
      {
       "metadata": {},
       "output_type": "pyout",
       "prompt_number": 333,
       "text": [
        "SVC(C=1.0, cache_size=200, class_weight=None, coef0=0.0, degree=3, gamma=0.0,\n",
        "  kernel='rbf', max_iter=-1, probability=False, random_state=None,\n",
        "  shrinking=True, tol=0.001, verbose=False)"
       ]
      }
     ],
     "prompt_number": 333
    },
    {
     "cell_type": "code",
     "collapsed": false,
     "input": [
      "svc.score(X_train, y_train)"
     ],
     "language": "python",
     "metadata": {},
     "outputs": [
      {
       "metadata": {},
       "output_type": "pyout",
       "prompt_number": 334,
       "text": [
        "0.84826325411334547"
       ]
      }
     ],
     "prompt_number": 334
    },
    {
     "cell_type": "code",
     "collapsed": false,
     "input": [
      "y_pred = svc.predict(X_test)"
     ],
     "language": "python",
     "metadata": {},
     "outputs": [],
     "prompt_number": 335
    },
    {
     "cell_type": "code",
     "collapsed": false,
     "input": [
      "confusion_matrix(y_test, y_pred)"
     ],
     "language": "python",
     "metadata": {},
     "outputs": [
      {
       "metadata": {},
       "output_type": "pyout",
       "prompt_number": 336,
       "text": [
        "array([[70, 12],\n",
        "       [18, 37]])"
       ]
      }
     ],
     "prompt_number": 336
    },
    {
     "cell_type": "code",
     "collapsed": false,
     "input": [
      "print classification_report(y_test, y_pred)"
     ],
     "language": "python",
     "metadata": {},
     "outputs": [
      {
       "output_type": "stream",
       "stream": "stdout",
       "text": [
        "             precision    recall  f1-score   support\n",
        "\n",
        "          0       0.80      0.85      0.82        82\n",
        "          1       0.76      0.67      0.71        55\n",
        "\n",
        "avg / total       0.78      0.78      0.78       137\n",
        "\n"
       ]
      }
     ],
     "prompt_number": 337
    },
    {
     "cell_type": "code",
     "collapsed": false,
     "input": [
      "d = {}\n",
      "d['C'] = np.logspace(-3, 3, 10)"
     ],
     "language": "python",
     "metadata": {},
     "outputs": [],
     "prompt_number": 338
    },
    {
     "cell_type": "heading",
     "level": 2,
     "metadata": {},
     "source": [
      "grid search for SVC"
     ]
    },
    {
     "cell_type": "code",
     "collapsed": false,
     "input": [
      "%%time\n",
      "gs = GridSearchCV(SVC(),d)\n",
      "gs.fit(X_train, y_train)"
     ],
     "language": "python",
     "metadata": {},
     "outputs": [
      {
       "output_type": "stream",
       "stream": "stdout",
       "text": [
        "CPU times: user 1.46 s, sys: 12.9 ms, total: 1.48 s\n",
        "Wall time: 1.47 s\n"
       ]
      }
     ],
     "prompt_number": 339
    },
    {
     "cell_type": "code",
     "collapsed": false,
     "input": [
      "gs.best_params_,gs.best_score_"
     ],
     "language": "python",
     "metadata": {},
     "outputs": [
      {
       "metadata": {},
       "output_type": "pyout",
       "prompt_number": 340,
       "text": [
        "({'C': 10.0}, 0.73491773308957953)"
       ]
      }
     ],
     "prompt_number": 340
    },
    {
     "cell_type": "code",
     "collapsed": false,
     "input": [
      "gs.score(X_train, y_train)"
     ],
     "language": "python",
     "metadata": {},
     "outputs": [
      {
       "metadata": {},
       "output_type": "pyout",
       "prompt_number": 341,
       "text": [
        "0.94698354661791595"
       ]
      }
     ],
     "prompt_number": 341
    },
    {
     "cell_type": "code",
     "collapsed": false,
     "input": [
      "y_pred = gs.predict(X_test)"
     ],
     "language": "python",
     "metadata": {},
     "outputs": [],
     "prompt_number": 342
    },
    {
     "cell_type": "code",
     "collapsed": false,
     "input": [
      "confusion_matrix(y_test, y_pred)"
     ],
     "language": "python",
     "metadata": {},
     "outputs": [
      {
       "metadata": {},
       "output_type": "pyout",
       "prompt_number": 343,
       "text": [
        "array([[58, 24],\n",
        "       [17, 38]])"
       ]
      }
     ],
     "prompt_number": 343
    },
    {
     "cell_type": "code",
     "collapsed": false,
     "input": [
      "print classification_report(y_test, y_pred)"
     ],
     "language": "python",
     "metadata": {},
     "outputs": [
      {
       "output_type": "stream",
       "stream": "stdout",
       "text": [
        "             precision    recall  f1-score   support\n",
        "\n",
        "          0       0.77      0.71      0.74        82\n",
        "          1       0.61      0.69      0.65        55\n",
        "\n",
        "avg / total       0.71      0.70      0.70       137\n",
        "\n"
       ]
      }
     ],
     "prompt_number": 344
    },
    {
     "cell_type": "code",
     "collapsed": false,
     "input": [],
     "language": "python",
     "metadata": {},
     "outputs": [],
     "prompt_number": 344
    },
    {
     "cell_type": "code",
     "collapsed": false,
     "input": [],
     "language": "python",
     "metadata": {},
     "outputs": [],
     "prompt_number": 344
    },
    {
     "cell_type": "code",
     "collapsed": false,
     "input": [
      "param = {'C' : np.logspace(-3,3,5), 'gamma' : np.logspace(-3, 3, 5)}\n",
      "gs = GridSearchCV(SVC(), param)"
     ],
     "language": "python",
     "metadata": {},
     "outputs": [],
     "prompt_number": 345
    },
    {
     "cell_type": "code",
     "collapsed": false,
     "input": [
      "%%time\n",
      "gs.fit(X_train, y_train)"
     ],
     "language": "python",
     "metadata": {},
     "outputs": [
      {
       "output_type": "stream",
       "stream": "stdout",
       "text": [
        "CPU times: user 3.66 s, sys: 22.7 ms, total: 3.68 s\n",
        "Wall time: 3.68 s\n"
       ]
      },
      {
       "metadata": {},
       "output_type": "pyout",
       "prompt_number": 346,
       "text": [
        "GridSearchCV(cv=None,\n",
        "       estimator=SVC(C=1.0, cache_size=200, class_weight=None, coef0=0.0, degree=3, gamma=0.0,\n",
        "  kernel='rbf', max_iter=-1, probability=False, random_state=None,\n",
        "  shrinking=True, tol=0.001, verbose=False),\n",
        "       fit_params={}, iid=True, loss_func=None, n_jobs=1,\n",
        "       param_grid={'C': array([  1.00000e-03,   3.16228e-02,   1.00000e+00,   3.16228e+01,\n",
        "         1.00000e+03]), 'gamma': array([  1.00000e-03,   3.16228e-02,   1.00000e+00,   3.16228e+01,\n",
        "         1.00000e+03])},\n",
        "       pre_dispatch='2*n_jobs', refit=True, score_func=None, scoring=None,\n",
        "       verbose=0)"
       ]
      }
     ],
     "prompt_number": 346
    },
    {
     "cell_type": "code",
     "collapsed": false,
     "input": [
      "gs.score(X_train, y_train)"
     ],
     "language": "python",
     "metadata": {},
     "outputs": [
      {
       "metadata": {},
       "output_type": "pyout",
       "prompt_number": 347,
       "text": [
        "0.91407678244972579"
       ]
      }
     ],
     "prompt_number": 347
    },
    {
     "cell_type": "code",
     "collapsed": false,
     "input": [
      "y_pred = gs.predict(X_test)"
     ],
     "language": "python",
     "metadata": {},
     "outputs": [],
     "prompt_number": 348
    },
    {
     "cell_type": "heading",
     "level": 2,
     "metadata": {},
     "source": [
      "confusion_matrix"
     ]
    },
    {
     "cell_type": "code",
     "collapsed": false,
     "input": [
      "confusion_matrix(y_test, y_pred)"
     ],
     "language": "python",
     "metadata": {},
     "outputs": [
      {
       "metadata": {},
       "output_type": "pyout",
       "prompt_number": 349,
       "text": [
        "array([[58, 24],\n",
        "       [18, 37]])"
       ]
      }
     ],
     "prompt_number": 349
    },
    {
     "cell_type": "code",
     "collapsed": false,
     "input": [
      "print classification_report(y_test, y_pred)"
     ],
     "language": "python",
     "metadata": {},
     "outputs": [
      {
       "output_type": "stream",
       "stream": "stdout",
       "text": [
        "             precision    recall  f1-score   support\n",
        "\n",
        "          0       0.76      0.71      0.73        82\n",
        "          1       0.61      0.67      0.64        55\n",
        "\n",
        "avg / total       0.70      0.69      0.70       137\n",
        "\n"
       ]
      }
     ],
     "prompt_number": 350
    },
    {
     "cell_type": "code",
     "collapsed": false,
     "input": [],
     "language": "python",
     "metadata": {},
     "outputs": [],
     "prompt_number": 350
    },
    {
     "cell_type": "code",
     "collapsed": false,
     "input": [],
     "language": "python",
     "metadata": {},
     "outputs": [],
     "prompt_number": 350
    },
    {
     "cell_type": "code",
     "collapsed": false,
     "input": [],
     "language": "python",
     "metadata": {},
     "outputs": [],
     "prompt_number": 100
    },
    {
     "cell_type": "code",
     "collapsed": false,
     "input": [],
     "language": "python",
     "metadata": {},
     "outputs": [],
     "prompt_number": 100
    },
    {
     "cell_type": "code",
     "collapsed": false,
     "input": [],
     "language": "python",
     "metadata": {},
     "outputs": [],
     "prompt_number": 100
    },
    {
     "cell_type": "code",
     "collapsed": false,
     "input": [],
     "language": "python",
     "metadata": {},
     "outputs": [],
     "prompt_number": 100
    },
    {
     "cell_type": "code",
     "collapsed": false,
     "input": [],
     "language": "python",
     "metadata": {},
     "outputs": [],
     "prompt_number": 100
    },
    {
     "cell_type": "code",
     "collapsed": false,
     "input": [],
     "language": "python",
     "metadata": {},
     "outputs": [],
     "prompt_number": 100
    },
    {
     "cell_type": "code",
     "collapsed": false,
     "input": [],
     "language": "python",
     "metadata": {},
     "outputs": []
    }
   ],
   "metadata": {}
  }
 ]
}